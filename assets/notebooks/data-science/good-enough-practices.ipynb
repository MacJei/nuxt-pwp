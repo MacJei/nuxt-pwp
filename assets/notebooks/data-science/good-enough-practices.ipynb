{
 "cells": [
  {
   "cell_type": "markdown",
   "metadata": {},
   "source": [
    "# Практические советы при работе с данными\n",
    "\n",
    "* [Good enough practices in scientific computing](https://journals.plos.org/ploscompbiol/article?id=10.1371/journal.pcbi.1005510)\n",
    "* [Best Practices for Scientific Computing](https://journals.plos.org/plosbiology/article?id=10.1371/journal.pbio.1001745)\n",
    "\n",
    "> Data are cheap, time is expensive\n",
    "\n",
    "\n",
    "1. Data management\n",
    "    1. Save the raw data.\n",
    "    2. Ensure that raw data are backedup in more than one location.\n",
    "    3. Create the data set you wish you had received.\n",
    "        1. File formats: Convert data from closed, proprietary formats to open, nonproprietary formats that ensure machine readability across time and computing setups. Good options include CSV for tabular data, JSON, YAML, or XML for nontabular data such as graphs (the node- and-arc kind), and HDF5 for certain kinds of structured data.\n",
    "        2. Variable names: Replace inscrutable variable names and artificial data codes with self-explaining alternatives\n",
    "        3. File names: Store especially useful metadata as part of the file name itself, while keeping the file name regular enough for easy pattern matching. For example, a file name like 2016- 05-alaska-b.csvmakes it easy for both people and programs to select by year or by location.\n",
    "    4. Create tidy data (we will talk about that concept latter).\n",
    "    5. Record all the steps used to process data.\n",
    "    6. Anticipate the need to use multiple tables, and use a unique identifier for every record (or better use SQL data bases)\n",
    "    7. Submit data to a reputable DOI-issuing repository so that others can access and cite it (Figshare, Dryad, and Zenodo).\n",
    "    8. Prvode meta-data, atleast README-file.\n",
    "2. Software\n",
    "    1. Follow style-guides (PEP8 in case of Python)\n",
    "    2. Write comments to your program.\n",
    "    3. Decompose programs into clean functions.\n",
    "    4. Reuse the functions to eliminate duplication.\n",
    "    5. Give functions and variables meaningful names\n",
    "    6. Make dependencies and requirements explicit.\n",
    "    ```\n",
    "    pip freeze > requirements.txt\n",
    "    pip install -r requirements.txt\n",
    "    ```\n",
    "    7. Do not comment and uncomment sections of code to control a program’s behavior.\n",
    "    8. Provide a simple example or test data set.\n",
    "    9. Submit code to a reputable DOI-issuing repository (Figshare, Zenodo)\n",
    "3. Collaboration\n",
    "    1. Create an overview of your project (README)\n",
    "    2. Create a shared \"to-do\" list.\n",
    "    3. Decide on communication strategies.\n",
    "    4. Make the license explicit (Creative Commons licenses for data and text, either CC-0 (the \"No Rights Reserved\" license) or CC-BY (the \"Attribution\" license, which permits sharing and reuse but requires people to give appropriate credit to the creators). For software, we recommend a permissive open source license such as the MIT, BSD, or Apache license).\n",
    "4. Project organization.\n",
    "    1. Put each project in its own directory, which is named after the project.\n",
    "    2. Put text documents associated with the project in the `doc` directory.\n",
    "    3. Put raw data and metadata in a `data` directory and files generated during cleanup and analysis in a `results` directory.\n",
    "    4. Put project source code in the `src` directory.\n",
    "    5. Put compiled programs in the `bin` directory\n",
    "5. Keeping track of changes\n",
    "    1. Back up (almost) everything created by a human being as soon as it is created.\n",
    "    2. Keep changes small.\n",
    "    3. Share changes frequently.\n",
    "    4. Store each project in a folder that is mirrored off the researcher’s working machine.\n",
    "    5. Use a version control system.\n",
    "6. Manuscripts.\n",
    "    1. Write manuscripts using online tools with rich formatting, change tracking, and reference management, such as Google Docs.\n",
    "    2. Write the manuscript in a plain text format that permits version control, such as LaTeX or Markdown, and then convert them to other formats, such as PDF, as needed using scriptable tools like Pandoc.\n",
    "    3. Use bibliography managers, as Zotero."
   ]
  },
  {
   "cell_type": "code",
   "execution_count": null,
   "metadata": {},
   "outputs": [],
   "source": []
  }
 ],
 "metadata": {
  "kernelspec": {
   "display_name": "Python 2",
   "language": "python",
   "name": "python2"
  },
  "language_info": {
   "codemirror_mode": {
    "name": "ipython",
    "version": 3
   },
   "file_extension": ".py",
   "mimetype": "text/x-python",
   "name": "python",
   "nbconvert_exporter": "python",
   "pygments_lexer": "ipython3",
   "version": "3.6.5"
  },
  "toc": {
   "nav_menu": {},
   "number_sections": true,
   "sideBar": true,
   "skip_h1_title": false,
   "toc_cell": false,
   "toc_position": {},
   "toc_section_display": "block",
   "toc_window_display": false
  },
  "varInspector": {
   "cols": {
    "lenName": 16,
    "lenType": 16,
    "lenVar": 40
   },
   "kernels_config": {
    "python": {
     "delete_cmd_postfix": "",
     "delete_cmd_prefix": "del ",
     "library": "var_list.py",
     "varRefreshCmd": "print(var_dic_list())"
    },
    "r": {
     "delete_cmd_postfix": ") ",
     "delete_cmd_prefix": "rm(",
     "library": "var_list.r",
     "varRefreshCmd": "cat(var_dic_list()) "
    }
   },
   "types_to_exclude": [
    "module",
    "function",
    "builtin_function_or_method",
    "instance",
    "_Feature"
   ],
   "window_display": false
  }
 },
 "nbformat": 4,
 "nbformat_minor": 2
}
