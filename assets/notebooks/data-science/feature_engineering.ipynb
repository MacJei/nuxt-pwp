{
 "cells": [
  {
   "cell_type": "code",
   "execution_count": 11,
   "metadata": {
    "ExecuteTime": {
     "end_time": "2018-11-20T12:06:28.318433Z",
     "start_time": "2018-11-20T12:06:26.643917Z"
    }
   },
   "outputs": [],
   "source": [
    "from scipy import stats\n",
    "import pandas as pd\n",
    "import numpy as np\n",
    "import json\n",
    "\n",
    "import matplotlib.pyplot as plt\n",
    "import seaborn as sns\n",
    "%matplotlib inline"
   ]
  },
  {
   "cell_type": "markdown",
   "metadata": {},
   "source": [
    "![](img/ml-pipline.png)\n",
    "\n",
    "> Selecting variables for modeling is \"one of the most creative parts of the data mining process\n",
    ">\n",
    "> Data Mining Techniques, Gordon Linoff and Michael Berry"
   ]
  },
  {
   "cell_type": "markdown",
   "metadata": {},
   "source": [
    "# Definitions\n",
    "\n",
    "## Features\n",
    "\n",
    "**Feature** is an individual measurable property or characteristic of a phenomenon being observed (Bishop, 2006) [[wiki]](https://en.wikipedia.org/wiki/Feature_(machine_learning)).\n",
    "\n",
    "## Feature engineering\n",
    "**Feature engineering**  is the process of using domain knowledge of the data to create features that make machine learning algorithms work [[wiki]](https://en.wikipedia.org/wiki/Feature_engineering).\n",
    "\n",
    "> Coming up with features is difficult, time-consuming, requires expert knowledge. \"Applied machine learning\" is basically feature engineering.\n",
    ">\n",
    "> <cite>Andrew Ng, Machine Learning and AI via Brain simulations</cite>\n",
    "\n",
    "## Feature learning (representation learning)\n",
    "**Feature learning** (also representation learning) — a set of techniques that allows a system to *automatically* discover the representations needed for feature detection or classification from raw data. This replaces manual **feature engineering** and allows a machine to both learn the features and use them to perform a specific task.\n",
    "\n",
    "Feature learning is motivated by the fact that machine learning tasks such as classification often require input that is mathematically and computationally convenient to process. However, real-world data such as images, video, and sensor data has not yielded to attempts to algorithmically define specific features. An alternative is to discover such features or representations through examination, without relying on explicit algorithms.\n",
    "\n",
    "Feature learning can be either supervised or unsupervised.\n",
    "\n",
    "* In supervised feature learning, features are learned using labeled input data. Examples include supervised neural networks, multilayer perceptron and (supervised) dictionary learning.\n",
    "* In unsupervised feature learning, features are learned with unlabeled input data. Examples include dictionary learning, independent component analysis, autoencoders, matrix factorization[2] and various forms of clustering.\n",
    "\n",
    "* [**Representation Learning: A Review and New Perspectives**](https://arxiv.org/abs/1206.5538)\n",
    "* [An overview on data representation learning: From traditional feature learning to recent deep learning](https://www.sciencedirect.com/science/article/pii/S2405918816300459)\n",
    "\n",
    "## Feature extraction\n",
    "**Feature extraction** is a process of dimensionality reduction by which an initial set of raw data is reduced to more manageable groups for processing. A characteristic of these large data sets is a large number of variables that require a lot of computing resources to process. Feature extraction is the name for methods that combine variables into features, effectively reducing the amount of data that must be processed, while still accurately and completely describing the original data set [[wiki](https://en.wikipedia.org/wiki/Feature_extraction)].\n",
    "* Independent component analysis\n",
    "* PCA\n",
    "* Latent semantic analysis\n",
    "* Principal component analysis\n",
    "* Autoencoder (see Feature learning)\n",
    "\n",
    "## Feature detection (computer vision)\n",
    "In computer vision and image processing feature detection includes methods for computing abstractions of image information and making local decisions at every image point whether there is an image feature of a given type at that point or not. The resulting features will be subsets of the image domain, often in the form of isolated points, continuous curves or connected regions.\n",
    "\n",
    "A feature is defined as an \"interesting\" part of an image.\n",
    "\n",
    "Once features have been detected, a local image patch around the feature can be extracted. This extraction may involve quite considerable amounts of image processing. The result is known as a feature descriptor or feature vector.\n",
    "\n"
   ]
  },
  {
   "cell_type": "markdown",
   "metadata": {},
   "source": [
    "## Типы данных\n",
    "\n",
    "Шклассификация шкал:\n",
    "* Простая номинальная шкала\n",
    "* Частично упорядоченная шкала\n",
    "* Порядковая (ранги, бальных оценок)\n",
    "* Метрические равных интервалов\n",
    "* Пропорциональных оценок.\n",
    "\n",
    "Другие типы\n",
    "* ID\n",
    "* Счётные данные\n",
    "* Даты\n",
    "* Текст\n",
    "* Координаты"
   ]
  },
  {
   "cell_type": "markdown",
   "metadata": {},
   "source": [
    "# Практика\n",
    "\n",
    "* [Feature Engineering for Machine Learning\n",
    "Principles and Techniques for Data Scientists](http://shop.oreilly.com/product/0636920049081.do)\n",
    "* [Understanding Feature Engineering (Part 1) — Continuous Numeric Data](https://towardsdatascience.com/understanding-feature-engineering-part-1-continuous-numeric-data-da4e47099a7b)\n",
    "* [Пример Feature Engineering в машинном обучении](https://habr.com/company/mlclass/blog/249759/)\n",
    "* [Открытый курс машинного обучения. Тема 6. Построение и отбор признаков](https://habr.com/company/ods/blog/325422/), [en](https://medium.com/open-machine-learning-course/open-machine-learning-course-topic-6-feature-engineering-and-feature-selection-8b94f870706a).\n",
    "* [SciKit-Learn preprocessing data](https://scikit-learn.org/stable/modules/preprocessing.html)\n",
    "* [About Feature Scaling and Normalization – and the effect of standardization for machine learning algorithms](http://sebastianraschka.com/Articles/2014_about_feature_scaling.html)\n",
    "* [Discover Feature Engineering, How to Engineer Features and How to Get Good at It](https://machinelearningmastery.com/discover-feature-engineering-how-to-engineer-features-and-how-to-get-good-at-it/)\n",
    "* [Методы отбора фич](https://habr.com/post/264915/)\n",
    "* [Методические заметки об отборе информативных признаков (feature selection)](https://habr.com/company/aligntechnology/blog/303750/)\n",
    "* [Как попасть в топ 2% соревнования Kaggle](https://neurohive.io/ru/machine-learning-cases/kak-popast-v-top-2-sorevnovanija-kaggle/)"
   ]
  },
  {
   "cell_type": "markdown",
   "metadata": {},
   "source": [
    "# Feature Transformation of  Continuous Numeric Data\n",
    "* [Understanding Feature Engineering (Part 1) — Continuous Numeric Data](https://towardsdatascience.com/understanding-feature-engineering-part-1-continuous-numeric-data-da4e47099a7b)\n",
    "\n",
    "Feature transformation: transformation of data to improve the accuracy of the algorithm.\n",
    "\n",
    "Монотонное преобразование признаков критично для одних алгоритмов и не оказывает влияния на другие. Кстати, это одна из причин популярности деревьев решений и всех производных алгоритмов (случайный лес, градиентный бустинг) – не все умеют/хотят возиться с преобразованиями, а эти алгоритмы устойчивы к необычным распределениям.\n",
    "\n",
    "Бывают и сугубо инженерные причины: np.log как способ борьбы со слишком большими числами, не помещающимися в np.float64. Но это скорее исключение, чем правило; чаще все-таки вызвано желанием адаптировать датасет под требования алгоритма. Параметрические методы обычно требуют как минимум симметричного и унимодального распределения данных, что не всегда обеспечивается реальным миром. Могут быть и более строгие требования (уместно вспомнить урок про линейные модели).\n",
    "\n",
    "Впрочем, требования к данным предъявляют не только параметрические методы: тот же метод ближайших соседей предскажет полную чушь, если признаки ненормированы: одно распределение расположено в районе нуля и не выходит за пределы (-1, 1), а другой признак – это сотни и тысячи.\n"
   ]
  },
  {
   "cell_type": "markdown",
   "metadata": {},
   "source": [
    "## Квантование\n",
    "В обработке сигналов — разбиение диапазона отсчётных значений сигнала на конечное число уровней и округление этих значений до одного из двух ближайших к ним уровней.\n",
    "\n",
    "![](img/quantized-signal.svg)"
   ]
  },
  {
   "cell_type": "markdown",
   "metadata": {},
   "source": [
    "### Бинаризация"
   ]
  },
  {
   "cell_type": "markdown",
   "metadata": {},
   "source": [
    "### Биннинг, он же бакетинг\n",
    "Это техника обработки данных, при которой исходный набор данных делится на некоторое количество интервалов, общее значение которых (обычно среднее) затем представляет все значения интвервала, что позволяет уменьшить влияние отдельных наблюдений. Иными словами мы переводим непрерывную величину в дискретную. Техника бининга используется для простоения гистограмм.\n",
    "\n",
    "Ключевым вопросом в бининге является решение относительно длины интервалов. Интервалы могут быть фиксированной или адаптивной длины.\n",
    "\n",
    "> Приведите пример фиксированного биннига? В каких случаях его лучше использовать?"
   ]
  },
  {
   "cell_type": "code",
   "execution_count": 22,
   "metadata": {
    "ExecuteTime": {
     "end_time": "2018-11-13T13:27:52.003132Z",
     "start_time": "2018-11-13T13:27:51.754837Z"
    }
   },
   "outputs": [
    {
     "data": {
      "text/plain": [
       "array([ 3, 15, 79, 36, 87, 18, 38, 76, 17, 63, 89, 35, 34, 27, 52, 67,  6,\n",
       "       62, 82, 54])"
      ]
     },
     "execution_count": 22,
     "metadata": {},
     "output_type": "execute_result"
    }
   ],
   "source": [
    "import numpy as np\n",
    "\n",
    "small_counts = np.random.randint(0, 100, 20)\n",
    "small_counts\n"
   ]
  },
  {
   "cell_type": "markdown",
   "metadata": {},
   "source": [
    "Равнораспределённый бининг 0-9."
   ]
  },
  {
   "cell_type": "code",
   "execution_count": 23,
   "metadata": {
    "ExecuteTime": {
     "end_time": "2018-11-13T13:28:10.467787Z",
     "start_time": "2018-11-13T13:28:10.458950Z"
    }
   },
   "outputs": [
    {
     "data": {
      "text/plain": [
       "array([0, 1, 7, 3, 8, 1, 3, 7, 1, 6, 8, 3, 3, 2, 5, 6, 0, 6, 8, 5])"
      ]
     },
     "execution_count": 23,
     "metadata": {},
     "output_type": "execute_result"
    }
   ],
   "source": [
    "np.floor_divide(small_counts, 10)"
   ]
  },
  {
   "cell_type": "markdown",
   "metadata": {},
   "source": [
    "Данные могут быть распределены очень неравномерно"
   ]
  },
  {
   "cell_type": "code",
   "execution_count": 35,
   "metadata": {
    "ExecuteTime": {
     "end_time": "2018-11-13T13:37:54.654731Z",
     "start_time": "2018-11-13T13:37:54.649035Z"
    }
   },
   "outputs": [],
   "source": [
    "large_counts = [296, 8286, 64011, 80, 3, 725, 867,\n",
    "                2215, 7689, 11495, 91897, 44, 28,\n",
    "                7971, 926, 122, 22222]"
   ]
  },
  {
   "cell_type": "code",
   "execution_count": 34,
   "metadata": {
    "ExecuteTime": {
     "end_time": "2018-11-13T13:37:27.671393Z",
     "start_time": "2018-11-13T13:37:27.318828Z"
    }
   },
   "outputs": [
    {
     "data": {
      "text/plain": [
       "<matplotlib.axes._subplots.AxesSubplot at 0x137035da0>"
      ]
     },
     "execution_count": 34,
     "metadata": {},
     "output_type": "execute_result"
    },
    {
     "data": {
      "image/png": "[encoded data removed]",
      "text/plain": [
       "<Figure size 432x288 with 1 Axes>"
      ]
     },
     "metadata": {},
     "output_type": "display_data"
    }
   ],
   "source": [
    "sns.barplot(y=large_counts, x=list(range(len(large_counts))))"
   ]
  },
  {
   "cell_type": "markdown",
   "metadata": {},
   "source": [
    "Тогда имеет смысл делать логарифмированный фиксированный бининг:"
   ]
  },
  {
   "cell_type": "code",
   "execution_count": 38,
   "metadata": {
    "ExecuteTime": {
     "end_time": "2018-11-13T13:39:35.398487Z",
     "start_time": "2018-11-13T13:39:35.391152Z"
    }
   },
   "outputs": [
    {
     "data": {
      "text/plain": [
       "array([2., 3., 4., 1., 0., 2., 2., 3., 3., 4., 4., 1., 1., 3., 2., 2., 4.])"
      ]
     },
     "execution_count": 38,
     "metadata": {},
     "output_type": "execute_result"
    }
   ],
   "source": [
    "log_bining = np.floor(np.log10(large_counts))\n",
    "log_bining"
   ]
  },
  {
   "cell_type": "code",
   "execution_count": 40,
   "metadata": {
    "ExecuteTime": {
     "end_time": "2018-11-13T13:39:43.444033Z",
     "start_time": "2018-11-13T13:39:43.096546Z"
    }
   },
   "outputs": [
    {
     "data": {
      "text/plain": [
       "<matplotlib.axes._subplots.AxesSubplot at 0x137608048>"
      ]
     },
     "execution_count": 40,
     "metadata": {},
     "output_type": "execute_result"
    },
    {
     "data": {
      "image/png": "[encoded data removed]",
      "text/plain": [
       "<Figure size 432x288 with 1 Axes>"
      ]
     },
     "metadata": {},
     "output_type": "display_data"
    }
   ],
   "source": [
    "sns.barplot(y=log_bining, x=list(range(len(log_bining))))"
   ]
  },
  {
   "cell_type": "markdown",
   "metadata": {},
   "source": [
    "В общем-то, это обычное логарифмирование"
   ]
  },
  {
   "cell_type": "markdown",
   "metadata": {},
   "source": [
    "### Квантилизация\n",
    "Квантилизация — это адаптивный бининг, основанный на распределении данных. Если в обычном биннинге могут быть пустые интервалы, то здесь — нет."
   ]
  },
  {
   "cell_type": "code",
   "execution_count": 41,
   "metadata": {
    "ExecuteTime": {
     "end_time": "2018-11-13T13:40:30.428955Z",
     "start_time": "2018-11-13T13:40:30.415392Z"
    }
   },
   "outputs": [
    {
     "data": {
      "text/plain": [
       "array([1, 2, 3, 0, 0, 1, 1, 2, 2, 3, 3, 0, 0, 2, 1, 0, 3])"
      ]
     },
     "execution_count": 41,
     "metadata": {},
     "output_type": "execute_result"
    }
   ],
   "source": [
    "pd.qcut(large_counts, 4, labels=False)"
   ]
  },
  {
   "cell_type": "code",
   "execution_count": 12,
   "metadata": {
    "ExecuteTime": {
     "end_time": "2018-11-20T12:06:31.719290Z",
     "start_time": "2018-11-20T12:06:31.389879Z"
    }
   },
   "outputs": [],
   "source": [
    "biz_f = open('data/yelp_academic_dataset_business.json')\n",
    "biz_df = pd.DataFrame([json.loads(x) for x in biz_f.readlines()])\n",
    "biz_f.close()"
   ]
  },
  {
   "cell_type": "code",
   "execution_count": 44,
   "metadata": {
    "ExecuteTime": {
     "end_time": "2018-11-13T13:43:14.394384Z",
     "start_time": "2018-11-13T13:43:14.363905Z"
    }
   },
   "outputs": [
    {
     "data": {
      "text/html": [
       "<div>\n",
       "<style scoped>\n",
       "    .dataframe tbody tr th:only-of-type {\n",
       "        vertical-align: middle;\n",
       "    }\n",
       "\n",
       "    .dataframe tbody tr th {\n",
       "        vertical-align: top;\n",
       "    }\n",
       "\n",
       "    .dataframe thead th {\n",
       "        text-align: right;\n",
       "    }\n",
       "</style>\n",
       "<table border=\"1\" class=\"dataframe\">\n",
       "  <thead>\n",
       "    <tr style=\"text-align: right;\">\n",
       "      <th></th>\n",
       "      <th>business_id</th>\n",
       "      <th>categories</th>\n",
       "      <th>city</th>\n",
       "      <th>full_address</th>\n",
       "      <th>latitude</th>\n",
       "      <th>longitude</th>\n",
       "      <th>name</th>\n",
       "      <th>neighborhoods</th>\n",
       "      <th>open</th>\n",
       "      <th>review_count</th>\n",
       "      <th>stars</th>\n",
       "      <th>state</th>\n",
       "      <th>type</th>\n",
       "    </tr>\n",
       "  </thead>\n",
       "  <tbody>\n",
       "    <tr>\n",
       "      <th>0</th>\n",
       "      <td>rncjoVoEFUJGCUoC1JgnUA</td>\n",
       "      <td>[Accountants, Professional Services, Tax Servi...</td>\n",
       "      <td>Peoria</td>\n",
       "      <td>8466 W Peoria Ave\\nSte 6\\nPeoria, AZ 85345</td>\n",
       "      <td>33.581867</td>\n",
       "      <td>-112.241596</td>\n",
       "      <td>Peoria Income Tax Service</td>\n",
       "      <td>[]</td>\n",
       "      <td>True</td>\n",
       "      <td>3</td>\n",
       "      <td>5.0</td>\n",
       "      <td>AZ</td>\n",
       "      <td>business</td>\n",
       "    </tr>\n",
       "    <tr>\n",
       "      <th>1</th>\n",
       "      <td>0FNFSzCFP_rGUoJx8W7tJg</td>\n",
       "      <td>[Sporting Goods, Bikes, Shopping]</td>\n",
       "      <td>Phoenix</td>\n",
       "      <td>2149 W Wood Dr\\nPhoenix, AZ 85029</td>\n",
       "      <td>33.604054</td>\n",
       "      <td>-112.105933</td>\n",
       "      <td>Bike Doctor</td>\n",
       "      <td>[]</td>\n",
       "      <td>True</td>\n",
       "      <td>5</td>\n",
       "      <td>5.0</td>\n",
       "      <td>AZ</td>\n",
       "      <td>business</td>\n",
       "    </tr>\n",
       "    <tr>\n",
       "      <th>2</th>\n",
       "      <td>3f_lyB6vFK48ukH6ScvLHg</td>\n",
       "      <td>[]</td>\n",
       "      <td>Phoenix</td>\n",
       "      <td>1134 N Central Ave\\nPhoenix, AZ 85004</td>\n",
       "      <td>33.460526</td>\n",
       "      <td>-112.073933</td>\n",
       "      <td>Valley Permaculture Alliance</td>\n",
       "      <td>[]</td>\n",
       "      <td>True</td>\n",
       "      <td>4</td>\n",
       "      <td>5.0</td>\n",
       "      <td>AZ</td>\n",
       "      <td>business</td>\n",
       "    </tr>\n",
       "    <tr>\n",
       "      <th>3</th>\n",
       "      <td>usAsSV36QmUej8--yvN-dg</td>\n",
       "      <td>[Food, Grocery]</td>\n",
       "      <td>Phoenix</td>\n",
       "      <td>845 W Southern Ave\\nPhoenix, AZ 85041</td>\n",
       "      <td>33.392210</td>\n",
       "      <td>-112.085377</td>\n",
       "      <td>Food City</td>\n",
       "      <td>[]</td>\n",
       "      <td>True</td>\n",
       "      <td>5</td>\n",
       "      <td>3.5</td>\n",
       "      <td>AZ</td>\n",
       "      <td>business</td>\n",
       "    </tr>\n",
       "    <tr>\n",
       "      <th>4</th>\n",
       "      <td>PzOqRohWw7F7YEPBz6AubA</td>\n",
       "      <td>[Food, Bagels, Delis, Restaurants]</td>\n",
       "      <td>Glendale Az</td>\n",
       "      <td>6520 W Happy Valley Rd\\nSte 101\\nGlendale Az, ...</td>\n",
       "      <td>33.712797</td>\n",
       "      <td>-112.200264</td>\n",
       "      <td>Hot Bagels &amp; Deli</td>\n",
       "      <td>[]</td>\n",
       "      <td>True</td>\n",
       "      <td>14</td>\n",
       "      <td>3.5</td>\n",
       "      <td>AZ</td>\n",
       "      <td>business</td>\n",
       "    </tr>\n",
       "  </tbody>\n",
       "</table>\n",
       "</div>"
      ],
      "text/plain": [
       "              business_id                                         categories  \\\n",
       "0  rncjoVoEFUJGCUoC1JgnUA  [Accountants, Professional Services, Tax Servi...   \n",
       "1  0FNFSzCFP_rGUoJx8W7tJg                  [Sporting Goods, Bikes, Shopping]   \n",
       "2  3f_lyB6vFK48ukH6ScvLHg                                                 []   \n",
       "3  usAsSV36QmUej8--yvN-dg                                    [Food, Grocery]   \n",
       "4  PzOqRohWw7F7YEPBz6AubA                 [Food, Bagels, Delis, Restaurants]   \n",
       "\n",
       "          city                                       full_address   latitude  \\\n",
       "0       Peoria         8466 W Peoria Ave\\nSte 6\\nPeoria, AZ 85345  33.581867   \n",
       "1      Phoenix                  2149 W Wood Dr\\nPhoenix, AZ 85029  33.604054   \n",
       "2      Phoenix              1134 N Central Ave\\nPhoenix, AZ 85004  33.460526   \n",
       "3      Phoenix              845 W Southern Ave\\nPhoenix, AZ 85041  33.392210   \n",
       "4  Glendale Az  6520 W Happy Valley Rd\\nSte 101\\nGlendale Az, ...  33.712797   \n",
       "\n",
       "    longitude                          name neighborhoods  open  review_count  \\\n",
       "0 -112.241596     Peoria Income Tax Service            []  True             3   \n",
       "1 -112.105933                   Bike Doctor            []  True             5   \n",
       "2 -112.073933  Valley Permaculture Alliance            []  True             4   \n",
       "3 -112.085377                     Food City            []  True             5   \n",
       "4 -112.200264             Hot Bagels & Deli            []  True            14   \n",
       "\n",
       "   stars state      type  \n",
       "0    5.0    AZ  business  \n",
       "1    5.0    AZ  business  \n",
       "2    5.0    AZ  business  \n",
       "3    3.5    AZ  business  \n",
       "4    3.5    AZ  business  "
      ]
     },
     "execution_count": 44,
     "metadata": {},
     "output_type": "execute_result"
    }
   ],
   "source": [
    "biz_df.head()"
   ]
  },
  {
   "cell_type": "code",
   "execution_count": 48,
   "metadata": {
    "ExecuteTime": {
     "end_time": "2018-11-13T13:44:59.655362Z",
     "start_time": "2018-11-13T13:44:58.359115Z"
    }
   },
   "outputs": [
    {
     "data": {
      "text/plain": [
       "Text(0,0.5,'Occurrence')"
      ]
     },
     "execution_count": 48,
     "metadata": {},
     "output_type": "execute_result"
    },
    {
     "data": {
      "image/png": "[encoded data removed]",
      "text/plain": [
       "<Figure size 432x288 with 1 Axes>"
      ]
     },
     "metadata": {},
     "output_type": "display_data"
    }
   ],
   "source": [
    "sns.set_style('whitegrid')\n",
    "fig, ax = plt.subplots()\n",
    "biz_df['review_count'].hist(ax=ax, bins=100)\n",
    "ax.set_yscale('log')\n",
    "ax.tick_params(labelsize=14)\n",
    "ax.set_xlabel('Review Count', fontsize=14)\n",
    "ax.set_ylabel('Occurrence', fontsize=14)"
   ]
  },
  {
   "cell_type": "code",
   "execution_count": 49,
   "metadata": {
    "ExecuteTime": {
     "end_time": "2018-11-13T13:46:11.793405Z",
     "start_time": "2018-11-13T13:46:11.776227Z"
    }
   },
   "outputs": [
    {
     "data": {
      "text/plain": [
       "0.1     3.0\n",
       "0.2     3.0\n",
       "0.3     4.0\n",
       "0.4     5.0\n",
       "0.5     6.0\n",
       "0.6     8.0\n",
       "0.7    12.0\n",
       "0.8    23.0\n",
       "0.9    50.0\n",
       "Name: review_count, dtype: float64"
      ]
     },
     "execution_count": 49,
     "metadata": {},
     "output_type": "execute_result"
    }
   ],
   "source": [
    "deciles = biz_df['review_count'].quantile([.1, .2, .3, .4, .5, .6, .7, .8, .9])\n",
    "deciles"
   ]
  },
  {
   "cell_type": "code",
   "execution_count": 50,
   "metadata": {
    "ExecuteTime": {
     "end_time": "2018-11-13T13:46:37.987245Z",
     "start_time": "2018-11-13T13:46:36.785293Z"
    }
   },
   "outputs": [
    {
     "data": {
      "text/plain": [
       "Text(0,0.5,'Occurrence')"
      ]
     },
     "execution_count": 50,
     "metadata": {},
     "output_type": "execute_result"
    },
    {
     "data": {
      "image/png": "[encoded data removed]",
      "text/plain": [
       "<Figure size 432x288 with 1 Axes>"
      ]
     },
     "metadata": {},
     "output_type": "display_data"
    }
   ],
   "source": [
    "sns.set_style('whitegrid')\n",
    "fig, ax = plt.subplots()\n",
    "biz_df['review_count'].hist(ax=ax, bins=100)\n",
    "for pos in deciles:\n",
    "    handle = plt.axvline(pos, color='r')\n",
    "ax.legend([handle], ['deciles'], fontsize=14)\n",
    "ax.set_yscale('log')\n",
    "ax.set_xscale('log')\n",
    "ax.tick_params(labelsize=14)\n",
    "ax.set_xlabel('Review Count', fontsize=14)\n",
    "ax.set_ylabel('Occurrence', fontsize=14)"
   ]
  },
  {
   "cell_type": "markdown",
   "metadata": {},
   "source": [
    "### Рангова трансформация"
   ]
  },
  {
   "cell_type": "code",
   "execution_count": 23,
   "metadata": {
    "ExecuteTime": {
     "end_time": "2018-11-20T12:11:50.254153Z",
     "start_time": "2018-11-20T12:11:50.245015Z"
    }
   },
   "outputs": [
    {
     "data": {
      "text/plain": [
       "0    1266.0\n",
       "1    4756.5\n",
       "2    3386.0\n",
       "3    4756.5\n",
       "4    8344.0\n",
       "Name: review_count, dtype: float64"
      ]
     },
     "execution_count": 23,
     "metadata": {},
     "output_type": "execute_result"
    }
   ],
   "source": [
    "biz_df['review_count'].rank().head()"
   ]
  },
  {
   "cell_type": "markdown",
   "metadata": {
    "ExecuteTime": {
     "end_time": "2018-11-20T12:12:56.722953Z",
     "start_time": "2018-11-20T12:12:56.719632Z"
    }
   },
   "source": [
    "То же в scipy"
   ]
  },
  {
   "cell_type": "code",
   "execution_count": 25,
   "metadata": {
    "ExecuteTime": {
     "end_time": "2018-11-20T12:13:11.729303Z",
     "start_time": "2018-11-20T12:13:11.720275Z"
    }
   },
   "outputs": [
    {
     "data": {
      "text/plain": [
       "array([1266. , 4756.5, 3386. , ..., 1266. , 9250.5, 7790. ])"
      ]
     },
     "execution_count": 25,
     "metadata": {},
     "output_type": "execute_result"
    }
   ],
   "source": [
    "from scipy.stats import rankdata\n",
    "\n",
    "rankdata(biz_df['review_count'].values)"
   ]
  },
  {
   "cell_type": "markdown",
   "metadata": {
    "ExecuteTime": {
     "end_time": "2018-11-10T14:32:23.148906Z",
     "start_time": "2018-11-10T14:32:23.136791Z"
    }
   },
   "source": [
    "## Преобразования, стабилизирующие дисперсию\n",
    "Многие типы статистических данных обнаруживают связь «дисперсии и среднего», что означает — изменчивость различна для значений данных с различными математическими ожиданиями. В качестве примера, при сравнении различных популяций в мире увеличение дисперсии доходов приводит к увеличению математического ожидания доходов. Если мы рассматриваем число маленьких единиц площади (например, административные округа в Соединённых Штатах Америки) и получим среднее и дисперсию доходов для каждого округа, обычно получим, что округа с большим средним доходом имеют большую дисперсию.\n",
    "\n",
    "Преобразование, стабилизирующее дисперсию нацелено на удаление связи дисперсии и математического ожидания, так что дисперсия становится постоянной относительно среднего.\n",
    "\n",
    "### Степенные преобразования\n"
   ]
  },
  {
   "cell_type": "markdown",
   "metadata": {
    "ExecuteTime": {
     "end_time": "2018-11-13T15:51:38.338800Z",
     "start_time": "2018-11-13T15:51:38.302085Z"
    }
   },
   "source": [
    "Степенные преобразования нацелены на [стабилизацию дисперсии](https://en.wikipedia.org/wiki/Variance-stabilizing_transformation) случайной величины."
   ]
  },
  {
   "cell_type": "code",
   "execution_count": 124,
   "metadata": {
    "ExecuteTime": {
     "end_time": "2018-11-13T16:43:27.728143Z",
     "start_time": "2018-11-13T16:43:27.396510Z"
    }
   },
   "outputs": [
    {
     "name": "stderr",
     "output_type": "stream",
     "text": [
      "/Library/Frameworks/Python.framework/Versions/3.6/lib/python3.6/site-packages/scipy/stats/stats.py:1713: FutureWarning:\n",
      "\n",
      "Using a non-tuple sequence for multidimensional indexing is deprecated; use `arr[tuple(seq)]` instead of `arr[seq]`. In the future this will be interpreted as an array index, `arr[np.array(seq)]`, which will result either in an error or a different result.\n",
      "\n"
     ]
    },
    {
     "data": {
      "image/png": "[encoded data removed]",
      "text/plain": [
       "<Figure size 432x288 with 1 Axes>"
      ]
     },
     "metadata": {},
     "output_type": "display_data"
    }
   ],
   "source": [
    "p = np.random.poisson(size=10000)\n",
    "ax = sns.distplot(p, kde=False)\n",
    "ax.set(xlabel='Poisson', ylabel='Frequency');"
   ]
  },
  {
   "cell_type": "markdown",
   "metadata": {},
   "source": [
    "### Логарифмирование\n",
    "\n",
    "Логарифмирование — частный случай степенных преобразований."
   ]
  },
  {
   "cell_type": "code",
   "execution_count": 62,
   "metadata": {
    "ExecuteTime": {
     "end_time": "2018-11-13T13:57:18.643973Z",
     "start_time": "2018-11-13T13:57:18.633286Z"
    }
   },
   "outputs": [],
   "source": [
    "biz_df[\"log_review_count\"] = np.log10(biz_df['review_count'] + 1)"
   ]
  },
  {
   "cell_type": "code",
   "execution_count": 63,
   "metadata": {
    "ExecuteTime": {
     "end_time": "2018-11-13T13:57:29.856000Z",
     "start_time": "2018-11-13T13:57:28.826387Z"
    }
   },
   "outputs": [
    {
     "data": {
      "text/plain": [
       "Text(0,0.5,'Occurrence')"
      ]
     },
     "execution_count": 63,
     "metadata": {},
     "output_type": "execute_result"
    },
    {
     "data": {
      "image/png": "[encoded data removed]",
      "text/plain": [
       "<Figure size 432x288 with 2 Axes>"
      ]
     },
     "metadata": {},
     "output_type": "display_data"
    }
   ],
   "source": [
    "plt.figure()\n",
    "ax = plt.subplot(2,1,1)\n",
    "biz_df['review_count'].hist(ax=ax, bins=100)\n",
    "ax.tick_params(labelsize=14)\n",
    "ax.set_xlabel('review_count', fontsize=14)\n",
    "ax.set_ylabel('Occurrence', fontsize=14)\n",
    "\n",
    "ax = plt.subplot(2,1,2)\n",
    "biz_df[\"log_review_count\"].hist(ax=ax, bins=100)\n",
    "ax.tick_params(labelsize=14)\n",
    "ax.set_xlabel('log10(review_count))', fontsize=14)\n",
    "ax.set_ylabel('Occurrence', fontsize=14)"
   ]
  },
  {
   "cell_type": "code",
   "execution_count": 64,
   "metadata": {
    "ExecuteTime": {
     "end_time": "2018-11-13T13:57:31.891057Z",
     "start_time": "2018-11-13T13:57:31.887255Z"
    }
   },
   "outputs": [],
   "source": [
    "from sklearn import linear_model\n",
    "from sklearn import cross_validation"
   ]
  },
  {
   "cell_type": "code",
   "execution_count": 65,
   "metadata": {
    "ExecuteTime": {
     "end_time": "2018-11-13T13:57:34.000188Z",
     "start_time": "2018-11-13T13:57:33.986521Z"
    }
   },
   "outputs": [],
   "source": [
    "biz_train, biz_validate = cross_validation.train_test_split(biz_df, test_size=0.2)"
   ]
  },
  {
   "cell_type": "code",
   "execution_count": 69,
   "metadata": {
    "ExecuteTime": {
     "end_time": "2018-11-13T13:58:11.090676Z",
     "start_time": "2018-11-13T13:58:11.076251Z"
    }
   },
   "outputs": [
    {
     "data": {
      "text/plain": [
       "LinearRegression(copy_X=True, fit_intercept=True, n_jobs=1, normalize=False)"
      ]
     },
     "execution_count": 69,
     "metadata": {},
     "output_type": "execute_result"
    }
   ],
   "source": [
    "m1 = linear_model.LinearRegression()\n",
    "m1.fit(biz_train[['log_review_count']], biz_train['stars'])\n",
    "m2 = linear_model.LinearRegression()\n",
    "m2.fit(biz_train[['review_count']], biz_train['stars'])"
   ]
  },
  {
   "cell_type": "code",
   "execution_count": 77,
   "metadata": {
    "ExecuteTime": {
     "end_time": "2018-11-13T14:01:36.377162Z",
     "start_time": "2018-11-13T14:01:36.370958Z"
    }
   },
   "outputs": [
    {
     "name": "stdout",
     "output_type": "stream",
     "text": [
      "Residual sum of squares: 0.724\n"
     ]
    }
   ],
   "source": [
    "print(\"Residual sum of squares: {:.3f}\".format(\n",
    "    np.mean((m1.predict(biz_validate[['log_review_count']]) - biz_validate['stars']) ** 2)))"
   ]
  },
  {
   "cell_type": "code",
   "execution_count": 78,
   "metadata": {
    "ExecuteTime": {
     "end_time": "2018-11-13T14:01:43.418394Z",
     "start_time": "2018-11-13T14:01:43.411511Z"
    }
   },
   "outputs": [
    {
     "name": "stdout",
     "output_type": "stream",
     "text": [
      "Residual sum of squares: 0.722\n"
     ]
    }
   ],
   "source": [
    "print(\"Residual sum of squares: {:.3f}\".format(\n",
    "    np.mean((m2.predict(biz_validate[['review_count']]) - biz_validate['stars']) ** 2)))"
   ]
  },
  {
   "cell_type": "markdown",
   "metadata": {},
   "source": [
    "### Трансформация Бокса-Кокса\n",
    "Для исходной последовательности $y = \\{ y_1, \\ldots, y_n \\}, \\quad y_i > 0, \\quad i = 1,\\ldots,n$ однопараметрическое преобразование Бокса-Кокса с параметром $\\lambda$ определяется следующим образом:\n",
    "\n",
    " $y_i^{\\lambda} = \\begin{cases}\\frac{y_i^\\lambda-1}{\\lambda},&\\text{if } \\lambda \\neq 0,\\\\ \\log{(y_i)},& \\text{if } \\lambda = 0.\\end{cases}$\n",
    " \n",
    "Параметр $\\lambda$ можно выбирать, максимизируя логарифм правдоподобия. Еще один способ поиска оптимального значения параметра основан на поиске максимальной величины коэффициента корреляции между квантилями функции нормального распределения и отсортированной преобразованной последовательностью."
   ]
  },
  {
   "cell_type": "code",
   "execution_count": 4,
   "metadata": {
    "ExecuteTime": {
     "end_time": "2018-11-15T14:41:24.921943Z",
     "start_time": "2018-11-15T14:41:24.891561Z"
    }
   },
   "outputs": [
    {
     "data": {
      "text/plain": [
       "-0.5631160899391674"
      ]
     },
     "execution_count": 4,
     "metadata": {},
     "output_type": "execute_result"
    }
   ],
   "source": [
    "rc_log = stats.boxcox(biz_df['review_count'], lmbda=0)\n",
    "# from sklearn.preprocessing import power_transform\n",
    "# By default, the scipy implementation of Box-Cox transform finds the lmbda parameter\n",
    "# that will make the output the closest to a normal distribution\n",
    "rc_bc, bc_params = stats.boxcox(biz_df['review_count'])\n",
    "bc_params"
   ]
  },
  {
   "cell_type": "code",
   "execution_count": 7,
   "metadata": {
    "ExecuteTime": {
     "end_time": "2018-11-15T14:43:44.490241Z",
     "start_time": "2018-11-15T14:43:44.482626Z"
    }
   },
   "outputs": [],
   "source": [
    "biz_df['rc_bc'] = rc_bc\n",
    "biz_df['rc_log'] = rc_log"
   ]
  },
  {
   "cell_type": "code",
   "execution_count": 11,
   "metadata": {
    "ExecuteTime": {
     "end_time": "2018-11-15T14:46:15.117170Z",
     "start_time": "2018-11-15T14:46:12.833542Z"
    }
   },
   "outputs": [
    {
     "data": {
      "text/plain": [
       "<Figure size 720x720 with 0 Axes>"
      ]
     },
     "execution_count": 11,
     "metadata": {},
     "output_type": "execute_result"
    },
    {
     "data": {
      "image/png": "[encoded data removed]",
      "text/plain": [
       "<Figure size 1332x756 with 3 Axes>"
      ]
     },
     "metadata": {},
     "output_type": "display_data"
    },
    {
     "data": {
      "text/plain": [
       "<Figure size 720x720 with 0 Axes>"
      ]
     },
     "metadata": {},
     "output_type": "display_data"
    }
   ],
   "source": [
    "fig, (ax1, ax2, ax3) = plt.subplots(3,1)\n",
    "fig.set_size_inches(18.5, 10.5)\n",
    "# original review count histogram\n",
    "biz_df['review_count'].hist(ax=ax1, bins=100)\n",
    "ax1.set_yscale('log')\n",
    "ax1.tick_params(labelsize=14)\n",
    "ax1.set_title('Review Counts Histogram', fontsize=14)\n",
    "ax1.set_xlabel('')\n",
    "ax1.set_ylabel('Occurrence', fontsize=14)\n",
    "\n",
    "# review count after log transform\n",
    "biz_df['rc_log'].hist(ax=ax2, bins=100)\n",
    "ax2.set_yscale('log')\n",
    "ax2.tick_params(labelsize=14)\n",
    "ax2.set_title('Log Transformed Counts Histogram', fontsize=14)\n",
    "ax2.set_xlabel('')\n",
    "ax2.set_ylabel('Occurrence', fontsize=14)# review count after optimal Box-Cox transform\n",
    "\n",
    "biz_df['rc_bc'].hist(ax=ax3, bins=100)\n",
    "ax3.set_yscale('log')\n",
    "ax3.tick_params(labelsize=14)\n",
    "ax3.set_title('Box-Cox Transformed Counts Histogram', fontsize=14)\n",
    "ax3.set_xlabel('')\n",
    "ax3.set_ylabel('Occurrence', fontsize=14)\n",
    "plt.figure(figsize=(10, 10))"
   ]
  },
  {
   "cell_type": "markdown",
   "metadata": {},
   "source": [
    "Eще одним тестом на нормальность распределения является Q-Q график, или график Квантиль-Квантиль. Данный график позволяет сравнить рапределение исследуемой переменной с теоретическим нормальным распределением.\n",
    "\n",
    "Прямая красная непрерывная линия символизирует теоретическое нормальное распределение: если бы тестируемое распределение (отображается на графике круглыми точками) было нормальным, оно бы в точности легло на эту линию."
   ]
  },
  {
   "cell_type": "code",
   "execution_count": 15,
   "metadata": {
    "ExecuteTime": {
     "end_time": "2018-11-15T14:49:04.984751Z",
     "start_time": "2018-11-15T14:49:03.937801Z"
    }
   },
   "outputs": [
    {
     "data": {
      "text/plain": [
       "Text(0.5,1,'Probplot after Box-Cox transform')"
      ]
     },
     "execution_count": 15,
     "metadata": {},
     "output_type": "execute_result"
    },
    {
     "data": {
      "image/png": "[encoded data removed]",
      "text/plain": [
       "<Figure size 756x1332 with 3 Axes>"
      ]
     },
     "metadata": {},
     "output_type": "display_data"
    }
   ],
   "source": [
    "fig2, (ax1, ax2, ax3) = plt.subplots(3,1)\n",
    "fig2.set_size_inches(10.5, 18.5)\n",
    "prob1 = stats.probplot(biz_df['review_count'], dist=stats.norm, plot=ax1)\n",
    "ax1.set_xlabel('')\n",
    "ax1.set_title('Probplot against normal distribution')\n",
    "prob2 = stats.probplot(biz_df['rc_log'], dist=stats.norm, plot=ax2)\n",
    "ax2.set_xlabel('')\n",
    "ax2.set_title('Probplot after log transform')\n",
    "prob3 = stats.probplot(biz_df['rc_bc'], dist=stats.norm, plot=ax3)\n",
    "ax3.set_xlabel('Theoretical quantiles')\n",
    "ax3.set_title('Probplot after Box-Cox transform')"
   ]
  },
  {
   "cell_type": "markdown",
   "metadata": {},
   "source": [
    "## Борьба с выбросами (аутлаерами)"
   ]
  },
  {
   "cell_type": "markdown",
   "metadata": {},
   "source": [
    "### [Винсоризация](https://en.wikipedia.org/wiki/Winsorizing)\n",
    "* [Функция winsorize из scipy.stats.mstats](http://scipy.github.io/devdocs/generated/scipy.stats.mstats.winsorize.html)\n",
    "\n",
    "Винсоризация — это серия трансформаций, направленных на ограничения влияния выбросов. 90%-ая винсоризация означает, что мы берём значения меньше 5% перцентиля и выше 95% перцентиля и приравниваем их к значениям на 5-м и 95-м перцентилях соответствиино."
   ]
  },
  {
   "cell_type": "code",
   "execution_count": 4,
   "metadata": {
    "ExecuteTime": {
     "end_time": "2018-11-20T09:59:33.547472Z",
     "start_time": "2018-11-20T09:59:33.544229Z"
    }
   },
   "outputs": [],
   "source": [
    "import numpy as np\n",
    "from scipy.stats.mstats import winsorize"
   ]
  },
  {
   "cell_type": "code",
   "execution_count": 6,
   "metadata": {
    "ExecuteTime": {
     "end_time": "2018-11-20T10:15:05.371465Z",
     "start_time": "2018-11-20T10:15:05.352256Z"
    }
   },
   "outputs": [
    {
     "data": {
      "text/plain": [
       "masked_array(data=[ 92,  19, 101,  58, 101,  91,  26,  78,  10,  13,  -5,\n",
       "                   101,  86,  85,  15,  89,  89,  28,  -5,  41],\n",
       "             mask=False,\n",
       "       fill_value=999999)"
      ]
     },
     "execution_count": 6,
     "metadata": {},
     "output_type": "execute_result"
    }
   ],
   "source": [
    "# пример из вики\n",
    "a = np.array([92, 19, 101, 58, 1053, 91, 26, 78, 10, 13, -40, 101, 86, 85, 15, 89, 89, 28, -5, 41])\n",
    "winsorize(a, limits = 0.05)"
   ]
  },
  {
   "cell_type": "markdown",
   "metadata": {},
   "source": [
    "### Триминг\n",
    "Триминг отличается от винсоризация тем, что мы не ограничиваем крайние значения каким-либо числом, а просто удаляем их."
   ]
  },
  {
   "cell_type": "code",
   "execution_count": 8,
   "metadata": {
    "ExecuteTime": {
     "end_time": "2018-11-20T10:19:35.210397Z",
     "start_time": "2018-11-20T10:19:35.200065Z"
    }
   },
   "outputs": [
    {
     "data": {
      "text/plain": [
       "masked_array(data=[--, --, 3, 4, 5, 6, 7, 8, --, --],\n",
       "             mask=[ True,  True, False, False, False, False, False, False,\n",
       "                    True,  True],\n",
       "       fill_value=999999)"
      ]
     },
     "execution_count": 8,
     "metadata": {},
     "output_type": "execute_result"
    }
   ],
   "source": [
    "from scipy.stats.mstats import trim\n",
    "\n",
    "\n",
    "z = [ 1, 2, 3, 4, 5, 6, 7, 8, 9,10]\n",
    "trim(z,(3,8))"
   ]
  },
  {
   "cell_type": "code",
   "execution_count": 9,
   "metadata": {
    "ExecuteTime": {
     "end_time": "2018-11-20T10:19:44.796109Z",
     "start_time": "2018-11-20T10:19:44.790758Z"
    }
   },
   "outputs": [
    {
     "data": {
      "text/plain": [
       "masked_array(data=[--, 2, 3, 4, 5, 6, 7, 8, --, --],\n",
       "             mask=[ True, False, False, False, False, False, False, False,\n",
       "                    True,  True],\n",
       "       fill_value=999999)"
      ]
     },
     "execution_count": 9,
     "metadata": {},
     "output_type": "execute_result"
    }
   ],
   "source": [
    "trim(z,(0.1,0.2), relative=True)"
   ]
  },
  {
   "cell_type": "markdown",
   "metadata": {},
   "source": [
    "[Больше всяких методов в пакете mstats библиотеки scipy](https://docs.scipy.org/doc/scipy-0.14.0/reference/stats.mstats.html)."
   ]
  },
  {
   "cell_type": "markdown",
   "metadata": {},
   "source": [
    "### Всякие методы, специфичные для тщательной проработки регрессионных моделей\n",
    "* [Bonferroni outlier test](https://rdrr.io/cran/car/man/outlierTest.html)\n",
    "* Hat values\n",
    "* dfbetas\n",
    "* [Cook's distance](http://www.machinelearning.ru/wiki/index.php?title=%D0%A0%D0%B0%D1%81%D1%81%D1%82%D0%BE%D1%8F%D0%BD%D0%B8%D0%B5_%D0%9A%D1%83%D0%BA%D0%B0)"
   ]
  },
  {
   "cell_type": "markdown",
   "metadata": {},
   "source": [
    "## [Шкалирование или нормализация](https://en.wikipedia.org/wiki/Feature_scaling)\n",
    "Шкалирование — это перевод разных признаков в одну шкалу измерений, путём деления их на некоторую константу. Некоторые признаки могут быть измерены в миллионах (например, доход), а некоторые — в очень малых величинах (например, вопросы из анкеты могут измеряться по шкале от 1 до 5). Часто такие признаки могут встречаться в одном наборе данных. В таком случае, их стоит шкалировать, что облегчить работу некоторых алгоритмов. На какие-то это почти не влияет, а, например, на KNN, очень даже влияет.\n",
    "![](https://cdn-images-1.medium.com/max/1600/1*EyPd0sQxEXtTDSJgu72JNQ.jpeg)\n",
    "*До шкалирования*\n",
    "\n",
    "Когда надо шкалировать:\n",
    "* когда используется PCA, нейронные сети\n",
    "* когда используются методы, основанные на подсчёте расстояний (KNN, K-means)\n",
    "* [когда исползуется градиентный спуск](https://www.coursera.org/lecture/machine-learning/gradient-descent-in-practice-i-feature-scaling-xx3Da) (а он сейчас используется почти везде).\n",
    "\n",
    "Когда не обязательно:\n",
    "* методы, основанные на деревьях, устойчивы на разности масштабов.\n",
    "* как и линейный дискриминантный анализ или наивный байес."
   ]
  },
  {
   "cell_type": "markdown",
   "metadata": {
    "ExecuteTime": {
     "end_time": "2018-11-10T14:39:47.920793Z",
     "start_time": "2018-11-10T14:39:47.916952Z"
    }
   },
   "source": [
    "### Min-max scaling\n",
    "Самый просто вариант — MinMax Scaling, который переносит все точки на заданный отрезок (обычно (0, 1)).\n",
    "$$\\large X_{norm} = \\frac{X – X_{min}}{X_{max}-X_{min}}$$"
   ]
  },
  {
   "cell_type": "code",
   "execution_count": null,
   "metadata": {},
   "outputs": [],
   "source": [
    "from sklearn.preprocessing import MinMaxScaler\n",
    "MinMaxScaler().fit_transform(data)"
   ]
  },
  {
   "cell_type": "markdown",
   "metadata": {},
   "source": [
    "### Стандартизация"
   ]
  },
  {
   "cell_type": "markdown",
   "metadata": {},
   "source": [
    "Другая простая трансформация – это Standart Scaling (она же Z-score normalization).\n",
    "$$\\large z = \\frac{x – \\mu}{\\sigma}$$\n",
    "\n",
    "Мы центрируем наш признак (среднее = 0) и шкалируем его (std = 1).\n",
    "\n",
    "StandartScaling хоть и не делает распределение нормальным в строгом смысле слова, но в какой-то мере защищает от выбросов."
   ]
  },
  {
   "cell_type": "code",
   "execution_count": 16,
   "metadata": {
    "ExecuteTime": {
     "end_time": "2018-11-15T15:06:05.629935Z",
     "start_time": "2018-11-15T15:06:05.484274Z"
    }
   },
   "outputs": [],
   "source": [
    "from sklearn.preprocessing import StandardScaler"
   ]
  },
  {
   "cell_type": "markdown",
   "metadata": {},
   "source": [
    "### $\\ell^2$-норма\n",
    "Или Эвглидова нормализация. Каждый элемент вектора делится на его длинну.\n",
    "$$\\large\\tilde{x}=\\frac{x}{||x||}$$"
   ]
  },
  {
   "cell_type": "code",
   "execution_count": 17,
   "metadata": {
    "ExecuteTime": {
     "end_time": "2018-11-15T15:12:28.720021Z",
     "start_time": "2018-11-15T15:12:28.716683Z"
    }
   },
   "outputs": [],
   "source": [
    "from sklearn.preprocessing import normalize"
   ]
  },
  {
   "cell_type": "markdown",
   "metadata": {},
   "source": [
    "## (Эффекты взаимодействия) Interaction features\n",
    "* [Feature Interactions](https://www.coursera.org/lecture/competitive-data-science/feature-interactions-yt5t3)\n",
    "\n",
    "Термин взаимодействие был впервые использован в работе Фишера (Fisher, 1926). \"Зависит\" в данном контексте не означает причинной зависимости, а просто отражает тот факт, что в зависимости от рассматриваемого подмножества наблюдений (от значения модифицирующей переменной или переменных) характер зависимости будет меняться (модифицироваться).\n",
    "\n",
    "Признак, образованные при взаимодействии призака X и Y получается произведением этих признаков.\n",
    "\n",
    "Полезно для многих моделей, особенно для линейных и KNN."
   ]
  },
  {
   "cell_type": "markdown",
   "metadata": {},
   "source": [
    "# Feature Transformation of Categirical Data\n",
    "* [Understanding Feature Engineering (Part 2) — Categorical Data](https://towardsdatascience.com/understanding-feature-engineering-part-2-categorical-data-f54324193e63)\n",
    "* [Python: категориальные признаки](https://dyakonov.org/2016/08/03/python-%D0%BA%D0%B0%D1%82%D0%B5%D0%B3%D0%BE%D1%80%D0%B8%D0%B0%D0%BB%D1%8C%D0%BD%D1%8B%D0%B5-%D0%BF%D1%80%D0%B8%D0%B7%D0%BD%D0%B0%D0%BA%D0%B8/)\n",
    "\n",
    "## Label encoding\n",
    "Мы просто присваиваем каждой категории собственный номер.\n",
    "\n",
    "Этот метод нормально работает с методами, основанными на деревьях решений, поскольку они спообны самостоятельно разделить этот континуальный признак на сегменты, но обычно не подходит для линейных моделей.\n",
    "\n",
    "Также Label encoding подходит для порядковых переменных, поскольку в этом случае сохраняются отношения порядка между значениями.\n",
    "\n",
    "### Frequency encoding\n",
    "Вместо метки класса присваиваем частоту, с которой этот встречается. Так мы сохраним информацию о частоте каждого класса, что будет особенно полезно, если эта частота коррелирует с целевой переменной.\n"
   ]
  },
  {
   "cell_type": "code",
   "execution_count": 21,
   "metadata": {
    "ExecuteTime": {
     "end_time": "2018-11-20T12:09:35.096398Z",
     "start_time": "2018-11-20T12:09:35.072967Z"
    }
   },
   "outputs": [
    {
     "data": {
      "text/html": [
       "<div>\n",
       "<style scoped>\n",
       "    .dataframe tbody tr th:only-of-type {\n",
       "        vertical-align: middle;\n",
       "    }\n",
       "\n",
       "    .dataframe tbody tr th {\n",
       "        vertical-align: top;\n",
       "    }\n",
       "\n",
       "    .dataframe thead th {\n",
       "        text-align: right;\n",
       "    }\n",
       "</style>\n",
       "<table border=\"1\" class=\"dataframe\">\n",
       "  <thead>\n",
       "    <tr style=\"text-align: right;\">\n",
       "      <th></th>\n",
       "      <th>state</th>\n",
       "      <th>state_freq_enc</th>\n",
       "    </tr>\n",
       "  </thead>\n",
       "  <tbody>\n",
       "    <tr>\n",
       "      <th>0</th>\n",
       "      <td>AZ</td>\n",
       "      <td>0.999740</td>\n",
       "    </tr>\n",
       "    <tr>\n",
       "      <th>1</th>\n",
       "      <td>AZ</td>\n",
       "      <td>0.999740</td>\n",
       "    </tr>\n",
       "    <tr>\n",
       "      <th>2</th>\n",
       "      <td>AZ</td>\n",
       "      <td>0.999740</td>\n",
       "    </tr>\n",
       "    <tr>\n",
       "      <th>3</th>\n",
       "      <td>AZ</td>\n",
       "      <td>0.999740</td>\n",
       "    </tr>\n",
       "    <tr>\n",
       "      <th>4</th>\n",
       "      <td>AZ</td>\n",
       "      <td>0.999740</td>\n",
       "    </tr>\n",
       "    <tr>\n",
       "      <th>5</th>\n",
       "      <td>CA</td>\n",
       "      <td>0.000087</td>\n",
       "    </tr>\n",
       "  </tbody>\n",
       "</table>\n",
       "</div>"
      ],
      "text/plain": [
       "  state  state_freq_enc\n",
       "0    AZ        0.999740\n",
       "1    AZ        0.999740\n",
       "2    AZ        0.999740\n",
       "3    AZ        0.999740\n",
       "4    AZ        0.999740\n",
       "5    CA        0.000087"
      ]
     },
     "execution_count": 21,
     "metadata": {},
     "output_type": "execute_result"
    }
   ],
   "source": [
    "freq_enc = biz_df[\"state\"].value_counts(normalize=True)\n",
    "biz_df[\"state_freq_enc\"] = biz_df[\"state\"].map(freq_enc)\n",
    "biz_df[[\"state\", \"state_freq_enc\"]].head(6)"
   ]
  },
  {
   "cell_type": "markdown",
   "metadata": {},
   "source": [
    "\n",
    "## One-hot encoding\n",
    "\n",
    "* Шкалирование происходит автоматически\n",
    "* Сильно разрастается размер матрицы\n",
    "* Если у вас много one-hot encoded признаков и несклько метрических, то деревья решений могут испытывать сложности с тем, что использовать метрические признаки эффективно."
   ]
  },
  {
   "cell_type": "code",
   "execution_count": 26,
   "metadata": {
    "ExecuteTime": {
     "end_time": "2018-11-20T12:19:18.408853Z",
     "start_time": "2018-11-20T12:19:18.390085Z"
    }
   },
   "outputs": [
    {
     "data": {
      "text/html": [
       "<div>\n",
       "<style scoped>\n",
       "    .dataframe tbody tr th:only-of-type {\n",
       "        vertical-align: middle;\n",
       "    }\n",
       "\n",
       "    .dataframe tbody tr th {\n",
       "        vertical-align: top;\n",
       "    }\n",
       "\n",
       "    .dataframe thead th {\n",
       "        text-align: right;\n",
       "    }\n",
       "</style>\n",
       "<table border=\"1\" class=\"dataframe\">\n",
       "  <thead>\n",
       "    <tr style=\"text-align: right;\">\n",
       "      <th></th>\n",
       "      <th>AZ</th>\n",
       "      <th>CA</th>\n",
       "      <th>CO</th>\n",
       "      <th>SC</th>\n",
       "    </tr>\n",
       "  </thead>\n",
       "  <tbody>\n",
       "    <tr>\n",
       "      <th>0</th>\n",
       "      <td>1</td>\n",
       "      <td>0</td>\n",
       "      <td>0</td>\n",
       "      <td>0</td>\n",
       "    </tr>\n",
       "    <tr>\n",
       "      <th>1</th>\n",
       "      <td>1</td>\n",
       "      <td>0</td>\n",
       "      <td>0</td>\n",
       "      <td>0</td>\n",
       "    </tr>\n",
       "    <tr>\n",
       "      <th>2</th>\n",
       "      <td>1</td>\n",
       "      <td>0</td>\n",
       "      <td>0</td>\n",
       "      <td>0</td>\n",
       "    </tr>\n",
       "    <tr>\n",
       "      <th>3</th>\n",
       "      <td>1</td>\n",
       "      <td>0</td>\n",
       "      <td>0</td>\n",
       "      <td>0</td>\n",
       "    </tr>\n",
       "    <tr>\n",
       "      <th>4</th>\n",
       "      <td>1</td>\n",
       "      <td>0</td>\n",
       "      <td>0</td>\n",
       "      <td>0</td>\n",
       "    </tr>\n",
       "  </tbody>\n",
       "</table>\n",
       "</div>"
      ],
      "text/plain": [
       "   AZ  CA  CO  SC\n",
       "0   1   0   0   0\n",
       "1   1   0   0   0\n",
       "2   1   0   0   0\n",
       "3   1   0   0   0\n",
       "4   1   0   0   0"
      ]
     },
     "execution_count": 26,
     "metadata": {},
     "output_type": "execute_result"
    }
   ],
   "source": [
    "pd.get_dummies(biz_df[\"state\"]).head()"
   ]
  },
  {
   "cell_type": "markdown",
   "metadata": {},
   "source": [
    "## Feature hashing\n",
    "* [Объяснение](https://medium.com/value-stream-design/introducing-one-of-the-best-hacks-in-machine-learning-the-hashing-trick-bf6a9c8af18f)"
   ]
  },
  {
   "cell_type": "markdown",
   "metadata": {},
   "source": [
    "## Работа с пропущенными значениями\n",
    "\n",
    "Вначале надо понять, как они закодированы. Не всего это стандартный NaN, это может быть -999, \"\", -1 и др. в зависимости от данных.\n",
    "\n",
    "После идентификации пропущенных значений, надо решить, что с ними делать. Основные подходы следующие:\n",
    "* Удалить строки с пропущенными значениями. Слишком большая роскошь.\n",
    "* Присовить пропущенным значениям некоторое другое значение, которое не встречалось преже. Тем самым мы создадим отдельную категорию «пропущенные значения». Это не очень работает для линейных моделей и нейронных сетей.\n",
    "* Присовить пропущенным значениям среднее, медиану или самое часто стречающееся значение. Хорошо работает для линейных моделей и нейронных сетей, но так себе для деревьев.\n",
    "* Постараться как-нибудь хитро реконструировать пропущенные значения. Это всегда возможно, если мы имеем дело с последовательностями, например временными.\n",
    "\n",
    "\n",
    "[Модуль для работы с пропущенными значениями в sklearn](https://scikit-learn.org/stable/modules/generated/sklearn.preprocessing.Imputer.html)."
   ]
  },
  {
   "cell_type": "markdown",
   "metadata": {},
   "source": [
    "# Feature extraction\n",
    "\n",
    "* [Набор модулей из SkLearn](http://scikit-learn.org/stable/modules/feature_extraction.html)"
   ]
  },
  {
   "cell_type": "markdown",
   "metadata": {},
   "source": [
    "# [Feature selection](https://en.wikipedia.org/wiki/Feature_selection)\n",
    "* [Irrelevant Features and the Subset Selection Problem](https://www.semanticscholar.org/paper/Irrelevant-Features-and-the-Subset-Selection-John-Kohavi/a83bddb34618cc68f1014ca12eef7f537825d104)\n",
    "* [Curse of dimensionality](https://en.wikipedia.org/wiki/Curse_of_dimensionality)\n",
    "* [An Introduction to Feature Selection](https://machinelearningmastery.com/an-introduction-to-feature-selection/)\n",
    "* [Beginner's Guide to Feature Selection in Python](https://www.datacamp.com/community/tutorials/feature-selection-python)\n",
    "\n",
    "Хорошо, допустим, мы создали много, очень много новых фич. Что дальше?\n",
    "\n",
    "А дальше надо отобрать наиболее информативные из них. Отбор фич полезен по следующим причинам:\n",
    "1. Увеличивается скорость обучения модели.\n",
    "2. Увеличивается интерпретируемость модели.\n",
    "3. Уменьшается риск пререобучения модели.\n",
    "4. Увеличивается точность модели.\n",
    "5. Помогает ослабить «проклятие размерности». "
   ]
  },
  {
   "cell_type": "markdown",
   "metadata": {},
   "source": [
    "## Фильтрация\n",
    "[Applying Filter Methods in Python for Feature Selection](https://stackabuse.com/applying-filter-methods-in-python-for-feature-selection/)\n",
    "\n",
    "Отфильтровываем безполезные для модели признаки. Например, те, которые сильно скоррелированы или те, которые не нужны. Пример — удаление стоп слов в обработке естестенного языка.\n",
    "\n",
    "Это техики незатратные по времени выполнения, но они не принимают во внимание модель, поэтому есть риск удалить нужное.\n",
    "\n",
    "Они основаны на статистических методах и, как правило, рассматривают каждую фичу независимо. Позволяют оценить и ранжировать фичи по значимости, за которую принимается степень корреляции этой фичи с целевой переменной.\n",
    "\n",
    "**Плюсы**\n",
    "\n",
    "* Низкая стоимость вычислений, которая зависит линейно от общего количества фич. Они значительно быстрее и wrapper и embedded методов.\n",
    "* Хорошо работают даже тогда, когда число фич у нас превышает количество примеров в тренировочном сете (чем далеко не всегда могут похвастаться методы других категорий).\n",
    "\n",
    "**Минусы**\n",
    "* Не принимают во внимание модель, поэтому есть риск удалить нужное. Найти топ-N наиболее коррелирующих признаков вообще говоря не означает получить подмножество, на котором точность предсказания будет наивысшей. \n",
    "\n",
    "### Univariate Filter Methods\n",
    "Самый очевидный кандидат на отстрел – признак, у которого значение неизменно, т.е. не содержит вообще никакой информации. Если немного отойти от этого вырожденного случая, резонно предположить, что низковариативные признаки скорее хуже, чем высоковариативные. Так можно придти к идее отсекать признаки, дисперсия которых ниже определенной границы."
   ]
  },
  {
   "cell_type": "code",
   "execution_count": 18,
   "metadata": {
    "ExecuteTime": {
     "end_time": "2018-11-15T19:59:50.716911Z",
     "start_time": "2018-11-15T19:59:50.218948Z"
    }
   },
   "outputs": [],
   "source": [
    "from sklearn.feature_selection import VarianceThreshold"
   ]
  },
  {
   "cell_type": "markdown",
   "metadata": {},
   "source": [
    "Есть и [другие способы](https://scikit-learn.org/stable/modules/feature_selection.html#univariate-feature-selection), основанные на Informaition gain, chi-square test, mRmR."
   ]
  },
  {
   "cell_type": "markdown",
   "metadata": {},
   "source": [
    "## Wrapper methods\n",
    "[Applying Wrapper Methods in Python for Feature Selection](https://stackabuse.com/applying-wrapper-methods-in-python-for-feature-selection/)\n",
    "\n",
    "Суть этой категории методов в том, что классификатор запускается на разных подмножествах фич исходного тренировочного сета. После чего выбирается подмножество фич с наилучшими параметрами на обучающей выборке. А затем он тестируется на тестовом сете (тестовый сет не участвует в процессе выбора оптимального подмножества). \n",
    "\n",
    "\n",
    "\n",
    "**Плюсы**\n",
    "* Поскольку одновременно оценивается выборка фич, можно выявлять возможные взаимодействия между ними.\n",
    "* Позволяет найти сочетание признаков, которое лучше всего работает для конкретного алгоритма.\n",
    "\n",
    "**Минусы**\n",
    "* Высокий риск переобучения, когда количество наблюдений недостаточно.\n",
    "* Более ресурсоёмкий метод, чем фильтрация.\n",
    "![](https://upload.wikimedia.org/wikipedia/commons/0/04/Feature_selection_Wrapper_Method.png)\n",
    "\n",
    "###  Виды\n",
    "Есть три подхода в этом классе методов — методы включения (forward selection), исключения (backwards selection) фич и исчерпывающий метод (exhaustive feature selection).\n",
    "\n",
    "В методах включения на первом этапе производительность классификатора оценивается на каждом признаке. Признак, которая показывает наилучшие результаты, выбирается из всех признаком. На втором этапе эффективность первого признака проверяется в сочетании со всеми другими признаками. Выбирается комбинация двух признаком, обеспечивающих наилучшую производительность алгоритма. Процесс продолжается до тех пор, пока не будет выбрано определённое количество признаков."
   ]
  },
  {
   "cell_type": "markdown",
   "metadata": {},
   "source": [
    "Методы выключения начинают с подмножества равного исходному множеству фич, и из него постепенно удаляются фичи, с пересчетом классификатора каждый раз.\n",
    "\n",
    "Реализация методов включения и выключения доступна в библиотеке mlxtend."
   ]
  },
  {
   "cell_type": "code",
   "execution_count": null,
   "metadata": {},
   "outputs": [],
   "source": [
    "from sklearn.ensemble import RandomForestRegressor, RandomForestClassifier  \n",
    "from sklearn.metrics import roc_auc_score\n",
    "\n",
    "from mlxtend.feature_selection import SequentialFeatureSelector\n",
    "\n",
    "feature_selector = SequentialFeatureSelector(RandomForestClassifier(n_jobs=-1),  \n",
    "           k_features=15,\n",
    "           forward=True,\n",
    "           verbose=2,\n",
    "           scoring='roc_auc',\n",
    "           cv=4)"
   ]
  },
  {
   "cell_type": "markdown",
   "metadata": {},
   "source": [
    "При исчерпывающем выборе принзаков качество работы алгоритма машинного обучения оценивается по всем возможным сочетаниям признаков в наборе данных. Выбирается подмножество функций, обеспечивающее наилучшую производительность. Исчерпывающий алгоритм поиска является наиболее ресурсозатратным алгоритмом всех wrapper methods.\n",
    "\n",
    "Пример использования метода исчерпывающего выбора из библиотеки mlxtend:"
   ]
  },
  {
   "cell_type": "code",
   "execution_count": null,
   "metadata": {},
   "outputs": [],
   "source": [
    "from mlxtend.feature_selection import ExhaustiveFeatureSelector  \n",
    "from sklearn.ensemble import RandomForestRegressor, RandomForestClassifier  \n",
    "from sklearn.metrics import roc_auc_score\n",
    "\n",
    "feature_selector = ExhaustiveFeatureSelector(RandomForestClassifier(n_jobs=-1),  \n",
    "           min_features=2,\n",
    "           max_features=4,\n",
    "           scoring='roc_auc',\n",
    "           print_progress=True,\n",
    "           cv=2)"
   ]
  },
  {
   "cell_type": "markdown",
   "metadata": {},
   "source": [
    "## Embedded methods\n",
    "Встроенные методы позволяют не разделять отбор фич и обучение классификатора, а производят отбор внутри процесса расчета модели. К тому же эти алгоритмы требуют меньше вычислений, чем wrapper methods (хотя и больше, чем методы фильтрации).\n",
    "\n",
    "Основным методом из этой категории является регуляризация. Существуют различные ее разновидности, но основной принцип общий. Если рассмотреть работу классификатора без регуляризации, то она состоит в построении такой модели, которая наилучшим образом настроилась бы на предсказание всех точек тренировочного сета. Идея регуляризации в том, чтобы построить алгоритм минимизирующий не только ошибку, но и количество используемых переменных. "
   ]
  },
  {
   "cell_type": "markdown",
   "metadata": {},
   "source": [
    "## Отбор с использованием моделей\n",
    "\n",
    "Другой подход: использовать какую-то baseline модель для оценки признаков, при этом модель должна явно показывать важность использованных признаков. Обычно используются два типа моделей: какая-нибудь \"деревянная\" композиция (например, Random Forest) или линейная модель с Lasso регуляризацией, склонной обнулять веса слабых признаков. Логика интутивно понятна: если признаки явно бесполезны в простой модели, то не надо тянуть их и в более сложную."
   ]
  },
  {
   "cell_type": "markdown",
   "metadata": {},
   "source": [
    "# Automated Feature Engineering Using Deep Feature Synthesis \n",
    "\n",
    "* [Deep Feature Synthesis: Towards Automating Data Science Endeavors](http://featurelabs1.wpengine.com/wp-content/uploads/2017/12/DSAA_DSM_2015-1.pdf)\n",
    "* [Automated Feature Engineering in Python](https://towardsdatascience.com/automated-feature-engineering-in-python-99baf11cc219)\n",
    "* [Why Automated Feature Engineering Will Change the Way You Do Machine Learning](https://towardsdatascience.com/why-automated-feature-engineering-will-change-the-way-you-do-machine-learning-5c15bf188b96)\n",
    "* [Automated Feature Engineering in Python](https://towardsdatascience.com/automated-feature-engineering-in-python-99baf11cc219)\n",
    "* [Introduction to Automated Feature Engineering Using Deep Feature Synthesis (DFS)\n",
    "](https://heartbeat.fritz.ai/introduction-to-automated-feature-engineering-using-deep-feature-synthesis-dfs-3feb69a7c00b)\n",
    "* [Machine Learning with Kaggle: Feature Engineering](https://www.datacamp.com/community/tutorials/feature-engineering-kaggle)\n",
    "\n",
    "> [Featuretools](https://www.featuretools.com/)\n",
    ">\n",
    "> An open source python framework for automated feature engineering"
   ]
  },
  {
   "cell_type": "markdown",
   "metadata": {},
   "source": [
    "DFS - это метод автоматического извлечения признаков из реляционных данных. DFS совмещает несколько базовых функций аггрегации и трансформации, чтобы получить новый признак.\n",
    "\n",
    "Глубина признака - это просто количество функций, необходимых для создания признака. Признак, которая создан при помощи одного преобразования, будет иметь глубину 1 и т.д."
   ]
  },
  {
   "cell_type": "markdown",
   "metadata": {},
   "source": [
    "# Работа со специфическими данными\n",
    "\n",
    "## Текст\n",
    "Это мы проходили, так что вы мне и скажите:\n",
    "* В чем проблема извлечения признаков из текстовых данных?\n",
    "* Какие специфические этапы трансформации признаков существуют при работе с текстами?\n",
    "\n",
    "## Время\n",
    "[tsfresh — библиотека для автоматической генерации признаков из временных рядов](https://github.com/blue-yonder/tsfresh)\n",
    "* количество времени прошеднего с/до определенного момента, например праздников.\n",
    "* выделение сезонов, времен года, кварталов, дней недели\n",
    "* разделение времени на часы, минуты и секунды\n",
    "* преобразование времени в [радиальную ситему координат](https://habr.com/company/mailru/blog/346942/).\n",
    "\n",
    "## Географические координаты\n",
    "Подумаем сами.\n",
    "\n",
    "## Изображения\n",
    "Раньше существовало множество методов выделения признаков из изображений, а сейчас все в основном используют CNN."
   ]
  },
  {
   "cell_type": "markdown",
   "metadata": {},
   "source": [
    "# Самостоятельное задание\n",
    "\n",
    "Займите место >=15 в [соревновании](https://mlbootcamp.ru/round/15/tasks/) и получите автомат за курс. Займите  1 место и получите 400 000₽ впридачу.\n",
    "\n",
    "[Набор данных с соревнования](https://dropmefiles.com/fi36c) (не все данные)."
   ]
  },
  {
   "cell_type": "code",
   "execution_count": null,
   "metadata": {},
   "outputs": [],
   "source": []
  }
 ],
 "metadata": {
  "kernelspec": {
   "display_name": "Python 3",
   "language": "python",
   "name": "python3"
  },
  "language_info": {
   "codemirror_mode": {
    "name": "ipython",
    "version": 3
   },
   "file_extension": ".py",
   "mimetype": "text/x-python",
   "name": "python",
   "nbconvert_exporter": "python",
   "pygments_lexer": "ipython3",
   "version": "3.7.1"
  },
  "toc": {
   "nav_menu": {},
   "number_sections": true,
   "sideBar": true,
   "skip_h1_title": false,
   "toc_cell": false,
   "toc_position": {},
   "toc_section_display": "block",
   "toc_window_display": true
  },
  "varInspector": {
   "cols": {
    "lenName": 16,
    "lenType": 16,
    "lenVar": 40
   },
   "kernels_config": {
    "python": {
     "delete_cmd_postfix": "",
     "delete_cmd_prefix": "del ",
     "library": "var_list.py",
     "varRefreshCmd": "print(var_dic_list())"
    },
    "r": {
     "delete_cmd_postfix": ") ",
     "delete_cmd_prefix": "rm(",
     "library": "var_list.r",
     "varRefreshCmd": "cat(var_dic_list()) "
    }
   },
   "types_to_exclude": [
    "module",
    "function",
    "builtin_function_or_method",
    "instance",
    "_Feature"
   ],
   "window_display": false
  }
 },
 "nbformat": 4,
 "nbformat_minor": 2
}
