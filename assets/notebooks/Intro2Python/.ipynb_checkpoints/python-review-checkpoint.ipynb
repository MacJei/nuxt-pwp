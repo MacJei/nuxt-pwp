{
 "cells": [
  {
   "cell_type": "markdown",
   "metadata": {},
   "source": [
    "# Course Overview\n",
    "\n",
    "Hello, Aloha, As-salamu alaykum, Исәнмесез! Today we are starting our course [Data Analysis with Python](https://www.hse.ru/edu/courses/219916230). My name is Oleg Ngornyy and I will be your instructor during this course.\n",
    "\n",
    "Python is one of the most popular and rapidly developing programming languages. A clear syntax which facilitates learning and a plethora of built-in and third-party libraries made Python especially popular among academics and researchers of all kinds. Python has already been the first-choice language in Machine Learning and Data Science for a while, but as far as Social Sciences are becoming more digitally-oriented it is getting in demand by sociologists, economists, linguists, and other social researchers. This course is created for students who want to learn how to solve real-world data-related problems with Python programming environment but have no experience in programming. The course syllabus covers most of Python functionality from basics syntax to the modern libraries for machine learning and data analysis.\n",
    "\n",
    "There are folllowing intended learning outcomes from this course:\n",
    "* Being able to manage the complexity of the program using the techniques functional and object-oriented programming. \n",
    "* Being able to write Python programs covering basic need of data scientist, namely:\n",
    "    * Loading data from external sources (.txt, .csv, .json, .sav, etc.).\n",
    "    * Scrape data from the web.\n",
    "    * Data wrangling and processing.\n",
    "    * Data visualization.\n",
    "    * ML models building.\n",
    "\n",
    "The course consists of lectures, tests and labs. Test and labs will follow lectures. Tests and assignments constitutes 50% of final grade and final exam constitutes another 50%.\n",
    "\n",
    "\n",
    "## Course Content\n",
    "\n",
    "The first part of the course reviews the history of Python and discusses its strengths, weaknesses and features that make Python extremely useful for social scientists. It also covers the basic programming concepts such as variables, data types operators, functions, programming paradigms and errors handling. Moreover, it gives an introduction to the applied tools essential for every programmer such as packages, interactive shell, IDEs and version control systems.\n",
    "\n",
    "The second part of the course deeps into Python as a tool for data analysis. The primary focus here is on the specialized programming packages allowing to perform data analysis in a slick and easy way.\n",
    "\n",
    "The course consists of lectures, tests and labs. Test and labs will follow lectures."
   ]
  },
  {
   "cell_type": "markdown",
   "metadata": {
    "slideshow": {
     "slide_type": "slide"
    }
   },
   "source": [
    "# Some historacal facts about the Python\n",
    "\n",
    "## Fact #1\n",
    "Python was created by Guido van Rossum (https://www.zotero.org/ihun/items/itemKey/4IXGQNF9) at the end of 1980<sup>th</sup>. In December 1989, Van Rossum had been looking for a \"'hobby' programming project that would keep him occupied during the week around Christmas\" as his office was closed when he decided to write an interpreter for a \"new scripting language he had been thinking about lately: a descendant of ABC that would appeal to Unix/C hackers\".\n",
    "\n",
    "Guido entitled himself as Benevolent Dictator For Life, which means that he retain the final say in disputes or arguments within the community (https://www.zotero.org/ihun/items/itemKey/T6XMB6WN).\n",
    "\n",
    "<img src=\"img/guido.png\" width=\"500\">"
   ]
  },
  {
   "cell_type": "markdown",
   "metadata": {
    "slideshow": {
     "slide_type": "slide"
    }
   },
   "source": [
    "## Fact #2\n",
    "Python was inspired by ABC programming language, which developed for learning purposes. ABC programs are typically very compact, around a quarter to a fifth the size of the equivalent Pascal or C program. However, this is not at the cost of readability, on the contrary in fact (see the examples below).\n",
    "\n",
    "ABC is simple to learn due to the small number of types in the language (five). If you already know Pascal or something similar you can learn the whole language in an hour or so. It is easy to use because the data-types are very high-level."
   ]
  },
  {
   "cell_type": "code",
   "execution_count": null,
   "metadata": {},
   "outputs": [],
   "source": [
    "HOW TO RETURN words document:\n",
    "   PUT {} IN collection\n",
    "   FOR line IN document:\n",
    "      FOR word IN split line:\n",
    "         IF word not.in collection:\n",
    "            INSERT word IN collection\n",
    "   RETURN collection"
   ]
  },
  {
   "cell_type": "markdown",
   "metadata": {
    "slideshow": {
     "slide_type": "slide"
    }
   },
   "source": [
    "## Fact #3\n",
    "\n",
    "Guido van Rossum attributes choosing the name \"Python\" to \"being in a slightly irreverent mood (and a big fan of Monty Python's Flying Circus)\" (https://www.zotero.org/ihun/items/itemKey/A8JINX2Z).\n",
    "\n",
    "<img src=\"img/monty.jpg\" width=\"500\">"
   ]
  },
  {
   "cell_type": "markdown",
   "metadata": {
    "slideshow": {
     "slide_type": "slide"
    }
   },
   "source": [
    "## Fact #4\n",
    "\n",
    "Python has several incompatible versions — Python 2 and Python 3.\n",
    "\n",
    "<img src=\"img/pythons_fight.png\" width=\"500\">"
   ]
  },
  {
   "cell_type": "markdown",
   "metadata": {
    "slideshow": {
     "slide_type": "fragment"
    }
   },
   "source": [
    "# Features of Python\n",
    "\n",
    "## Python is a very high-level programming language\n",
    "\n",
    "A very high-level programming language (VHLL) is a programming language with a very high level of abstraction, used primarily as a professional programmer productivity tool. Very high-level programming languages are usually domain-specific languages, limited to a very specific application, purpose, or type of task, and they are often scripting languages (especially extension languages), controlling a specific environment. For this reason, very high-level programming languages are often referred to as goal-oriented programming languages (https://www.zotero.org/ihun/items/itemKey).\n",
    "\n",
    "<img src=\"img/high_level.png\" width=\"500\">"
   ]
  },
  {
   "cell_type": "markdown",
   "metadata": {
    "slideshow": {
     "slide_type": "slide"
    }
   },
   "source": [
    "## General purpose scripting language\n",
    "\n",
    "A scripting or script language is a programming language that supports scripts — programs written for a special run-time environment that automate the execution of tasks that could alternatively be executed one-by-one by a human operator (https://www.zotero.org/ihun/items/itemKey/BJ5I3CEW).\n",
    "\n",
    "A general-purpose programming language is a programming language designed to be used for writing software in the widest variety of application domains (a general-purpose language). A general-purpose programming language has this status because it does not include language constructs designed to be used within a specific application domain (https://www.zotero.org/ihun/items/itemKey/K6T5GIF5)."
   ]
  },
  {
   "cell_type": "markdown",
   "metadata": {
    "slideshow": {
     "slide_type": "slide"
    }
   },
   "source": [
    "## Interpreted language\n",
    "\n",
    "An interpreted language is a type of programming language for which most of its implementations execute instructions directly and freely, without previously compiling a program into machine-language instructions. The interpreter executes the program directly, translating each statement into a sequence of one or more subroutines, and then into another language (often machine code) (https://www.zotero.org/ihun/items/itemKey/X667YISK).\n",
    "\n",
    "In Python, the source is compiled into a much simpler form called [bytecode](https://en.wikipedia.org/wiki/Bytecode). These are instructions similar in spirit to CPU instructions, but instead of being executed by the CPU, they are executed by software called a virtual machine. \n",
    "\n",
    "<img src=\"img/interpreted.png\" width=\"800\">\n",
    "\n",
    "Here’s an example of a short Python function, and its bytecode (https://www.zotero.org/ihun/items/itemKey/CAZZKCIK):"
   ]
  },
  {
   "cell_type": "code",
   "execution_count": 1,
   "metadata": {},
   "outputs": [
    {
     "name": "stdout",
     "output_type": "stream",
     "text": [
      "  3           0 SETUP_LOOP              28 (to 30)\n",
      "              2 LOAD_GLOBAL              0 (range)\n",
      "              4 LOAD_FAST                0 (x)\n",
      "              6 CALL_FUNCTION            1\n",
      "              8 GET_ITER\n",
      "        >>   10 FOR_ITER                16 (to 28)\n",
      "             12 STORE_FAST               1 (i)\n",
      "\n",
      "  4          14 LOAD_GLOBAL              1 (print)\n",
      "             16 LOAD_CONST               1 (2)\n",
      "             18 LOAD_FAST                1 (i)\n",
      "             20 BINARY_MULTIPLY\n",
      "             22 CALL_FUNCTION            1\n",
      "             24 POP_TOP\n",
      "             26 JUMP_ABSOLUTE           10\n",
      "        >>   28 POP_BLOCK\n",
      "        >>   30 LOAD_CONST               0 (None)\n",
      "             32 RETURN_VALUE\n"
     ]
    }
   ],
   "source": [
    "import dis\n",
    "\n",
    "def example(x):\n",
    "    for i in range(x):\n",
    "        print(2 * i)\n",
    "\n",
    "dis.dis(example)"
   ]
  },
  {
   "cell_type": "markdown",
   "metadata": {
    "slideshow": {
     "slide_type": "slide"
    }
   },
   "source": [
    "## А также...\n",
    "* Динамически типизированный\n",
    "* Автоматическая сборка мусора\n",
    "* Мультипарадигмальный\n",
    "* Форматирование кода построено на отступах\n",
    "* Позволяет легко интегрировать в себя библиотеки на С/C++\n",
    "* Свободный\n",
    "* Широко используется в науке и машинном обучении\n"
   ]
  },
  {
   "cell_type": "markdown",
   "metadata": {
    "slideshow": {
     "slide_type": "slide"
    }
   },
   "source": [
    "# Studing materials\n",
    "\n",
    "* Documentation (https://www.zotero.org/ihun/items/itemKey/I3ANQMEK) and ([`help()`] function (https://docs.python.org/3/library/functions.html#help))\n",
    "* Online-course by Сoursera «Программирование на Python» (https://www.zotero.org/ihun/items/itemKey/WIGUFD6M) (I took many examples from this course).\n",
    "* Learning Python, 5th Edition Fifth Edition by Mark Lutz (https://www.zotero.org/ihun/items/itemKey/L3U2CJAL).\n",
    "* Тимофей Хирьянов. Алгоритмы и структуры данных на Python 3 (https://www.zotero.org/ihun/items/itemKey/KAIQUYQ3).\n",
    "\n",
    "Thousands of 'em, really."
   ]
  },
  {
   "cell_type": "markdown",
   "metadata": {
    "slideshow": {
     "slide_type": "slide"
    }
   },
   "source": [
    "## Среды разработки\n",
    "* Интерактивная консоль, IPython\n",
    "* Текстовые редакторы: Sublime Text, Atom, Notepad++, Vim\n",
    "* IDE: PyCharm, IDLE\n",
    "* Cреды разработки для научных вычислений: Jupyter, Rodeo"
   ]
  },
  {
   "cell_type": "markdown",
   "metadata": {
    "ExecuteTime": {
     "end_time": "2018-09-08T22:40:47.102275Z",
     "start_time": "2018-09-08T22:40:47.096644Z"
    },
    "slideshow": {
     "slide_type": "slide"
    }
   },
   "source": [
    "Для самостоятельного чтеня: [«Python выходит в лидеры»: кто и почему его использует](https://habr.com/company/it-grad/blog/418909/)"
   ]
  }
 ],
 "metadata": {
  "celltoolbar": "Slideshow",
  "hide_code_all_hidden": false,
  "kernelspec": {
   "display_name": "Python 3",
   "language": "python",
   "name": "python3"
  },
  "language_info": {
   "codemirror_mode": {
    "name": "ipython",
    "version": 3
   },
   "file_extension": ".py",
   "mimetype": "text/x-python",
   "name": "python",
   "nbconvert_exporter": "python",
   "pygments_lexer": "ipython3",
   "version": "3.7.1"
  },
  "toc": {
   "nav_menu": {},
   "number_sections": true,
   "sideBar": true,
   "skip_h1_title": false,
   "toc_cell": false,
   "toc_position": {},
   "toc_section_display": "block",
   "toc_window_display": true
  }
 },
 "nbformat": 4,
 "nbformat_minor": 2
}
