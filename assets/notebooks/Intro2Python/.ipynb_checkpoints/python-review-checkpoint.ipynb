{
 "cells": [
  {
   "cell_type": "markdown",
   "metadata": {},
   "source": [
    "## Course Overview\n",
    "\n",
    "Hello, Aloha, As-salamu alaykum, Исәнмесез! Today we are starting our course [Data Analysis with Python](https://www.hse.ru/edu/courses/219916230). My name is Oleg Nagornyy and I will be your instructor during this course.\n",
    "\n",
    "Python is one of the most popular and rapidly developing programming languages. A clear syntax which facilitates learning and a plethora of built-in and third-party libraries made Python especially popular among academics and researchers of all kinds. Python has already been the first-choice language in Machine Learning and Data Science for a while, but as far as Social Sciences are becoming more digitally-oriented it is getting in demand by sociologists, economists, linguists, and other social researchers. This course is created for students who want to learn how to solve real-world data-related problems with Python programming environment but have no experience in programming. The course syllabus covers most of Python functionality from basics syntax to the modern libraries for machine learning and data analysis.\n",
    "\n",
    "There are folllowing intended learning outcomes from this course:\n",
    "* Being able to manage the complexity of the program using the techniques functional and object-oriented programming. \n",
    "* Being able to write Python programs covering basic need of data scientist, namely:\n",
    "    * Loading data from external sources (.txt, .csv, .json, .sav, etc.).\n",
    "    * Scrape data from the web.\n",
    "    * Data wrangling and processing.\n",
    "    * Data visualization.\n",
    "    * ML models building.\n",
    "\n",
    "The course consists of lectures, tests and labs. Test and labs will follow lectures. Tests and assignments constitutes 50% of final grade and final exam constitutes another 50%.\n",
    "\n",
    "\n",
    "## Course Content\n",
    "\n",
    "The first part of the course reviews the history of Python and discusses its strengths, weaknesses and features that make Python extremely useful for social scientists. It also covers the basic programming concepts such as variables, data types operators, functions, programming paradigms and errors handling. Moreover, it gives an introduction to the applied tools essential for every programmer such as packages, interactive shell, IDEs and version control systems.\n",
    "\n",
    "The second part of the course deeps into Python as a tool for data analysis. The primary focus here is on the specialized programming packages allowing to perform data analysis in a slick and easy way.\n",
    "\n",
    "The course consists of lectures, tests and labs. Test and labs will follow lectures."
   ]
  },
  {
   "cell_type": "markdown",
   "metadata": {
    "slideshow": {
     "slide_type": "slide"
    }
   },
   "source": [
    "## Some historacal facts about the Python\n",
    "\n",
    "### Fact #1\n",
    "Python was created by Guido van Rossum (https://www.zotero.org/ihun/items/itemKey/4IXGQNF9) at the end of 1980<sup>th</sup>. In December 1989, Van Rossum had been looking for a \"'hobby' programming project that would keep him occupied during the week around Christmas\" as his office was closed when he decided to write an interpreter for a \"new scripting language he had been thinking about lately: a descendant of ABC that would appeal to Unix/C hackers\".\n",
    "\n",
    "Guido entitled himself as Benevolent Dictator For Life, which means that he retain the final say in disputes or arguments within the community (https://www.zotero.org/ihun/items/itemKey/T6XMB6WN).\n",
    "\n",
    "<img src=\"img/guido.jpg\" width=\"500\">"
   ]
  },
  {
   "cell_type": "markdown",
   "metadata": {
    "slideshow": {
     "slide_type": "slide"
    }
   },
   "source": [
    "### Fact #2\n",
    "Python was inspired by ABC programming language, which developed for learning purposes. ABC programs are typically very compact, around a quarter to a fifth the size of the equivalent Pascal or C program. However, this is not at the cost of readability, on the contrary in fact (see the examples below).\n",
    "\n",
    "ABC is simple to learn due to the small number of types in the language (five). If you already know Pascal or something similar you can learn the whole language in an hour or so. It is easy to use because the data-types are very high-level."
   ]
  },
  {
   "cell_type": "code",
   "execution_count": null,
   "metadata": {},
   "outputs": [],
   "source": [
    "HOW TO RETURN words document:\n",
    "   PUT {} IN collection\n",
    "   FOR line IN document:\n",
    "      FOR word IN split line:\n",
    "         IF word not.in collection:\n",
    "            INSERT word IN collection\n",
    "   RETURN collection"
   ]
  },
  {
   "cell_type": "markdown",
   "metadata": {
    "slideshow": {
     "slide_type": "slide"
    }
   },
   "source": [
    "### Fact #3\n",
    "\n",
    "Guido van Rossum attributes choosing the name \"Python\" to \"being in a slightly irreverent mood (and a big fan of Monty Python's Flying Circus)\" (https://www.zotero.org/ihun/items/itemKey/A8JINX2Z).\n",
    "\n",
    "<img src=\"img/monty.jpg\" width=\"500\">"
   ]
  },
  {
   "cell_type": "markdown",
   "metadata": {
    "slideshow": {
     "slide_type": "slide"
    }
   },
   "source": [
    "### Fact #4\n",
    "\n",
    "Python has several incompatible versions — Python 2 and Python 3.\n",
    "\n",
    "<img src=\"img/pythons_fight.jpg\" width=\"500\">"
   ]
  },
  {
   "cell_type": "markdown",
   "metadata": {
    "slideshow": {
     "slide_type": "fragment"
    }
   },
   "source": [
    "## Features of Python\n",
    "\n",
    "### Very high-level programming language\n",
    "\n",
    "A very high-level programming language (VHLL) is a programming language with a very high level of abstraction, used primarily as a professional programmer productivity tool. Very high-level programming languages are usually domain-specific languages, limited to a very specific application, purpose, or type of task, and they are often scripting languages (especially extension languages), controlling a specific environment. For this reason, very high-level programming languages are often referred to as goal-oriented programming languages (https://www.zotero.org/ihun/items/itemKey).\n",
    "\n",
    "<img src=\"img/high_level.png\" width=\"500\">"
   ]
  },
  {
   "cell_type": "markdown",
   "metadata": {
    "slideshow": {
     "slide_type": "slide"
    }
   },
   "source": [
    "### General purpose scripting language\n",
    "\n",
    "A scripting or script language is a programming language that supports scripts — programs written for a special run-time environment that automate the execution of tasks that could alternatively be executed one-by-one by a human operator (https://www.zotero.org/ihun/items/itemKey/BJ5I3CEW).\n",
    "\n",
    "A general-purpose programming language is a programming language designed to be used for writing software in the widest variety of application domains (a general-purpose language). A general-purpose programming language has this status because it does not include language constructs designed to be used within a specific application domain (https://www.zotero.org/ihun/items/itemKey/K6T5GIF5)."
   ]
  },
  {
   "cell_type": "markdown",
   "metadata": {
    "slideshow": {
     "slide_type": "slide"
    }
   },
   "source": [
    "### Interpreted language\n",
    "\n",
    "An interpreted language is a type of programming language for which most of its implementations execute instructions directly and freely, without previously compiling a program into machine-language instructions. The interpreter executes the program directly, translating each statement into a sequence of one or more subroutines, and then into another language (often machine code) (https://www.zotero.org/ihun/items/itemKey/X667YISK).\n",
    "\n",
    "In Python, the source is compiled into a much simpler form called [bytecode](https://en.wikipedia.org/wiki/Bytecode ). These are instructions similar in spirit to CPU instructions, but instead of being executed by the CPU, they are executed by software called a virtual machine (https://www.zotero.org/ihun/items/itemKey/CAZZKCIK). \n",
    "\n",
    "<img src=\"img/interpreted.png\" width=\"800\">"
   ]
  },
  {
   "cell_type": "markdown",
   "metadata": {
    "slideshow": {
     "slide_type": "slide"
    }
   },
   "source": [
    "## And more...\n",
    "* [Dynamic typed](https://en.wikipedia.org/wiki/Type_system#Static_and_dynamic_type_checking_in_practice);\n",
    "* [Multi-paradigm](https://en.wikipedia.org/wiki/Comparison_of_multi-paradigm_programming_languages);\n",
    "* [With automitic garbage collector](https://rushter.com/blog/python-garbage-collector/)\n",
    "* [Indent-based](https://en.wikipedia.org/wiki/Off-side_rule);\n",
    "* [Allows easiliy extend functionality with С/C++ libraries](https://docs.python.org/3/extending/extending.html)\n",
    "* [Free and open sourced](https://docs.python.org/3/license.html)\n",
    "* Python has a solid claim to being the fastest-growing major programming language (https://www.zotero.org/ihun/items/itemKey/HK8LIRTE).\n"
   ]
  },
  {
   "cell_type": "markdown",
   "metadata": {
    "slideshow": {
     "slide_type": "slide"
    }
   },
   "source": [
    "## Studing materials\n",
    "\n",
    "* Documentation (https://www.zotero.org/ihun/items/itemKey/I3ANQMEK) and ([`help()`] function (https://docs.python.org/3/library/functions.html#help))\n",
    "* Online-course by Сoursera «Программирование на Python» (https://www.zotero.org/ihun/items/itemKey/WIGUFD6M) (I took many examples from this course).\n",
    "* Learning Python, 5th Edition Fifth Edition by Mark Lutz (https://www.zotero.org/ihun/items/itemKey/L3U2CJAL).\n",
    "* Тимофей Хирьянов. Алгоритмы и структуры данных на Python 3 (https://www.zotero.org/ihun/items/itemKey/KAIQUYQ3).\n",
    "\n",
    "Thousands of 'em, really."
   ]
  },
  {
   "cell_type": "markdown",
   "metadata": {
    "slideshow": {
     "slide_type": "slide"
    }
   },
   "source": [
    "## Programming enviroments\n",
    "* Text editors: Sublime text (my choice), Atom, Notepad++, Vim...\n",
    "* Interactive console, IPython.\n",
    "* IDEs: PyCharm (most advanced IDE), IDLE.\n",
    "* Enviroments for researchers: Jupyter, Rodeo."
   ]
  }
 ],
 "metadata": {
  "celltoolbar": "Slideshow",
  "hide_code_all_hidden": false,
  "kernelspec": {
   "display_name": "Python 3",
   "language": "python",
   "name": "python3"
  },
  "language_info": {
   "codemirror_mode": {
    "name": "ipython",
    "version": 3
   },
   "file_extension": ".py",
   "mimetype": "text/x-python",
   "name": "python",
   "nbconvert_exporter": "python",
   "pygments_lexer": "ipython3",
   "version": "3.7.1"
  },
  "toc": {
   "nav_menu": {},
   "number_sections": true,
   "sideBar": true,
   "skip_h1_title": false,
   "toc_cell": false,
   "toc_position": {},
   "toc_section_display": "block",
   "toc_window_display": true
  }
 },
 "nbformat": 4,
 "nbformat_minor": 2
}
