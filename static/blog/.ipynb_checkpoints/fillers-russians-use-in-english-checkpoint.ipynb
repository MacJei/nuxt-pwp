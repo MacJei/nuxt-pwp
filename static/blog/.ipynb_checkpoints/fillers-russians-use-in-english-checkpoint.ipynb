{
 "cells": [
  {
   "cell_type": "markdown",
   "metadata": {},
   "source": [
    "Как бы хорошо русскоязычный не говорил на английском, его выдаёт обильное употребление слов-паразитов. Причем, чем лучше он говорит, тем больше всяких «like», «well», «yeah» и т.п. он употребляет, поскольку, видимо, пытается продемонстрировать непринуждённость владения языком. Это очень раздражает, и мне приятнее слушать того, кто честно пытается говорит правильно, хоть и выходит коряво, чет того, что может говорить правильно, но вы выходит коряво."
   ]
  }
 ],
 "metadata": {
  "kernelspec": {
   "display_name": "Python 3",
   "language": "python",
   "name": "python3"
  },
  "language_info": {
   "codemirror_mode": {
    "name": "ipython",
    "version": 3
   },
   "file_extension": ".py",
   "mimetype": "text/x-python",
   "name": "python",
   "nbconvert_exporter": "python",
   "pygments_lexer": "ipython3",
   "version": "3.7.1"
  }
 },
 "nbformat": 4,
 "nbformat_minor": 2
}
