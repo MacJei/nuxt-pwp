{
 "cells": [
  {
   "cell_type": "markdown",
   "metadata": {},
   "source": [
    "Здравствуйте!\n",
    "\n",
    "Экзамен состит из двух основных частей. В первой части необходимо сделать простой препроцессинг и произвести разведывательный анализ данных.\n",
    "\n",
    "Во второй части у Вас будет выбор между двумя вариантами: Вы можете провести регрессионный анализ данных или заняться обработкой естественного языка и построением классификатора текстов."
   ]
  },
  {
   "cell_type": "markdown",
   "metadata": {},
   "source": [
    "## Задание по базе wine\n",
    "* Загрузка и разведывательный анализ\n",
    "\t* Загрузите данные ([скачать](https://nagornyy.me/datasets/wine_reviews.csv)).\n",
    "\t* Посчитайте размерность данных.\n",
    "\t* Посчитайте количество пропущенных значений в каждой переменной.\n",
    "\t* Выведите тип данных каждой переменной. Переконвертируйте при необходимости.\n",
    "    * Вина какой области (`province`) получают наилучшие рейтинги? \n",
    "\t* На основе словаря `color` оздайте переменную, в которой закодирован цвет вина.\n",
    "    * Удалите наблюдения для которых цвет (`color`) не указан.\n",
    "\t* Визуализируйте распределения числовых переменных.\n",
    "\t* Для каждой страны рассчитайте долю каждого вида вина. В какой стране доля белого вина наибольшая, а в какой красного? (Нужен ответ вида: в стране А наибольшая доля белого вина, а в стране B — красного.\n",
    "\t* Разделите выборку на обучающую и тестовую. \n",
    "\n",
    "* Регрессионная модель\n",
    "\t* На обучающей выборке постройте регрессионную модель, показывающую зависимость между баллом (зависимая переменная) и ценой. Визуализируйте эту зависимость. На сколько изменяется оценка при изменении цены на одну условную единицу?\n",
    "\t* Оцените качество модели на основе предсказаний по тестовой выборке по помощи стандартных метрик качества для регрессионных моделей.\n",
    "\t* Добавьте в модель переменную, в которой закодирован цвет вина. Как изменилось качество?\n",
    "\n",
    "* ИЛИ Классификация текстов\n",
    "\t* Сделайте препроцессинг текстов в поле `description` (токенизацию, стемминг или лемматизацию, удаление стоп-слов).\n",
    "\t* На обучающей выборке постройте модель классификации текста, которая бы классифицировала вина по цвету на основе текстов из описания.\n",
    "\t* Оцените качество работы модели по помощи стандартных метрик качества для алгоритмов классификации.\n",
    "Использование автоматических методов подбора параметров (Grid Search) не обязательно, но в случае наличия — зачтётся.\n",
    "\n",
    "**Указывайте в коде, какой пункт начали выполнять.**"
   ]
  },
  {
   "cell_type": "code",
   "execution_count": 15,
   "metadata": {
    "ExecuteTime": {
     "end_time": "2017-12-19T23:29:22.059118Z",
     "start_time": "2017-12-19T23:29:22.041559Z"
    }
   },
   "outputs": [],
   "source": [
    "color = {\n",
    "    \"Chardonnay\": \"white\",\n",
    "    \"Pinot Noir\": \"red\",\n",
    "    \"Cabernet Sauvignon\": \"red\",\n",
    "    \"Red Blend\": \"red\",\n",
    "    \"Bordeaux-style Red Blend\": \"red\",\n",
    "    \"Sauvignon Blanc\": \"white\",\n",
    "    \"Syrah\": \"red\",\n",
    "    \"Riesling\": \"white\",\n",
    "    \"Merlot\": \"red\",\n",
    "    \"Zinfandel\": \"red\",\n",
    "    \"Sangiovese\": \"red\",\n",
    "    \"Malbec\": \"red\",\n",
    "    \"White Blend\": \"white\",\n",
    "    \"Rosé\": \"other\",\n",
    "    \"Tempranillo\": \"red\",\n",
    "    \"Nebbiolo\": \"red\",\n",
    "    \"Portuguese Red\": \"red\",\n",
    "    \"Sparkling Blend\": \"other\",\n",
    "    \"Shiraz\": \"red\",\n",
    "    \"Corvina, Rondinella, Molinara\": \"red\",\n",
    "    \"Rhône-style Red Blend\": \"red\",\n",
    "    \"Barbera\": \"red\",\n",
    "    \"Pinot Gris\": \"white\",\n",
    "    \"Viognier\": \"white\",\n",
    "    \"Bordeaux-style White Blend\": \"white\",\n",
    "    \"Champagne Blend\": \"other\",\n",
    "    \"Port\": \"red\",\n",
    "    \"Grüner Veltliner\": \"white\",\n",
    "    \"Gewürztraminer\": \"white\",\n",
    "    \"Portuguese White\": \"white\",\n",
    "    \"Petite Sirah\": \"red\",\n",
    "    \"Carmenère\": \"red\"\n",
    "}"
   ]
  }
 ],
 "metadata": {
  "kernelspec": {
   "display_name": "Python 3",
   "language": "python",
   "name": "python3"
  },
  "language_info": {
   "codemirror_mode": {
    "name": "ipython",
    "version": 3
   },
   "file_extension": ".py",
   "mimetype": "text/x-python",
   "name": "python",
   "nbconvert_exporter": "python",
   "pygments_lexer": "ipython3",
   "version": "3.7.1"
  },
  "toc": {
   "nav_menu": {},
   "number_sections": true,
   "sideBar": true,
   "skip_h1_title": false,
   "toc_cell": false,
   "toc_position": {},
   "toc_section_display": "block",
   "toc_window_display": false
  },
  "varInspector": {
   "cols": {
    "lenName": 16,
    "lenType": 16,
    "lenVar": 40
   },
   "kernels_config": {
    "python": {
     "delete_cmd_postfix": "",
     "delete_cmd_prefix": "del ",
     "library": "var_list.py",
     "varRefreshCmd": "print(var_dic_list())"
    },
    "r": {
     "delete_cmd_postfix": ") ",
     "delete_cmd_prefix": "rm(",
     "library": "var_list.r",
     "varRefreshCmd": "cat(var_dic_list()) "
    }
   },
   "types_to_exclude": [
    "module",
    "function",
    "builtin_function_or_method",
    "instance",
    "_Feature"
   ],
   "window_display": false
  }
 },
 "nbformat": 4,
 "nbformat_minor": 2
}
