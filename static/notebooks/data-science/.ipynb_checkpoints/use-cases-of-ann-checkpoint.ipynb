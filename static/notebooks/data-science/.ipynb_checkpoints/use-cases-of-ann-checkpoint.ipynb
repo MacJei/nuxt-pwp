{
 "cells": [
  {
   "cell_type": "code",
   "execution_count": null,
   "metadata": {},
   "outputs": [],
   "source": [
    "Today we are starting to study neural networks. This is the most discussed technology of the last six years, and, admittedly, this hype around them rose for a reason. Neural networks really allow you to do absolutely crazy things, which even fiction writers of the past did not think much about. Did you heard about DanceNet (https://www.zotero.org/ihun/items/itemKey/VGRGEELV), which creates dances which had not existed before?\n",
    "<div class=\"note\"><img src=\"img/dance-net.gif\"></div>\n",
    "\n",
    "The next video is my favorite one. Authors of the paper Everybody Dance Now (https://www.zotero.org/ihun/items/itemKey/QAA8EUND) при помощи технологии переноса движений заставили танцевать людей на видео, копируя движения профессиональных танцоров. Я уже некоторое время вынашиваю идеи запустить эту штуку на видео со своим начальством, но никак не доходят руки.\n",
    "\n",
    "<div class=\"embed-responsive embed-responsive-21by9\">\n",
    "  <iframe class=\"embed-responsive-item\" height=\"auto\" src=\"https://www.youtube.com/embed/PCBTZh41Ris\" allow=\"accelerometer; autoplay; encrypted-media; gyroscope; picture-in-picture\" allowfullscreen=\"\"></iframe>\n",
    "</div>\n",
    "\n",
    "Причем необязательно быть ученым, чтобы использовать всю эту мощь. Вот (https://www.zotero.org/ihun/items/itemKey/8NGCSTBG), например программист задался целью за пару недель запрограммировать нейронную сеть, которая бы писала тексты в стиле Оксимирона, использую в качестве основы любые другие тексты. По-моему, получилось довольно неплохо:\n",
    "\n",
    "```\n",
    "процессуальным устоем\n",
    "за всё это высшее движимый дом\n",
    "тем временем роскошь едва создающих и этим\n",
    "минуя преступника миссия в том\n",
    "на каждого в нём\n",
    "\n",
    "дача продажи в процессе\n",
    "но я на главой и ниже\n",
    "ладони и буквы в запасе\n",
    "города в производственной базе\n",
    "\n",
    "где вахтой коптящих дорогу из государственного в невозможности\n",
    "будто жаль не до старости\n",
    "высших сил справедливости\n",
    "мне ход тусклой законности\n",
    "чем от нефти стабильности\n",
    "\n",
    "и не ебу я как за кадром по закону как\n",
    "но моё время брак\n",
    "высшее лишь текст ебу мой срам документальный враг\n",
    "ё\n",
    "```\n",
    "Ё, брат."
   ]
  }
 ],
 "metadata": {
  "kernelspec": {
   "display_name": "Python 3",
   "language": "python",
   "name": "python3"
  },
  "language_info": {
   "codemirror_mode": {
    "name": "ipython",
    "version": 3
   },
   "file_extension": ".py",
   "mimetype": "text/x-python",
   "name": "python",
   "nbconvert_exporter": "python",
   "pygments_lexer": "ipython3",
   "version": "3.7.1"
  }
 },
 "nbformat": 4,
 "nbformat_minor": 2
}
