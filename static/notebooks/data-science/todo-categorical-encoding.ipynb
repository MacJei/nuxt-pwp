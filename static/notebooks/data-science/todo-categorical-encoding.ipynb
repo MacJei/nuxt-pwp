{
 "cells": [
  {
   "cell_type": "markdown",
   "metadata": {},
   "source": [
    "# Кодирование категориальных признаки для регрессионной модели\n",
    "\n",
    "Регрессионные модели, как и большинство других, требуют особого внимания к кодированию категориальных признаков. Категориальные или номинальные признаки отличаются тем, что между ними ними можно только лишь установить отношения равенства/неравенства, а вот даже упорядочить уже нельзя, не говоря о том, чтобы установить количественные отношения во сколько меньше/во сколько больше. Примерами данных такого типа являются города, цвета, товарные категории и многое другое. Упорядоченные типы данных, такие как уровень образования также иногда кодируют как категориальные.\n",
    "\n",
    "Проблема с признаками такого типа заключается в том, что все модели работают с матрицами чисел, и, следовательно, для того, чтобы скормить им изначательно нечисловые признаки, необходимо преобразовать из в числовую форму. Самый простой способ сделать это -- соотнести с каждой категорией некоторое число, которое будет использоваться вместо неё. Этот способ кодирования номинальных признаков называется *label encoding*.\n",
    "\n",
    "Однако такой способ имеет очевидный недостаток -- перекодировав категории таким образом, мы определили для них целый ряд операций, свойственных для чисел: сравнение, сложение, умножение. Предположим, мы решили таким образом закодировать переменную \"пол\": 1 -- мужчина, 2 -- женщина, 3 -- не определён. Тогда в результате этого кодирования мы получим равенство мужчина + женщина = неопределённый пол, что, возможно, и можно считать истиной, но вот представить, как из двух мужчин можно получить одну женщину, уже сложнее."
   ]
  },
  {
   "cell_type": "code",
   "execution_count": 46,
   "metadata": {},
   "outputs": [
    {
     "data": {
      "text/html": [
       "<div>\n",
       "<style scoped>\n",
       "    .dataframe tbody tr th:only-of-type {\n",
       "        vertical-align: middle;\n",
       "    }\n",
       "\n",
       "    .dataframe tbody tr th {\n",
       "        vertical-align: top;\n",
       "    }\n",
       "\n",
       "    .dataframe thead th {\n",
       "        text-align: right;\n",
       "    }\n",
       "</style>\n",
       "<table border=\"1\" class=\"dataframe\">\n",
       "  <thead>\n",
       "    <tr style=\"text-align: right;\">\n",
       "      <th></th>\n",
       "      <th>Sex</th>\n",
       "      <th>LabelEncoding</th>\n",
       "    </tr>\n",
       "  </thead>\n",
       "  <tbody>\n",
       "    <tr>\n",
       "      <th>0</th>\n",
       "      <td>M</td>\n",
       "      <td>1</td>\n",
       "    </tr>\n",
       "    <tr>\n",
       "      <th>1</th>\n",
       "      <td>F</td>\n",
       "      <td>2</td>\n",
       "    </tr>\n",
       "    <tr>\n",
       "      <th>2</th>\n",
       "      <td>F</td>\n",
       "      <td>2</td>\n",
       "    </tr>\n",
       "    <tr>\n",
       "      <th>3</th>\n",
       "      <td>M</td>\n",
       "      <td>1</td>\n",
       "    </tr>\n",
       "    <tr>\n",
       "      <th>4</th>\n",
       "      <td>U</td>\n",
       "      <td>3</td>\n",
       "    </tr>\n",
       "  </tbody>\n",
       "</table>\n",
       "</div>"
      ],
      "text/plain": [
       "  Sex  LabelEncoding\n",
       "0   M              1\n",
       "1   F              2\n",
       "2   F              2\n",
       "3   M              1\n",
       "4   U              3"
      ]
     },
     "execution_count": 46,
     "metadata": {},
     "output_type": "execute_result"
    }
   ],
   "source": [
    "df = pd.DataFrame({\n",
    "    \"Sex\": [\"M\", \"F\", \"F\", \"M\", \"U\"],\n",
    "    \"LabelEncoding\": [1, 2, 2, 1, 3]\n",
    "    \n",
    "})\n",
    "df"
   ]
  },
  {
   "cell_type": "markdown",
   "metadata": {},
   "source": [
    "По этой причине для кодирования категориальных переменных чаще всего используется техника под названием one-hot-encoding, при которой для каждой категории создаётся отдельный признк, где он кодируется как бинарный. Такие новые признаки называются фиктивными переменными (dummies). Для их создания в pandas имеется функция под названием `get_dummies`, а в scikit-learn класс [`OneHotEncoder`](https://scikit-learn.org/0.22/modules/generated/sklearn.preprocessing.OneHotEncoder.html#sklearn.preprocessing.OneHotEncoder)"
   ]
  },
  {
   "cell_type": "code",
   "execution_count": 47,
   "metadata": {},
   "outputs": [
    {
     "data": {
      "text/html": [
       "<div>\n",
       "<style scoped>\n",
       "    .dataframe tbody tr th:only-of-type {\n",
       "        vertical-align: middle;\n",
       "    }\n",
       "\n",
       "    .dataframe tbody tr th {\n",
       "        vertical-align: top;\n",
       "    }\n",
       "\n",
       "    .dataframe thead th {\n",
       "        text-align: right;\n",
       "    }\n",
       "</style>\n",
       "<table border=\"1\" class=\"dataframe\">\n",
       "  <thead>\n",
       "    <tr style=\"text-align: right;\">\n",
       "      <th></th>\n",
       "      <th>F</th>\n",
       "      <th>M</th>\n",
       "      <th>U</th>\n",
       "    </tr>\n",
       "  </thead>\n",
       "  <tbody>\n",
       "    <tr>\n",
       "      <th>0</th>\n",
       "      <td>0</td>\n",
       "      <td>1</td>\n",
       "      <td>0</td>\n",
       "    </tr>\n",
       "    <tr>\n",
       "      <th>1</th>\n",
       "      <td>1</td>\n",
       "      <td>0</td>\n",
       "      <td>0</td>\n",
       "    </tr>\n",
       "    <tr>\n",
       "      <th>2</th>\n",
       "      <td>1</td>\n",
       "      <td>0</td>\n",
       "      <td>0</td>\n",
       "    </tr>\n",
       "    <tr>\n",
       "      <th>3</th>\n",
       "      <td>0</td>\n",
       "      <td>1</td>\n",
       "      <td>0</td>\n",
       "    </tr>\n",
       "    <tr>\n",
       "      <th>4</th>\n",
       "      <td>0</td>\n",
       "      <td>0</td>\n",
       "      <td>1</td>\n",
       "    </tr>\n",
       "  </tbody>\n",
       "</table>\n",
       "</div>"
      ],
      "text/plain": [
       "   F  M  U\n",
       "0  0  1  0\n",
       "1  1  0  0\n",
       "2  1  0  0\n",
       "3  0  1  0\n",
       "4  0  0  1"
      ]
     },
     "execution_count": 47,
     "metadata": {},
     "output_type": "execute_result"
    }
   ],
   "source": [
    "pd.get_dummies(df.Sex)"
   ]
  },
  {
   "cell_type": "markdown",
   "metadata": {},
   "source": [
    "https://www.youtube.com/watch?v=tZuUNMwWhOU"
   ]
  },
  {
   "cell_type": "markdown",
   "metadata": {},
   "source": [
    "С one-hot-encoding, применительно к регрессионной модели так же есть одна проблема -- выделив по столбцу для каждой категории мы, на самом деле, создали больше признаков, чем на в действительности необходимо."
   ]
  },
  {
   "cell_type": "markdown",
   "metadata": {},
   "source": [
    "## Категориальные переменные в решающих деревьях"
   ]
  }
 ],
 "metadata": {
  "kernelspec": {
   "display_name": "Python 3",
   "language": "python",
   "name": "python3"
  },
  "language_info": {
   "codemirror_mode": {
    "name": "ipython",
    "version": 3
   },
   "file_extension": ".py",
   "mimetype": "text/x-python",
   "name": "python",
   "nbconvert_exporter": "python",
   "pygments_lexer": "ipython3",
   "version": "3.6.9"
  }
 },
 "nbformat": 4,
 "nbformat_minor": 4
}
