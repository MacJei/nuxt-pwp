{
 "cells": [
  {
   "cell_type": "markdown",
   "metadata": {},
   "source": [
    "## Посчитать пропущенные значения\n",
    "Subtract the count of the non-NULL ticker values from the total number of rows; alias the difference as missing."
   ]
  },
  {
   "cell_type": "code",
   "execution_count": null,
   "metadata": {
    "language": "sql"
   },
   "outputs": [],
   "source": [
    "SELECT COUNT(*) - COUNT(ticker) AS missing\n",
    "  FROM fortune500;"
   ]
  },
  {
   "cell_type": "code",
   "execution_count": null,
   "metadata": {
    "language": "sql"
   },
   "outputs": [],
   "source": [
    "WHERE\n",
    "    IncidentState IS NOT NULL"
   ]
  },
  {
   "cell_type": "markdown",
   "metadata": {},
   "source": [
    "## Imputing missing values\n",
    "Write a T-SQL query which only returns rows where IncidentState is missing.\n",
    "Replace all the missing values in the IncidentState column with the values in the City column and name this new column Location."
   ]
  },
  {
   "cell_type": "code",
   "execution_count": null,
   "metadata": {
    "language": "sql"
   },
   "outputs": [],
   "source": [
    "SELECT IncidentState, ISNULL(IncidentState, City) AS Location\n",
    "FROM Incidents\n",
    "WHERE IncidentState IS NULL"
   ]
  },
  {
   "cell_type": "raw",
   "metadata": {},
   "source": [
    "What if you want to replace missing values in one column with another and want to check the replacement column to make sure it doesn't have any missing values? To do that you need to use the COALESCE statement.\n",
    "\n",
    "SELECT Shape, City, COALESCE(Shape, City, 'Unknown') as NewShape\n",
    "FROM Incidents\n",
    "\n",
    "+----------------+-----------+-------------+\n",
    "| Shape          |  City     |  NewShape   |\n",
    "+----------------+-----------+-------------+\n",
    "| NULL           | Orb       | Orb         |\n",
    "| Triangle       | Toledo    | Triangle    |\n",
    "| NULL           | NULL      | Unknown     | \n",
    "+----------------+-----------+-------------+"
   ]
  },
  {
   "cell_type": "raw",
   "metadata": {},
   "source": [
    "Suppose you want to calculate the number of years between two different dates, DateOne and DateTwo. Which SQL statement would you use to perform that calculation?\n",
    "\n",
    "SELECT DATEDIFF(YYYY, DateOne, DateTwo)\n",
    "\n",
    "-- Return the DeliveryDate as 5 days after the ShipDate\n",
    "SELECT OrderDate, \n",
    "       DATEADD(DD, 5, ShipDate) AS DeliveryDate\n",
    "FROM Shipments"
   ]
  },
  {
   "cell_type": "raw",
   "metadata": {},
   "source": [
    "SELECT a.RecordId, a.Age, a.BloodGlucoseRandom, \n",
    "-- Maximum Glucose value from the derived table        \n",
    "       b.MaxGlucose\n",
    "FROM Kidney a\n",
    "-- Derived table\n",
    "JOIN (SELECT Age, MAX(BloodGlucoseRandom) AS MaxGlucose FROM Kidney GROUP BY Age) b\n",
    "-- Join on Age\n",
    "ON a.AGE = b.AGE\n",
    "\n",
    "RecordId\tAge\tBloodGlucoseRandom\tMaxGlucose\n",
    "29\t0\t93\t220\n",
    "71\t0\t129\t220\n",
    "109\t0\t0\t220\n",
    "29\t0\t104\t220\n",
    "113\t0\t219\t220\n",
    "29\t0\t220\t220\n",
    "178\t0\t110\t220\n",
    "190\t0\t207\t220\n",
    "251\t0\t100\t220\n",
    "201\t2\t0\t0\n",
    "174\t3\t0\t0\n",
    "172\t4\t99\t99"
   ]
  },
  {
   "cell_type": "raw",
   "metadata": {},
   "source": [
    "In this exercise, you will use a CTE to return all the ages with the maximum BloodGlucoseRandom in the table.\n",
    "\n",
    "-- Create the CTE\n",
    "WITH BloodGlucoseRandom (MaxGlucose) \n",
    "AS (SELECT MAX(BloodGlucoseRandom) AS MaxGlucose FROM Kidney)\n",
    "\n",
    "SELECT a.Age, b.MaxGlucose\n",
    "FROM Kidney a\n",
    "-- Join the CTE  \n",
    "JOIN BloodGlucoseRandom b\n",
    "ON b.MaxGlucose = a.BloodGlucoseRandom"
   ]
  },
  {
   "cell_type": "markdown",
   "metadata": {},
   "source": [
    "## Биннинг в SQL\n",
    "\n",
    "Техника основывается на использовании операторов больше-меньше в JOIN.\n",
    "* https://mode.com/sql-tutorial/sql-join-comparison-operators/"
   ]
  },
  {
   "cell_type": "raw",
   "metadata": {},
   "source": [
    "-- Bins created in previous step\n",
    "WITH bins AS (\n",
    "      SELECT generate_series(2200, 3050, 50) AS lower,\n",
    "             generate_series(2250, 3100, 50) AS upper),\n",
    "     -- subset stackoverflow to just tag dropbox\n",
    "     dropbox AS (\n",
    "      SELECT question_count \n",
    "        FROM stackoverflow\n",
    "       WHERE tag='dropbox') \n",
    "-- select lower, upper, and count(*)\n",
    "SELECT lower, upper, COUNT(*)\n",
    "  -- from bins created above\n",
    "  FROM bins\n",
    "       -- join to dropbox and keep all rows from bins\n",
    "       LEFT JOIN dropbox\n",
    "       -- Compare question_count to lower and upper\n",
    "         ON question_count >= lower \n",
    "        AND question_count < upper\n",
    " -- Group by lower and upper to count values in each bin\n",
    " GROUP BY lower, upper\n",
    " -- Order by lower to put bins in order\n",
    " ORDER BY lower;"
   ]
  },
  {
   "cell_type": "markdown",
   "metadata": {},
   "source": [
    "## Оконные функции\n",
    "https://mode.com/sql-tutorial/sql-window-functions/"
   ]
  },
  {
   "cell_type": "code",
   "execution_count": null,
   "metadata": {},
   "outputs": [],
   "source": []
  },
  {
   "cell_type": "markdown",
   "metadata": {},
   "source": [
    "## Мода"
   ]
  },
  {
   "cell_type": "code",
   "execution_count": null,
   "metadata": {},
   "outputs": [],
   "source": [
    "-- CTE from the previous exercise\n",
    "WITH ModePrice (OrderPrice, UnitPriceFrequency)\n",
    "AS\n",
    "(\n",
    "\tSELECT OrderPrice,\n",
    "\tROW_NUMBER() \n",
    "    OVER (PARTITION BY OrderPrice ORDER BY OrderPrice) AS UnitPriceFrequency\n",
    "\tFROM Orders\n",
    ")\n",
    "\n",
    "-- Calculate the mode\n",
    "SELECT OrderPrice AS Mode\n",
    "FROM ModePrice\n",
    "-- The WHERE clause should only return the maximum value of UnitPriceFrequency\n",
    "WHERE UnitPriceFrequency IN (SELECT MAX(UnitPriceFrequency) FROM ModePrice)"
   ]
  },
  {
   "cell_type": "markdown",
   "metadata": {},
   "source": [
    "## Медиана\n",
    "\n",
    "* http://www.dba-oracle.com/t_sql_within_group.htm\n",
    "* http://leafo.net/guides/postgresql-calculating-percentile.html"
   ]
  },
  {
   "cell_type": "raw",
   "metadata": {},
   "source": [
    "-- What groups are you computing statistics by?\n",
    "SELECT sector,\n",
    "       -- Select the mean of assets with the avg function\n",
    "       AVG(assets) AS mean,\n",
    "       -- Select the median\n",
    "       PERCENTILE_DISC(0.5) WITHIN GROUP (ORDER BY assets) AS median\n",
    "  FROM fortune500\n",
    " -- Computing statistics for each what?\n",
    " GROUP BY sector\n",
    " -- Order results by a value of interest\n",
    " ORDER BY median;"
   ]
  }
 ],
 "metadata": {
  "kernelspec": {
   "display_name": "Python 3",
   "language": "python",
   "name": "python3"
  },
  "language_info": {
   "codemirror_mode": {
    "name": "ipython",
    "version": 3
   },
   "file_extension": ".py",
   "mimetype": "text/x-python",
   "name": "python",
   "nbconvert_exporter": "python",
   "pygments_lexer": "ipython3",
   "version": "3.7.1"
  }
 },
 "nbformat": 4,
 "nbformat_minor": 2
}
