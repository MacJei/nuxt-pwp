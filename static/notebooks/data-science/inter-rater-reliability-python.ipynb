{
 "cells": [
  {
   "cell_type": "markdown",
   "metadata": {},
   "source": [
    "# Подсчёт сходимости (согласия) между кодировщиками в Python"
   ]
  },
  {
   "cell_type": "code",
   "execution_count": 2,
   "metadata": {},
   "outputs": [],
   "source": [
    "import pandas as pd\n",
    "import numpy as np\n",
    "import json\n",
    "import nltk\n",
    "import krippendorff"
   ]
  },
  {
   "cell_type": "code",
   "execution_count": 15,
   "metadata": {},
   "outputs": [],
   "source": [
    "df = pd.read_json(\"https://ihun.pythonanywhere.com/data/answers3.json\")\n",
    "df.head(10)\n",
    "df.replace({\"\": np.nan, \"Да\": 2, \"Нет\": 0, \"Не понятно\": 1}, inplace=True)\n",
    "num_names = [name for name in df.name.unique() if name.isdigit()]\n",
    "spam = [\"Иванов\", \"olessia\", \"Алена\", \"Вася\", \"тест\", \"лена\", 'Воронова ', 'Устинова ', 'Анна Бушмелева '] + num_names\n",
    "df = df[~df.name.isin(spam)]\n",
    "names_step_1 = ['oandriyanova', 'ofadeeva', 'Бабкин Никита',\n",
    "       'КутузоваВалентина', 'mariyapetrova', 'Малахова', 'Алена',\n",
    "       'mnsergeeva1']\n",
    "df = df[~df.name.isin(names_step_1)]"
   ]
  },
  {
   "cell_type": "code",
   "execution_count": 43,
   "metadata": {},
   "outputs": [
    {
     "data": {
      "text/html": [
       "<div>\n",
       "<style scoped>\n",
       "    .dataframe tbody tr th:only-of-type {\n",
       "        vertical-align: middle;\n",
       "    }\n",
       "\n",
       "    .dataframe tbody tr th {\n",
       "        vertical-align: top;\n",
       "    }\n",
       "\n",
       "    .dataframe thead th {\n",
       "        text-align: right;\n",
       "    }\n",
       "</style>\n",
       "<table border=\"1\" class=\"dataframe\">\n",
       "  <thead>\n",
       "    <tr style=\"text-align: right;\">\n",
       "      <th></th>\n",
       "      <th>context</th>\n",
       "      <th>eth</th>\n",
       "      <th>isClear</th>\n",
       "      <th>isEthnonym</th>\n",
       "      <th>isRelated</th>\n",
       "      <th>isVerb</th>\n",
       "      <th>coder</th>\n",
       "      <th>raw_verb</th>\n",
       "      <th>textId</th>\n",
       "      <th>textNeg</th>\n",
       "      <th>verbNeg</th>\n",
       "      <th>verbNegContext</th>\n",
       "      <th>verbNegOwn</th>\n",
       "    </tr>\n",
       "  </thead>\n",
       "  <tbody>\n",
       "    <tr>\n",
       "      <th>451</th>\n",
       "      <td>NaN</td>\n",
       "      <td>украинцев</td>\n",
       "      <td>2</td>\n",
       "      <td>2.0</td>\n",
       "      <td>1</td>\n",
       "      <td>2</td>\n",
       "      <td>18</td>\n",
       "      <td>происходит</td>\n",
       "      <td>5002691</td>\n",
       "      <td>5.0</td>\n",
       "      <td>NaN</td>\n",
       "      <td>0.0</td>\n",
       "      <td>NaN</td>\n",
       "    </tr>\n",
       "    <tr>\n",
       "      <th>452</th>\n",
       "      <td>NaN</td>\n",
       "      <td>басурманами</td>\n",
       "      <td>2</td>\n",
       "      <td>2.0</td>\n",
       "      <td>0</td>\n",
       "      <td>2</td>\n",
       "      <td>9</td>\n",
       "      <td>убивали</td>\n",
       "      <td>817777947</td>\n",
       "      <td>2.0</td>\n",
       "      <td>NaN</td>\n",
       "      <td>1.0</td>\n",
       "      <td>NaN</td>\n",
       "    </tr>\n",
       "    <tr>\n",
       "      <th>453</th>\n",
       "      <td>NaN</td>\n",
       "      <td>чеченец</td>\n",
       "      <td>2</td>\n",
       "      <td>2.0</td>\n",
       "      <td>2</td>\n",
       "      <td>2</td>\n",
       "      <td>14</td>\n",
       "      <td>приедет</td>\n",
       "      <td>612417281</td>\n",
       "      <td>3.0</td>\n",
       "      <td>3.0</td>\n",
       "      <td>0.0</td>\n",
       "      <td>NaN</td>\n",
       "    </tr>\n",
       "    <tr>\n",
       "      <th>454</th>\n",
       "      <td>NaN</td>\n",
       "      <td>чурки</td>\n",
       "      <td>2</td>\n",
       "      <td>2.0</td>\n",
       "      <td>2</td>\n",
       "      <td>2</td>\n",
       "      <td>10</td>\n",
       "      <td>едут</td>\n",
       "      <td>769791938</td>\n",
       "      <td>2.0</td>\n",
       "      <td>2.0</td>\n",
       "      <td>0.0</td>\n",
       "      <td>NaN</td>\n",
       "    </tr>\n",
       "    <tr>\n",
       "      <th>456</th>\n",
       "      <td>NaN</td>\n",
       "      <td>кавказца</td>\n",
       "      <td>2</td>\n",
       "      <td>2.0</td>\n",
       "      <td>2</td>\n",
       "      <td>2</td>\n",
       "      <td>0</td>\n",
       "      <td>ищет</td>\n",
       "      <td>4233490</td>\n",
       "      <td>1.0</td>\n",
       "      <td>4.0</td>\n",
       "      <td>0.0</td>\n",
       "      <td>NaN</td>\n",
       "    </tr>\n",
       "  </tbody>\n",
       "</table>\n",
       "</div>"
      ],
      "text/plain": [
       "    context          eth  isClear  isEthnonym isRelated  isVerb  coder  \\\n",
       "451     NaN    украинцев        2         2.0         1       2     18   \n",
       "452     NaN  басурманами        2         2.0         0       2      9   \n",
       "453     NaN      чеченец        2         2.0         2       2     14   \n",
       "454     NaN        чурки        2         2.0         2       2     10   \n",
       "456     NaN     кавказца        2         2.0         2       2      0   \n",
       "\n",
       "       raw_verb     textId  textNeg  verbNeg  verbNegContext verbNegOwn  \n",
       "451  происходит    5002691      5.0      NaN             0.0        NaN  \n",
       "452     убивали  817777947      2.0      NaN             1.0        NaN  \n",
       "453     приедет  612417281      3.0      3.0             0.0        NaN  \n",
       "454        едут  769791938      2.0      2.0             0.0        NaN  \n",
       "456        ищет    4233490      1.0      4.0             0.0        NaN  "
      ]
     },
     "execution_count": 43,
     "metadata": {},
     "output_type": "execute_result"
    }
   ],
   "source": [
    "df.head()"
   ]
  },
  {
   "cell_type": "code",
   "execution_count": 17,
   "metadata": {},
   "outputs": [],
   "source": [
    "df.rename(columns={\"name\": \"coder\"}, inplace=True)"
   ]
  },
  {
   "cell_type": "code",
   "execution_count": 36,
   "metadata": {},
   "outputs": [],
   "source": [
    "df.coder = df.coder.astype('category').cat.codes"
   ]
  },
  {
   "cell_type": "code",
   "execution_count": 40,
   "metadata": {},
   "outputs": [],
   "source": [
    "reliability_data = df.pivot(index=\"coder\", columns=\"textId\")[\"isClear\"]"
   ]
  },
  {
   "cell_type": "code",
   "execution_count": 42,
   "metadata": {},
   "outputs": [
    {
     "data": {
      "text/plain": [
       "0.0491371419641462"
      ]
     },
     "execution_count": 42,
     "metadata": {},
     "output_type": "execute_result"
    }
   ],
   "source": [
    "krippendorff.alpha(reliability_data, level_of_measurement=\"nominal\")"
   ]
  },
  {
   "cell_type": "code",
   "execution_count": 47,
   "metadata": {},
   "outputs": [],
   "source": [
    "from nltk.metrics import agreement"
   ]
  },
  {
   "cell_type": "code",
   "execution_count": 48,
   "metadata": {},
   "outputs": [
    {
     "name": "stdout",
     "output_type": "stream",
     "text": [
      "fleiss 0.04915254237287492\n",
      "alpha Криппендорфа 0.0491371419641462\n",
      "scotts 0.04815484562316558\n",
      "\n"
     ]
    }
   ],
   "source": [
    "taskdata = []\n",
    "\n",
    "for coder, row in reliability_data.iterrows():\n",
    "    for textId in row.index:\n",
    "        taskdata.append((coder, str(textId), str(row.loc[textId])))\n",
    "ratingtask = agreement.AnnotationTask(data=taskdata)\n",
    "print(\"fleiss \" + str(ratingtask.multi_kappa())) # Averages over observed and expected agreements for each coder pair\n",
    "print(\"alpha Криппендорфа \" + str(ratingtask.alpha()))\n",
    "print(\"scotts \" + str(ratingtask.pi()))\n",
    "print()"
   ]
  }
 ],
 "metadata": {
  "kernelspec": {
   "display_name": "Python 3",
   "language": "python",
   "name": "python3"
  },
  "language_info": {
   "codemirror_mode": {
    "name": "ipython",
    "version": 3
   },
   "file_extension": ".py",
   "mimetype": "text/x-python",
   "name": "python",
   "nbconvert_exporter": "python",
   "pygments_lexer": "ipython3",
   "version": "3.7.1"
  }
 },
 "nbformat": 4,
 "nbformat_minor": 2
}
