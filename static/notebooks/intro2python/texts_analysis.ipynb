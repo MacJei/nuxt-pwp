{
 "cells": [
  {
   "cell_type": "markdown",
   "metadata": {},
   "source": [
    "Lets suppose you want tot analyse Russian media discourse. But you don't know russian language and you don't have the data. All you need to do is just to:\n",
    "1. download the data from the most reliable data. Let's take only one data source — meduza.io.\n",
    "2. translate the texts\n",
    "3. analyse the data in the way you want."
   ]
  },
  {
   "cell_type": "markdown",
   "metadata": {},
   "source": [
    "# 1. Download the data"
   ]
  },
  {
   "cell_type": "code",
   "execution_count": 2,
   "metadata": {},
   "outputs": [],
   "source": [
    "import requests"
   ]
  },
  {
   "cell_type": "code",
   "execution_count": 9,
   "metadata": {},
   "outputs": [],
   "source": [
    "api_endpoint_template = \"https://meduza.io/api/w5/search?chrono=news&page={page_num}&per_page={posts_per_page}&locale=ru\""
   ]
  },
  {
   "cell_type": "markdown",
   "metadata": {},
   "source": [
    "Let's download URL's for the first 10 pages. Each page includes 100 posts. To underatand to what URL we need to make the requests we explored meduza.io with Developer tools (F12 in Windows, CTRL+ALT+I in Mac browsers)"
   ]
  },
  {
   "cell_type": "code",
   "execution_count": 13,
   "metadata": {},
   "outputs": [],
   "source": [
    "urls = []\n",
    "\n",
    "for page_num in range(10):\n",
    "    formeted_url = api_endpoint_template.format(page_num=page_num, posts_per_page=100)\n",
    "    response = requests.get(formeted_url).json()\n",
    "    for url in response[\"documents\"].keys():\n",
    "        urls.append(url)"
   ]
  },
  {
   "cell_type": "markdown",
   "metadata": {},
   "source": [
    "We downloaded 1000 urls. Let's request them to download full text articles."
   ]
  },
  {
   "cell_type": "code",
   "execution_count": 14,
   "metadata": {},
   "outputs": [
    {
     "data": {
      "text/plain": [
       "1000"
      ]
     },
     "execution_count": 14,
     "metadata": {},
     "output_type": "execute_result"
    }
   ],
   "source": [
    "len(urls)"
   ]
  },
  {
   "cell_type": "markdown",
   "metadata": {},
   "source": [
    "Every single URL looks like this:"
   ]
  },
  {
   "cell_type": "code",
   "execution_count": 17,
   "metadata": {},
   "outputs": [
    {
     "data": {
      "text/plain": [
       "'news/2019/07/16/zhurnalista-ingushskogo-izdaniya-fortanga-rashida-maysigova-arestovali-po-delu-o-hranenii-narkotikov'"
      ]
     },
     "execution_count": 17,
     "metadata": {},
     "output_type": "execute_result"
    }
   ],
   "source": [
    "urls[0]"
   ]
  },
  {
   "cell_type": "markdown",
   "metadata": {},
   "source": [
    "So don't forget to concatinate this string with \"https://meduza.io/\" and replace \"news/\" to \"feature/\" to get an absolute URL:"
   ]
  },
  {
   "cell_type": "code",
   "execution_count": 27,
   "metadata": {},
   "outputs": [
    {
     "data": {
      "text/plain": [
       "'В Ингушетии суд арестовал журналиста Рашида Майсигова по подозрению в хранении наркотиков, сообщил «МБХ медиа» его адвокат Магомед Аушев.«Смывы с рук показали положительный результат, анализ крови — отрицательный. Также был опрос из ФСБ, в котором Майсигов признавал вину», — рассказал юрист. Он отметил, что будет обжаловать решение об аресте и будет ходатайствовать о проведении генетической экспертизы.Рашид Майсигов, который сотрудничал с изданием «Фортанга», был задержан 12 июля. По словам адвоката, после задержания он сообщил о пытках в отделе полиции. Мать журналиста говорила, что во время обыска неожиданно «у одного из силовиков в руке появился пакетик с белым веществом в руке».Помимо Майсигова в середине июля была задержана ингушская активистка, бывшая замглавы Мемориального комплекса жертв репрессий Зарифа Саутиева. Суд в Нальчике отправил ее под арест по делу о применении насилия к полицейским в Магасе.Издание «Фортанга», которое активно освещало протесты последнего года в Ингушетии, в середине июля было заблокировано Роскомнадзором. Журналисты заявили, что удалили комментарий, ставший поводом для блокировки.Летом 2019 года по делам о наркотиках были задержаны редактор дагестанской газеты «Черновик» Абдулмумин Гаджиев и черкесский активист Мартин Кочесоков. Из близкие настаивают на их невиновности и сравнивают эти дела с делом журналиста «Медузы» Ивана Голунова.Читайте такжеМВД объявило, что число дел об обороте наркотиков против врачей сократилось в тысячу раз. Статистика это опровергает (дел становится больше)Как помочь близкому человеку, которого задержали по статье о наркотиках. ИнструкцияРедактора дагестанской газеты «Черновик» обвинили в терроризме. Это уже второе дело на Северном Кавказе, которое сравнивают с делом Ивана Голунова  Напишите нам'"
      ]
     },
     "execution_count": 27,
     "metadata": {},
     "output_type": "execute_result"
    }
   ],
   "source": [
    "BeautifulSoup(r.text).find(\"div\", {\"class\": \"GeneralMaterial-body\"}).get_text().replace(\"\\xa0\", \" \")"
   ]
  },
  {
   "cell_type": "code",
   "execution_count": 54,
   "metadata": {},
   "outputs": [],
   "source": [
    "r = requests.get(\"https://meduza.io/news/2019/07/16/zhurnalista-ingushskogo-izdaniya-fortanga-rashida-maysigova-arestovali-po-delu-o-hranenii-narkotikov\")"
   ]
  },
  {
   "cell_type": "code",
   "execution_count": 56,
   "metadata": {},
   "outputs": [],
   "source": [
    "a = BeautifulSoup(r.text)"
   ]
  },
  {
   "cell_type": "code",
   "execution_count": 58,
   "metadata": {},
   "outputs": [
    {
     "data": {
      "text/plain": [
       "'В\\xa0Ингушетии суд арестовал журналиста Рашида Майсигова по\\xa0подозрению в\\xa0хранении наркотиков, сообщил «МБХ медиа» его адвокат Магомед Аушев.«Смывы с\\xa0рук показали положительный результат, анализ крови\\xa0— отрицательный. Также был опрос из\\xa0ФСБ, в\\xa0котором Майсигов признавал вину»,\\xa0— рассказал юрист. Он\\xa0отметил, что будет обжаловать решение об\\xa0аресте и\\xa0будет ходатайствовать о\\xa0проведении генетической экспертизы.Рашид Майсигов, который сотрудничал с\\xa0изданием «Фортанга», был задержан 12\\xa0июля. По\\xa0словам адвоката, после задержания он\\xa0сообщил о\\xa0пытках в\\xa0отделе полиции. Мать журналиста говорила, что во\\xa0время обыска неожиданно «у\\xa0одного из\\xa0силовиков в\\xa0руке появился пакетик с\\xa0белым веществом в\\xa0руке».Помимо Майсигова в\\xa0середине июля была задержана ингушская активистка, бывшая замглавы Мемориального комплекса жертв репрессий Зарифа Саутиева. Суд в\\xa0Нальчике отправил ее\\xa0под арест по\\xa0делу о\\xa0применении насилия к\\xa0полицейским в\\xa0Магасе.Издание «Фортанга», которое активно освещало протесты последнего года в\\xa0Ингушетии, в\\xa0середине июля было заблокировано Роскомнадзором. Журналисты заявили, что удалили комментарий, ставший поводом для блокировки.Летом 2019 года по\\xa0делам о\\xa0наркотиках были задержаны редактор дагестанской газеты «Черновик» Абдулмумин Гаджиев и\\xa0черкесский активист Мартин Кочесоков. Из\\xa0близкие настаивают на\\xa0их\\xa0невиновности и\\xa0сравнивают эти дела с\\xa0делом журналиста «Медузы» Ивана Голунова.Читайте такжеМВД объявило, что число дел об\\xa0обороте наркотиков против врачей сократилось в\\xa0тысячу\\xa0раз. Статистика это опровергает (дел становится больше)Как помочь близкому человеку, которого задержали по\\xa0статье о\\xa0наркотиках. ИнструкцияРедактора дагестанской газеты «Черновик» обвинили в\\xa0терроризме. Это уже второе дело на\\xa0Северном Кавказе, которое сравнивают с\\xa0делом Ивана Голунова  Напишите нам'"
      ]
     },
     "execution_count": 58,
     "metadata": {},
     "output_type": "execute_result"
    }
   ],
   "source": [
    "a.find(\"div\", {\"class\": \"GeneralMaterial-body\"}).get_text()"
   ]
  },
  {
   "cell_type": "code",
   "execution_count": null,
   "metadata": {},
   "outputs": [],
   "source": []
  },
  {
   "cell_type": "code",
   "execution_count": 23,
   "metadata": {},
   "outputs": [],
   "source": [
    "from bs4 import BeautifulSoup"
   ]
  },
  {
   "cell_type": "code",
   "execution_count": 73,
   "metadata": {},
   "outputs": [
    {
     "ename": "AttributeError",
     "evalue": "'NoneType' object has no attribute 'get_text'",
     "output_type": "error",
     "traceback": [
      "\u001b[0;31m---------------------------------------------------------------------------\u001b[0m",
      "\u001b[0;31mAttributeError\u001b[0m                            Traceback (most recent call last)",
      "\u001b[0;32m<ipython-input-73-83166dc8f3d2>\u001b[0m in \u001b[0;36m<module>\u001b[0;34m\u001b[0m\n\u001b[1;32m      1\u001b[0m \u001b[0mraw_article\u001b[0m \u001b[0;34m=\u001b[0m \u001b[0mrequests\u001b[0m\u001b[0;34m.\u001b[0m\u001b[0mget\u001b[0m\u001b[0;34m(\u001b[0m\u001b[0;34m\"https://meduza.io/feature/2019/07/16/zhurnalista-ingushskogo-izdaniya-fortanga-rashida-maysigova-arestovali-po-delu-o-hranenii-narkotikov\"\u001b[0m\u001b[0;34m)\u001b[0m\u001b[0;34m.\u001b[0m\u001b[0mtext\u001b[0m\u001b[0;34m\u001b[0m\u001b[0;34m\u001b[0m\u001b[0m\n\u001b[1;32m      2\u001b[0m \u001b[0;34m\u001b[0m\u001b[0m\n\u001b[0;32m----> 3\u001b[0;31m \u001b[0mbody\u001b[0m \u001b[0;34m=\u001b[0m \u001b[0mparsed_article\u001b[0m\u001b[0;34m.\u001b[0m\u001b[0mfind\u001b[0m\u001b[0;34m(\u001b[0m\u001b[0;34m\"div\"\u001b[0m\u001b[0;34m,\u001b[0m \u001b[0;34m{\u001b[0m\u001b[0;34m\"class\"\u001b[0m\u001b[0;34m:\u001b[0m \u001b[0;34m\"GeneralMaterial-body\"\u001b[0m\u001b[0;34m}\u001b[0m\u001b[0;34m)\u001b[0m\u001b[0;31m\\\u001b[0m\u001b[0;34m\u001b[0m\u001b[0;34m\u001b[0m\u001b[0m\n\u001b[0m\u001b[1;32m      4\u001b[0m         \u001b[0;34m.\u001b[0m\u001b[0mget_text\u001b[0m\u001b[0;34m(\u001b[0m\u001b[0;34m)\u001b[0m\u001b[0;34m\u001b[0m\u001b[0;34m\u001b[0m\u001b[0m\n",
      "\u001b[0;31mAttributeError\u001b[0m: 'NoneType' object has no attribute 'get_text'"
     ]
    }
   ],
   "source": [
    "raw_article = requests.get(\"https://meduza.io/feature/2019/07/16/zhurnalista-ingushskogo-izdaniya-fortanga-rashida-maysigova-arestovali-po-delu-o-hranenii-narkotikov\").text\n",
    "\n",
    "body = parsed_article.find(\"div\", {\"class\": \"GeneralMaterial-body\"})\\\n",
    "        .get_text()"
   ]
  },
  {
   "cell_type": "markdown",
   "metadata": {},
   "source": [
    "https://meduza.io/feature/2019/07/18/pravozaschitniki-rasskazali-o-chechenke-sbezhavshey-iz-doma-iz-za-prinuzhdeniya-k-zamuzhestvu-ona-vse-oprovergla-v-intervyu-press-sekretaryu-i-pomoschniku-kadyrova"
   ]
  },
  {
   "cell_type": "markdown",
   "metadata": {},
   "source": [
    "https://meduza.io/feature/2019/07/16/zhurnalista-ingushskogo-izdaniya-fortanga-rashida-maysigova-arestovali-po-delu-o-hranenii-narkotikov"
   ]
  },
  {
   "cell_type": "code",
   "execution_count": 70,
   "metadata": {},
   "outputs": [
    {
     "data": {
      "text/plain": [
       "'В\\xa0Ингушетии суд арестовал журналиста Рашида Майсигова по\\xa0подозрению в\\xa0хранении наркотиков, сообщил «МБХ медиа» его адвокат Магомед Аушев.«Смывы с\\xa0рук показали положительный результат, анализ крови\\xa0— отрицательный. Также был опрос из\\xa0ФСБ, в\\xa0котором Майсигов признавал вину»,\\xa0— рассказал юрист. Он\\xa0отметил, что будет обжаловать решение об\\xa0аресте и\\xa0будет ходатайствовать о\\xa0проведении генетической экспертизы.Рашид Майсигов, который сотрудничал с\\xa0изданием «Фортанга», был задержан 12\\xa0июля. По\\xa0словам адвоката, после задержания он\\xa0сообщил о\\xa0пытках в\\xa0отделе полиции. Мать журналиста говорила, что во\\xa0время обыска неожиданно «у\\xa0одного из\\xa0силовиков в\\xa0руке появился пакетик с\\xa0белым веществом в\\xa0руке».Помимо Майсигова в\\xa0середине июля была задержана ингушская активистка, бывшая замглавы Мемориального комплекса жертв репрессий Зарифа Саутиева. Суд в\\xa0Нальчике отправил ее\\xa0под арест по\\xa0делу о\\xa0применении насилия к\\xa0полицейским в\\xa0Магасе.Издание «Фортанга», которое активно освещало протесты последнего года в\\xa0Ингушетии, в\\xa0середине июля было заблокировано Роскомнадзором. Журналисты заявили, что удалили комментарий, ставший поводом для блокировки.Летом 2019 года по\\xa0делам о\\xa0наркотиках были задержаны редактор дагестанской газеты «Черновик» Абдулмумин Гаджиев и\\xa0черкесский активист Мартин Кочесоков. Из\\xa0близкие настаивают на\\xa0их\\xa0невиновности и\\xa0сравнивают эти дела с\\xa0делом журналиста «Медузы» Ивана Голунова.Читайте такжеМВД объявило, что число дел об\\xa0обороте наркотиков против врачей сократилось в\\xa0тысячу\\xa0раз. Статистика это опровергает (дел становится больше)Как помочь близкому человеку, которого задержали по\\xa0статье о\\xa0наркотиках. ИнструкцияРедактора дагестанской газеты «Черновик» обвинили в\\xa0терроризме. Это уже второе дело на\\xa0Северном Кавказе, которое сравнивают с\\xa0делом Ивана Голунова  Напишите нам'"
      ]
     },
     "execution_count": 70,
     "metadata": {},
     "output_type": "execute_result"
    }
   ],
   "source": [
    "body"
   ]
  },
  {
   "cell_type": "code",
   "execution_count": 72,
   "metadata": {},
   "outputs": [
    {
     "name": "stdout",
     "output_type": "stream",
     "text": [
      "https://meduza.io/feature/2019/07/16/zhurnalista-ingushskogo-izdaniya-fortanga-rashida-maysigova-arestovali-po-delu-o-hranenii-narkotikov\n",
      "<!DOCTYPE html>\n",
      "<html prefix=\"og: http://ogp.me/ns#\">\n",
      "<head>\n",
      "<meta charset=\"utf-8\"/>\n",
      "<meta content=\"width=device-width initial-scale=1.0\" name=\"viewport\"/>\n",
      "<meta content=\"IE=edge\" http-equiv=\"X-UA-Compatible\"/>\n",
      "<title>404 — Meduza</title>\n",
      "<style>\n",
      "      @font-face{font-family:'PFRegal';font-style:normal;src:url(https://meduza.io/assets/fonts/PFRegalTextPro-RegularB-cda547.woff) format('woff')}\n",
      "      @font-face{font-family:\"Proxima Nova\";font-weight:700;font-style:normal;src:url(https://meduza.io/assets/fonts/ProximaNova-Bold-86fdfa.woff) format(\"woff\")}\n",
      "\n",
      "\n",
      "      body {\n",
      "        background: #262626;\n",
      "        padding: 25px 16px;\n",
      "        margin: 0;\n",
      "        color: #fff;\n",
      "        font-size: 18px;\n",
      "        font-family: 'PFRegal', 'PF Regal Text Pro', 'Georgia', serif;\n",
      "        -webkit-font-smoothing: antialiased;\n",
      "        -moz-osx-font-smoothing: grayscale;\n",
      "        text-shadow: 0 1px 2px rgba(0,0,0,0.50);\n",
      "      }\n",
      "      \n",
      "      .Layout {\n",
      "        max-width: 650px;\n",
      "        font-size: 18px;\n",
      "        line-height: 22px;\n",
      "        margin: auto;\n",
      "      }\n",
      "\n",
      "      .Layout p {\n",
      "        margin: 0;\n",
      "      }\n",
      "\n",
      "      h1 {\n",
      "        font-size: 24px;\n",
      "        line-height: 27px;\n",
      "        margin: 0 0 12px;\n",
      "        font-family: 'Proxima Nova', 'Arial', 'Helvetica Neue', sans-serif;\n",
      "        font-weight: 700;\n",
      "      }\n",
      "\n",
      "      a {\n",
      "        color: inherit;\n",
      "        text-decoration: none;\n",
      "        box-shadow: inset 0 -1px #b88b58;\n",
      "      }\n",
      "      \n",
      "      a:hover {\n",
      "        color: #b88b58;\n",
      "      }\n",
      "\n",
      "      iframe {\n",
      "        margin: 0;\n",
      "        border: 0;\n",
      "        background: transparent;\n",
      "        height: 310px;\n",
      "      }\n",
      "\n",
      "      @media (min-width: 680px) {\n",
      "\n",
      "        body {\n",
      "          padding: 65px 15px;\n",
      "        }\n",
      "\n",
      "        h1 {\n",
      "          font-size: 36px;\n",
      "          line-height: 38px;\n",
      "          margin: 0 0 15px;\n",
      "        }\n",
      "\n",
      "        .Layout {\n",
      "          font-size: 20px;\n",
      "          line-height: 27px;\n",
      "        }\n",
      "\n",
      "        iframe {\n",
      "          margin-bottom: 20px;\n",
      "          height: 310px;\n",
      "        }\n",
      "      }\n",
      "\n",
      "    </style>\n",
      "</head>\n",
      "<body>\n",
      "<div class=\"Layout\">\n",
      "<div class=\"Embed\">\n",
      "<iframe id=\"iframe\" onload=\"ready()\" src=\"https://meduza.io/embed/dinosaur-404-game/\" width=\"100%\">\n",
      "</iframe>\n",
      "</div>\n",
      "<div class=\"Blocks\">\n",
      "<h1>Такой страницы нет</h1>\n",
      "<p>Зато у нас есть много других страниц — например, <a href=\"https://meduza.io\">главная</a>!</p>\n",
      "</div>\n",
      "</div>\n",
      "<script>\n",
      "      function ready() { document.querySelector('iframe').contentWindow.postMessage('start', '*') }\n",
      "      (function (i, s, o, g, r, a, m) {\n",
      "        i['GoogleAnalyticsObject'] = r; i[r] = i[r] || function () {\n",
      "          (i[r].q = i[r].q || []).push(arguments)\n",
      "        }, i[r].l = 1 * new Date(); a = s.createElement(o),\n",
      "          m = s.getElementsByTagName(o)[0]; a.async = 1; a.src = g; m.parentNode.insertBefore(a, m)\n",
      "      })(window, document, 'script', '//www.google-analytics.com/analytics.js', 'ga');\n",
      "\n",
      "      ga('create', 'UA-54965095-1', 'auto');\n",
      "      ga('send', 'pageview');\n",
      "    </script>\n",
      "</body>\n",
      "</html>\n",
      "\n"
     ]
    },
    {
     "ename": "AttributeError",
     "evalue": "'NoneType' object has no attribute 'get_text'",
     "output_type": "error",
     "traceback": [
      "\u001b[0;31m---------------------------------------------------------------------------\u001b[0m",
      "\u001b[0;31mAttributeError\u001b[0m                            Traceback (most recent call last)",
      "\u001b[0;32m<ipython-input-72-726c398c4b42>\u001b[0m in \u001b[0;36m<module>\u001b[0;34m\u001b[0m\n\u001b[1;32m      7\u001b[0m     \u001b[0mparsed_article\u001b[0m \u001b[0;34m=\u001b[0m \u001b[0mBeautifulSoup\u001b[0m\u001b[0;34m(\u001b[0m\u001b[0mraw_article\u001b[0m\u001b[0;34m)\u001b[0m\u001b[0;34m\u001b[0m\u001b[0;34m\u001b[0m\u001b[0m\n\u001b[1;32m      8\u001b[0m     \u001b[0mprint\u001b[0m\u001b[0;34m(\u001b[0m\u001b[0mparsed_article\u001b[0m\u001b[0;34m)\u001b[0m\u001b[0;34m\u001b[0m\u001b[0;34m\u001b[0m\u001b[0m\n\u001b[0;32m----> 9\u001b[0;31m     \u001b[0mbody\u001b[0m \u001b[0;34m=\u001b[0m \u001b[0mparsed_article\u001b[0m\u001b[0;34m.\u001b[0m\u001b[0mfind\u001b[0m\u001b[0;34m(\u001b[0m\u001b[0;34m\"div\"\u001b[0m\u001b[0;34m,\u001b[0m \u001b[0;34m{\u001b[0m\u001b[0;34m\"class\"\u001b[0m\u001b[0;34m:\u001b[0m \u001b[0;34m\"GeneralMaterial-body\"\u001b[0m\u001b[0;34m}\u001b[0m\u001b[0;34m)\u001b[0m\u001b[0;31m\\\u001b[0m\u001b[0;34m\u001b[0m\u001b[0;34m\u001b[0m\u001b[0m\n\u001b[0m\u001b[1;32m     10\u001b[0m         \u001b[0;34m.\u001b[0m\u001b[0mget_text\u001b[0m\u001b[0;34m(\u001b[0m\u001b[0;34m)\u001b[0m\u001b[0;31m\\\u001b[0m\u001b[0;34m\u001b[0m\u001b[0;34m\u001b[0m\u001b[0m\n\u001b[1;32m     11\u001b[0m         \u001b[0;34m.\u001b[0m\u001b[0mreplace\u001b[0m\u001b[0;34m(\u001b[0m\u001b[0;34m\"\\xa0\"\u001b[0m\u001b[0;34m,\u001b[0m \u001b[0;34m\" \"\u001b[0m\u001b[0;34m)\u001b[0m \u001b[0;31m# replace non-breaking space with ordinal space\u001b[0m\u001b[0;34m\u001b[0m\u001b[0;34m\u001b[0m\u001b[0m\n",
      "\u001b[0;31mAttributeError\u001b[0m: 'NoneType' object has no attribute 'get_text'"
     ]
    }
   ],
   "source": [
    "articles = []\n",
    "\n",
    "for url in urls[:10]:\n",
    "    url = \"https://meduza.io/\" + url.replace(\"news/\", \"feature/\")\n",
    "    print(url)\n",
    "    raw_article = requests.get(url).text\n",
    "    parsed_article = BeautifulSoup(raw_article)\n",
    "    print(parsed_article)\n",
    "    body = parsed_article.find(\"div\", {\"class\": \"GeneralMaterial-body\"})\\\n",
    "        .get_text()\\\n",
    "        .replace(\"\\xa0\", \" \") # replace non-breaking space with ordinal space\n",
    "    # the same for the title\n",
    "    title = parsed_article\\\n",
    "        .find(\"div\", {\"class\": \"GeneralMaterial-title\"})\\\n",
    "        .get_text()\\\n",
    "        .replace(\"\\xa0\", \" \")\\\n",
    "        .replace(\"\\n\", \" \")\n",
    "    # \n",
    "    articles.append(\"{title} {body}\".format(title=title, body=body))"
   ]
  },
  {
   "cell_type": "code",
   "execution_count": null,
   "metadata": {},
   "outputs": [],
   "source": []
  },
  {
   "cell_type": "code",
   "execution_count": null,
   "metadata": {},
   "outputs": [],
   "source": []
  }
 ],
 "metadata": {
  "kernelspec": {
   "display_name": "Python 3",
   "language": "python",
   "name": "python3"
  },
  "language_info": {
   "codemirror_mode": {
    "name": "ipython",
    "version": 3
   },
   "file_extension": ".py",
   "mimetype": "text/x-python",
   "name": "python",
   "nbconvert_exporter": "python",
   "pygments_lexer": "ipython3",
   "version": "3.7.3"
  }
 },
 "nbformat": 4,
 "nbformat_minor": 2
}
