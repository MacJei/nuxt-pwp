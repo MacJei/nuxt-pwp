{
 "cells": [
  {
   "cell_type": "markdown",
   "metadata": {},
   "source": [
    "## Course Overview\n",
    "\n",
    "Python is one of the most popular and rapidly developing programming languages. A clear syntax which facilitates learning and a plethora of built-in and third-party libraries made Python especially popular among academics and researchers of all kinds. Python has already been the first-choice language in Machine Learning and Data Science for a while, but as far as Social Sciences are becoming more digitally-oriented it is getting in demand by sociologists, economists, linguists, and other social researchers. This course is created for students who want to learn how to solve real-world data-related problems with Python programming environment but have no experience in programming."
   ]
  },
  {
   "cell_type": "markdown",
   "metadata": {
    "slideshow": {
     "slide_type": "slide"
    }
   },
   "source": [
    "## Some historacal facts about the Python\n",
    "\n",
    "### Fact #1\n",
    "Python was created by Guido van Rossum (https://www.zotero.org/ihun/items/itemKey/4IXGQNF9) at the end of 1980<sup>th</sup>. In December 1989, Van Rossum had been looking for a \"'hobby' programming project that would keep him occupied during the week around Christmas\" as his office was closed when he decided to write an interpreter for a \"new scripting language he had been thinking about lately: a descendant of ABC that would appeal to Unix/C hackers\".\n",
    "\n",
    "<img src=\"img/guido.jpg\" width=\"500\">\n",
    "\n",
    "Guido entitled himself as Benevolent Dictator For Life, which means that he retain the final say in disputes or arguments within the community (https://www.zotero.org/ihun/items/itemKey/T6XMB6WN). He had kept this title till July 2018, when retired from this post (https://www.zotero.org/ihun/items/itemKey/2P8PMKFN), tired after the fight for [Python Enhancement Proposals #572](https://www.python.org/dev/peps/pep-0572/).\n",
    "\n",
    "\n",
    "<blockquote class=\"twitter-tweet\" data-lang=\"en\">\n",
    "<p lang=\"en\">Thanks for all the support (email and Twitter). I&#39;m overwhelmed by the responses and won&#39;t be replying to most emails in person (except from core devs) but it&#39;s much appreciated. I&#39;m still going to be around in the background!\n",
    "</p>\n",
    "<footer class=\"blockquote-footer\">Guido van Rossum, <cite>(@gvanrossum) <a href=\"https://twitter.com/gvanrossum/status/1017546023227424768?ref_src=twsrc%5Etfw\">July 12, 2018</a></cite></footer>\n",
    "</blockquote>\n"
   ]
  },
  {
   "cell_type": "markdown",
   "metadata": {
    "slideshow": {
     "slide_type": "slide"
    }
   },
   "source": [
    "### Fact #2\n",
    "Before creating Python, Guido was a contributor to the [ABC programming language](https://en.wikipedia.org/wiki/ABC_(programming_language)) — a 10-year research project to design a programming environment for beginners. ABC introduced many ideas we now consider “Pythonic”: generic operations on sequences, built-in tuple and mapping types, structure by indentation, strong typing without variable declarations, and more. It’s no accident that Python is so user-friendly.\n",
    "\n",
    "Here is am example function to collect the set of all words in a document:"
   ]
  },
  {
   "cell_type": "code",
   "execution_count": null,
   "metadata": {},
   "outputs": [],
   "source": [
    "HOW TO RETURN words document:\n",
    "   PUT {} IN collection\n",
    "   FOR line IN document:\n",
    "      FOR word IN split line:\n",
    "         IF word not.in collection:\n",
    "            INSERT word IN collection\n",
    "   RETURN collection"
   ]
  },
  {
   "cell_type": "markdown",
   "metadata": {
    "slideshow": {
     "slide_type": "slide"
    }
   },
   "source": [
    "### Fact #3\n",
    "\n",
    "Guido van Rossum attributes choosing the name \"Python\" to \"being in a slightly irreverent mood (and a big fan of Monty Python's Flying Circus)\" (https://www.zotero.org/ihun/items/itemKey/A8JINX2Z).\n",
    "\n",
    "<img src=\"img/monty.jpg\" width=\"500\">"
   ]
  },
  {
   "cell_type": "markdown",
   "metadata": {
    "slideshow": {
     "slide_type": "slide"
    }
   },
   "source": [
    "### Fact #4\n",
    "\n",
    "Python has several incompatible versions — Python 2 and Python 3.\n",
    "\n",
    "<img src=\"img/pythons_fight.jpg\" width=\"500\">"
   ]
  },
  {
   "cell_type": "markdown",
   "metadata": {
    "slideshow": {
     "slide_type": "fragment"
    }
   },
   "source": [
    "## Features of Python\n",
    "\n",
    "### Very high-level programming language\n",
    "\n",
    "A very high-level programming language (VHLL) is a programming language with a very high level of abstraction, used primarily as a professional programmer productivity tool. Very high-level programming languages are usually domain-specific languages, limited to a very specific application, purpose, or type of task, and they are often scripting languages (especially extension languages), controlling a specific environment. For this reason, very high-level programming languages are often referred to as goal-oriented programming languages (https://www.zotero.org/ihun/items/itemKey).\n",
    "\n",
    "<img src=\"https://imgs.xkcd.com/comics/python.png\" width=\"500\">"
   ]
  },
  {
   "cell_type": "markdown",
   "metadata": {
    "slideshow": {
     "slide_type": "slide"
    }
   },
   "source": [
    "### General purpose scripting language\n",
    "\n",
    "A scripting or script language is a programming language that supports scripts — programs written for a special run-time environment that automate the execution of tasks that could alternatively be executed one-by-one by a human operator (https://www.zotero.org/ihun/items/itemKey/BJ5I3CEW).\n",
    "\n",
    "A general-purpose programming language is a programming language designed to be used for writing software in the widest variety of application domains (a general-purpose language). A general-purpose programming language has this status because it does not include language constructs designed to be used within a specific application domain (https://www.zotero.org/ihun/items/itemKey/K6T5GIF5).\n",
    "\n",
    "Python is an excelent example of general purpose scripting language. See this endless list of [software written with Python](https://en.wikipedia.org/wiki/List_of_Python_software) (it is not full yet)."
   ]
  },
  {
   "cell_type": "markdown",
   "metadata": {
    "slideshow": {
     "slide_type": "slide"
    }
   },
   "source": [
    "### Interpreted language\n",
    "\n",
    "An interpreted language is a type of programming language for which most of its implementations execute instructions directly and freely, without previously compiling a program into machine-language instructions. The interpreter executes the program directly, translating each statement into a sequence of one or more subroutines, and then into another language (often machine code) (https://www.zotero.org/ihun/items/itemKey/X667YISK).\n",
    "\n",
    "In Python, the source is compiled into a much simpler form called [bytecode](https://en.wikipedia.org/wiki/Bytecode ). These are instructions similar in spirit to CPU instructions, but instead of being executed by the CPU, they are executed by software called a virtual machine (https://www.zotero.org/ihun/items/itemKey/CAZZKCIK). \n",
    "\n",
    "<img src=\"img/interpreted.png\" width=\"800\">"
   ]
  },
  {
   "cell_type": "markdown",
   "metadata": {
    "slideshow": {
     "slide_type": "slide"
    }
   },
   "source": [
    "### And more...\n",
    "* [Dynamic typed](https://en.wikipedia.org/wiki/Type_system#Static_and_dynamic_type_checking_in_practice);\n",
    "* [Multi-paradigm](https://en.wikipedia.org/wiki/Comparison_of_multi-paradigm_programming_languages);\n",
    "* [With automitic garbage collector](https://rushter.com/blog/python-garbage-collector/)\n",
    "* [Indent-based](https://en.wikipedia.org/wiki/Off-side_rule);\n",
    "* [Allows easiliy extend functionality with С/C++ libraries](https://docs.python.org/3/extending/extending.html)\n",
    "* [Free and open source](https://docs.python.org/3/license.html)\n",
    "* One of the the fastest-growing major programming language (https://www.zotero.org/ihun/items/itemKey/HK8LIRTE).\n"
   ]
  },
  {
   "cell_type": "markdown",
   "metadata": {
    "slideshow": {
     "slide_type": "slide"
    }
   },
   "source": [
    "## How to stydy Python...\n",
    "\n",
    "* ... if you are a pedant 🧐: read documentation (https://www.zotero.org/ihun/items/itemKey/I3ANQMEK) and use [`help()`](https://docs.python.org/3/library/functions.html#help) function.\n",
    "* ... if you enjoy watching videos 🎥: join online courses like «Программирование на Python» (https://www.zotero.org/ihun/items/itemKey/WIGUFD6M) (I took many examples from this course), video lectures by Тимофей Хирьянов (https://www.zotero.org/ihun/items/itemKey/KAIQUYQ3). Thousands of them, really.\n",
    "* ... if you like \"War and peace\" 📚: read \"Learning Python\" by Mark Lutz (https://www.zotero.org/ihun/items/itemKey/L3U2CJAL) and \"Python for Data Analysis\" (https://www.zotero.org/ihun/items/itemKey/CRE39YFB).\n",
    "* ... if you like video games 🕹: play [Coding game](https://www.codingame.com/start) and [Kerbal Space Program](https://github.com/krpc/krpc).\n",
    "* ... if you are a girl 🙋‍♀️: join [PyLadies SPb](http://spb.pyladies.com/).\n",
    "* ... if you are easygoing and careless person 😜: cheat with cheatsheets like these from [datacamp](https://www.datacamp.com/community/data-science-cheatsheets).\n",
    "* ... if you like to read blogs 💻: subscribe to [Planet Python](https://planetpython.org/), [Real Python](https://realpython.com/), [Python Tips](https://pythontips.com/) and more.\n",
    "* ... if you like to chat with people in the real world 👫👬🚶‍♂️: join [SPb Python](https://www.meetup.com/spbpython/events/) or [PiterPy](https://piterpy.com/) communities and visit associated meetups and conferences.\n",
    "* ... if you are a student of HSE 👩‍🎓: just keep reading, you are at the right place.\n"
   ]
  },
  {
   "cell_type": "markdown",
   "metadata": {
    "slideshow": {
     "slide_type": "slide"
    }
   },
   "source": [
    "## Programming enviroments\n",
    "* Text editors: [Sublime text 3](https://www.sublimetext.com) (my choice), Atom, Notepad++, Vim...\n",
    "* Interactive console, IPython.\n",
    "* IDEs: PyCharm (most advanced IDE), IDLE.\n",
    "* Enviroments for researchers: Jupyter, Rodeo, Spyder."
   ]
  }
 ],
 "metadata": {
  "celltoolbar": "Slideshow",
  "hide_code_all_hidden": false,
  "kernelspec": {
   "display_name": "Python 3",
   "language": "python",
   "name": "python3"
  },
  "language_info": {
   "codemirror_mode": {
    "name": "ipython",
    "version": 3
   },
   "file_extension": ".py",
   "mimetype": "text/x-python",
   "name": "python",
   "nbconvert_exporter": "python",
   "pygments_lexer": "ipython3",
   "version": "3.7.4"
  },
  "toc": {
   "nav_menu": {},
   "number_sections": true,
   "sideBar": true,
   "skip_h1_title": false,
   "toc_cell": false,
   "toc_position": {},
   "toc_section_display": "block",
   "toc_window_display": true
  }
 },
 "nbformat": 4,
 "nbformat_minor": 4
}
