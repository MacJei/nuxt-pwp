{
 "cells": [
  {
   "cell_type": "markdown",
   "metadata": {
    "slideshow": {
     "slide_type": "slide"
    }
   },
   "source": [
    "## Installation\n",
    "First of all you need to install the interpreter of the Python. Interpreter is the programm which will execute you code. [Download](https://www.python.org/downloads/) Python and package manager **pip** from the official website and install in as an ordical programm. Don't forget to check the option **Add Python 3.X to PATH** to call Python's interpreter from the command line with simple `python` command. Mac users can install the python using the Homebrew package manager: `brew install python3`.\n",
    "\n",
    "Then, install code editor you like. I would advise to use [Sublime Text 3](https://www.sublimetext.com/) but it is a matter of taste.\n",
    "\n",
    "## Runnung the code\n",
    "\n",
    "<div class=\"note\">During this lesson I will extensively cite excelent book by Mark Lutz (https://www.zotero.org/ihun/items/itemKey/L3U2CJAL). You can read it by self to refresh the material.</div>\n",
    "\n",
    "There are two ways to write and run Python's code: using interactive prompt or modules. The simplest one is to type commands at the Python’s interactive prompt and run it immediately.\n",
    "\n",
    "To launch interactive prompt type `python` and pressing the **Enter** in the command line. Then you can write commands. Each command is run immediately after it’s entered. Moreover, because the interactive session automatically prints the results of expressions you type, you don’t usually need to say `print` explicitly at this prompt.\n",
    "\n",
    "<div class=\"note\">See <a href=\"https://access.redhat.com/documentation/en-US/Red_Hat_Enterprise_Linux/4/html/Step_by_Step_Guide/ap-doslinux.html\">Comparison of Common DOS and Linux Commands</a> to do more with command line.</div>\n",
    "\n",
    "The interactive prompt runs code and echoes results as you go, but it doesn’t save your code in a file. Although this means you won’t do the bulk of your coding in interactive sessions, the interactive prompt turns out to be a great place to both experiment with the language and test program files on the fly.\n",
    "\n",
    "<div class=\"task\">Write down and execute a simple arithmetical expression: $1+1$. What is the answer?</div>\n",
    "\n",
    "To save programs permanently, you need to write your code in files, which are usually known as **modules**. Modules are simply text files containing Python statements. Once they are coded, you can ask the Python interpreter to execute the statements in such a file any number of times, and in a variety of ways — by system command lines, by file icon clicks and so on.\n",
    "\n",
    "<div class=\"task\">\n",
    "Create text file with <strong>.py</strong> extension. Paste former arithmetical expression to the file and show its result using the <a href=\"https://docs.python.org/3/library/functions.html#print\"><code>print()</code></a> function. Run the module from the command line like this:\n",
    "<pre><code>python &lt;path-to-modile-here&gt;\n",
    "</code></pre>\n",
    "</div>\n",
    "\n",
    "\n",
    "## Documentation\n",
    "Ok, you have done a great job, but, I suppose, you have a lot of questions. The best way to answer them is to read the [documentation](https://docs.python.org/3/). Spend at least 15 minutes browsing the Python library and language manuals before moving on to get a feel for the available tools in the standard library and the structure of the documentation set. It takes at least this long to become familiar with the locations of major topics in the manual set; once you’ve done this, it’s easy to find what you need. "
   ]
  },
  {
   "cell_type": "markdown",
   "metadata": {
    "hideCode": false,
    "hidePrompt": false,
    "slideshow": {
     "slide_type": "slide"
    }
   },
   "source": [
    "## Structute of Python programms\n",
    "\n",
    "Python programs can be decomposed into modules, statements, expressions, and objects, as follows\n",
    "1. Programs are composed of modules.\n",
    "2. [**Modules**](https://docs.python.org/3/tutorial/modules.html) contain statements.\n",
    "3. [**Statements**](https://en.wikipedia.org/wiki/Statement_(computer_science)) contain expressions. Statements \n",
    "4. [**Expressions**](https://en.wikipedia.org/wiki/Expression_(computer_science)) create and process objects. <span calss=\"definition\">Expression is an instruction that combines objects and operators and always evaluates down to a single value</span>.\n",
    "\n",
    "There is quite subtle difference between Statements and Expressions:\n",
    "* Statements executed solely for their side effects, while expressions always return a result and often do not have side effects at all.\n",
    "* ...hence statements are *executed*, while *expressions* are evaluated."
   ]
  },
  {
   "cell_type": "code",
   "execution_count": 10,
   "metadata": {},
   "outputs": [],
   "source": [
    "1 + 1 # this is an expression\n",
    "some_var = 1 + 1 # but this is a statement, assignment statement namely\n",
    "if some_var > 0: # this is also a statement\n",
    "    pass"
   ]
  },
  {
   "cell_type": "markdown",
   "metadata": {},
   "source": [
    "It would be logically to start with expressions, but first of all I would like to mention assignment statement first since it is the most frequently used consructions in any language."
   ]
  },
  {
   "cell_type": "markdown",
   "metadata": {
    "hideCode": false,
    "hidePrompt": false,
    "slideshow": {
     "slide_type": "slide"
    }
   },
   "source": [
    "## [Assignment statement](https://en.wikipedia.org/wiki/Assignment_(computer_science)) and [Variables](https://en.wikipedia.org/wiki/Variable_(computer_science))\n",
    "Variables are simply names created by you or Python that are used to keep track of information in your program."
   ]
  },
  {
   "cell_type": "code",
   "execution_count": 12,
   "metadata": {
    "ExecuteTime": {
     "end_time": "2018-07-14T13:46:31.051755Z",
     "start_time": "2018-07-14T13:46:31.047925Z"
    },
    "hideCode": false,
    "hidePrompt": false,
    "slideshow": {
     "slide_type": "fragment"
    }
   },
   "outputs": [
    {
     "data": {
      "text/plain": [
       "3"
      ]
     },
     "execution_count": 12,
     "metadata": {},
     "output_type": "execute_result"
    }
   ],
   "source": [
    "a = 3 # create reference from name \"a\" to object \"3\" using assignment operator \n",
    "a # now you can reference to the object \"3\" by the name \"a\""
   ]
  },
  {
   "cell_type": "markdown",
   "metadata": {},
   "source": [
    "Each time you generate a new value in your script by running an expression, Python creates a new object (i.e., a chunk of memory) to represent that value. Assignment statement is used to refer to that value in future.\n",
    "\n",
    "<div class=\"note\">Wikipedia <a href=\"https://en.wikipedia.org/wiki/Assignment_(computer_science)\">said</a>: \"Assignment statement ... copies a value into the variable\". It is really so for most languages, and in R, for example, assignment statement would be written as <code>a &lt;- 3</code> which stress that fact that you put (copy) the value into variable. But Python is different in that aspect, because assignment in Python mean <a href=\"https://robertheaton.com/2014/02/09/pythons-pass-by-object-reference-as-explained-by-philip-k-dick/\">reference</a>.</div>\n",
    "\n",
    "More fact about variables:\n",
    "* Variables are created when they are first assigned values.\n",
    "* Variables are replaced with their values when used in expressions.\n",
    "* Variables must be assigned before they can be used in expressions.\n",
    "* Variables refer to objects and are never declared ahead of time.\n",
    "\n",
    "Variables can be assigned in the following ways:\n",
    "\n",
    "| Operation   |  Interpretation |\n",
    "|----------|------:|\n",
    "| `spam = 'Spam'` | Basic form |\n",
    "| `spam, ham = 'yum', 'YUM'` |  Tuple assignment (positional) |\n",
    "| `[spam, ham] = ['yum', 'YUM']` |    List assignment (positional) |\n",
    "| `a, b, c, d = 'spam'` | Sequence assignment, generalized |\n",
    "| `a, *b = 'spam'` | Extended sequence unpacking (Python 3.X) |\n",
    "| `spam = ham = 'lunch'` | Multiple-target assignment |\n",
    "| `spams += 42` | Augmented assignment (equivalent to spams = spams + 42) |"
   ]
  },
  {
   "cell_type": "markdown",
   "metadata": {},
   "source": [
    "## Commentaries"
   ]
  },
  {
   "cell_type": "markdown",
   "metadata": {
    "hideCode": false,
    "hidePrompt": false,
    "slideshow": {
     "slide_type": "fragment"
    }
   },
   "source": [
    "The text after a `#` is simply ignored as a human-readable comment and is not considered part of the statement’s syntax. Comments can show up on lines by themselves, or to the right of code on a line."
   ]
  },
  {
   "cell_type": "markdown",
   "metadata": {
    "hideCode": false,
    "hidePrompt": false,
    "slideshow": {
     "slide_type": "slide"
    }
   },
   "source": [
    "## Expressions: core data types its operators\n",
    "\n",
    "Now we can approach to the comprehension of the **expressions**. As you probably remember, expressions are instructions that combines **objects** and **operators** and always evaluates down to a single value. Lets consider core types of objects. It is extremely important since everything we process in Python programs is a kind of object — numbers, functions, classes, modules, everything! But fow now we will only consider objects which can store the data — core data types.\n",
    "\n",
    "| Core data type | Build-in notation | Constructor | Mutable |\n",
    "|-----------|------------|------------|------------|\n",
    "| Numbers     |`1234`, `3.1415`, `3+4j`| `int`, `float`, `complex` | ✖️ |\n",
    "| Boolean | — | `bool` | ✖️ |\n",
    "| Strings     |`'spam'`, `\"Bob's\"` | `str` |  ✖️ |\n",
    "| Lists       |`[1, [2, 'three'], 4.5]` | `list` | ✔ |\n",
    "| Dictionaries         |          `{'food': 'spam', 'taste': 'yum'}` | `dict` | ✔ |\n",
    "| Tuples       |       `(1, 'spam', 4, 'U')` | `tuple` | ✖️ |\n",
    "| Sets    |   `{'a', 'b', 'c'}` | `set` | ✔ |\n",
    "| Frоzen set | — | frozenset | ✖️ |\n",
    "|Other core types| types, None| | |\n",
    "\n",
    "To get the type of any object pass it to the function [`type`](https://docs.python.org/3/library/functions.html#type):"
   ]
  },
  {
   "cell_type": "code",
   "execution_count": 17,
   "metadata": {},
   "outputs": [
    {
     "data": {
      "text/plain": [
       "str"
      ]
     },
     "execution_count": 17,
     "metadata": {},
     "output_type": "execute_result"
    }
   ],
   "source": [
    "type(\"what type?\")"
   ]
  },
  {
   "cell_type": "markdown",
   "metadata": {},
   "source": [
    "Every type of object can be used with a definite set of operators in a definite way. For example, operator plus `+` sum numbers but concatinate the strings, operator `-` substract one number from anoth and can not be used with strings:"
   ]
  },
  {
   "cell_type": "code",
   "execution_count": 13,
   "metadata": {},
   "outputs": [
    {
     "data": {
      "text/plain": [
       "2"
      ]
     },
     "execution_count": 13,
     "metadata": {},
     "output_type": "execute_result"
    }
   ],
   "source": [
    "1 + 1 # sum"
   ]
  },
  {
   "cell_type": "code",
   "execution_count": 14,
   "metadata": {},
   "outputs": [
    {
     "data": {
      "text/plain": [
       "'abcdef'"
      ]
     },
     "execution_count": 14,
     "metadata": {},
     "output_type": "execute_result"
    }
   ],
   "source": [
    "\"abc\" + \"def\" # string concatenation, not the sum"
   ]
  },
  {
   "cell_type": "code",
   "execution_count": 15,
   "metadata": {},
   "outputs": [
    {
     "ename": "TypeError",
     "evalue": "unsupported operand type(s) for -: 'str' and 'str'",
     "output_type": "error",
     "traceback": [
      "\u001b[0;31m---------------------------------------------------------------------------\u001b[0m",
      "\u001b[0;31mTypeError\u001b[0m                                 Traceback (most recent call last)",
      "\u001b[0;32m<ipython-input-15-9b50af604d18>\u001b[0m in \u001b[0;36m<module>\u001b[0;34m\u001b[0m\n\u001b[0;32m----> 1\u001b[0;31m \u001b[0;34m\"abc\"\u001b[0m \u001b[0;34m-\u001b[0m \u001b[0;34m\"def\"\u001b[0m\u001b[0;34m\u001b[0m\u001b[0;34m\u001b[0m\u001b[0m\n\u001b[0m",
      "\u001b[0;31mTypeError\u001b[0m: unsupported operand type(s) for -: 'str' and 'str'"
     ]
    }
   ],
   "source": [
    "\"abc\" - \"def\" # error"
   ]
  },
  {
   "cell_type": "markdown",
   "metadata": {},
   "source": [
    "<div class=\"task\">Guess, what will be the result if we apply multiplication operator to the string, like that: <code>\"mama\" * 3</code>?</div>\n",
    "\n",
    "Moreover, in addition to expression operators, data types provide a set of methods that implement more sophisticated tasks. In Python, expressions and built-in functions may work across a range of types, but methods are generally specific to object types — string methods, for example, work only on string objects. **Methods** are simply functions that are associated with and act upon particular objects. Technically, they are attributes attached to objects that happen to reference callable functions which always have an implied subject. \n",
    "\n",
    "Method calls combine two operations at once — an attribute fetch using dot operator `.` and a call with brackets `()`. General syntax of calling method to process object with arguments looks like this:"
   ]
  },
  {
   "cell_type": "code",
   "execution_count": null,
   "metadata": {},
   "outputs": [],
   "source": [
    "object.method(arguments)"
   ]
  },
  {
   "cell_type": "markdown",
   "metadata": {},
   "source": [
    "For example, to return a copy of the string with all the cased characters converted to uppercase call method [`upper`](https://docs.python.org/3/library/stdtypes.html?highlight=upper#str.upper) on a string object."
   ]
  },
  {
   "cell_type": "code",
   "execution_count": 16,
   "metadata": {},
   "outputs": [
    {
     "data": {
      "text/plain": [
       "'USA'"
      ]
     },
     "execution_count": 16,
     "metadata": {},
     "output_type": "execute_result"
    }
   ],
   "source": [
    "\"usa\".upper() # returns \"USA\""
   ]
  },
  {
   "cell_type": "markdown",
   "metadata": {},
   "source": [
    "\n",
    "Now lets look at the every core data type and investigate its methods and how it works with different operators."
   ]
  },
  {
   "cell_type": "markdown",
   "metadata": {
    "ExecuteTime": {
     "end_time": "2018-07-10T20:42:02.111904Z",
     "start_time": "2018-07-10T20:42:01.933924Z"
    },
    "hideCode": false,
    "hidePrompt": false,
    "slideshow": {
     "slide_type": "slide"
    }
   },
   "source": [
    "### [Numeric Types](https://docs.python.org/3/library/stdtypes.html#typesnumeric)\n",
    "\n",
    "In Python, numbers are not really a single object type, but a category of similar types:\n",
    "\n",
    "* [**Integers**](https://docs.python.org/3/library/functions.html#int) that have no fractional part. Integers are written as strings of decimal digits: `123`.\n",
    "* [**Floating-point**](https://docs.python.org/3/library/functions.html#float) numbers have a decimal point and/or an optional signed [exponent](https://en.wikipedia.org/wiki/Scientific_notation) introduced by an e or E and followed by an optional sign: `1.23`.\n",
    "\n",
    "The other data types are used much less often:\n",
    "* **Complex**. Numbers with real and imaginary parts.\n",
    "* [**Fraction**](https://docs.python.org/3/library/fractions.html#module-fractions) and [**Decimal**](https://docs.python.org/3/library/decimal.html) for the best precision.\n",
    "\n",
    "<div class=\"note\">\n",
    "Some others also include booleans and sets into this category. there are reasons for this but I will regard them differently.\n",
    "</div>"
   ]
  },
  {
   "cell_type": "code",
   "execution_count": 11,
   "metadata": {
    "ExecuteTime": {
     "end_time": "2018-07-10T20:48:08.456777Z",
     "start_time": "2018-07-10T20:48:08.453835Z"
    },
    "hideCode": false,
    "hidePrompt": false,
    "slideshow": {
     "slide_type": "slide"
    }
   },
   "outputs": [
    {
     "name": "stdout",
     "output_type": "stream",
     "text": [
      "<class 'complex'>     3.0     4.0\n"
     ]
    }
   ],
   "source": [
    "integer = 1234\n",
    "integer_negative = -24\n",
    "float_number = 1.23\n",
    "float_engineer = 3.14e-10 # scientific notation \n",
    "complex_num = 3 + 4j\n",
    "print(type(complex_num), complex_num.real, complex_num.imag, sep=\" \"*5)"
   ]
  },
  {
   "cell_type": "markdown",
   "metadata": {},
   "source": [
    "Python also allows us to write integers using decimal (base 10), hexadecimal (base 16), octal (base 8) or binary (base 2) literal:"
   ]
  },
  {
   "cell_type": "code",
   "execution_count": 19,
   "metadata": {},
   "outputs": [],
   "source": [
    "octal = 0o177\n",
    "hexadecimal = 0x9ff\n",
    "binary = 0b101"
   ]
  },
  {
   "cell_type": "markdown",
   "metadata": {},
   "source": [
    "<div class=\"task\">\n",
    "How would you write the number <b>0b101</b> in decimal system?\n",
    "</div>\n",
    "\n",
    "#### Expression Operators for Numeric Types\n",
    "\n",
    "| Operators | Description |\n",
    "|-----------|------------|\n",
    "| `x < y`, `x <= y`, `x > y`, `x >= y` | Comparison |\n",
    "| `x == y`, `x != y` | Equality |\n",
    "| `x + y`     |Addition|\n",
    "| `x – y`     |Subtraction|\n",
    "| `x * y`       |Multiplication;|\n",
    "| `x % y`     | Remainder |\n",
    "| `x / y`, `x // y`       |   Division: true and floor |\n",
    "| `−x`   |  Negation |\n",
    "| `x ** y`| Power|\n",
    "\n",
    "When you mix expressions in another expression, like `2 + 3 * 4^2`, operators lower in the table have higher precedence. You can forget about precedence completely if you’re careful to group parts of expres- sions with parentheses: `((2 + 3) * 4)^2`. "
   ]
  },
  {
   "cell_type": "markdown",
   "metadata": {},
   "source": [
    "Besides mixing operators in expressions, you can also mix numeric types. For instance, you can add an integer to a floating-point number:"
   ]
  },
  {
   "cell_type": "code",
   "execution_count": 109,
   "metadata": {
    "ExecuteTime": {
     "end_time": "2018-09-09T19:32:14.428200Z",
     "start_time": "2018-09-09T19:32:14.422368Z"
    },
    "hideCode": false,
    "hidePrompt": false,
    "slideshow": {
     "slide_type": "fragment"
    }
   },
   "outputs": [
    {
     "data": {
      "text/plain": [
       "11.5"
      ]
     },
     "execution_count": 109,
     "metadata": {},
     "output_type": "execute_result"
    }
   ],
   "source": [
    "2 + 2.3"
   ]
  },
  {
   "cell_type": "markdown",
   "metadata": {
    "slideshow": {
     "slide_type": "fragment"
    }
   },
   "source": [
    "To execute this expression Python converts more simple types to more complex: integers are simpler than floating-point numbers, which are simpler than complex numbers."
   ]
  },
  {
   "cell_type": "markdown",
   "metadata": {
    "hideCode": false,
    "hidePrompt": false,
    "slideshow": {
     "slide_type": "slide"
    }
   },
   "source": [
    "Result of comparisons between number is a boolean value."
   ]
  },
  {
   "cell_type": "code",
   "execution_count": 25,
   "metadata": {
    "ExecuteTime": {
     "end_time": "2018-07-10T21:24:48.282046Z",
     "start_time": "2018-07-10T21:24:48.271608Z"
    },
    "hideCode": false,
    "hidePrompt": false,
    "slideshow": {
     "slide_type": "fragment"
    }
   },
   "outputs": [
    {
     "data": {
      "text/plain": [
       "True"
      ]
     },
     "execution_count": 25,
     "metadata": {},
     "output_type": "execute_result"
    }
   ],
   "source": [
    "1 < 2 # Less than"
   ]
  },
  {
   "cell_type": "markdown",
   "metadata": {
    "hideCode": false,
    "hidePrompt": false,
    "slideshow": {
     "slide_type": "slide"
    }
   },
   "source": [
    "### Boolean"
   ]
  },
  {
   "cell_type": "markdown",
   "metadata": {
    "hideCode": false,
    "hidePrompt": false,
    "slideshow": {
     "slide_type": "fragment"
    }
   },
   "source": [
    "Python Boolean type, `bool`, is numeric in nature because its two values, `True` and `False`, are just customized versions of the integers `1` and `0` that print themselves differently. Because `True` is just the integer `1` with a custom display format, `True + 4` yields integer `5` in Python!"
   ]
  },
  {
   "cell_type": "code",
   "execution_count": 28,
   "metadata": {
    "ExecuteTime": {
     "end_time": "2018-07-10T21:34:32.366029Z",
     "start_time": "2018-07-10T21:34:32.360932Z"
    },
    "hideCode": false,
    "hidePrompt": false,
    "slideshow": {
     "slide_type": "slide"
    }
   },
   "outputs": [
    {
     "data": {
      "text/plain": [
       "5"
      ]
     },
     "execution_count": 28,
     "metadata": {},
     "output_type": "execute_result"
    }
   ],
   "source": [
    "True + 4 # lolwut"
   ]
  },
  {
   "cell_type": "markdown",
   "metadata": {},
   "source": [
    "You can make sure that numeric data type is really an ancestor of the boolean by calling `isinstance` function, which returns `True` if the specified object is of the specified type, otherwise `False`."
   ]
  },
  {
   "cell_type": "code",
   "execution_count": 35,
   "metadata": {
    "ExecuteTime": {
     "end_time": "2018-09-08T22:51:37.265225Z",
     "start_time": "2018-09-08T22:51:37.258715Z"
    },
    "hideCode": false,
    "hidePrompt": false,
    "slideshow": {
     "slide_type": "fragment"
    }
   },
   "outputs": [
    {
     "data": {
      "text/plain": [
       "(True, True)"
      ]
     },
     "execution_count": 35,
     "metadata": {},
     "output_type": "execute_result"
    }
   ],
   "source": [
    "isinstance(True, int), issubclass(bool, int)"
   ]
  },
  {
   "cell_type": "code",
   "execution_count": 28,
   "metadata": {
    "ExecuteTime": {
     "end_time": "2018-09-08T22:47:23.520982Z",
     "start_time": "2018-09-08T22:47:23.511739Z"
    },
    "slideshow": {
     "slide_type": "fragment"
    }
   },
   "outputs": [
    {
     "data": {
      "text/plain": [
       "(False, True)"
      ]
     },
     "execution_count": 28,
     "metadata": {},
     "output_type": "execute_result"
    }
   ],
   "source": [
    "bool(0), bool(1)"
   ]
  },
  {
   "cell_type": "markdown",
   "metadata": {
    "hideCode": false,
    "hidePrompt": false,
    "slideshow": {
     "slide_type": "slide"
    }
   },
   "source": [
    "\n",
    "#### Logical operators\n",
    "\n",
    "| Operators | Description |\n",
    "|-----------|------------|\n",
    "| `x if y else z` | Ternary selection (x is evaluated only if y is true)|\n",
    "| `x or y` | Logical OR (y is evaluated only if x is false) |\n",
    "| `x and y` | Logical AND (y is evaluated only if x is true) |\n",
    "| `not x` | Logical negation |\n",
    "| `x in y, x not in y` | Membership (iterables, sets) |\n",
    "| `x is y, x is not y` | Object identity tests |\n",
    "| `x == y, x != y` | Value equality operators |\n",
    "| `x \\| y` | Bitwise OR |\n",
    "| `x ^ y` | Value equality operators |\n",
    "| `x & y` | Bitwise AND |"
   ]
  },
  {
   "cell_type": "markdown",
   "metadata": {},
   "source": [
    "Most these operators are quite easy to understand. Быстро объяснить"
   ]
  },
  {
   "cell_type": "markdown",
   "metadata": {},
   "source": [
    "Looking at this table you might ask some question."
   ]
  },
  {
   "cell_type": "code",
   "execution_count": 9,
   "metadata": {
    "ExecuteTime": {
     "end_time": "2018-11-13T19:25:29.053536Z",
     "start_time": "2018-11-13T19:25:29.048211Z"
    },
    "hideCode": false,
    "hidePrompt": false,
    "slideshow": {
     "slide_type": "slide"
    }
   },
   "outputs": [
    {
     "data": {
      "text/plain": [
       "True"
      ]
     },
     "execution_count": 9,
     "metadata": {},
     "output_type": "execute_result"
    }
   ],
   "source": [
    "True == 1 # equal values"
   ]
  },
  {
   "cell_type": "code",
   "execution_count": 31,
   "metadata": {
    "ExecuteTime": {
     "end_time": "2018-09-08T22:48:17.154086Z",
     "start_time": "2018-09-08T22:48:17.146898Z"
    },
    "slideshow": {
     "slide_type": "fragment"
    }
   },
   "outputs": [
    {
     "data": {
      "text/plain": [
       "False"
      ]
     },
     "execution_count": 31,
     "metadata": {},
     "output_type": "execute_result"
    }
   ],
   "source": [
    "True is 1 # but not the same"
   ]
  },
  {
   "cell_type": "markdown",
   "metadata": {
    "ExecuteTime": {
     "end_time": "2018-07-15T22:13:24.375605Z",
     "start_time": "2018-07-15T22:13:24.370969Z"
    },
    "slideshow": {
     "slide_type": "slide"
    }
   },
   "source": [
    "<div class=\"task\" title=\"import calendar print(calendar.isleap(year)) is_leap = (year % 4 is 0 and year % 100 is not 0) or year % 400 is 0\">\n",
    "Determine whether the given year is a leap year. A year is a leap year if it is a multiple of 4, but not a multiple of 100, or a multiple of 400.\n",
    "</div>"
   ]
  },
  {
   "cell_type": "code",
   "execution_count": null,
   "metadata": {},
   "outputs": [],
   "source": [
    "year = # type a year here\n",
    "is_leap = # write logical expression here\n",
    "print(is_leap) "
   ]
  },
  {
   "cell_type": "markdown",
   "metadata": {
    "hideCode": false,
    "hidePrompt": false,
    "slideshow": {
     "slide_type": "slide"
    }
   },
   "source": [
    "### [String](https://docs.python.org/3/library/string.html)\n",
    "\n",
    "Strings are defined as **immutable ordered sequence** of characters. Strings are used to record both textual information (your name, for instance) as well as arbitrary collections of bytes (such as an image file’s contents). They are our first example of what in Python we call a **sequence**—a positionally ordered collection of other objects. Sequences maintain a left-to-right order among the items they contain: their items are stored and fetched by their relative positions. Strictly speaking, strings are sequences of one-character strings; other, more general sequence types include lists and tuples, covered later.\n",
    "\n",
    "The start and end of the string are defined with a pair of quotation marks. Around Python strings, single- and double-quote characters are interchangeable. "
   ]
  },
  {
   "cell_type": "code",
   "execution_count": 90,
   "metadata": {},
   "outputs": [],
   "source": [
    "# BTW you can split the strings in code like this\n",
    "\n",
    "s = \"D'Artagnan, seeing him approach, drew his\" + \\\n",
    "    \" sword a foot out of the scabbard.\" # a string\n",
    "s = '\"This horse is decidedly, or rather has been in his ' + \\\n",
    "    'youth, a buttercup,\" resumed the stranger' # also a string"
   ]
  },
  {
   "cell_type": "markdown",
   "metadata": {},
   "source": [
    "<div class=\"note\">According to <a href=\"https://www.python.org/dev/peps/pep-0008/#maximum-line-length\">PEP8</a> the line length should be limited to 72 characters. To split long expression on the many lines you need to enclose it in any kind of brackets ((), [], {}), or use `\\` as delimiter.</div>\n",
    "\n",
    "Python also has a triple-quoted string literal format, sometimes called a block string, that is a syntactic convenience for coding multiline text data. This form begins with three quotes (of either the single or double variety), is followed by any number of lines of text, and is closed with the same triple-quote sequence that opened it. Single and double quotes embedded in the string’s text may be, but do not have to be, escaped."
   ]
  },
  {
   "cell_type": "code",
   "execution_count": 58,
   "metadata": {},
   "outputs": [],
   "source": [
    "s = '''\n",
    "She walks in beauty, like the night \n",
    "Of cloudless climes and starry skies; \n",
    "And all that’s best of dark and bright \n",
    "Meet in her aspect and her eyes;\n",
    "\n",
    "Excerpt from the poem \"She Walks in Beauty\" by LORD BYRON\n",
    "''' # multiline string"
   ]
  },
  {
   "cell_type": "markdown",
   "metadata": {
    "hideCode": false,
    "hidePrompt": false,
    "slideshow": {
     "slide_type": "slide"
    }
   },
   "source": [
    "#### String as a Sequence: Indexing and Slicing\n",
    "\n",
    "Because strings are sequences, we can access their components by position. In Python, characters in a string are fetched by indexing— providing the numeric offset of the desired component in square brackets after the string.\n",
    "\n",
    "Indexes are coded as offsets from the front, and so start from 0: the first item is at index 0, the second is at index 1, and so on.  Index ends at one less than the length of the string."
   ]
  },
  {
   "cell_type": "code",
   "execution_count": 50,
   "metadata": {
    "ExecuteTime": {
     "end_time": "2018-11-13T19:42:11.723698Z",
     "start_time": "2018-11-13T19:42:11.718452Z"
    },
    "hideCode": false,
    "hidePrompt": false,
    "slideshow": {
     "slide_type": "fragment"
    }
   },
   "outputs": [
    {
     "data": {
      "text/plain": [
       "'b'"
      ]
     },
     "execution_count": 50,
     "metadata": {},
     "output_type": "execute_result"
    }
   ],
   "source": [
    "s = 'abcdefghijklmnop'\n",
    "s[1] # second character"
   ]
  },
  {
   "cell_type": "markdown",
   "metadata": {},
   "source": [
    "Python also lets you fetch items from sequences such as strings using negative offsets. Technically, a negative offset is added to the length of a string to derive a positive offset."
   ]
  },
  {
   "cell_type": "code",
   "execution_count": 41,
   "metadata": {},
   "outputs": [
    {
     "data": {
      "text/plain": [
       "'o'"
      ]
     },
     "execution_count": 41,
     "metadata": {},
     "output_type": "execute_result"
    }
   ],
   "source": [
    "s[-2] # penultimate character"
   ]
  },
  {
   "cell_type": "markdown",
   "metadata": {},
   "source": [
    "In addition to simple positional indexing, sequences also support a more general form of indexing known as slicing, which is a way to extract an entire section (slice) in a single step. The left offset is taken to be the lower bound (inclusive), and the right is the upper bound (noninclusive)."
   ]
  },
  {
   "cell_type": "code",
   "execution_count": 39,
   "metadata": {
    "ExecuteTime": {
     "end_time": "2018-09-08T23:02:49.942866Z",
     "start_time": "2018-09-08T23:02:49.934609Z"
    },
    "hideCode": false,
    "hidePrompt": false,
    "slideshow": {
     "slide_type": "fragment"
    }
   },
   "outputs": [
    {
     "data": {
      "text/plain": [
       "'bcdefghijklmn'"
      ]
     },
     "execution_count": 39,
     "metadata": {},
     "output_type": "execute_result"
    }
   ],
   "source": [
    "s[1:-2] # slice [start: end]"
   ]
  },
  {
   "cell_type": "markdown",
   "metadata": {},
   "source": [
    "In a slice, the left bound defaults to zero, and the right bound defaults to the length of the sequence being sliced:"
   ]
  },
  {
   "cell_type": "code",
   "execution_count": 42,
   "metadata": {},
   "outputs": [
    {
     "data": {
      "text/plain": [
       "'abc'"
      ]
     },
     "execution_count": 42,
     "metadata": {},
     "output_type": "execute_result"
    }
   ],
   "source": [
    "s[:3] # returns first the charasters"
   ]
  },
  {
   "cell_type": "markdown",
   "metadata": {},
   "source": [
    "Slice expressions support for an optional third index, used as a step (sometimes called a stride). The step is added to the index of each item extracted:"
   ]
  },
  {
   "cell_type": "code",
   "execution_count": 51,
   "metadata": {
    "ExecuteTime": {
     "end_time": "2018-11-13T19:42:14.988594Z",
     "start_time": "2018-11-13T19:42:14.982976Z"
    },
    "hideCode": false,
    "hidePrompt": false,
    "slideshow": {
     "slide_type": "fragment"
    }
   },
   "outputs": [
    {
     "data": {
      "text/plain": [
       "'ace'"
      ]
     },
     "execution_count": 51,
     "metadata": {},
     "output_type": "execute_result"
    }
   ],
   "source": [
    "s[:5:2] # extract every second item in \"s\", from beginig through 4."
   ]
  },
  {
   "cell_type": "markdown",
   "metadata": {
    "slideshow": {
     "slide_type": "slide"
    }
   },
   "source": [
    "Because strings are the sequences you can also use the other keywords with them: `in`, `for` and so on."
   ]
  },
  {
   "cell_type": "code",
   "execution_count": 52,
   "metadata": {
    "ExecuteTime": {
     "end_time": "2018-11-13T19:52:56.602142Z",
     "start_time": "2018-11-13T19:52:56.595407Z"
    },
    "slideshow": {
     "slide_type": "fragment"
    }
   },
   "outputs": [
    {
     "name": "stdout",
     "output_type": "stream",
     "text": [
      "Character !.\n",
      "Character \".\n",
      "Character #.\n",
      "Character $.\n",
      "Character %.\n"
     ]
    }
   ],
   "source": [
    "from string import punctuation\n",
    "\n",
    "for char in punctuation[:5]:\n",
    "    print(f\"Character {char}.\")"
   ]
  },
  {
   "cell_type": "markdown",
   "metadata": {
    "ExecuteTime": {
     "end_time": "2018-09-09T21:05:04.154291Z",
     "start_time": "2018-09-09T21:05:04.147398Z"
    },
    "slideshow": {
     "slide_type": "slide"
    }
   },
   "source": [
    "<div class=\"task\">Print the string <strong>Mr. Owl ate my metal worm</strong> in the reverse order. How is this type of phrase called?</div>"
   ]
  },
  {
   "cell_type": "markdown",
   "metadata": {},
   "source": [
    "#### String is an immutable type\n",
    "\n",
    "Every string operation is defined to produce a new string as its result, because strings are immutable in Python—they cannot be changed in place after they are created. In other words, you can never overwrite the values of immutable objects. For example, you can’t change a string by assigning to one of its positions, but you can always build a new one and assign it to the same name.\n",
    "\n",
    "To prove thi I will use [`id`](https://docs.python.org/3/library/functions.html#id) function, which returns unique and constant integer for the object:"
   ]
  },
  {
   "cell_type": "code",
   "execution_count": 53,
   "metadata": {
    "ExecuteTime": {
     "end_time": "2018-11-13T19:34:13.731472Z",
     "start_time": "2018-11-13T19:34:13.727362Z"
    },
    "slideshow": {
     "slide_type": "fragment"
    }
   },
   "outputs": [
    {
     "name": "stdout",
     "output_type": "stream",
     "text": [
      "4538087384\n",
      "4538059696\n"
     ]
    }
   ],
   "source": [
    "example_string = \"Hello\"\n",
    "print(id(example_string))\n",
    "\n",
    "example_string = example_string + \", world!\"\n",
    "print(id(example_string))"
   ]
  },
  {
   "cell_type": "markdown",
   "metadata": {
    "hideCode": false,
    "hidePrompt": false,
    "slideshow": {
     "slide_type": "slide"
    }
   },
   "source": [
    "#### Basic operators\n",
    "\n",
    "| Operators          | Interpretation |\n",
    "|--------------------|------------|\n",
    "| `S1 + S2`   | Concatenate|\n",
    "| `S * 3`   | Repeat|\n",
    "| `S[i]`   | Index|\n",
    "| `S[i:j:k]`   | Slice|\n",
    "| `len(S)`   | Length|\n",
    "| `in` | Membership |\n",
    "| `for` | Loop |\n",
    "\n",
    "\n",
    "#### [String Methods](https://docs.python.org/3/library/stdtypes.html#string-methods)\n",
    "\n",
    "| Methods          | Interpretation |\n",
    "|--------------------|------------|\n",
    "| `S.split()` |Split on delimiter|\n",
    "| `S.rstrip()` |Remove whitespace|\n",
    "| `S.replace('pa', 'xx')` |Replacement|\n",
    "| `S.split(',')` |Split on delimiter|\n",
    "| `S.isdigit()` |Content test|\n",
    "| `S.lower()`, `S.upper()` |Case conversion|\n",
    "| `S.startswith('spam')` |Start test|\n",
    "| `S.endswith('spam')` |End test|\n",
    "| `S.find('spam')` |Search. -1 if no, index if yes|\n",
    "\n",
    "<div class=\"note\">Execute <code>help(str().replace)</code> to how this method works.</div>"
   ]
  },
  {
   "cell_type": "markdown",
   "metadata": {},
   "source": [
    "#### Escape characters\n",
    "As many other languages Python supports eascape characters this the strings. Escape character is a character which invokes an alternative interpretation on subsequent characters in a character sequence. An escape character may not have its own meaning, so all escape sequences are of two or more characters.\n",
    "\n",
    "The common escape characters are: \n",
    "* `\\'` — single quote\n",
    "* `\\\"` — double quote\n",
    "* `\\\\` — backslash\n",
    "* `\\n` — new line\n",
    "* `\\r` — carriage return\n",
    "* `\\t` — tab\n",
    "* `\\b` — backspace\n",
    "* `\\xFF` — character represented by the hexadecimal byte \"FF\""
   ]
  },
  {
   "cell_type": "code",
   "execution_count": 59,
   "metadata": {},
   "outputs": [
    {
     "name": "stdout",
     "output_type": "stream",
     "text": [
      "Fifteen men on the dead man's chest—\n",
      "...ÿo-ho-ho, and a bottle of rum!\n"
     ]
    }
   ],
   "source": [
    "print('Fifteen men on the dead man\\'s chest—\\n...\\xFFo-ho-ho, and a bottle of rum!')"
   ]
  },
  {
   "cell_type": "markdown",
   "metadata": {
    "hideCode": false,
    "hidePrompt": false,
    "slideshow": {
     "slide_type": "slide"
    }
   },
   "source": [
    "#### String Conversion"
   ]
  },
  {
   "cell_type": "markdown",
   "metadata": {},
   "source": [
    "One of Python’s design <abbr title=\"A short sentence or phrase chosen as encapsulating the beliefs or ideals\">mottos</abbr> is that it refuses the temptation to guess. As a prime example, you cannot add a number and a string together in Python, even if the string looks like a number, because `+` can mean both addition and concatenation, the choice of conversion would be ambiguous. Instead, Python treats this as an error."
   ]
  },
  {
   "cell_type": "code",
   "execution_count": 60,
   "metadata": {
    "ExecuteTime": {
     "end_time": "2018-08-30T18:30:58.263118Z",
     "start_time": "2018-08-30T18:30:58.246290Z"
    },
    "slideshow": {
     "slide_type": "fragment"
    }
   },
   "outputs": [
    {
     "ename": "TypeError",
     "evalue": "can only concatenate str (not \"int\") to str",
     "output_type": "error",
     "traceback": [
      "\u001b[0;31m---------------------------------------------------------------------------\u001b[0m",
      "\u001b[0;31mTypeError\u001b[0m                                 Traceback (most recent call last)",
      "\u001b[0;32m<ipython-input-60-d2b23a1db757>\u001b[0m in \u001b[0;36m<module>\u001b[0;34m\u001b[0m\n\u001b[0;32m----> 1\u001b[0;31m \u001b[0;34m'2'\u001b[0m \u001b[0;34m+\u001b[0m \u001b[0;36m2\u001b[0m\u001b[0;34m\u001b[0m\u001b[0;34m\u001b[0m\u001b[0m\n\u001b[0m",
      "\u001b[0;31mTypeError\u001b[0m: can only concatenate str (not \"int\") to str"
     ]
    }
   ],
   "source": [
    "'2' + 2"
   ]
  },
  {
   "cell_type": "markdown",
   "metadata": {},
   "source": [
    "You need to employ conversion tools before you can treat a string like a number, or vice versa"
   ]
  },
  {
   "cell_type": "code",
   "execution_count": 61,
   "metadata": {
    "ExecuteTime": {
     "end_time": "2018-07-10T22:31:37.976685Z",
     "start_time": "2018-07-10T22:31:37.970536Z"
    },
    "hideCode": false,
    "hidePrompt": false,
    "slideshow": {
     "slide_type": "fragment"
    }
   },
   "outputs": [
    {
     "data": {
      "text/plain": [
       "('22', 4)"
      ]
     },
     "execution_count": 61,
     "metadata": {},
     "output_type": "execute_result"
    }
   ],
   "source": [
    "\"2\" + str(2), int(\"2\") + 2"
   ]
  },
  {
   "cell_type": "markdown",
   "metadata": {},
   "source": [
    "Empty string is converted to the boolean `False` when necessary:"
   ]
  },
  {
   "cell_type": "code",
   "execution_count": 17,
   "metadata": {
    "ExecuteTime": {
     "end_time": "2018-08-30T18:31:26.162293Z",
     "start_time": "2018-08-30T18:31:26.143746Z"
    },
    "slideshow": {
     "slide_type": "fragment"
    }
   },
   "outputs": [
    {
     "data": {
      "text/plain": [
       "(True, False)"
      ]
     },
     "execution_count": 17,
     "metadata": {},
     "output_type": "execute_result"
    }
   ],
   "source": [
    "bool(\"abs\"), bool(\"\")"
   ]
  },
  {
   "cell_type": "markdown",
   "metadata": {},
   "source": [
    "It is very convenient. Otherwise we have to write less readable `if name != \"\"` at the lower statement."
   ]
  },
  {
   "cell_type": "code",
   "execution_count": 64,
   "metadata": {
    "ExecuteTime": {
     "end_time": "2018-08-30T18:34:29.198386Z",
     "start_time": "2018-08-30T18:34:29.178389Z"
    },
    "slideshow": {
     "slide_type": "fragment"
    }
   },
   "outputs": [
    {
     "name": "stdout",
     "output_type": "stream",
     "text": [
      "Fill the name, please\n"
     ]
    }
   ],
   "source": [
    "name = \"\"\n",
    "\n",
    "if not name:\n",
    "    print(\"Fill the name, please\")"
   ]
  },
  {
   "cell_type": "markdown",
   "metadata": {
    "slideshow": {
     "slide_type": "slide"
    }
   },
   "source": [
    "#### String formatting\n",
    "\n",
    "The easiest way to format a string is to concatenate existing strings using the `+` operator. But if the strings are long and there are many of them, this approach will not work, and you will need to refer to the string formatting expressions. There are [many ways](https://realpython.com/python-string-formatting/) to format strings in Python. Let consider two most common: string object’s [format method]((https://docs.python.org/3/library/stdtypes.html#str.format)) and [f-strings](https://realpython.com/python-f-strings/)."
   ]
  },
  {
   "cell_type": "markdown",
   "metadata": {},
   "source": [
    "The string object’s `format` method uses the subject string as a template, and takes any number of arguments that represent values to be substituted according to the template. Within the subject string, curly braces designate substitution targets and arguments to be inserted either by position (e.g., `{1}`), or keyword (e.g., `{food}`), or relative position (`{}`)"
   ]
  },
  {
   "cell_type": "code",
   "execution_count": 65,
   "metadata": {},
   "outputs": [
    {
     "data": {
      "text/plain": [
       "'Talk is cheap. Show me the code. (Linus Torvalds)'"
      ]
     },
     "execution_count": 65,
     "metadata": {},
     "output_type": "execute_result"
    }
   ],
   "source": [
    "'Talk is cheap. Show me the code. ({})'.format('Linus Torvalds')"
   ]
  },
  {
   "cell_type": "code",
   "execution_count": 71,
   "metadata": {
    "slideshow": {
     "slide_type": "fragment"
    }
   },
   "outputs": [
    {
     "data": {
      "text/plain": [
       "\"A language that doesn't affect the way you think about programming is not worth knowing. (Alan J. Perlis)\""
      ]
     },
     "execution_count": 71,
     "metadata": {},
     "output_type": "execute_result"
    }
   ],
   "source": [
    "\"{1}. ({0})\".format(\n",
    "    \"Alan J. Perlis\",\n",
    "    \"A language that doesn't affect the way you think about programming is not worth knowing\"\n",
    ")"
   ]
  },
  {
   "cell_type": "code",
   "execution_count": 73,
   "metadata": {},
   "outputs": [
    {
     "name": "stdout",
     "output_type": "stream",
     "text": [
      "What one programmer can do in 1 month, two programmers can do in 1 months. - Fred Brooks\n",
      "What one programmer can do in 2 month, two programmers can do in 2 months. - Fred Brooks\n",
      "What one programmer can do in 3 month, two programmers can do in 3 months. - Fred Brooks\n"
     ]
    }
   ],
   "source": [
    "quote = \"What one programmer can do in {number} {period}, two programmers can do in {number} {period}s. - Fred Brooks\"\n",
    "\n",
    "for num in range(3):\n",
    "    print(quote.format(number=num + 1, period=\"month\"))"
   ]
  },
  {
   "cell_type": "markdown",
   "metadata": {
    "ExecuteTime": {
     "end_time": "2018-08-30T18:41:42.554457Z",
     "start_time": "2018-08-30T18:41:42.549473Z"
    },
    "slideshow": {
     "slide_type": "fragment"
    }
   },
   "source": [
    "[f-strings](https://realpython.com/python-f-strings/) are string literals that have an f at the beginning and curly braces containing expressions that will be replaced with their values. "
   ]
  },
  {
   "cell_type": "code",
   "execution_count": 77,
   "metadata": {
    "ExecuteTime": {
     "end_time": "2018-08-30T18:41:39.486387Z",
     "start_time": "2018-08-30T18:41:39.472948Z"
    },
    "slideshow": {
     "slide_type": "fragment"
    }
   },
   "outputs": [
    {
     "name": "stdout",
     "output_type": "stream",
     "text": [
      "What one programmer can do in 1 month, two programmers can do in 1 months. - Fred Brooks\n",
      "What one programmer can do in 2 month, two programmers can do in 2 months. - Fred Brooks\n",
      "What one programmer can do in 3 month, two programmers can do in 3 months. - Fred Brooks\n"
     ]
    }
   ],
   "source": [
    "for num in range(3):\n",
    "    period = \"month\"\n",
    "    print(f\"What one programmer can do in {num + 1} {period}, two programmers can do in {num + 1} {period}s. - Fred Brooks\")"
   ]
  },
  {
   "cell_type": "markdown",
   "metadata": {},
   "source": [
    "See more about string formatting in Python at the [pyformat.info](https://pyformat.info/) and read the docs on [Format Specification Mini-Language](https://docs.python.org/3/library/string.html#format-specification-mini-language)."
   ]
  },
  {
   "cell_type": "markdown",
   "metadata": {
    "hideCode": false,
    "hidePrompt": false,
    "slideshow": {
     "slide_type": "slide"
    }
   },
   "source": [
    "#### [String Methods](https://docs.python.org/3/library/stdtypes.html#string-methods)\n",
    "\n",
    "In Python, expressions and built-in functions may work across a range of types, but methods are generally specific to object types — string methods, for example, work only on string objects.\n",
    "\n",
    "| Methods          | Interpretation |\n",
    "|--------------------|------------|\n",
    "| `S.split()` |Split on delimiter|\n",
    "| `','.join(strlist)` |Delimiter join|\n",
    "| `S.strip()` |Return a copy of the string with the leading and trailing characters removed|\n",
    "| `S.replace('pa', 'xx')` |Replacement|\n",
    "| `S.isdigit()` |Content test|\n",
    "| `S.lower()`, `S.upper()` |Case conversion|\n",
    "| `S.startswith('spam')` |Start test|\n",
    "| `S.endswith('spam')` |End test|\n",
    "| `S.find('spam')` |Search. -1 if no, index if yes|\n",
    "| `S.encode('CP1251')` |Unicode encoding|\n",
    "| `B.decode('utf8')` |Unicode decoding|"
   ]
  },
  {
   "cell_type": "markdown",
   "metadata": {
    "slideshow": {
     "slide_type": "slide"
    }
   },
   "source": [
    "#### Byte strings\n",
    "\n",
    "The computer does not work with characters, but with their byte representations. Bytes, not strings, are transmitted over the network and saved to disk. Often all this happens automatically, however, sometimes it is necessary to create byte strings manually. A byte string is an immutable sequence of numbers from 0 to 255."
   ]
  },
  {
   "cell_type": "code",
   "execution_count": 78,
   "metadata": {
    "ExecuteTime": {
     "end_time": "2018-08-30T18:48:55.410518Z",
     "start_time": "2018-08-30T18:48:55.406805Z"
    },
    "slideshow": {
     "slide_type": "fragment"
    }
   },
   "outputs": [
    {
     "name": "stdout",
     "output_type": "stream",
     "text": [
      "<class 'bytes'>\n"
     ]
    }
   ],
   "source": [
    "example_bytes = b\"hello\"\n",
    "print(type(example_bytes))"
   ]
  },
  {
   "cell_type": "code",
   "execution_count": 79,
   "metadata": {
    "ExecuteTime": {
     "end_time": "2018-08-30T18:49:25.277088Z",
     "start_time": "2018-08-30T18:49:25.263762Z"
    },
    "slideshow": {
     "slide_type": "slide"
    }
   },
   "outputs": [
    {
     "name": "stdout",
     "output_type": "stream",
     "text": [
      "104\n",
      "101\n",
      "108\n",
      "108\n",
      "111\n"
     ]
    }
   ],
   "source": [
    "for element in example_bytes:\n",
    "    print(element)"
   ]
  },
  {
   "cell_type": "code",
   "execution_count": 80,
   "metadata": {
    "ExecuteTime": {
     "end_time": "2018-08-30T18:49:34.580959Z",
     "start_time": "2018-08-30T18:49:34.568608Z"
    },
    "slideshow": {
     "slide_type": "slide"
    }
   },
   "outputs": [
    {
     "ename": "SyntaxError",
     "evalue": "bytes can only contain ASCII literal characters. (<ipython-input-80-464a5586e9cf>, line 1)",
     "output_type": "error",
     "traceback": [
      "\u001b[0;36m  File \u001b[0;32m\"<ipython-input-80-464a5586e9cf>\"\u001b[0;36m, line \u001b[0;32m1\u001b[0m\n\u001b[0;31m    example_bytes = b\"привет\"\u001b[0m\n\u001b[0m                   ^\u001b[0m\n\u001b[0;31mSyntaxError\u001b[0m\u001b[0;31m:\u001b[0m bytes can only contain ASCII literal characters.\n"
     ]
    }
   ],
   "source": [
    "example_bytes = b\"привет\""
   ]
  },
  {
   "cell_type": "markdown",
   "metadata": {},
   "source": [
    "We can encode stings to bytes and decode from it with `encode` and `decode` methods."
   ]
  },
  {
   "cell_type": "code",
   "execution_count": 81,
   "metadata": {
    "ExecuteTime": {
     "end_time": "2018-08-30T18:50:31.025071Z",
     "start_time": "2018-08-30T18:50:31.018598Z"
    },
    "slideshow": {
     "slide_type": "fragment"
    }
   },
   "outputs": [
    {
     "name": "stdout",
     "output_type": "stream",
     "text": [
      "b'\\xd0\\xbf\\xd1\\x80\\xd0\\xb8\\xd0\\xb2\\xd0\\xb5\\xd1\\x82'\n"
     ]
    }
   ],
   "source": [
    "example_string = \"привет\"\n",
    "encoded_string = example_string.encode(encoding=\"utf-8\")\n",
    "print(encoded_string)"
   ]
  },
  {
   "cell_type": "markdown",
   "metadata": {
    "slideshow": {
     "slide_type": "skip"
    }
   },
   "source": [
    "See [unicode-table.com](https://unicode-table.com/ru/043F/) to check if this string is a real unicode string represented in a byte form."
   ]
  },
  {
   "cell_type": "code",
   "execution_count": 34,
   "metadata": {
    "ExecuteTime": {
     "end_time": "2018-08-30T18:52:00.418730Z",
     "start_time": "2018-08-30T18:52:00.409905Z"
    },
    "slideshow": {
     "slide_type": "fragment"
    }
   },
   "outputs": [
    {
     "name": "stdout",
     "output_type": "stream",
     "text": [
      "привет\n"
     ]
    }
   ],
   "source": [
    "decoded_string = encoded_string.decode()\n",
    "print(decoded_string)"
   ]
  },
  {
   "cell_type": "markdown",
   "metadata": {},
   "source": [
    "<div class=\"task\">\n",
    "That is a song by Nirvana.\n",
    "\n",
    "Rape me, rape me my friend<br>\n",
    "Rape me, rape me again<br>\n",
    "I'm not the only one<br>\n",
    "I'm not the only one<br>\n",
    "I'm not the only one<br>\n",
    "I'm not the only one<br>\n",
    "<br>\n",
    "Hate me<br>\n",
    "Do it and do it again<br>\n",
    "Waste me<br>\n",
    "Rape me, my friend<br>\n",
    "I'm not the only one<br>\n",
    "I'm not the only one<br>\n",
    "I'm not the only one<br>\n",
    "I'm not the only one<br>\n",
    "<br>\n",
    "My favorite inside source<br>\n",
    "I'll kiss your open sores<br>\n",
    "Appreciate your concern<br>\n",
    "You're gonna stink and burn<br>\n",
    "<br>\n",
    "Rape me, rape me my friend<br>\n",
    "Rape me, rape me again<br>\n",
    "I'm not the only one<br>\n",
    "I'm not the only one<br>\n",
    "I'm not the only one<br>\n",
    "I'm not the only one<br>\n",
    "<br>\n",
    "Rape me (rape me)<br>\n",
    "Rape me (rape me)<br>\n",
    "Rape me (rape me)<br>\n",
    "Rape me (rape me)<br>\n",
    "Rape me (rape me)<br>\n",
    "Rape me (rape me)<br>\n",
    "Rape me (rape me)<br>\n",
    "Rape me (rape me)<br>\n",
    "Rape me\n",
    "\n",
    "<ul>\n",
    "<li>How many words have this song?</li>\n",
    "<li>This song sounds a bit depressive, isn't it? Make it more positive by replacing phrase \"rape me\" to \"kiss me\" (regardless of case)</li>\n",
    "<li>Print this song from end to begining. Try to sing it.</li>\n",
    "</ul>\n",
    "\n",
    "<details>\n",
    "<summary>🎉Good job!🎉 Enjoy you prize!</summary>\n",
    "<div class=\"embed-responsive embed-responsive-16by9\">\n",
    "<iframe class=\"embed-responsive-item\" height=\"auto\" src=\"https://www.youtube.com/embed/Ax0C6rlo-54?start=82\" frameborder=\"0\" allowfullscreen></iframe></div>\n",
    "</details>\n",
    "\n",
    "</div>"
   ]
  },
  {
   "cell_type": "markdown",
   "metadata": {
    "slideshow": {
     "slide_type": "slide"
    }
   },
   "source": [
    "### None\n",
    "\n",
    "Python also provides a special object called `None`. It is the only value of a special data type in Python and typically serves as an empty placeholder."
   ]
  },
  {
   "cell_type": "markdown",
   "metadata": {},
   "source": [
    "None is always considered to be false but it is not the false. A variable with a value of None can come in handy when you need to distinguish it from zero."
   ]
  },
  {
   "cell_type": "code",
   "execution_count": 87,
   "metadata": {
    "ExecuteTime": {
     "end_time": "2018-09-08T23:08:08.478406Z",
     "start_time": "2018-09-08T23:08:08.472322Z"
    },
    "slideshow": {
     "slide_type": "fragment"
    }
   },
   "outputs": [
    {
     "name": "stdout",
     "output_type": "stream",
     "text": [
      "Have not started selling\n"
     ]
    }
   ],
   "source": [
    "income = None\n",
    "\n",
    "if income is None:\n",
    "    print(\"Have not started selling\")\n",
    "elif not income:\n",
    "    print(\"Have not earn anything\")\n",
    "else:\n",
    "    print(f\"Earned {income}$\")"
   ]
  },
  {
   "cell_type": "markdown",
   "metadata": {
    "hideCode": false,
    "hidePrompt": false,
    "slideshow": {
     "slide_type": "slide"
    }
   },
   "source": [
    "### Lists\n",
    "\n",
    "The Python list object is the most general sequence provided by the language. Lists are positionally ordered collections of arbitrarily typed objects, and they have no fixed size. They are also mutable—unlike strings, lists can be modified in place by assignment to offsets as well as a variety of list method calls.\n",
    "\n",
    "In Python lists are written with square brackets or you can create a list from the other object with `list` conctructor."
   ]
  },
  {
   "cell_type": "code",
   "execution_count": 194,
   "metadata": {
    "ExecuteTime": {
     "end_time": "2018-09-09T17:29:23.680951Z",
     "start_time": "2018-09-09T17:29:23.675978Z"
    },
    "hideCode": false,
    "hidePrompt": false,
    "slideshow": {
     "slide_type": "slide"
    }
   },
   "outputs": [
    {
     "data": {
      "text/plain": [
       "['s', 'p', 'a', 'm']"
      ]
     },
     "execution_count": 194,
     "metadata": {},
     "output_type": "execute_result"
    }
   ],
   "source": [
    "l = [] # An empty list\n",
    "l = list('spam') # List of an iterable’s items\n",
    "l"
   ]
  },
  {
   "cell_type": "markdown",
   "metadata": {},
   "source": [
    "Lists support all the sequence operations we discussed for strings:"
   ]
  },
  {
   "cell_type": "code",
   "execution_count": 195,
   "metadata": {},
   "outputs": [
    {
     "data": {
      "text/plain": [
       "(4, ['m', 'a', 'p', 's'])"
      ]
     },
     "execution_count": 195,
     "metadata": {},
     "output_type": "execute_result"
    }
   ],
   "source": [
    "len(l), l[::-1]"
   ]
  },
  {
   "cell_type": "markdown",
   "metadata": {},
   "source": [
    "Lists support arbitrary nesting — we can nest them as deeply as we like."
   ]
  },
  {
   "cell_type": "code",
   "execution_count": 225,
   "metadata": {
    "ExecuteTime": {
     "end_time": "2018-11-13T20:13:18.763503Z",
     "start_time": "2018-11-13T20:13:18.760110Z"
    },
    "hideCode": false,
    "hidePrompt": false,
    "slideshow": {
     "slide_type": "slide"
    }
   },
   "outputs": [
    {
     "data": {
      "text/plain": [
       "'manager'"
      ]
     },
     "execution_count": 225,
     "metadata": {},
     "output_type": "execute_result"
    }
   ],
   "source": [
    "l = ['Sasha', 40.0, [ 'manager', 'analyst']] # create nested sublists\n",
    "l[2][0] # grab the third element, then first"
   ]
  },
  {
   "cell_type": "markdown",
   "metadata": {},
   "source": [
    "To perform in-plase sorting use `sort` method."
   ]
  },
  {
   "cell_type": "code",
   "execution_count": 226,
   "metadata": {},
   "outputs": [
    {
     "data": {
      "text/plain": [
       "['Sasha', 40.0, ['analyst', 'manager']]"
      ]
     },
     "execution_count": 226,
     "metadata": {},
     "output_type": "execute_result"
    }
   ],
   "source": [
    "l[2].sort() # 'manager', 'analyst' -> 'analyst', 'manager'\n",
    "l"
   ]
  },
  {
   "cell_type": "markdown",
   "metadata": {},
   "source": [
    "We can update list using index assignment ot special methods:"
   ]
  },
  {
   "cell_type": "code",
   "execution_count": 212,
   "metadata": {
    "ExecuteTime": {
     "end_time": "2018-07-16T00:39:43.349229Z",
     "start_time": "2018-07-16T00:39:43.344601Z"
    },
    "hideCode": false,
    "hidePrompt": false,
    "slideshow": {
     "slide_type": "fragment"
    }
   },
   "outputs": [
    {
     "data": {
      "text/plain": [
       "['Sasha', 23, ['analyst', 'manager']]"
      ]
     },
     "execution_count": 212,
     "metadata": {},
     "output_type": "execute_result"
    }
   ],
   "source": [
    "l[1] = 23 # Index assignment\n",
    "l"
   ]
  },
  {
   "cell_type": "markdown",
   "metadata": {},
   "source": [
    "The `insert` function takes two parameters: index - position where an element needs to be inserted, and item to be inserted."
   ]
  },
  {
   "cell_type": "code",
   "execution_count": 213,
   "metadata": {},
   "outputs": [
    {
     "data": {
      "text/plain": [
       "['Sasha', 32, 23, ['analyst', 'manager']]"
      ]
     },
     "execution_count": 213,
     "metadata": {},
     "output_type": "execute_result"
    }
   ],
   "source": [
    "l.insert(1, 32)\n",
    "l"
   ]
  },
  {
   "cell_type": "markdown",
   "metadata": {},
   "source": [
    "`append` method adds a single item to the end of the list."
   ]
  },
  {
   "cell_type": "code",
   "execution_count": 214,
   "metadata": {
    "ExecuteTime": {
     "end_time": "2018-11-13T20:16:31.959568Z",
     "start_time": "2018-11-13T20:16:31.954415Z"
    },
    "hideCode": false,
    "hidePrompt": false,
    "scrolled": true,
    "slideshow": {
     "slide_type": "fragment"
    }
   },
   "outputs": [
    {
     "data": {
      "text/plain": [
       "['Sasha', 32, 23, ['analyst', 'manager'], [5, 6, 7]]"
      ]
     },
     "execution_count": 214,
     "metadata": {},
     "output_type": "execute_result"
    }
   ],
   "source": [
    "l.append([5,6,7])\n",
    "l"
   ]
  },
  {
   "cell_type": "markdown",
   "metadata": {},
   "source": [
    "`extend` method adds items from another list (or any sequence) to the end."
   ]
  },
  {
   "cell_type": "code",
   "execution_count": 215,
   "metadata": {
    "ExecuteTime": {
     "end_time": "2018-07-16T00:39:47.893768Z",
     "start_time": "2018-07-16T00:39:47.888269Z"
    },
    "slideshow": {
     "slide_type": "fragment"
    }
   },
   "outputs": [
    {
     "data": {
      "text/plain": [
       "['Sasha', 32, 23, ['analyst', 'manager'], [5, 6, 7], 5, 6, 7]"
      ]
     },
     "execution_count": 215,
     "metadata": {},
     "output_type": "execute_result"
    }
   ],
   "source": [
    "l.extend([5,6,7])\n",
    "l"
   ]
  },
  {
   "cell_type": "markdown",
   "metadata": {},
   "source": [
    "`remove` method removes item by literal."
   ]
  },
  {
   "cell_type": "code",
   "execution_count": 216,
   "metadata": {
    "ExecuteTime": {
     "end_time": "2018-07-16T00:38:55.799023Z",
     "start_time": "2018-07-16T00:38:55.790496Z"
    },
    "slideshow": {
     "slide_type": "fragment"
    }
   },
   "outputs": [
    {
     "data": {
      "text/plain": [
       "['Sasha', 32, 23, ['analyst', 'manager'], [5, 6, 7], 6, 7]"
      ]
     },
     "execution_count": 216,
     "metadata": {},
     "output_type": "execute_result"
    }
   ],
   "source": [
    "l.remove(5)\n",
    "l"
   ]
  },
  {
   "cell_type": "markdown",
   "metadata": {},
   "source": [
    "`pop` method removes an individual item (last by default if no argument) and returns it:"
   ]
  },
  {
   "cell_type": "code",
   "execution_count": 217,
   "metadata": {},
   "outputs": [
    {
     "name": "stdout",
     "output_type": "stream",
     "text": [
      "removed: ['analyst', 'manager'] \n",
      "remained: ['Sasha', 32, 23, [5, 6, 7], 6, 7]\n"
     ]
    }
   ],
   "source": [
    "print('removed: {} \\nremained: {}'.format(l.pop(3), l))"
   ]
  },
  {
   "cell_type": "markdown",
   "metadata": {},
   "source": [
    "`del` keyword removes an individual item by index, or to remove all items identified by a slice."
   ]
  },
  {
   "cell_type": "code",
   "execution_count": 218,
   "metadata": {},
   "outputs": [
    {
     "data": {
      "text/plain": [
       "[[5, 6, 7], 6, 7]"
      ]
     },
     "execution_count": 218,
     "metadata": {},
     "output_type": "execute_result"
    }
   ],
   "source": [
    "del l[:3]\n",
    "l"
   ]
  },
  {
   "cell_type": "markdown",
   "metadata": {},
   "source": [
    "It is also possible to use `+` and `*` with lists as the are sequences:"
   ]
  },
  {
   "cell_type": "code",
   "execution_count": 219,
   "metadata": {
    "ExecuteTime": {
     "end_time": "2018-07-16T00:38:55.428115Z",
     "start_time": "2018-07-16T00:38:55.422145Z"
    },
    "slideshow": {
     "slide_type": "slide"
    }
   },
   "outputs": [
    {
     "data": {
      "text/plain": [
       "['s', 'p', 'a', 'm', 5, 6, 7]"
      ]
     },
     "execution_count": 219,
     "metadata": {},
     "output_type": "execute_result"
    }
   ],
   "source": [
    "list('spam') + [5,6,7]"
   ]
  },
  {
   "cell_type": "code",
   "execution_count": 206,
   "metadata": {},
   "outputs": [
    {
     "data": {
      "text/plain": [
       "[None, None, None, None, None, None, None, None, None, None]"
      ]
     },
     "execution_count": 206,
     "metadata": {},
     "output_type": "execute_result"
    }
   ],
   "source": [
    "[None] * 10 # predefined empty list"
   ]
  },
  {
   "cell_type": "markdown",
   "metadata": {
    "slideshow": {
     "slide_type": "slide"
    }
   },
   "source": [
    "#### Practical assignment\n",
    "\n",
    "1. Create a shopping list with `apple`, `strawberry`, `carrot`, `banana`.\n",
    "2. What is the length of this list? Print it.\n",
    "3. Add `rice` to the end of this list.\n",
    "4. Sort shopping list alphabetically for a to z. \n",
    "5. Print last two items of this list.\n",
    "6. You just have remembered that you have allergy on `strawberry`. Replce it with `orange`.\n",
    "7. Bon appétit!"
   ]
  },
  {
   "cell_type": "markdown",
   "metadata": {
    "hideCode": false,
    "hidePrompt": false,
    "slideshow": {
     "slide_type": "slide"
    }
   },
   "source": [
    "### Dictionaries\n",
    "\n",
    "Python dictionaries (also called associative arrays or hashes) are quite special kind of collections: they are not sequences, but **mappings**. Mappings are collections of other objects, like lists, but they store objects by key instead of by relative position. In fact, mappings don’t maintain any reliable left-to-right order; they simply map keys to associated values. Because dictionaries are unordered collections, operations that depend on a fixed positional order (e.g., concatenation, slicing) don’t make sense.\n",
    "\n",
    "Dictionaries, the only mapping type in Python’s core objects set, are also mutable: like lists, they may be changed in place and can grow and shrink on demand. \n",
    "\n",
    "To define a dictionary, you must use a literal brace or simply call `dict` function."
   ]
  },
  {
   "cell_type": "code",
   "execution_count": 227,
   "metadata": {
    "ExecuteTime": {
     "end_time": "2018-09-08T23:34:29.949927Z",
     "start_time": "2018-09-08T23:34:29.934630Z"
    },
    "slideshow": {
     "slide_type": "fragment"
    }
   },
   "outputs": [],
   "source": [
    "empty_dict = {}\n",
    "empty_dict = dict()\n",
    "collections_map = {\n",
    "    'mutable': ['list', 'set', 'dict'],\n",
    "    'immutable': ['tuple', 'frozenset', \"numbers\", \"strings\"]\n",
    "}"
   ]
  },
  {
   "cell_type": "markdown",
   "metadata": {
    "slideshow": {
     "slide_type": "slide"
    }
   },
   "source": [
    "Access to the value by key is carried out for a constant time, that is, does not depend on the size of the dictionary. This is achieved using a hashing algorithm. However, bacause of that **dictionaries do not contain information about the order**."
   ]
  },
  {
   "cell_type": "markdown",
   "metadata": {},
   "source": [
    "We can access the values of the dictionary much as we did for our list - using square brackets, but this time we need to place dictionary key inside, not list offsets."
   ]
  },
  {
   "cell_type": "code",
   "execution_count": 229,
   "metadata": {},
   "outputs": [
    {
     "data": {
      "text/plain": [
       "['tuple', 'frozenset']"
      ]
     },
     "execution_count": 229,
     "metadata": {},
     "output_type": "execute_result"
    }
   ],
   "source": [
    "collections_map['immutable']"
   ]
  },
  {
   "cell_type": "markdown",
   "metadata": {
    "hideCode": false,
    "hidePrompt": false,
    "slideshow": {
     "slide_type": "fragment"
    }
   },
   "source": [
    "If you try to access by a key that does not exist, Python will generate a `KeyError` exception. However, it is often useful to return some default value if the key does not exist. There is a built-in `get` method for that purpose:"
   ]
  },
  {
   "cell_type": "code",
   "execution_count": 70,
   "metadata": {
    "ExecuteTime": {
     "end_time": "2018-09-09T17:34:12.252539Z",
     "start_time": "2018-09-09T17:34:12.247369Z"
    },
    "slideshow": {
     "slide_type": "fragment"
    }
   },
   "outputs": [
    {
     "data": {
      "text/plain": [
       "'not found'"
      ]
     },
     "execution_count": 70,
     "metadata": {},
     "output_type": "execute_result"
    }
   ],
   "source": [
    "collections_map.get('irresistible', 'not found')"
   ]
  },
  {
   "cell_type": "markdown",
   "metadata": {},
   "source": [
    "Lets create online cart for the delivery service. It could look like this:"
   ]
  },
  {
   "cell_type": "code",
   "execution_count": 247,
   "metadata": {
    "ExecuteTime": {
     "end_time": "2018-09-09T17:36:26.402098Z",
     "start_time": "2018-09-09T17:36:26.398550Z"
    },
    "hideCode": false,
    "hidePrompt": false,
    "slideshow": {
     "slide_type": "slide"
    }
   },
   "outputs": [],
   "source": [
    "cart = [\n",
    "    {\n",
    "        \"items\": [\n",
    "            {\n",
    "                \"name\": \"pizza\",\n",
    "                \"amount\": 2,\n",
    "                \"price\": 10\n",
    "            },\n",
    "            {\n",
    "                \"name\": \"coca-cola\",\n",
    "                \"amount\": 4,\n",
    "                \"price\": 2\n",
    "            }\n",
    "\n",
    "        ],\n",
    "        \"customer\": {\n",
    "            \"name\": \"Sam\",\n",
    "            \"address\": \"Kukuevo, 34\"\n",
    "        }\n",
    "    },\n",
    "    {\n",
    "        \"items\": [\n",
    "            {\n",
    "                \"name\": \"sushi\",\n",
    "                \"amount\": 5,\n",
    "                \"price\": 6\n",
    "            }\n",
    "\n",
    "        ],\n",
    "        \"customer\": {\n",
    "            \"name\": \"Kate\",\n",
    "            \"address\": \"Sedova, 55\"\n",
    "        }\n",
    "    }\n",
    "]"
   ]
  },
  {
   "cell_type": "markdown",
   "metadata": {},
   "source": [
    "What food Sam ordered?"
   ]
  },
  {
   "cell_type": "code",
   "execution_count": 250,
   "metadata": {
    "ExecuteTime": {
     "end_time": "2018-09-09T17:36:27.175952Z",
     "start_time": "2018-09-09T17:36:27.170951Z"
    },
    "hideCode": false,
    "hidePrompt": false,
    "slideshow": {
     "slide_type": "fragment"
    }
   },
   "outputs": [
    {
     "data": {
      "text/plain": [
       "[{'name': 'pizza', 'amount': 2, 'price': 10},\n",
       " {'name': 'coca-cola', 'amount': 4, 'price': 2}]"
      ]
     },
     "execution_count": 250,
     "metadata": {},
     "output_type": "execute_result"
    }
   ],
   "source": [
    "sam_ordered = cart[0][\"items\"]\n",
    "sam_ordered"
   ]
  },
  {
   "cell_type": "markdown",
   "metadata": {},
   "source": [
    "How Sam can order one more pizza?"
   ]
  },
  {
   "cell_type": "code",
   "execution_count": 251,
   "metadata": {
    "ExecuteTime": {
     "end_time": "2018-09-09T17:36:28.226053Z",
     "start_time": "2018-09-09T17:36:28.222711Z"
    },
    "slideshow": {
     "slide_type": "fragment"
    }
   },
   "outputs": [],
   "source": [
    "sam_ordered[0][\"amount\"] =+ 1"
   ]
  },
  {
   "cell_type": "markdown",
   "metadata": {},
   "source": [
    "He also want to order vegetarian pizza. Lets add it as a new key:"
   ]
  },
  {
   "cell_type": "code",
   "execution_count": 252,
   "metadata": {
    "ExecuteTime": {
     "end_time": "2018-07-15T23:25:21.348909Z",
     "start_time": "2018-07-15T23:25:21.342453Z"
    },
    "hideCode": false,
    "hidePrompt": false,
    "slideshow": {
     "slide_type": "fragment"
    }
   },
   "outputs": [],
   "source": [
    "sam_ordered[0].update({\"vegeterian\": True})\n",
    "# cart[0][\"items\"][0][\"vegeterian\"] = True — will yield the same result"
   ]
  },
  {
   "cell_type": "code",
   "execution_count": 253,
   "metadata": {},
   "outputs": [
    {
     "data": {
      "text/plain": [
       "[{'items': [{'name': 'pizza', 'amount': 1, 'price': 10, 'vegeterian': True},\n",
       "   {'name': 'coca-cola', 'amount': 4, 'price': 2}],\n",
       "  'customer': {'name': 'Sam', 'address': 'Kukuevo, 34'}},\n",
       " {'items': [{'name': 'sushi', 'amount': 5, 'price': 6}],\n",
       "  'customer': {'name': 'Kate', 'address': 'Sedova, 55'}}]"
      ]
     },
     "execution_count": 253,
     "metadata": {},
     "output_type": "execute_result"
    }
   ],
   "source": [
    "cart"
   ]
  },
  {
   "cell_type": "markdown",
   "metadata": {},
   "source": [
    "To test if the key present in a dictionary use `in` operator:"
   ]
  },
  {
   "cell_type": "code",
   "execution_count": 254,
   "metadata": {
    "ExecuteTime": {
     "end_time": "2018-09-09T17:36:32.366591Z",
     "start_time": "2018-09-09T17:36:32.360897Z"
    },
    "slideshow": {
     "slide_type": "fragment"
    }
   },
   "outputs": [
    {
     "data": {
      "text/plain": [
       "True"
      ]
     },
     "execution_count": 254,
     "metadata": {},
     "output_type": "execute_result"
    }
   ],
   "source": [
    "\"vegeterian\" in sam_ordered[0]"
   ]
  },
  {
   "cell_type": "code",
   "execution_count": 256,
   "metadata": {
    "ExecuteTime": {
     "end_time": "2018-09-09T17:37:17.529801Z",
     "start_time": "2018-09-09T17:37:17.523071Z"
    },
    "hideCode": false,
    "hidePrompt": false,
    "slideshow": {
     "slide_type": "fragment"
    }
   },
   "outputs": [
    {
     "data": {
      "text/plain": [
       "dict_keys(['name', 'amount', 'price', 'vegeterian'])"
      ]
     },
     "execution_count": 256,
     "metadata": {},
     "output_type": "execute_result"
    }
   ],
   "source": [
    "sam_ordered[0].keys() # Method: all keys"
   ]
  },
  {
   "cell_type": "code",
   "execution_count": 257,
   "metadata": {
    "ExecuteTime": {
     "end_time": "2018-09-09T17:37:20.978689Z",
     "start_time": "2018-09-09T17:37:20.973510Z"
    },
    "hideCode": false,
    "hidePrompt": false,
    "slideshow": {
     "slide_type": "fragment"
    }
   },
   "outputs": [
    {
     "data": {
      "text/plain": [
       "dict_values(['pizza', 1, 10, True])"
      ]
     },
     "execution_count": 257,
     "metadata": {},
     "output_type": "execute_result"
    }
   ],
   "source": [
    "sam_ordered[0].values() # Method: all values"
   ]
  },
  {
   "cell_type": "code",
   "execution_count": 258,
   "metadata": {
    "ExecuteTime": {
     "end_time": "2018-09-09T17:37:26.032612Z",
     "start_time": "2018-09-09T17:37:26.027002Z"
    },
    "hideCode": false,
    "hidePrompt": false,
    "slideshow": {
     "slide_type": "fragment"
    }
   },
   "outputs": [
    {
     "data": {
      "text/plain": [
       "dict_items([('name', 'pizza'), ('amount', 1), ('price', 10), ('vegeterian', True)])"
      ]
     },
     "execution_count": 258,
     "metadata": {},
     "output_type": "execute_result"
    }
   ],
   "source": [
    "sam_ordered[0].items() # Method: all key+value tuples"
   ]
  },
  {
   "cell_type": "code",
   "execution_count": 259,
   "metadata": {
    "ExecuteTime": {
     "end_time": "2018-07-10T22:52:04.377156Z",
     "start_time": "2018-07-10T22:52:04.367548Z"
    },
    "hideCode": false,
    "hidePrompt": false
   },
   "outputs": [
    {
     "data": {
      "text/plain": [
       "False"
      ]
     },
     "execution_count": 259,
     "metadata": {},
     "output_type": "execute_result"
    }
   ],
   "source": [
    "del cart[0][\"items\"][0][\"vegeterian\"]\n",
    "\"vegeterian\" in sam_ordered[0]"
   ]
  },
  {
   "cell_type": "markdown",
   "metadata": {},
   "source": [
    "#### Practical assignment\n",
    "\n",
    "Add the following order in the `cart`: Sasha Berg ordered a one pepperoni pizza and two bottles of Coca-cola."
   ]
  },
  {
   "cell_type": "markdown",
   "metadata": {},
   "source": [
    "### Files\n",
    "\n",
    "The built-in `open` function creates a Python file object, which serves as a link to a file residing on your machine. After calling open, you can transfer strings of data to and from the associated external file by calling the returned file object’s methods.\n",
    "\n",
    "Compared to the types you’ve seen so far, file objects are somewhat unusual. They are considered a core type because they are created by a built-in function, but they’re not numbers, sequences, or mappings, and they don’t respond to expression operators; they export only methods for common file-processing tasks.\n",
    "\n",
    "To open a file, a program calls the built-in open function, with the external filename first, followed by a processing mode. The call returns a file object, which in turn has methods for data transfer:\n",
    "```\n",
    "========= ===============================================================\n",
    "Character Meaning\n",
    "--------- ---------------------------------------------------------------\n",
    "'r'       open for reading (default)\n",
    "'w'       open for writing, truncating the file first\n",
    "'x'       create a new file and open it for writing\n",
    "'a'       open for writing, appending to the end of the file if it exists\n",
    "'b'       binary mode\n",
    "'t'       text mode (default)\n",
    "```"
   ]
  },
  {
   "cell_type": "code",
   "execution_count": 271,
   "metadata": {},
   "outputs": [],
   "source": [
    "file_obj = open(\"data.txt\", \"wt\", encoding=\"utf8\")\n",
    "file_obj.write(\"First line\\n\") # Write a line of text: string\n",
    "file_obj.write(\"Second line\\n\")\n",
    "file_obj.close() # Close the file"
   ]
  },
  {
   "cell_type": "code",
   "execution_count": 272,
   "metadata": {
    "ExecuteTime": {
     "end_time": "2018-07-16T00:16:44.240513Z",
     "start_time": "2018-07-16T00:16:44.235620Z"
    }
   },
   "outputs": [
    {
     "data": {
      "text/plain": [
       "['First line\\n', 'Second line\\n']"
      ]
     },
     "execution_count": 272,
     "metadata": {},
     "output_type": "execute_result"
    }
   ],
   "source": [
    "file_obj = open(\"data.txt\")\n",
    "file_obj.readlines()"
   ]
  },
  {
   "cell_type": "code",
   "execution_count": 266,
   "metadata": {
    "ExecuteTime": {
     "end_time": "2018-07-16T00:18:28.427264Z",
     "start_time": "2018-07-16T00:18:28.422042Z"
    }
   },
   "outputs": [
    {
     "data": {
      "text/plain": [
       "0"
      ]
     },
     "execution_count": 266,
     "metadata": {},
     "output_type": "execute_result"
    }
   ],
   "source": [
    "file_obj.seek(0)"
   ]
  },
  {
   "cell_type": "code",
   "execution_count": 267,
   "metadata": {
    "ExecuteTime": {
     "end_time": "2018-07-16T00:18:29.316804Z",
     "start_time": "2018-07-16T00:18:29.309867Z"
    }
   },
   "outputs": [
    {
     "name": "stdout",
     "output_type": "stream",
     "text": [
      "FIRST LINE\n",
      "SECOND LINE\n"
     ]
    }
   ],
   "source": [
    "for line in file_obj:\n",
    "    print(line.upper(), end=\"\")"
   ]
  },
  {
   "cell_type": "markdown",
   "metadata": {},
   "source": [
    "At the end of the work we should not forget to close file connection:"
   ]
  },
  {
   "cell_type": "code",
   "execution_count": 273,
   "metadata": {
    "ExecuteTime": {
     "end_time": "2018-07-16T00:18:35.793734Z",
     "start_time": "2018-07-16T00:18:35.790103Z"
    }
   },
   "outputs": [],
   "source": [
    "file_obj.close()"
   ]
  },
  {
   "cell_type": "markdown",
   "metadata": {},
   "source": [
    "The better way to open the files is to use context-manager `with`, which allows you not to worry about closing files. You can open the file with the `with` operator, write the file object to the variable` file_obj` and then work with the file inside this context block. After exiting the block, the Python interpreter will close the file automatically."
   ]
  },
  {
   "cell_type": "code",
   "execution_count": 269,
   "metadata": {},
   "outputs": [
    {
     "name": "stdout",
     "output_type": "stream",
     "text": [
      "FIRST LINE\n",
      "SECOND LINE\n"
     ]
    }
   ],
   "source": [
    "with open(\"data.txt\") as file_obj:\n",
    "    for line in file_obj:\n",
    "        print(line.upper(), end=\"\")"
   ]
  },
  {
   "cell_type": "markdown",
   "metadata": {},
   "source": []
  },
  {
   "cell_type": "markdown",
   "metadata": {
    "hideCode": false,
    "hidePrompt": false
   },
   "source": [
    "## Statements\n",
    "\n",
    "As we remember, programs written in the Python language are composed of statements and expressions. Expressions process objects and are embedded in statements. Statements code the larger logic of a program’s operation — they use and direct expressions to process the objects we studied in the preceding chapters. There are two types of statements: simple and compound."
   ]
  },
  {
   "cell_type": "code",
   "execution_count": 21,
   "metadata": {
    "ExecuteTime": {
     "end_time": "2018-07-14T00:35:47.489331Z",
     "start_time": "2018-07-14T00:35:47.477577Z"
    },
    "hideCode": false,
    "hidePrompt": false
   },
   "outputs": [],
   "source": [
    "name = \"Yuri\" # simple assignment statement "
   ]
  },
  {
   "cell_type": "markdown",
   "metadata": {
    "hideCode": false,
    "hidePrompt": false
   },
   "source": [
    "All Python *compound statements* — statements that have other statements nested inside them — follow the same general pattern of a header line terminated in a colon, followed by a nested block of code usually indented underneath the header line, like this:\n",
    "```\n",
    "Header line:\n",
    "    Nested statement block\n",
    "```\n",
    "The colon is required, and omitting it is probably the most common coding mistake among new Python programmers.\n",
    "\n",
    "There is no universal standard on this: four spaces or one tab per level is common, but it’s generally up to you to decide how and how much you wish to indent, but you probably shouldn’t mix tabs and spaces.\n",
    "\n",
    "Although statements normally appear one per line, it is possible to squeeze more than one statement onto a single line in Python by separating them with semicolons:"
   ]
  },
  {
   "cell_type": "code",
   "execution_count": 19,
   "metadata": {
    "ExecuteTime": {
     "end_time": "2018-07-14T00:31:05.377603Z",
     "start_time": "2018-07-14T00:31:05.356764Z"
    },
    "hideCode": false,
    "hidePrompt": false
   },
   "outputs": [
    {
     "name": "stdout",
     "output_type": "stream",
     "text": [
      "3\n"
     ]
    }
   ],
   "source": [
    "a = 1; b = 2; print(a + b) # Three statements on one line"
   ]
  },
  {
   "cell_type": "markdown",
   "metadata": {
    "hideCode": false,
    "hidePrompt": false
   },
   "source": [
    "This is the only place in Python where semicolons are required: as statement separators."
   ]
  },
  {
   "cell_type": "markdown",
   "metadata": {
    "hideCode": false,
    "hidePrompt": false
   },
   "source": [
    "### `if` Statement"
   ]
  },
  {
   "cell_type": "markdown",
   "metadata": {
    "hideCode": false,
    "hidePrompt": false
   },
   "source": [
    "if statement selects actions to perform. It represents much of the logic a Python program.\n",
    "\n",
    "General format:\n",
    "\n",
    "```\n",
    "if test1:          # if test\n",
    "    statements1\n",
    "elif test2:        # Optional elifs\n",
    "    statements2\n",
    "else:              # Optional else\n",
    "    statements3\n",
    "```"
   ]
  },
  {
   "cell_type": "code",
   "execution_count": 28,
   "metadata": {
    "ExecuteTime": {
     "end_time": "2018-07-14T00:42:09.169878Z",
     "start_time": "2018-07-14T00:42:09.164546Z"
    },
    "hideCode": false,
    "hidePrompt": false
   },
   "outputs": [],
   "source": [
    "i = 3\n",
    "\n",
    "if i < 5:\n",
    "    print(True)\n",
    "    i = i + 1"
   ]
  },
  {
   "cell_type": "markdown",
   "metadata": {
    "hideCode": false,
    "hidePrompt": false
   },
   "source": [
    "To handle a false result, code the else:"
   ]
  },
  {
   "cell_type": "code",
   "execution_count": 29,
   "metadata": {
    "ExecuteTime": {
     "end_time": "2018-07-14T00:42:32.666294Z",
     "start_time": "2018-07-14T00:42:32.661797Z"
    },
    "hideCode": false,
    "hidePrompt": false
   },
   "outputs": [
    {
     "name": "stdout",
     "output_type": "stream",
     "text": [
      "False\n"
     ]
    }
   ],
   "source": [
    "if i < 5:\n",
    "    print(True)\n",
    "    i = i + 1\n",
    "else:\n",
    "    print(False)"
   ]
  },
  {
   "cell_type": "code",
   "execution_count": 30,
   "metadata": {
    "ExecuteTime": {
     "end_time": "2018-07-14T00:46:12.386747Z",
     "start_time": "2018-07-14T00:46:12.382093Z"
    },
    "hideCode": false,
    "hidePrompt": false
   },
   "outputs": [
    {
     "name": "stdout",
     "output_type": "stream",
     "text": [
      "Positive\n"
     ]
    }
   ],
   "source": [
    "if i < 0:\n",
    "    print(i/5)\n",
    "elif i > 0:\n",
    "    print(i/3)\n",
    "else:\n",
    "    pass"
   ]
  },
  {
   "cell_type": "code",
   "execution_count": null,
   "metadata": {
    "hideCode": false,
    "hidePrompt": false
   },
   "outputs": [],
   "source": [
    "if i < 0:\n",
    "    print(i/5)\n",
    "else:\n",
    "    if i > 0:\n",
    "        print(i/3)\n",
    "    else:\n",
    "        print(\"error\") # pass"
   ]
  },
  {
   "cell_type": "markdown",
   "metadata": {
    "hideCode": false,
    "hidePrompt": false
   },
   "source": [
    "### `for` loops\n",
    "\n",
    "`for` can step through the items in any ordered sequence or other iterable object. The for statement works on strings, lists, tuples, and other iterables."
   ]
  },
  {
   "cell_type": "markdown",
   "metadata": {
    "hideCode": false,
    "hidePrompt": false
   },
   "source": [
    "General format:\n",
    "```\n",
    "for target in object:\n",
    "    statements\n",
    "```"
   ]
  },
  {
   "cell_type": "code",
   "execution_count": 36,
   "metadata": {
    "ExecuteTime": {
     "end_time": "2018-07-14T01:03:56.572593Z",
     "start_time": "2018-07-14T01:03:56.553488Z"
    },
    "hideCode": false,
    "hidePrompt": false
   },
   "outputs": [
    {
     "name": "stdout",
     "output_type": "stream",
     "text": [
      "Sasha Robinovich\n",
      "Bob Smith\n",
      "Sasha Grey\n",
      "Max\n"
     ]
    }
   ],
   "source": [
    "names = [\"Sasha Robinovich\", \"Bob Smith\", \"Sasha Grey\", \"Max\"]\n",
    "\n",
    "for name in names:\n",
    "    print(name)"
   ]
  },
  {
   "cell_type": "code",
   "execution_count": 38,
   "metadata": {
    "ExecuteTime": {
     "end_time": "2018-07-14T01:07:15.654649Z",
     "start_time": "2018-07-14T01:07:15.650256Z"
    },
    "hideCode": false,
    "hidePrompt": false
   },
   "outputs": [
    {
     "name": "stdout",
     "output_type": "stream",
     "text": [
      "Sasha Robinovich\n"
     ]
    }
   ],
   "source": [
    "names = [\"Sasha Robinovich\", \"Bob Smith\", \"Sasha Grey\", \"Max\"]\n",
    "\n",
    "for name in names:\n",
    "    if \"Sasha\" in name:\n",
    "        print(name)"
   ]
  },
  {
   "cell_type": "markdown",
   "metadata": {
    "hideCode": false,
    "hidePrompt": false
   },
   "source": [
    "More complete format:\n",
    "```\n",
    "for target in object:\n",
    "    statements\n",
    "else:                   # Optional else part\n",
    "    statements          # If we didn't hit a 'break'\n",
    "```\n",
    "`Else` statement executes if the loop exits without running into a `break` statement.\n",
    "\n",
    "The `break` statement causes an immediate exit from a loop. Because the code that follows it in the loop is not executed if the `break` is reached, you can also sometimes avoid nesting by including a `break`.\n",
    "\n",
    "The `continue` statement causes an immediate jump to the top of a loop. It also sometimes lets you avoid statement nesting. \n",
    "\n",
    "The `pass` statement does nothing at all: it’s an empty statement placeholder."
   ]
  },
  {
   "cell_type": "markdown",
   "metadata": {
    "hideCode": false,
    "hidePrompt": false
   },
   "source": [
    "#### Practical assignment 1\n",
    "\n",
    "Create a list with odd numbers in a range from 0 to 50.\n",
    "\n",
    "> Hint: use function `range()` to create a range."
   ]
  },
  {
   "cell_type": "code",
   "execution_count": null,
   "metadata": {},
   "outputs": [],
   "source": [
    "# write your code here"
   ]
  },
  {
   "cell_type": "markdown",
   "metadata": {},
   "source": [
    "### Practical assignment 2\n",
    "\n",
    "Write a for loop that will print the names of all ordered items in the card (which we created before)"
   ]
  },
  {
   "cell_type": "code",
   "execution_count": null,
   "metadata": {},
   "outputs": [],
   "source": [
    "# write your code here"
   ]
  },
  {
   "cell_type": "markdown",
   "metadata": {},
   "source": [
    "### List Comprehensions\n",
    "List comprehensions provide a concise way to create lists. \n",
    "\n",
    "As list comprehension returns list, they consists of brackets containing the expression which needs to be executed for each element along with the for loop to iterate over each element.\n",
    "\n",
    "<img src=\"img/listComprehensions.gif\">"
   ]
  },
  {
   "cell_type": "markdown",
   "metadata": {},
   "source": [
    "#### Practical assignment\n",
    "Rewrite \"Practical assignment 1\" above (about odd numbers) using list comprehensions"
   ]
  },
  {
   "cell_type": "code",
   "execution_count": 134,
   "metadata": {
    "ExecuteTime": {
     "end_time": "2018-07-16T01:02:15.548766Z",
     "start_time": "2018-07-16T01:02:15.544022Z"
    }
   },
   "outputs": [],
   "source": [
    "# write your code here"
   ]
  },
  {
   "cell_type": "markdown",
   "metadata": {
    "hideCode": false,
    "hidePrompt": false
   },
   "source": [
    "### `while` loop\n",
    "\n",
    "It repeatedly executes a block of (normally indented) statements as long as a test at the top keeps evaluating to a true value.\n",
    "```\n",
    "while test:\n",
    "    statements\n",
    "else:\n",
    "    statements\n",
    "```"
   ]
  },
  {
   "cell_type": "code",
   "execution_count": 39,
   "metadata": {
    "ExecuteTime": {
     "end_time": "2018-07-14T01:14:26.957538Z",
     "start_time": "2018-07-14T01:14:26.952848Z"
    },
    "hideCode": false,
    "hidePrompt": false
   },
   "outputs": [
    {
     "name": "stdout",
     "output_type": "stream",
     "text": [
      "0\n",
      "1\n",
      "2\n",
      "3\n",
      "4\n"
     ]
    }
   ],
   "source": [
    "i = 0\n",
    "\n",
    "while i != 5:\n",
    "    print(i)\n",
    "    i += 1"
   ]
  },
  {
   "cell_type": "markdown",
   "metadata": {
    "hideCode": false,
    "hidePrompt": false
   },
   "source": [
    "### Practical assignment"
   ]
  },
  {
   "cell_type": "markdown",
   "metadata": {},
   "source": [
    "Some guys [scraped tweets](https://www.kaggle.com/fifthtribe/how-isis-uses-twitter/home) from 100+ pro-ISIS fanboys from all over the world since the November 2015 Paris Attacks.\n",
    "\n",
    "Example of such tweet:\n",
    "\n",
    "> RT @maaj19: سَمِعْنَا وَ أطَعْنَا #gd #gd#fdfd @allah\n",
    "\n",
    "I saved random sample of these tweets in a file \"[tweets_IS.txt](https://nagornyy.me/datasets/tweets_IS.txt)\", one tweet per line. Read the file and do the following tasks:\n",
    "1. Calculate the distribution of hashtags. What is the most populat hashtag in these tweets?\n",
    "2. Calculate the distribution of mentions. What is the most populat user mentioned in these tweets?\n",
    "3. What is the longest tweet?"
   ]
  },
  {
   "cell_type": "code",
   "execution_count": null,
   "metadata": {},
   "outputs": [],
   "source": [
    "# write your code here"
   ]
  },
  {
   "cell_type": "markdown",
   "metadata": {},
   "source": [
    "## Function"
   ]
  },
  {
   "cell_type": "markdown",
   "metadata": {},
   "source": [
    "Function groups a set of statements so they can be run more than once in a programa packaged procedure invoked by name. Functions also can compute a result value and let us specify parameters that serve as function inputs and may differ each time the code is run. \n",
    "\n",
    "Functions are also the most basic program structure Python provides for maximizing code reuse. As we’ll see, functions let us split complex systems into manageable parts. By implementing each part as a function, we make it both reusable and easier to code.\n",
    "\n",
    "General format:\n",
    "```\n",
    "def name(arg1, arg2,... argN):\n",
    "    statements\n",
    "    return value # optional part\n",
    "```\n",
    "\n",
    "As with all compound Python statements, def consists of a header line followed by a block of statements, usually indented (or a simple statement after the colon). The statement block becomes the function’s body — that is, the code Python executes each time the function is later called.\n",
    "\n",
    "The Python return statement can show up anywhere in a function body; when reached, it ends the function call and sends a result back to the caller.\n",
    "\n",
    "Python has a lot og build in functions:\n",
    "\n",
    "<table border=\"1\" class=\"docutils\">\n",
    "<colgroup>\n",
    "<col width=\"21%\">\n",
    "<col width=\"18%\">\n",
    "<col width=\"20%\">\n",
    "<col width=\"20%\">\n",
    "<col width=\"22%\">\n",
    "</colgroup>\n",
    "<thead valign=\"bottom\">\n",
    "<tr class=\"row-odd\"><th class=\"head\"></th>\n",
    "<th class=\"head\"></th>\n",
    "    <th class=\"head\"><a href=\"https://docs.python.org/3/library/functions.html\">Built-in Functions</a></th>\n",
    "<th class=\"head\"></th>\n",
    "<th class=\"head\"></th>\n",
    "</tr>\n",
    "</thead>\n",
    "<tbody valign=\"top\">\n",
    "<tr class=\"row-even\"><td><a class=\"reference internal\" href=\"https://docs.python.org/3/library/functions.html#abs\" title=\"abs\"><code class=\"xref py py-func docutils literal notranslate\"><span class=\"pre\">abs()</span></code></a></td>\n",
    "<td><a class=\"reference internal\" href=\"https://docs.python.org/3/library/functions.html#delattr\" title=\"delattr\"><code class=\"xref py py-func docutils literal notranslate\"><span class=\"pre\">delattr()</span></code></a></td>\n",
    "<td><a class=\"reference internal\" href=\"https://docs.python.org/3/library/functions.html#hash\" title=\"hash\"><code class=\"xref py py-func docutils literal notranslate\"><span class=\"pre\">hash()</span></code></a></td>\n",
    "<td><a class=\"reference internal\" href=\"https://docs.python.org/3/library/functions.html#func-memoryview\"><code class=\"docutils literal notranslate\"><span class=\"pre\">memoryview()</span></code></a></td>\n",
    "<td><a class=\"reference internal\" href=\"https://docs.python.org/3/library/functions.html#func-set\"><code class=\"docutils literal notranslate\"><span class=\"pre\">set()</span></code></a></td>\n",
    "</tr>\n",
    "<tr class=\"row-odd\"><td><a class=\"reference internal\" href=\"https://docs.python.org/3/library/functions.html#all\" title=\"all\"><code class=\"xref py py-func docutils literal notranslate\"><span class=\"pre\">all()</span></code></a></td>\n",
    "<td><a class=\"reference internal\" href=\"https://docs.python.org/3/library/functions.html#func-dict\"><code class=\"docutils literal notranslate\"><span class=\"pre\">dict()</span></code></a></td>\n",
    "<td><a class=\"reference internal\" href=\"https://docs.python.org/3/library/functions.html#help\" title=\"help\"><code class=\"xref py py-func docutils literal notranslate\"><span class=\"pre\">help()</span></code></a></td>\n",
    "<td><a class=\"reference internal\" href=\"https://docs.python.org/3/library/functions.html#min\" title=\"min\"><code class=\"xref py py-func docutils literal notranslate\"><span class=\"pre\">min()</span></code></a></td>\n",
    "<td><a class=\"reference internal\" href=\"https://docs.python.org/3/library/functions.html#setattr\" title=\"setattr\"><code class=\"xref py py-func docutils literal notranslate\"><span class=\"pre\">setattr()</span></code></a></td>\n",
    "</tr>\n",
    "<tr class=\"row-even\"><td><a class=\"reference internal\" href=\"https://docs.python.org/3/library/functions.html#any\" title=\"any\"><code class=\"xref py py-func docutils literal notranslate\"><span class=\"pre\">any()</span></code></a></td>\n",
    "<td><a class=\"reference internal\" href=\"https://docs.python.org/3/library/functions.html#dir\" title=\"dir\"><code class=\"xref py py-func docutils literal notranslate\"><span class=\"pre\">dir()</span></code></a></td>\n",
    "<td><a class=\"reference internal\" href=\"https://docs.python.org/3/library/functions.html#hex\" title=\"hex\"><code class=\"xref py py-func docutils literal notranslate\"><span class=\"pre\">hex()</span></code></a></td>\n",
    "<td><a class=\"reference internal\" href=\"https://docs.python.org/3/library/functions.html#next\" title=\"next\"><code class=\"xref py py-func docutils literal notranslate\"><span class=\"pre\">next()</span></code></a></td>\n",
    "<td><a class=\"reference internal\" href=\"https://docs.python.org/3/library/functions.html#slice\" title=\"slice\"><code class=\"xref py py-func docutils literal notranslate\"><span class=\"pre\">slice()</span></code></a></td>\n",
    "</tr>\n",
    "<tr class=\"row-odd\"><td><a class=\"reference internal\" href=\"https://docs.python.org/3/library/functions.html#ascii\" title=\"ascii\"><code class=\"xref py py-func docutils literal notranslate\"><span class=\"pre\">ascii()</span></code></a></td>\n",
    "<td><a class=\"reference internal\" href=\"https://docs.python.org/3/library/functions.html#divmod\" title=\"divmod\"><code class=\"xref py py-func docutils literal notranslate\"><span class=\"pre\">divmod()</span></code></a></td>\n",
    "<td><a class=\"reference internal\" href=\"https://docs.python.org/3/library/functions.html#id\" title=\"id\"><code class=\"xref py py-func docutils literal notranslate\"><span class=\"pre\">id()</span></code></a></td>\n",
    "<td><a class=\"reference internal\" href=\"https://docs.python.org/3/library/functions.html#object\" title=\"object\"><code class=\"xref py py-func docutils literal notranslate\"><span class=\"pre\">object()</span></code></a></td>\n",
    "<td><a class=\"reference internal\" href=\"https://docs.python.org/3/library/functions.html#sorted\" title=\"sorted\"><code class=\"xref py py-func docutils literal notranslate\"><span class=\"pre\">sorted()</span></code></a></td>\n",
    "</tr>\n",
    "<tr class=\"row-even\"><td><a class=\"reference internal\" href=\"https://docs.python.org/3/library/functions.html#bin\" title=\"bin\"><code class=\"xref py py-func docutils literal notranslate\"><span class=\"pre\">bin()</span></code></a></td>\n",
    "<td><a class=\"reference internal\" href=\"https://docs.python.org/3/library/functions.html#enumerate\" title=\"enumerate\"><code class=\"xref py py-func docutils literal notranslate\"><span class=\"pre\">enumerate()</span></code></a></td>\n",
    "<td><a class=\"reference internal\" href=\"https://docs.python.org/3/library/functions.html#input\" title=\"input\"><code class=\"xref py py-func docutils literal notranslate\"><span class=\"pre\">input()</span></code></a></td>\n",
    "<td><a class=\"reference internal\" href=\"https://docs.python.org/3/library/functions.html#oct\" title=\"oct\"><code class=\"xref py py-func docutils literal notranslate\"><span class=\"pre\">oct()</span></code></a></td>\n",
    "<td><a class=\"reference internal\" href=\"https://docs.python.org/3/library/functions.html#staticmethod\" title=\"staticmethod\"><code class=\"xref py py-func docutils literal notranslate\"><span class=\"pre\">staticmethod()</span></code></a></td>\n",
    "</tr>\n",
    "<tr class=\"row-odd\"><td><a class=\"reference internal\" href=\"https://docs.python.org/3/library/functions.html#bool\" title=\"bool\"><code class=\"xref py py-func docutils literal notranslate\"><span class=\"pre\">bool()</span></code></a></td>\n",
    "<td><a class=\"reference internal\" href=\"https://docs.python.org/3/library/functions.html#eval\" title=\"eval\"><code class=\"xref py py-func docutils literal notranslate\"><span class=\"pre\">eval()</span></code></a></td>\n",
    "<td><a class=\"reference internal\" href=\"https://docs.python.org/3/library/functions.html#int\" title=\"int\"><code class=\"xref py py-func docutils literal notranslate\"><span class=\"pre\">int()</span></code></a></td>\n",
    "<td><a class=\"reference internal\" href=\"https://docs.python.org/3/library/functions.html#open\" title=\"open\"><code class=\"xref py py-func docutils literal notranslate\"><span class=\"pre\">open()</span></code></a></td>\n",
    "<td><a class=\"reference internal\" href=\"https://docs.python.org/3/library/functions.html#func-str\"><code class=\"docutils literal notranslate\"><span class=\"pre\">str()</span></code></a></td>\n",
    "</tr>\n",
    "<tr class=\"row-even\"><td><a class=\"reference internal\" href=\"https://docs.python.org/3/library/functions.html#breakpoint\" title=\"breakpoint\"><code class=\"xref py py-func docutils literal notranslate\"><span class=\"pre\">breakpoint()</span></code></a></td>\n",
    "<td><a class=\"reference internal\" href=\"https://docs.python.org/3/library/functions.html#exec\" title=\"exec\"><code class=\"xref py py-func docutils literal notranslate\"><span class=\"pre\">exec()</span></code></a></td>\n",
    "<td><a class=\"reference internal\" href=\"https://docs.python.org/3/library/functions.html#isinstance\" title=\"isinstance\"><code class=\"xref py py-func docutils literal notranslate\"><span class=\"pre\">isinstance()</span></code></a></td>\n",
    "<td><a class=\"reference internal\" href=\"https://docs.python.org/3/library/functions.html#ord\" title=\"ord\"><code class=\"xref py py-func docutils literal notranslate\"><span class=\"pre\">ord()</span></code></a></td>\n",
    "<td><a class=\"reference internal\" href=\"https://docs.python.org/3/library/functions.html#sum\" title=\"sum\"><code class=\"xref py py-func docutils literal notranslate\"><span class=\"pre\">sum()</span></code></a></td>\n",
    "</tr>\n",
    "<tr class=\"row-odd\"><td><a class=\"reference internal\" href=\"https://docs.python.org/3/library/functions.html#func-bytearray\"><code class=\"docutils literal notranslate\"><span class=\"pre\">bytearray()</span></code></a></td>\n",
    "<td><a class=\"reference internal\" href=\"https://docs.python.org/3/library/functions.html#filter\" title=\"filter\"><code class=\"xref py py-func docutils literal notranslate\"><span class=\"pre\">filter()</span></code></a></td>\n",
    "<td><a class=\"reference internal\" href=\"https://docs.python.org/3/library/functions.html#issubclass\" title=\"issubclass\"><code class=\"xref py py-func docutils literal notranslate\"><span class=\"pre\">issubclass()</span></code></a></td>\n",
    "<td><a class=\"reference internal\" href=\"https://docs.python.org/3/library/functions.html#pow\" title=\"pow\"><code class=\"xref py py-func docutils literal notranslate\"><span class=\"pre\">pow()</span></code></a></td>\n",
    "<td><a class=\"reference internal\" href=\"https://docs.python.org/3/library/functions.html#super\" title=\"super\"><code class=\"xref py py-func docutils literal notranslate\"><span class=\"pre\">super()</span></code></a></td>\n",
    "</tr>\n",
    "<tr class=\"row-even\"><td><a class=\"reference internal\" href=\"https://docs.python.org/3/library/functions.html#func-bytes\"><code class=\"docutils literal notranslate\"><span class=\"pre\">bytes()</span></code></a></td>\n",
    "<td><a class=\"reference internal\" href=\"https://docs.python.org/3/library/functions.html#float\" title=\"float\"><code class=\"xref py py-func docutils literal notranslate\"><span class=\"pre\">float()</span></code></a></td>\n",
    "<td><a class=\"reference internal\" href=\"https://docs.python.org/3/library/functions.html#iter\" title=\"iter\"><code class=\"xref py py-func docutils literal notranslate\"><span class=\"pre\">iter()</span></code></a></td>\n",
    "<td><a class=\"reference internal\" href=\"https://docs.python.org/3/library/functions.html#print\" title=\"print\"><code class=\"xref py py-func docutils literal notranslate\"><span class=\"pre\">print()</span></code></a></td>\n",
    "<td><a class=\"reference internal\" href=\"https://docs.python.org/3/library/functions.html#func-tuple\"><code class=\"docutils literal notranslate\"><span class=\"pre\">tuple()</span></code></a></td>\n",
    "</tr>\n",
    "<tr class=\"row-odd\"><td><a class=\"reference internal\" href=\"https://docs.python.org/3/library/functions.html#callable\" title=\"callable\"><code class=\"xref py py-func docutils literal notranslate\"><span class=\"pre\">callable()</span></code></a></td>\n",
    "<td><a class=\"reference internal\" href=\"https://docs.python.org/3/library/functions.html#format\" title=\"format\"><code class=\"xref py py-func docutils literal notranslate\"><span class=\"pre\">format()</span></code></a></td>\n",
    "<td><a class=\"reference internal\" href=\"https://docs.python.org/3/library/functions.html#len\" title=\"len\"><code class=\"xref py py-func docutils literal notranslate\"><span class=\"pre\">len()</span></code></a></td>\n",
    "<td><a class=\"reference internal\" href=\"https://docs.python.org/3/library/functions.html#property\" title=\"property\"><code class=\"xref py py-func docutils literal notranslate\"><span class=\"pre\">property()</span></code></a></td>\n",
    "<td><a class=\"reference internal\" href=\"https://docs.python.org/3/library/functions.html#type\" title=\"type\"><code class=\"xref py py-func docutils literal notranslate\"><span class=\"pre\">type()</span></code></a></td>\n",
    "</tr>\n",
    "<tr class=\"row-even\"><td><a class=\"reference internal\" href=\"https://docs.python.org/3/library/functions.html#chr\" title=\"chr\"><code class=\"xref py py-func docutils literal notranslate\"><span class=\"pre\">chr()</span></code></a></td>\n",
    "<td><a class=\"reference internal\" href=\"https://docs.python.org/3/library/functions.html#func-frozenset\"><code class=\"docutils literal notranslate\"><span class=\"pre\">frozenset()</span></code></a></td>\n",
    "<td><a class=\"reference internal\" href=\"https://docs.python.org/3/library/functions.html#func-list\"><code class=\"docutils literal notranslate\"><span class=\"pre\">list()</span></code></a></td>\n",
    "<td><a class=\"reference internal\" href=\"https://docs.python.org/3/library/functions.html#func-range\"><code class=\"docutils literal notranslate\"><span class=\"pre\">range()</span></code></a></td>\n",
    "<td><a class=\"reference internal\" href=\"https://docs.python.org/3/library/functions.html#vars\" title=\"vars\"><code class=\"xref py py-func docutils literal notranslate\"><span class=\"pre\">vars()</span></code></a></td>\n",
    "</tr>\n",
    "<tr class=\"row-odd\"><td><a class=\"reference internal\" href=\"https://docs.python.org/3/library/functions.html#classmethod\" title=\"classmethod\"><code class=\"xref py py-func docutils literal notranslate\"><span class=\"pre\">classmethod()</span></code></a></td>\n",
    "<td><a class=\"reference internal\" href=\"https://docs.python.org/3/library/functions.html#getattr\" title=\"getattr\"><code class=\"xref py py-func docutils literal notranslate\"><span class=\"pre\">getattr()</span></code></a></td>\n",
    "<td><a class=\"reference internal\" href=\"https://docs.python.org/3/library/functions.html#locals\" title=\"locals\"><code class=\"xref py py-func docutils literal notranslate\"><span class=\"pre\">locals()</span></code></a></td>\n",
    "<td><a class=\"reference internal\" href=\"https://docs.python.org/3/library/functions.html#repr\" title=\"repr\"><code class=\"xref py py-func docutils literal notranslate\"><span class=\"pre\">repr()</span></code></a></td>\n",
    "<td><a class=\"reference internal\" href=\"https://docs.python.org/3/library/functions.html#zip\" title=\"zip\"><code class=\"xref py py-func docutils literal notranslate\"><span class=\"pre\">zip()</span></code></a></td>\n",
    "</tr>\n",
    "<tr class=\"row-even\"><td><a class=\"reference internal\" href=\"https://docs.python.org/3/library/functions.html#compile\" title=\"compile\"><code class=\"xref py py-func docutils literal notranslate\"><span class=\"pre\">compile()</span></code></a></td>\n",
    "<td><a class=\"reference internal\" href=\"https://docs.python.org/3/library/functions.html#globals\" title=\"globals\"><code class=\"xref py py-func docutils literal notranslate\"><span class=\"pre\">globals()</span></code></a></td>\n",
    "<td><a class=\"reference internal\" href=\"https://docs.python.org/3/library/functions.html#map\" title=\"map\"><code class=\"xref py py-func docutils literal notranslate\"><span class=\"pre\">map()</span></code></a></td>\n",
    "<td><a class=\"reference internal\" href=\"https://docs.python.org/3/library/functions.html#reversed\" title=\"reversed\"><code class=\"xref py py-func docutils literal notranslate\"><span class=\"pre\">reversed()</span></code></a></td>\n",
    "<td><a class=\"reference internal\" href=\"https://docs.python.org/3/library/functions.html#__import__\" title=\"__import__\"><code class=\"xref py py-func docutils literal notranslate\"><span class=\"pre\">__import__()</span></code></a></td>\n",
    "</tr>\n",
    "<tr class=\"row-odd\"><td><a class=\"reference internal\" href=\"https://docs.python.org/3/library/functions.html#complex\" title=\"complex\"><code class=\"xref py py-func docutils literal notranslate\"><span class=\"pre\">complex()</span></code></a></td>\n",
    "<td><a class=\"reference internal\" href=\"https://docs.python.org/3/library/functions.html#hasattr\" title=\"hasattr\"><code class=\"xref py py-func docutils literal notranslate\"><span class=\"pre\">hasattr()</span></code></a></td>\n",
    "<td><a class=\"reference internal\" href=\"https://docs.python.org/3/library/functions.html#max\" title=\"max\"><code class=\"xref py py-func docutils literal notranslate\"><span class=\"pre\">max()</span></code></a></td>\n",
    "<td><a class=\"reference internal\" href=\"https://docs.python.org/3/library/functions.html#round\" title=\"round\"><code class=\"xref py py-func docutils literal notranslate\"><span class=\"pre\">round()</span></code></a></td>\n",
    "<td>&nbsp;</td>\n",
    "</tr>\n",
    "</tbody>\n",
    "</table>"
   ]
  },
  {
   "cell_type": "markdown",
   "metadata": {
    "ExecuteTime": {
     "end_time": "2018-07-16T00:46:27.751901Z",
     "start_time": "2018-07-16T00:46:27.746212Z"
    }
   },
   "source": [
    "Lets define a function:"
   ]
  },
  {
   "cell_type": "code",
   "execution_count": 131,
   "metadata": {
    "ExecuteTime": {
     "end_time": "2018-07-16T00:46:53.736632Z",
     "start_time": "2018-07-16T00:46:53.732993Z"
    }
   },
   "outputs": [],
   "source": [
    "def times(x, y): # Create and assign function\n",
    "    return x * y # Body executed when called"
   ]
  },
  {
   "cell_type": "code",
   "execution_count": 132,
   "metadata": {
    "ExecuteTime": {
     "end_time": "2018-07-16T00:47:15.817463Z",
     "start_time": "2018-07-16T00:47:15.811002Z"
    }
   },
   "outputs": [
    {
     "data": {
      "text/plain": [
       "8"
      ]
     },
     "execution_count": 132,
     "metadata": {},
     "output_type": "execute_result"
    }
   ],
   "source": [
    "times(2, 4) # Arguments in parentheses"
   ]
  },
  {
   "cell_type": "code",
   "execution_count": 133,
   "metadata": {
    "ExecuteTime": {
     "end_time": "2018-07-16T00:48:10.096638Z",
     "start_time": "2018-07-16T00:48:10.092102Z"
    }
   },
   "outputs": [
    {
     "data": {
      "text/plain": [
       "'lolololo'"
      ]
     },
     "execution_count": 133,
     "metadata": {},
     "output_type": "execute_result"
    }
   ],
   "source": [
    "x = times(\"lo\", 4) # Save the result object\n",
    "x"
   ]
  },
  {
   "cell_type": "markdown",
   "metadata": {},
   "source": [
    "Functions can accept default arguments. These arguments can either be specified by the caller or left blank to automatically receive a predefined value."
   ]
  },
  {
   "cell_type": "code",
   "execution_count": 3,
   "metadata": {
    "ExecuteTime": {
     "end_time": "2018-07-16T14:23:47.505063Z",
     "start_time": "2018-07-16T14:23:47.501079Z"
    }
   },
   "outputs": [],
   "source": [
    "def power(x, power=2): # to the power of 2 by default\n",
    "    return x ** power # Body executed when called"
   ]
  },
  {
   "cell_type": "code",
   "execution_count": 4,
   "metadata": {
    "ExecuteTime": {
     "end_time": "2018-07-16T14:23:47.850153Z",
     "start_time": "2018-07-16T14:23:47.844747Z"
    }
   },
   "outputs": [
    {
     "data": {
      "text/plain": [
       "9"
      ]
     },
     "execution_count": 4,
     "metadata": {},
     "output_type": "execute_result"
    }
   ],
   "source": [
    "power(3)"
   ]
  },
  {
   "cell_type": "code",
   "execution_count": 6,
   "metadata": {
    "ExecuteTime": {
     "end_time": "2018-07-16T14:24:07.170973Z",
     "start_time": "2018-07-16T14:24:07.165739Z"
    },
    "scrolled": true
   },
   "outputs": [
    {
     "data": {
      "text/plain": [
       "3"
      ]
     },
     "execution_count": 6,
     "metadata": {},
     "output_type": "execute_result"
    }
   ],
   "source": [
    "power(3, 1)"
   ]
  },
  {
   "cell_type": "markdown",
   "metadata": {},
   "source": [
    "### Lambda functions\n",
    "\n",
    "Besides the def statement, Python also provides an expression form that generates function objects, it’s called lambda.\n",
    "\n",
    "Like def, this expression creates a function to be called later, but it returns the function instead of assigning it to a name. This is why lambdas are sometimes known as anonymous (i.e., unnamed) functions. In practice, they are often used as a way to inline a function definition.\n",
    "\n",
    "The lambda’s general form is the keyword lambda, followed by one or more arguments (exactly like the arguments list you enclose in parentheses in a def header), followed by an expression after a colon:\n",
    "\n",
    "```\n",
    "lambda argument1, argument2,... argumentN : expression using arguments\n",
    "```"
   ]
  },
  {
   "cell_type": "code",
   "execution_count": 7,
   "metadata": {
    "ExecuteTime": {
     "end_time": "2018-07-16T21:17:03.897731Z",
     "start_time": "2018-07-16T21:17:03.884637Z"
    }
   },
   "outputs": [],
   "source": [
    "def power(x, power=2):\n",
    "    return x ** power"
   ]
  },
  {
   "cell_type": "code",
   "execution_count": 13,
   "metadata": {
    "ExecuteTime": {
     "end_time": "2018-07-16T21:19:59.879915Z",
     "start_time": "2018-07-16T21:19:59.876964Z"
    }
   },
   "outputs": [],
   "source": [
    "power = lambda x, power=2: x**power"
   ]
  },
  {
   "cell_type": "markdown",
   "metadata": {},
   "source": [
    "There are a few differences that make lambdas useful in specialized roles:\n",
    "\n",
    "1. **lambda is an expression, not a statement.** Because of this, a lambda can appear in places a def is not allowed by Python’s syntax—inside a list literal or a function call’s arguments, for example. With def, functions can be referenced by name but must be created elsewhere. As an expression, lambda returns a value (a new func- tion) that can optionally be assigned a name. In contrast, the def statement always assigns the new function to the name in the header, instead of returning it as a result.\n",
    "\n",
    "2. **lambda’s body is a single expression, not a block of statements.**"
   ]
  },
  {
   "cell_type": "markdown",
   "metadata": {},
   "source": [
    "#### Why Use lambda?"
   ]
  },
  {
   "cell_type": "markdown",
   "metadata": {},
   "source": [
    "Take a look at the `sorted` function. It returns a new list containing all items from the iterable in ascending order."
   ]
  },
  {
   "cell_type": "code",
   "execution_count": null,
   "metadata": {},
   "outputs": [],
   "source": [
    "sorted()"
   ]
  },
  {
   "cell_type": "markdown",
   "metadata": {},
   "source": [
    "Lets create a list of random numbers with module random."
   ]
  },
  {
   "cell_type": "code",
   "execution_count": 19,
   "metadata": {
    "ExecuteTime": {
     "end_time": "2018-07-16T21:32:54.452271Z",
     "start_time": "2018-07-16T21:32:54.446810Z"
    }
   },
   "outputs": [
    {
     "data": {
      "text/plain": [
       "[28, 61, 3, 11, 96, 73, 33, 28, 93, 32]"
      ]
     },
     "execution_count": 19,
     "metadata": {},
     "output_type": "execute_result"
    }
   ],
   "source": [
    "import random\n",
    "# Return a k sized list of population elements chosen with replacement.\n",
    "random_list = random.choices(range(100), k=10)\n",
    "random_list"
   ]
  },
  {
   "cell_type": "code",
   "execution_count": 20,
   "metadata": {
    "ExecuteTime": {
     "end_time": "2018-07-16T21:33:10.622815Z",
     "start_time": "2018-07-16T21:33:10.615797Z"
    }
   },
   "outputs": [
    {
     "data": {
      "text/plain": [
       "[3, 11, 28, 28, 32, 33, 61, 73, 93, 96]"
      ]
     },
     "execution_count": 20,
     "metadata": {},
     "output_type": "execute_result"
    }
   ],
   "source": [
    "sorted(random_list)"
   ]
  },
  {
   "cell_type": "markdown",
   "metadata": {},
   "source": [
    "`sorted` function has an argument `key`, which accept a custom key function can be supplied to customize the sort order. It is useful when we want to sort by nested element."
   ]
  },
  {
   "cell_type": "code",
   "execution_count": 25,
   "metadata": {
    "ExecuteTime": {
     "end_time": "2018-07-16T21:43:56.792591Z",
     "start_time": "2018-07-16T21:43:56.782286Z"
    }
   },
   "outputs": [],
   "source": [
    "orders = [\n",
    "    {\n",
    "        \"name\": \"pizza pepperoni\",\n",
    "        \"price\": 12,\n",
    "        \"amount\": 1\n",
    "    },\n",
    "    {\n",
    "        \"name\": \"Coca-cola\",\n",
    "        \"price\": 4,\n",
    "        \"amount\": 2\n",
    "    },\n",
    "    {\n",
    "        \"name\": \"Cupcake\",\n",
    "        \"price\": 3,\n",
    "        \"amount\": 10\n",
    "    }\n",
    "]"
   ]
  },
  {
   "cell_type": "code",
   "execution_count": 26,
   "metadata": {
    "ExecuteTime": {
     "end_time": "2018-07-16T21:43:57.058094Z",
     "start_time": "2018-07-16T21:43:57.047273Z"
    }
   },
   "outputs": [
    {
     "data": {
      "text/plain": [
       "[{'name': 'Cupcake', 'price': 3, 'amount': 10},\n",
       " {'name': 'Coca-cola', 'price': 4, 'amount': 2},\n",
       " {'name': 'pizza pepperoni', 'price': 12, 'amount': 1}]"
      ]
     },
     "execution_count": 26,
     "metadata": {},
     "output_type": "execute_result"
    }
   ],
   "source": [
    "sorted(orders, key=lambda el: el[\"price\"])"
   ]
  },
  {
   "cell_type": "code",
   "execution_count": 27,
   "metadata": {
    "ExecuteTime": {
     "end_time": "2018-07-16T21:43:57.816148Z",
     "start_time": "2018-07-16T21:43:57.810320Z"
    }
   },
   "outputs": [
    {
     "data": {
      "text/plain": [
       "[{'name': 'Cupcake', 'price': 3, 'amount': 10},\n",
       " {'name': 'Coca-cola', 'price': 4, 'amount': 2},\n",
       " {'name': 'pizza pepperoni', 'price': 12, 'amount': 1}]"
      ]
     },
     "execution_count": 27,
     "metadata": {},
     "output_type": "execute_result"
    }
   ],
   "source": [
    "# it is the same as \n",
    "def sort_function(el):\n",
    "    return el[\"price\"]\n",
    "\n",
    "sorted(orders, key=sort_function)"
   ]
  },
  {
   "cell_type": "markdown",
   "metadata": {
    "hideCode": false,
    "hidePrompt": false
   },
   "source": [
    "## Modules\n",
    "\n",
    "1. Programs are composed of modules.\n",
    "2. **Modules contain statements.**\n",
    "3. Statements contain expressions.\n",
    "4. Expressions create and process objects.\n",
    "\n",
    "Python module is the highest-level program organization unit, which packages program code and data for reuse, and provides self-contained namespaces that minimize variable name clashes across your programs."
   ]
  },
  {
   "cell_type": "code",
   "execution_count": 57,
   "metadata": {
    "ExecuteTime": {
     "end_time": "2018-07-14T01:41:49.864580Z",
     "start_time": "2018-07-14T01:41:49.858773Z"
    },
    "hideCode": false,
    "hidePrompt": false
   },
   "outputs": [],
   "source": [
    "import math # import lets a client (importer) fetch a module as a whole"
   ]
  },
  {
   "cell_type": "code",
   "execution_count": 58,
   "metadata": {
    "ExecuteTime": {
     "end_time": "2018-07-14T01:41:51.484998Z",
     "start_time": "2018-07-14T01:41:51.478234Z"
    },
    "hideCode": false,
    "hidePrompt": false
   },
   "outputs": [
    {
     "data": {
      "text/plain": [
       "<module 'math' from '/usr/local/Cellar/python/3.6.5_1/Frameworks/Python.framework/Versions/3.6/lib/python3.6/lib-dynload/math.cpython-36m-darwin.so'>"
      ]
     },
     "execution_count": 58,
     "metadata": {},
     "output_type": "execute_result"
    }
   ],
   "source": [
    "math"
   ]
  },
  {
   "cell_type": "code",
   "execution_count": 47,
   "metadata": {
    "ExecuteTime": {
     "end_time": "2018-07-14T01:35:02.376224Z",
     "start_time": "2018-07-14T01:35:02.371571Z"
    },
    "hideCode": false,
    "hidePrompt": false
   },
   "outputs": [
    {
     "data": {
      "text/plain": [
       "3.141592653589793"
      ]
     },
     "execution_count": 47,
     "metadata": {},
     "output_type": "execute_result"
    }
   ],
   "source": [
    "math.pi # constants"
   ]
  },
  {
   "cell_type": "code",
   "execution_count": 48,
   "metadata": {
    "ExecuteTime": {
     "end_time": "2018-07-14T01:35:07.249378Z",
     "start_time": "2018-07-14T01:35:07.244997Z"
    },
    "hideCode": false,
    "hidePrompt": false
   },
   "outputs": [
    {
     "data": {
      "text/plain": [
       "-1.0"
      ]
     },
     "execution_count": 48,
     "metadata": {},
     "output_type": "execute_result"
    }
   ],
   "source": [
    "math.cos(math.pi)"
   ]
  },
  {
   "cell_type": "code",
   "execution_count": 49,
   "metadata": {
    "ExecuteTime": {
     "end_time": "2018-07-14T01:36:46.834846Z",
     "start_time": "2018-07-14T01:36:46.830313Z"
    },
    "hideCode": false,
    "hidePrompt": false
   },
   "outputs": [],
   "source": [
    "import math as m # The `as` keyword is used for aliasing in Python."
   ]
  },
  {
   "cell_type": "code",
   "execution_count": 53,
   "metadata": {
    "ExecuteTime": {
     "end_time": "2018-07-14T01:37:48.865266Z",
     "start_time": "2018-07-14T01:37:48.861729Z"
    },
    "hideCode": false,
    "hidePrompt": false
   },
   "outputs": [],
   "source": [
    "from math import log, e # `from` allows clients to fetch particular names from a module"
   ]
  },
  {
   "cell_type": "code",
   "execution_count": 54,
   "metadata": {
    "ExecuteTime": {
     "end_time": "2018-07-14T01:37:53.829357Z",
     "start_time": "2018-07-14T01:37:53.821558Z"
    },
    "hideCode": false,
    "hidePrompt": false
   },
   "outputs": [
    {
     "data": {
      "text/plain": [
       "1.0"
      ]
     },
     "execution_count": 54,
     "metadata": {},
     "output_type": "execute_result"
    }
   ],
   "source": [
    "log(e)"
   ]
  },
  {
   "cell_type": "code",
   "execution_count": 59,
   "metadata": {
    "ExecuteTime": {
     "end_time": "2018-07-14T01:42:23.245074Z",
     "start_time": "2018-07-14T01:42:23.241189Z"
    },
    "hideCode": false,
    "hidePrompt": false
   },
   "outputs": [],
   "source": [
    "from math import factorial as fct # `import`, `as` and `from` can be used together"
   ]
  },
  {
   "cell_type": "code",
   "execution_count": 56,
   "metadata": {
    "ExecuteTime": {
     "end_time": "2018-07-14T01:38:34.558290Z",
     "start_time": "2018-07-14T01:38:34.553191Z"
    },
    "hideCode": false,
    "hidePrompt": false
   },
   "outputs": [
    {
     "data": {
      "text/plain": [
       "3628800"
      ]
     },
     "execution_count": 56,
     "metadata": {},
     "output_type": "execute_result"
    }
   ],
   "source": [
    "fct(10)"
   ]
  },
  {
   "cell_type": "markdown",
   "metadata": {},
   "source": [
    "### Practical assignment\n",
    "\n",
    "Implement your own key-value storage. Your task is to write a program that accepts keys as an arguments and returns an associated values from a storage — json-file.\n",
    "\n",
    "To write a value\n",
    "\n",
    "> storage.py --key key_name --val value\n",
    "\n",
    "To get a value(s) by key\n",
    "\n",
    "> storage.py --key key_name\n",
    "\n",
    "In this case result could look like this:\n",
    "\n",
    "> value\n",
    "\n",
    "or\n",
    "\n",
    "> value_1, value_2\n",
    "\n",
    "if more than one value was written.\n",
    "\n",
    "If no values were associated with key return `None`.\n",
    "\n",
    "To transfer arguments to the script with command line use [`argparse`](https://docs.python.org/3/howto/argparse.html) module. Onve again — your task will be to take the arguments passed to your program and write the corresponding key-value pair to the storage file or display the values if only the key was passed. You can store data in JSON format using the standard module [`json`](https://docs.python.org/3/library/json.html). Use `json.load(open(storage_path, 'r'))` to open json file and `json.dump(storage, open(storage_path, 'w'))` to save the data, see docs for more.\n",
    "\n",
    "To create a file better use [`tempfile`](https://docs.python.org/3/library/tempfile.html) module."
   ]
  },
  {
   "cell_type": "code",
   "execution_count": null,
   "metadata": {},
   "outputs": [],
   "source": [
    "import os\n",
    "import tempfile\n",
    "import argparse\n",
    "import json\n",
    "\n",
    "storage_path = os.path.join(tempfile.gettempdir(), 'storage1.data')\n",
    "parser = argparse.ArgumentParser()\n",
    "parser.add_argument(\"--key\", help=\"Получение значения по ключу или запись\")\n",
    "parser.add_argument(\"--value\", help=\"Запись значения, если указан ключ\")\n",
    "args = parser.parse_args()\n",
    "# your turn"
   ]
  }
 ],
 "metadata": {
  "celltoolbar": "Slideshow",
  "hide_code_all_hidden": false,
  "kernelspec": {
   "display_name": "Python 3",
   "language": "python",
   "name": "python3"
  },
  "language_info": {
   "codemirror_mode": {
    "name": "ipython",
    "version": 3
   },
   "file_extension": ".py",
   "mimetype": "text/x-python",
   "name": "python",
   "nbconvert_exporter": "python",
   "pygments_lexer": "ipython3",
   "version": "3.7.3"
  },
  "toc": {
   "nav_menu": {},
   "number_sections": true,
   "sideBar": true,
   "skip_h1_title": false,
   "toc_cell": false,
   "toc_position": {},
   "toc_section_display": "block",
   "toc_window_display": true
  },
  "varInspector": {
   "cols": {
    "lenName": 16,
    "lenType": 16,
    "lenVar": 40
   },
   "kernels_config": {
    "python": {
     "delete_cmd_postfix": "",
     "delete_cmd_prefix": "del ",
     "library": "var_list.py",
     "varRefreshCmd": "print(var_dic_list())"
    },
    "r": {
     "delete_cmd_postfix": ") ",
     "delete_cmd_prefix": "rm(",
     "library": "var_list.r",
     "varRefreshCmd": "cat(var_dic_list()) "
    }
   },
   "types_to_exclude": [
    "module",
    "function",
    "builtin_function_or_method",
    "instance",
    "_Feature"
   ],
   "window_display": false
  }
 },
 "nbformat": 4,
 "nbformat_minor": 2
}
