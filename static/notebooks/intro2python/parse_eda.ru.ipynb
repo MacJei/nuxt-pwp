{
 "cells": [
  {
   "cell_type": "code",
   "execution_count": 1,
   "metadata": {
    "ExecuteTime": {
     "end_time": "2018-08-03T04:42:39.657740Z",
     "start_time": "2018-08-03T04:42:38.617482Z"
    }
   },
   "outputs": [],
   "source": [
    "import requests\n",
    "from pyquery import PyQuery as pq\n",
    "import json\n",
    "from json import JSONDecodeError\n",
    "from tqdm import tqdm_notebook\n",
    "import pandas as pd"
   ]
  },
  {
   "cell_type": "code",
   "execution_count": 6,
   "metadata": {
    "ExecuteTime": {
     "end_time": "2018-08-03T04:45:34.240069Z",
     "start_time": "2018-08-03T04:45:34.236367Z"
    }
   },
   "outputs": [],
   "source": [
    "url = \"https://eda.ru/recepty?page={}\"\n",
    "res = requests.get(url.format(1))"
   ]
  },
  {
   "cell_type": "code",
   "execution_count": 47,
   "metadata": {
    "ExecuteTime": {
     "end_time": "2018-08-02T11:58:24.337697Z",
     "start_time": "2018-08-02T11:58:24.208655Z"
    }
   },
   "outputs": [],
   "source": [
    "recipes_subcat_list = []\n",
    "for recipes_cat in pq(res.text).find(\".seo-footer .seo-footer__list\"):\n",
    "    recipes_subcats = pq(recipes_cat).find(\"li.seo-footer__list-item, li.seo-footer__list-title _empty\")\n",
    "    for recipes_subcat in recipes_subcats:\n",
    "        d = {\n",
    "            \"title\": pq(recipes_subcat).text().split(\"\\xa0\\xa0\")[0],\n",
    "            \"href\": pq(recipes_subcat).find(\"a\").attr(\"href\"),\n",
    "            \"num\": int(pq(recipes_subcat).text().split(\"\\xa0\\xa0\")[1])\n",
    "        }\n",
    "        recipes_subcat_list.append(d)"
   ]
  },
  {
   "cell_type": "code",
   "execution_count": null,
   "metadata": {
    "ExecuteTime": {
     "end_time": "2018-08-02T14:19:59.383948Z",
     "start_time": "2018-08-02T13:44:25.563295Z"
    }
   },
   "outputs": [],
   "source": [
    "data = {}\n",
    "\n",
    "for rec_cat in recipes_subcat_list:\n",
    "    print(rec_cat[\"title\"])\n",
    "    has_items = True\n",
    "    page = 1\n",
    "    \n",
    "    while has_items:\n",
    "        res = requests.get(\"https://eda.ru/{cat}?page={page}\".format(cat=rec_cat[\"href\"], page=page)).text\n",
    "        \n",
    "        if len(pq(res).find(\".recipes-page__recipes .tile-list__horizontal-tile\")):\n",
    "            page += 1\n",
    "            for recipe in pq(res).find(\".recipes-page__recipes .tile-list__horizontal-tile\"):\n",
    "                title = pq(recipe).find(\".horizontal-tile__item-title\").text()\n",
    "                href = pq(recipe).find(\".horizontal-tile__item-title a\").attr(\"href\")\n",
    "#                 print(\"Page {}, URL {}\".format(page, href), end=\"\\r\")\n",
    "                img_src = pq(recipe).find(\".horizontal-tile__preview .lazy-load-container\").attr(\"data-src\")\n",
    "                booked = int(pq(recipe).find(\".js-bookmark__counter\").text())\n",
    "                likes = int(pq(recipe).find(\".widget-list__like-count\").text().split()[0])\n",
    "                dislikes = int(pq(recipe).find(\".widget-list__like-count\").text().split()[1])\n",
    "                time_to_cook = pq(recipe).find(\".prep-time\").text()\n",
    "                portions = pq(recipe).find(\".js-portions-count-print\").text()\n",
    "                ingredients = []\n",
    "                for ingredient in pq(recipe).find(\".ingredients-list .ingredients-list__content-item\"):\n",
    "                    try:\n",
    "                        attr = pq(ingredient).attr(\"data-ingredient-object\")\n",
    "                        ingredients.append(json.loads(attr.replace('\"\"', '\"')))\n",
    "                    except JSONDecodeError as err:\n",
    "                        print(pq(ingredient).attr(\"data-ingredient-object\"))\n",
    "                        break\n",
    "                \n",
    "                data[href] = {\n",
    "                    \"title\": title,\n",
    "                    \"img_src\": img_src,\n",
    "                    \"ingredients\": ingredients,\n",
    "                    \"booked\": booked,\n",
    "                    \"likes\": likes,\n",
    "                    \"dislikes\": dislikes,\n",
    "                    \"time_to_cook\": time_to_cook,\n",
    "                    \"portions\": portions,\n",
    "                    \"category\": rec_cat[\"title\"]\n",
    "                }\n",
    "        else:\n",
    "            has_items = False"
   ]
  },
  {
   "cell_type": "code",
   "execution_count": 3,
   "metadata": {
    "ExecuteTime": {
     "end_time": "2018-08-02T16:17:31.129990Z",
     "start_time": "2018-08-02T16:17:31.116802Z"
    }
   },
   "outputs": [
    {
     "data": {
      "text/plain": [
       "20759"
      ]
     },
     "execution_count": 3,
     "metadata": {},
     "output_type": "execute_result"
    }
   ],
   "source": [
    "len(data)"
   ]
  },
  {
   "cell_type": "code",
   "execution_count": 99,
   "metadata": {
    "ExecuteTime": {
     "end_time": "2018-08-02T14:30:35.700371Z",
     "start_time": "2018-08-02T14:30:35.549333Z"
    }
   },
   "outputs": [],
   "source": [
    "for num, d in enumerate(data):\n",
    "    data[d][\"id\"] = num"
   ]
  },
  {
   "cell_type": "code",
   "execution_count": null,
   "metadata": {
    "ExecuteTime": {
     "start_time": "2018-08-03T05:00:33.284Z"
    }
   },
   "outputs": [],
   "source": [
    "json.dump(data, open(\"recipes.json\", \"wt\", encoding=\"utf8\"))"
   ]
  },
  {
   "cell_type": "code",
   "execution_count": 2,
   "metadata": {
    "ExecuteTime": {
     "end_time": "2018-08-03T04:42:52.137076Z",
     "start_time": "2018-08-03T04:42:51.186254Z"
    }
   },
   "outputs": [],
   "source": [
    "data = json.load(open(\"recipes.json\", \"rt\", encoding=\"utf8\"))"
   ]
  },
  {
   "cell_type": "code",
   "execution_count": 3,
   "metadata": {
    "ExecuteTime": {
     "end_time": "2018-08-03T04:42:54.130568Z",
     "start_time": "2018-08-03T04:42:53.713927Z"
    }
   },
   "outputs": [],
   "source": [
    "df = pd.DataFrame.from_dict(data, orient=\"index\")"
   ]
  },
  {
   "cell_type": "code",
   "execution_count": 108,
   "metadata": {
    "ExecuteTime": {
     "end_time": "2018-08-02T14:35:21.874022Z",
     "start_time": "2018-08-02T14:35:21.850995Z"
    }
   },
   "outputs": [
    {
     "data": {
      "text/plain": [
       "4656"
      ]
     },
     "execution_count": 108,
     "metadata": {},
     "output_type": "execute_result"
    }
   ],
   "source": [
    "df[\"img_src\"].isnull().sum()"
   ]
  },
  {
   "cell_type": "code",
   "execution_count": 5,
   "metadata": {
    "ExecuteTime": {
     "end_time": "2018-08-03T04:44:24.640922Z",
     "start_time": "2018-08-03T04:44:24.624842Z"
    }
   },
   "outputs": [
    {
     "data": {
      "text/plain": [
       "/recepty/bulony/bulon-iz-kashtanov-25717                         Овощной бульон\n",
       "/recepty/bulony/bulon-kurinij-s-kleckami-iz-maci-16656           Куриный бульон\n",
       "/recepty/bulony/bulon-ovoschnoj-14259                            Овощной бульон\n",
       "/recepty/bulony/holodec-iz-teljatini-kurinih-potroshkov-23603           Холодец\n",
       "/recepty/bulony/klassicheskiy-svetlyy-kurinyy-bulon-93912        Куриный бульон\n",
       "Name: category, dtype: object"
      ]
     },
     "execution_count": 5,
     "metadata": {},
     "output_type": "execute_result"
    }
   ],
   "source": [
    "df[\"category\"].head()"
   ]
  },
  {
   "cell_type": "code",
   "execution_count": null,
   "metadata": {},
   "outputs": [],
   "source": [
    "df.to_msgpack(\"recipes.msg\")"
   ]
  },
  {
   "cell_type": "code",
   "execution_count": 7,
   "metadata": {
    "ExecuteTime": {
     "end_time": "2018-08-02T16:35:40.074324Z",
     "start_time": "2018-08-02T16:18:34.779069Z"
    },
    "scrolled": true
   },
   "outputs": [
    {
     "data": {
      "application/vnd.jupyter.widget-view+json": {
       "model_id": "285dd55e8fb443da8fafb76d53863734",
       "version_major": 2,
       "version_minor": 0
      },
      "text/plain": [
       "HBox(children=(IntProgress(value=0, max=20759), HTML(value='')))"
      ]
     },
     "metadata": {},
     "output_type": "display_data"
    },
    {
     "name": "stdout",
     "output_type": "stream",
     "text": [
      "\n"
     ]
    }
   ],
   "source": [
    "for url, d in tqdm_notebook(data.items()):\n",
    "    if d[\"img_src\"]:\n",
    "        if d[\"id\"] in range(14419, 40000): # для возобновления закачки с какого-либо момента\n",
    "            url = \"https:\" + d[\"img_src\"]\n",
    "            res = requests.get(url)\n",
    "            path = \"imgs/\" + str(d[\"id\"]) + \".\" + d[\"img_src\"].split(\".\")[-1]\n",
    "            open(path, 'wb').write(res.content)"
   ]
  },
  {
   "cell_type": "code",
   "execution_count": 33,
   "metadata": {
    "ExecuteTime": {
     "end_time": "2018-08-03T04:59:06.112588Z",
     "start_time": "2018-08-03T04:59:06.039855Z"
    }
   },
   "outputs": [],
   "source": [
    "cat = {}\n",
    "for recipes_list in pq(res.text).find(\".seo-footer .seo-footer__list\"):\n",
    "    rec_lis = pq(recipes_list).find(\"li\")\n",
    "    cat_name = pq(rec_lis[0]).text().split(\"\\xa0\\xa0\")[0]\n",
    "\n",
    "    for rec_li in pq(rec_lis[1:]):\n",
    "        subcat_name = pq(rec_li).text().split(\"\\xa0\\xa0\")[0]\n",
    "        cat[subcat_name] = cat_name"
   ]
  },
  {
   "cell_type": "code",
   "execution_count": 36,
   "metadata": {
    "ExecuteTime": {
     "end_time": "2018-08-03T05:00:11.962371Z",
     "start_time": "2018-08-03T05:00:11.931222Z"
    }
   },
   "outputs": [],
   "source": [
    "for num, d in enumerate(data):\n",
    "    data[d][\"sup_category\"] = cat[data[d][\"category\"]]"
   ]
  }
 ],
 "metadata": {
  "kernelspec": {
   "display_name": "Python 3",
   "language": "python",
   "name": "python3"
  },
  "language_info": {
   "codemirror_mode": {
    "name": "ipython",
    "version": 3
   },
   "file_extension": ".py",
   "mimetype": "text/x-python",
   "name": "python",
   "nbconvert_exporter": "python",
   "pygments_lexer": "ipython3",
   "version": "3.7.1"
  },
  "toc": {
   "nav_menu": {},
   "number_sections": true,
   "sideBar": true,
   "skip_h1_title": false,
   "toc_cell": false,
   "toc_position": {},
   "toc_section_display": "block",
   "toc_window_display": false
  }
 },
 "nbformat": 4,
 "nbformat_minor": 2
}
