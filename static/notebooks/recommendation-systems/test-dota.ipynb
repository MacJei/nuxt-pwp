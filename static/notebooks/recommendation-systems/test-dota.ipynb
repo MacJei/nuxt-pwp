{
 "cells": [
  {
   "cell_type": "code",
   "execution_count": 62,
   "metadata": {},
   "outputs": [],
   "source": [
    "import numpy as np # linear algebra\n",
    "import pandas as pd # data processing, CSV file I/O (e.g. pd.read_csv)\n",
    "import random\n",
    "\n",
    "from sklearn.model_selection import KFold\n",
    "from sklearn.metrics import roc_auc_score\n",
    "\n",
    "import torch\n",
    "import torch.nn as nn\n",
    "from torch.utils.data import TensorDataset, DataLoader\n",
    "\n",
    "import os\n",
    "import copy\n",
    "DEVICE = torch.device(\"cuda\" if torch.cuda.is_available() else \"cpu\")"
   ]
  },
  {
   "cell_type": "code",
   "execution_count": 63,
   "metadata": {},
   "outputs": [],
   "source": [
    "class TorchFM(nn.Module):\n",
    "    def __init__(self, n=None, k=5):\n",
    "        super().__init__()\n",
    "        # Initially we fill V with random values sampled from Gaussian distribution\n",
    "        # NB: use nn.Parameter to compute gradients\n",
    "        print(n, k)\n",
    "        self.V = nn.Parameter(torch.randn(n, k),requires_grad=True)\n",
    "        self.lin = nn.Linear(n, 1)\n",
    "\n",
    "        \n",
    "    def forward(self, x):\n",
    "        out_1 = torch.matmul(x, self.V).pow(2).sum(1, keepdim=True) #S_1^2\n",
    "        out_2 = torch.matmul(x.pow(2), self.V.pow(2)).sum(1, keepdim=True) # S_2\n",
    "        \n",
    "        out_inter = 0.5*(out_1 - out_2)\n",
    "        out_lin = self.lin(x)\n",
    "        out = out_inter + out_lin\n",
    "        \n",
    "        return out"
   ]
  },
  {
   "cell_type": "code",
   "execution_count": 64,
   "metadata": {},
   "outputs": [],
   "source": [
    "train_df = pd.read_csv(\"../../../../tmp/dota_train_binary_heroes.csv.zip\", index_col='match_id_hash')\n",
    "test_df = pd.read_csv('../../../../tmp/dota_test_binary_heroes.csv.zip', index_col='match_id_hash')\n",
    "target = pd.read_csv(\"../../../../tmp/train_targets.csv.zip\", index_col='match_id_hash')\n",
    "y = target['radiant_win'].values.astype(np.float32)\n",
    "y = y.reshape(-1,1)"
   ]
  },
  {
   "cell_type": "code",
   "execution_count": 65,
   "metadata": {},
   "outputs": [],
   "source": [
    "# convert to 32-bit numbers to send to GPU \n",
    "X_train = train_df.values.astype(np.float32)\n",
    "X_test = test_df.values.astype(np.float32)"
   ]
  },
  {
   "cell_type": "code",
   "execution_count": 66,
   "metadata": {},
   "outputs": [],
   "source": [
    "# To compute probalities\n",
    "def sigmoid(x):\n",
    "    return 1 / (1 + np.exp(-x))"
   ]
  },
  {
   "cell_type": "code",
   "execution_count": 67,
   "metadata": {},
   "outputs": [],
   "source": [
    "# X_tensor, X_test, y_tensor = torch.from_numpy(X_train), torch.from_numpy(X_test), torch.from_numpy(y)\n",
    "\n",
    "train_preds = np.zeros(y.shape)\n",
    "test_preds = np.zeros((X_test.shape[0], 1))\n",
    "\n",
    "train_set = TensorDataset(X_tensor, y_tensor)\n",
    "valid_set = TensorDataset(X_tensor, y_tensor)"
   ]
  },
  {
   "cell_type": "code",
   "execution_count": 68,
   "metadata": {},
   "outputs": [],
   "source": [
    "dl_train = DataLoader(train_set, batch_size=1024, shuffle=True)"
   ]
  },
  {
   "cell_type": "code",
   "execution_count": 69,
   "metadata": {},
   "outputs": [],
   "source": [
    "batch_size = 1024\n",
    "epochs = 300\n",
    "criterion = nn.BCEWithLogitsLoss()\n",
    "optimizer_class = torch.optim.SGD"
   ]
  },
  {
   "cell_type": "code",
   "execution_count": 70,
   "metadata": {},
   "outputs": [],
   "source": [
    "train_preds = np.zeros(y.shape)\n",
    "test_preds = np.zeros((X_test.shape[0], 1))\n",
    "\n",
    "X_tensor, X_test, y_tensor = torch.from_numpy(X_train), torch.from_numpy(X_test), torch.from_numpy(y)"
   ]
  },
  {
   "cell_type": "code",
   "execution_count": 71,
   "metadata": {},
   "outputs": [
    {
     "name": "stdout",
     "output_type": "stream",
     "text": [
      "230 5\n",
      "epoch 30 train loss: 0.990 valid loss 0.978 valid roc auc 0.552\n",
      "epoch 60 train loss: 0.730 valid loss 0.728 valid roc auc 0.594\n",
      "epoch 90 train loss: 0.686 valid loss 0.685 valid roc auc 0.616\n",
      "epoch 120 train loss: 0.671 valid loss 0.671 valid roc auc 0.629\n",
      "epoch 150 train loss: 0.665 valid loss 0.665 valid roc auc 0.638\n",
      "epoch 180 train loss: 0.661 valid loss 0.661 valid roc auc 0.643\n",
      "epoch 210 train loss: 0.659 valid loss 0.658 valid roc auc 0.647\n",
      "epoch 240 train loss: 0.657 valid loss 0.657 valid roc auc 0.650\n",
      "epoch 270 train loss: 0.655 valid loss 0.655 valid roc auc 0.653\n",
      "epoch 300 train loss: 0.654 valid loss 0.654 valid roc auc 0.655\n",
      "Best ROC AUC score 0.6548929243466133\n"
     ]
    }
   ],
   "source": [
    "models = []\n",
    "scores = []\n",
    "train_preds = np.zeros(y.shape)\n",
    "test_preds = np.zeros((X_test.shape[0], 1))\n",
    "\n",
    "train_set = TensorDataset(X_tensor, y_tensor)\n",
    "valid_set = TensorDataset(X_tensor, y_tensor)\n",
    "\n",
    "loaders = {'train': DataLoader(train_set, batch_size=batch_size, shuffle=True),\n",
    "           'valid': DataLoader(valid_set, batch_size=batch_size, shuffle=False)}\n",
    "\n",
    "model = TorchFM(n=X_train.shape[1])\n",
    "best_model_wts = copy.deepcopy(model.state_dict())\n",
    "\n",
    "optimizer = optimizer_class(model.parameters(), lr=0.01, momentum=0.9)\n",
    "\n",
    "best_score = 0.\n",
    "for epoch in range(epochs):\n",
    "    losses = {'train': 0., 'valid': 0}\n",
    "\n",
    "    for phase in ['train', 'valid']:\n",
    "\n",
    "        if phase == 'train':\n",
    "            model.train()\n",
    "        else:\n",
    "            model.eval()\n",
    "\n",
    "        for batch_x, batch_y in loaders[phase]:\n",
    "            optimizer.zero_grad()\n",
    "            out = model(batch_x)\n",
    "            loss = criterion(out, batch_y)\n",
    "            losses[phase] += loss.item()*batch_x.size(0)\n",
    "\n",
    "            with torch.set_grad_enabled(phase == 'train'):\n",
    "                if phase == 'train':\n",
    "                    loss.backward()\n",
    "#                             scheduler.step()\n",
    "                    optimizer.step()\n",
    "\n",
    "        losses[phase] /= len(loaders[phase].dataset)\n",
    "\n",
    "    # after each epoch check if we improved roc auc and if yes - save model\n",
    "    with torch.no_grad():\n",
    "        model.eval()\n",
    "        valid_preds = sigmoid(model(X_tensor).numpy())\n",
    "        epoch_score = roc_auc_score(y, valid_preds)\n",
    "        if epoch_score > best_score:\n",
    "            best_model_wts = copy.deepcopy(model.state_dict())\n",
    "            best_score = epoch_score\n",
    "\n",
    "    if ((epoch+1) % 30) == 0:\n",
    "        print(f'epoch {epoch+1} train loss: {losses[\"train\"]:.3f} valid loss {losses[\"valid\"]:.3f} valid roc auc {epoch_score:.3f}')\n",
    "\n",
    "# prediction on valid set\n",
    "with torch.no_grad():\n",
    "    model.load_state_dict(best_model_wts)\n",
    "    model.eval()\n",
    "\n",
    "    train_preds = sigmoid(model(X_tensor).numpy())\n",
    "    fold_score = roc_auc_score(y, train_preds)\n",
    "    scores.append(fold_score)\n",
    "    print(f'Best ROC AUC score {fold_score}')\n",
    "    models.append(model)\n",
    "\n",
    "    test_preds += sigmoid(model(X_test).numpy())\n",
    "\n",
    "# print('CV AUC ROC', np.mean(scores), np.std(scores))\n",
    "\n",
    "# test_preds /= folds.n_splits\n",
    "    \n",
    "#     return models, train_preds, test_preds"
   ]
  },
  {
   "cell_type": "code",
   "execution_count": 38,
   "metadata": {},
   "outputs": [],
   "source": [
    "folds = KFold(n_splits=5, random_state=17)"
   ]
  }
 ],
 "metadata": {
  "kernelspec": {
   "display_name": "Python 3",
   "language": "python",
   "name": "python3"
  },
  "language_info": {
   "codemirror_mode": {
    "name": "ipython",
    "version": 3
   },
   "file_extension": ".py",
   "mimetype": "text/x-python",
   "name": "python",
   "nbconvert_exporter": "python",
   "pygments_lexer": "ipython3",
   "version": "3.6.9"
  }
 },
 "nbformat": 4,
 "nbformat_minor": 4
}
