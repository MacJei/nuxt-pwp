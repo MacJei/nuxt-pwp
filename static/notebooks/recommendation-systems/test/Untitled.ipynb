{
 "cells": [
  {
   "cell_type": "code",
   "execution_count": 49,
   "metadata": {},
   "outputs": [],
   "source": [
    "import numpy as np\n",
    "import torch\n",
    "import torch.nn.functional as F\n",
    "import pandas as pd\n",
    "\n",
    "\n",
    "class FeaturesLinear(torch.nn.Module):\n",
    "\n",
    "    def __init__(self, field_dims, output_dim=1):\n",
    "        super().__init__()\n",
    "        self.fc = torch.nn.Embedding(sum(field_dims), output_dim)\n",
    "        self.bias = torch.nn.Parameter(torch.zeros((output_dim,)))\n",
    "        self.offsets = np.array((0, *np.cumsum(field_dims)[:-1]), dtype=np.long)\n",
    "\n",
    "    def forward(self, x):\n",
    "        \"\"\"\n",
    "        :param x: Long tensor of size ``(batch_size, num_fields)``\n",
    "        \"\"\"\n",
    "        x = x + x.new_tensor(self.offsets).unsqueeze(0)\n",
    "        return torch.sum(self.fc(x), dim=1) + self.bias\n",
    "\n",
    "\n",
    "class FeaturesEmbedding(torch.nn.Module):\n",
    "\n",
    "    def __init__(self, field_dims, embed_dim):\n",
    "        super().__init__()\n",
    "        self.embedding = torch.nn.Embedding(sum(field_dims), embed_dim)\n",
    "        self.offsets = np.array((0, *np.cumsum(field_dims)[:-1]), dtype=np.long)\n",
    "        torch.nn.init.xavier_uniform_(self.embedding.weight.data)\n",
    "\n",
    "    def forward(self, x):\n",
    "        \"\"\"\n",
    "        :param x: Long tensor of size ``(batch_size, num_fields)``\n",
    "        \"\"\"\n",
    "        x = x + x.new_tensor(self.offsets).unsqueeze(0)\n",
    "        return self.embedding(x)\n",
    "\n",
    "\n",
    "class FactorizationMachine(torch.nn.Module):\n",
    "\n",
    "    def __init__(self, reduce_sum=True):\n",
    "        super().__init__()\n",
    "        self.reduce_sum = reduce_sum\n",
    "\n",
    "    def forward(self, x):\n",
    "        \"\"\"\n",
    "        :param x: Float tensor of size ``(batch_size, num_fields, embed_dim)``\n",
    "        \"\"\"\n",
    "        square_of_sum = torch.sum(x, dim=1) ** 2\n",
    "        sum_of_square = torch.sum(x ** 2, dim=1)\n",
    "        ix = square_of_sum - sum_of_square\n",
    "        if self.reduce_sum:\n",
    "            ix = torch.sum(ix, dim=1, keepdim=True)\n",
    "        return 0.5 * ix"
   ]
  },
  {
   "cell_type": "code",
   "execution_count": 50,
   "metadata": {},
   "outputs": [],
   "source": [
    "class FieldAwareFactorizationMachine(torch.nn.Module):\n",
    "\n",
    "    def __init__(self, field_dims, embed_dim):\n",
    "        super().__init__()\n",
    "        self.num_fields = len(field_dims)\n",
    "        self.embeddings = torch.nn.ModuleList([\n",
    "            torch.nn.Embedding(sum(field_dims), embed_dim) for _ in range(self.num_fields)\n",
    "        ])\n",
    "        self.offsets = np.array((0, *np.cumsum(field_dims)[:-1]), dtype=np.long)\n",
    "        for embedding in self.embeddings:\n",
    "            torch.nn.init.xavier_uniform_(embedding.weight.data)\n",
    "\n",
    "    def forward(self, x):\n",
    "        \"\"\"\n",
    "        :param x: Long tensor of size ``(batch_size, num_fields)``\n",
    "        \"\"\"\n",
    "        x = x + x.new_tensor(self.offsets).unsqueeze(0)\n",
    "        xs = [self.embeddings[i](x) for i in range(self.num_fields)]\n",
    "        ix = list()\n",
    "        for i in range(self.num_fields - 1):\n",
    "            for j in range(i + 1, self.num_fields):\n",
    "                ix.append(xs[j][:, i] * xs[i][:, j])\n",
    "        ix = torch.stack(ix, dim=1)\n",
    "        print(ix.shape)\n",
    "        return ix"
   ]
  },
  {
   "cell_type": "code",
   "execution_count": 42,
   "metadata": {},
   "outputs": [
    {
     "data": {
      "text/plain": [
       "array([ 2,  4,  3, 20, 20,  9, 14,  9,  6,  2, 13, 54,  4,  4, 46,  4,  4,\n",
       "       30,  4, 14, 24, 17], dtype=uint32)"
      ]
     },
     "execution_count": 42,
     "metadata": {},
     "output_type": "execute_result"
    }
   ],
   "source": [
    "dataset.field_dims"
   ]
  },
  {
   "cell_type": "code",
   "execution_count": 44,
   "metadata": {},
   "outputs": [
    {
     "data": {
      "text/plain": [
       "307"
      ]
     },
     "execution_count": 44,
     "metadata": {},
     "output_type": "execute_result"
    }
   ],
   "source": [
    "sum(dataset.field_dims)"
   ]
  },
  {
   "cell_type": "code",
   "execution_count": 41,
   "metadata": {},
   "outputs": [
    {
     "data": {
      "text/plain": [
       "array([  0,   2,   6,   9,  29,  49,  58,  72,  81,  87,  89, 102, 156,\n",
       "       160, 164, 210, 214, 218, 248, 252, 266, 290])"
      ]
     },
     "execution_count": 41,
     "metadata": {},
     "output_type": "execute_result"
    }
   ],
   "source": [
    "ffm = FieldAwareFactorizationMachine(dataset.field_dims, 4)\n",
    "ffm.offsets"
   ]
  },
  {
   "cell_type": "code",
   "execution_count": 51,
   "metadata": {},
   "outputs": [],
   "source": [
    "class FieldAwareFactorizationMachineModel(torch.nn.Module):\n",
    "    \"\"\"\n",
    "    A pytorch implementation of Field-aware Factorization Machine.\n",
    "    Reference:\n",
    "        Y Juan, et al. Field-aware Factorization Machines for CTR Prediction, 2015.\n",
    "    \"\"\"\n",
    "\n",
    "    def __init__(self, field_dims, embed_dim):\n",
    "        super().__init__()\n",
    "        self.linear = FeaturesLinear(field_dims)\n",
    "        self.ffm = FieldAwareFactorizationMachine(field_dims, embed_dim)\n",
    "\n",
    "    def forward(self, x):\n",
    "        \"\"\"\n",
    "        :param x: Long tensor of size ``(batch_size, num_fields)``\n",
    "        \"\"\"\n",
    "        ffm_term = torch.sum(torch.sum(self.ffm(x), dim=1), dim=1, keepdim=True)\n",
    "        x = self.linear(x) + ffm_term\n",
    "        return torch.sigmoid(x.squeeze(1))"
   ]
  },
  {
   "cell_type": "code",
   "execution_count": 70,
   "metadata": {},
   "outputs": [],
   "source": [
    "import torch\n",
    "import tqdm\n",
    "from sklearn.metrics import roc_auc_score\n",
    "from torch.utils.data import DataLoader\n",
    "\n",
    "from torchfm.dataset.avazu import AvazuDataset\n",
    "from torchfm.dataset.criteo import CriteoDataset\n",
    "from torchfm.dataset.movielens import MovieLens1MDataset, MovieLens20MDataset\n",
    "from torchfm.model.afi import AutomaticFeatureInteractionModel\n",
    "from torchfm.model.afm import AttentionalFactorizationMachineModel\n",
    "from torchfm.model.dcn import DeepCrossNetworkModel\n",
    "from torchfm.model.dfm import DeepFactorizationMachineModel\n",
    "from torchfm.model.ffm import FieldAwareFactorizationMachineModel\n",
    "from torchfm.model.fm import FactorizationMachineModel\n",
    "from torchfm.model.fnfm import FieldAwareNeuralFactorizationMachineModel\n",
    "from torchfm.model.fnn import FactorizationSupportedNeuralNetworkModel\n",
    "from torchfm.model.lr import LogisticRegressionModel\n",
    "from torchfm.model.ncf import NeuralCollaborativeFiltering\n",
    "from torchfm.model.nfm import NeuralFactorizationMachineModel\n",
    "from torchfm.model.pnn import ProductNeuralNetworkModel\n",
    "from torchfm.model.wd import WideAndDeepModel\n",
    "from torchfm.model.xdfm import ExtremeDeepFactorizationMachineModel\n",
    "from torchfm.model.afn import AdaptiveFactorizationNetwork"
   ]
  },
  {
   "cell_type": "code",
   "execution_count": 71,
   "metadata": {},
   "outputs": [],
   "source": [
    "def get_dataset(name, path):\n",
    "    if name == 'movielens1M':\n",
    "        return MovieLens1MDataset(path)\n",
    "    elif name == 'movielens20M':\n",
    "        return MovieLens20MDataset(path)\n",
    "    elif name == 'criteo':\n",
    "        return CriteoDataset(path)\n",
    "    elif name == 'avazu':\n",
    "        return AvazuDataset(path)\n",
    "    else:\n",
    "        raise ValueError('unknown dataset name: ' + name)\n",
    "\n",
    "\n",
    "def get_model(name, dataset):\n",
    "    \"\"\"\n",
    "    Hyperparameters are empirically determined, not opitmized.\n",
    "    \"\"\"\n",
    "    field_dims = dataset.field_dims\n",
    "    if name == 'lr':\n",
    "        return LogisticRegressionModel(field_dims)\n",
    "    elif name == 'fm':\n",
    "        return FactorizationMachineModel(field_dims, embed_dim=16)\n",
    "    elif name == 'ffm':\n",
    "        return FieldAwareFactorizationMachineModel(field_dims, embed_dim=4)\n",
    "    elif name == 'fnn':\n",
    "        return FactorizationSupportedNeuralNetworkModel(field_dims, embed_dim=16, mlp_dims=(16, 16), dropout=0.2)\n",
    "    elif name == 'wd':\n",
    "        return WideAndDeepModel(field_dims, embed_dim=16, mlp_dims=(16, 16), dropout=0.2)\n",
    "    elif name == 'ipnn':\n",
    "        return ProductNeuralNetworkModel(field_dims, embed_dim=16, mlp_dims=(16,), method='inner', dropout=0.2)\n",
    "    elif name == 'opnn':\n",
    "        return ProductNeuralNetworkModel(field_dims, embed_dim=16, mlp_dims=(16,), method='outer', dropout=0.2)\n",
    "    elif name == 'dcn':\n",
    "        return DeepCrossNetworkModel(field_dims, embed_dim=16, num_layers=3, mlp_dims=(16, 16), dropout=0.2)\n",
    "    elif name == 'nfm':\n",
    "        return NeuralFactorizationMachineModel(field_dims, embed_dim=64, mlp_dims=(64,), dropouts=(0.2, 0.2))\n",
    "    elif name == 'ncf':\n",
    "        # only supports MovieLens dataset because for other datasets user/item colums are indistinguishable\n",
    "        assert isinstance(dataset, MovieLens20MDataset) or isinstance(dataset, MovieLens1MDataset)\n",
    "        return NeuralCollaborativeFiltering(field_dims, embed_dim=16, mlp_dims=(16, 16), dropout=0.2,\n",
    "                                            user_field_idx=dataset.user_field_idx,\n",
    "                                            item_field_idx=dataset.item_field_idx)\n",
    "    elif name == 'fnfm':\n",
    "        return FieldAwareNeuralFactorizationMachineModel(field_dims, embed_dim=4, mlp_dims=(64,), dropouts=(0.2, 0.2))\n",
    "    elif name == 'dfm':\n",
    "        return DeepFactorizationMachineModel(field_dims, embed_dim=16, mlp_dims=(16, 16), dropout=0.2)\n",
    "    elif name == 'xdfm':\n",
    "        return ExtremeDeepFactorizationMachineModel(\n",
    "            field_dims, embed_dim=16, cross_layer_sizes=(16, 16), split_half=False, mlp_dims=(16, 16), dropout=0.2)\n",
    "    elif name == 'afm':\n",
    "        return AttentionalFactorizationMachineModel(field_dims, embed_dim=16, attn_size=16, dropouts=(0.2, 0.2))\n",
    "    elif name == 'afi':\n",
    "        return AutomaticFeatureInteractionModel(\n",
    "             field_dims, embed_dim=16, atten_embed_dim=64, num_heads=2, num_layers=3, mlp_dims=(400, 400), dropouts=(0, 0, 0))\n",
    "    elif name == 'afn':\n",
    "        print(\"Model:AFN\")\n",
    "        return AdaptiveFactorizationNetwork(\n",
    "            field_dims, embed_dim=16, LNN_dim=1500, mlp_dims=(400,400,400), dropouts=(0, 0, 0))\n",
    "    else:\n",
    "        raise ValueError('unknown model name: ' + name)\n",
    "\n",
    "\n",
    "def train(model, optimizer, data_loader, criterion, device, log_interval=1000):\n",
    "    model.train()\n",
    "    total_loss = 0\n",
    "    for i, (fields, target) in enumerate(tqdm.tqdm(data_loader, smoothing=0, mininterval=1.0)):\n",
    "        fields, target = fields.to(device), target.to(device)\n",
    "        y = model(fields)\n",
    "        loss = criterion(y, target.float())\n",
    "        model.zero_grad()\n",
    "        loss.backward()\n",
    "        optimizer.step()\n",
    "        total_loss += loss.item()\n",
    "        if (i + 1) % log_interval == 0:\n",
    "            print('    - loss:', total_loss / log_interval)\n",
    "            total_loss = 0\n",
    "\n",
    "\n",
    "def test(model, data_loader, device):\n",
    "    model.eval()\n",
    "    targets, predicts = list(), list()\n",
    "    with torch.no_grad():\n",
    "        for fields, target in tqdm.tqdm(data_loader, smoothing=0, mininterval=1.0):\n",
    "            fields, target = fields.to(device), target.to(device)\n",
    "            y = model(fields)\n",
    "            targets.extend(target.tolist())\n",
    "            predicts.extend(y.tolist())\n",
    "    return roc_auc_score(targets, predicts)"
   ]
  },
  {
   "cell_type": "code",
   "execution_count": 53,
   "metadata": {},
   "outputs": [],
   "source": [
    "dataset_path = \"../../../../../data4experiments/avazu/train1000.txt\""
   ]
  },
  {
   "cell_type": "code",
   "execution_count": 54,
   "metadata": {},
   "outputs": [],
   "source": [
    "dataset = get_dataset(\"avazu\", dataset_path)"
   ]
  },
  {
   "cell_type": "code",
   "execution_count": 55,
   "metadata": {},
   "outputs": [],
   "source": [
    "device = \"cpu\"\n",
    "batch_size = 1024\n",
    "epoch = 50\n",
    "model_name = \"ffm\""
   ]
  },
  {
   "cell_type": "code",
   "execution_count": 56,
   "metadata": {},
   "outputs": [
    {
     "data": {
      "text/plain": [
       "array([ 2,  4,  3, 20, 20,  9, 14,  9,  6,  2, 13, 54,  4,  4, 46,  4,  4,\n",
       "       30,  4, 14, 24, 17], dtype=uint32)"
      ]
     },
     "execution_count": 56,
     "metadata": {},
     "output_type": "execute_result"
    }
   ],
   "source": [
    "dataset.field_dims"
   ]
  },
  {
   "cell_type": "code",
   "execution_count": 57,
   "metadata": {},
   "outputs": [
    {
     "data": {
      "text/plain": [
       "307"
      ]
     },
     "execution_count": 57,
     "metadata": {},
     "output_type": "execute_result"
    }
   ],
   "source": [
    "dataset.field_dims.sum()"
   ]
  },
  {
   "cell_type": "code",
   "execution_count": 58,
   "metadata": {},
   "outputs": [
    {
     "data": {
      "text/plain": [
       "22"
      ]
     },
     "execution_count": 58,
     "metadata": {},
     "output_type": "execute_result"
    }
   ],
   "source": [
    "len(dataset.field_dims)"
   ]
  },
  {
   "cell_type": "code",
   "execution_count": 59,
   "metadata": {},
   "outputs": [
    {
     "data": {
      "text/plain": [
       "(999, 24)"
      ]
     },
     "execution_count": 59,
     "metadata": {},
     "output_type": "execute_result"
    }
   ],
   "source": [
    "df_avazu = pd.read_csv(\"../../../../../data4experiments/avazu/train1000.txt\")\n",
    "df_avazu.shape"
   ]
  },
  {
   "cell_type": "code",
   "execution_count": 60,
   "metadata": {},
   "outputs": [],
   "source": [
    "df_avazu.drop(columns=[\"id\", \"click\"], inplace=True)"
   ]
  },
  {
   "cell_type": "code",
   "execution_count": 61,
   "metadata": {},
   "outputs": [
    {
     "data": {
      "text/plain": [
       "hour                  1\n",
       "C1                    4\n",
       "banner_pos            2\n",
       "site_id             122\n",
       "site_domain         109\n",
       "site_category        10\n",
       "app_id               75\n",
       "app_domain           15\n",
       "app_category          7\n",
       "device_id           127\n",
       "device_ip           909\n",
       "device_model        341\n",
       "device_type           4\n",
       "device_conn_type      3\n",
       "C14                 105\n",
       "C15                   3\n",
       "C16                   3\n",
       "C17                  68\n",
       "C18                   4\n",
       "C19                  27\n",
       "C20                  54\n",
       "C21                  21\n",
       "dtype: int64"
      ]
     },
     "execution_count": 61,
     "metadata": {},
     "output_type": "execute_result"
    }
   ],
   "source": [
    "df_avazu.nunique()"
   ]
  },
  {
   "cell_type": "code",
   "execution_count": 62,
   "metadata": {},
   "outputs": [],
   "source": [
    "train_length = int(len(dataset) * 0.8)\n",
    "valid_length = int(len(dataset) * 0.1)\n",
    "test_length = len(dataset) - train_length - valid_length\n",
    "train_dataset, valid_dataset, test_dataset = torch.utils.data.random_split(\n",
    "    dataset, (train_length, valid_length, test_length))\n",
    "train_data_loader = DataLoader(train_dataset, batch_size=batch_size, num_workers=8)\n",
    "valid_data_loader = DataLoader(valid_dataset, batch_size=batch_size, num_workers=8)\n",
    "test_data_loader = DataLoader(test_dataset, batch_size=batch_size, num_workers=8)\n",
    "model = get_model(model_name, dataset).to(device)\n",
    "criterion = torch.nn.BCELoss()\n",
    "\n",
    "#torch.save(model, f'{save_dir}/{model_name}.pt')"
   ]
  },
  {
   "cell_type": "code",
   "execution_count": 63,
   "metadata": {},
   "outputs": [
    {
     "data": {
      "text/plain": [
       "22"
      ]
     },
     "execution_count": 63,
     "metadata": {},
     "output_type": "execute_result"
    }
   ],
   "source": [
    "dataset.NUM_FEATS"
   ]
  },
  {
   "cell_type": "code",
   "execution_count": 64,
   "metadata": {
    "collapsed": true,
    "jupyter": {
     "outputs_hidden": true
    }
   },
   "outputs": [
    {
     "name": "stderr",
     "output_type": "stream",
     "text": [
      "\n",
      "0it [00:00, ?it/s]\u001b[A\n",
      "Create avazu dataset cache: counting features: : 999it [00:00, 131859.83it/s]\n"
     ]
    },
    {
     "data": {
      "text/plain": [
       "({1: {'14102100': 0},\n",
       "  2: {'1002': 0, '1005': 1, '1010': 2},\n",
       "  3: {'1': 0, '0': 1},\n",
       "  4: {'d6137915': 0,\n",
       "   'd9750ee7': 1,\n",
       "   '5b08c53b': 2,\n",
       "   '543a539e': 3,\n",
       "   '85f751fd': 4,\n",
       "   '43d6df75': 5,\n",
       "   '6ec06dbd': 6,\n",
       "   '17caea14': 7,\n",
       "   '84c7ba46': 8,\n",
       "   '1fbe01fe': 9,\n",
       "   '856e6d3f': 10,\n",
       "   'f9c69707': 11,\n",
       "   '5ee41ff2': 12,\n",
       "   'f282ab5a': 13,\n",
       "   'd7f3460b': 14,\n",
       "   '6256f5b4': 15,\n",
       "   '5b4d2eda': 16,\n",
       "   'e151e245': 17,\n",
       "   '030440fe': 18},\n",
       "  5: {'d262cf1e': 0,\n",
       "   'e16ceb4b': 1,\n",
       "   '71ed77a0': 2,\n",
       "   '61eb5bc4': 3,\n",
       "   '08ba7db9': 4,\n",
       "   'bb1ef334': 5,\n",
       "   'f7570339': 6,\n",
       "   '0dde25ec': 7,\n",
       "   '16a36ef3': 8,\n",
       "   '7687a86e': 9,\n",
       "   '58a89a43': 10,\n",
       "   '17d996e6': 11,\n",
       "   '28f93029': 12,\n",
       "   'f3845767': 13,\n",
       "   '27e3c518': 14,\n",
       "   'c7ca3108': 15,\n",
       "   'c4e18dd6': 16,\n",
       "   '7e091613': 17,\n",
       "   '98572c79': 18},\n",
       "  6: {'f66779e6': 0,\n",
       "   '50e219e0': 1,\n",
       "   '335d28a8': 2,\n",
       "   '76b2941d': 3,\n",
       "   '3e814130': 4,\n",
       "   '28905ebd': 5,\n",
       "   '72722551': 6,\n",
       "   'f028772b': 7},\n",
       "  7: {'39947756': 0,\n",
       "   '54c5d545': 1,\n",
       "   '5e3f096f': 2,\n",
       "   'ffc6ffd0': 3,\n",
       "   'febd1138': 4,\n",
       "   'ecad2386': 5,\n",
       "   '03528b27': 6,\n",
       "   '0acbeaa3': 7,\n",
       "   'e2fcccd2': 8,\n",
       "   '51cedd4e': 9,\n",
       "   '1779deee': 10,\n",
       "   '090d3a47': 11,\n",
       "   '98fed791': 12},\n",
       "  8: {'7801e8d9': 0,\n",
       "   '0654b444': 1,\n",
       "   'd9b5648e': 2,\n",
       "   '45a51db4': 3,\n",
       "   '82e27996': 4,\n",
       "   '5c5a694b': 5,\n",
       "   'aefc06bd': 6,\n",
       "   '2347f47a': 7},\n",
       "  9: {'f95efa07': 0,\n",
       "   '07d7df22': 1,\n",
       "   'cef3e649': 2,\n",
       "   '0f2161f8': 3,\n",
       "   '8ded1f7a': 4},\n",
       "  10: {'a99f214a': 0},\n",
       "  11: {'8a014cbb': 0,\n",
       "   '75bb1b58': 1,\n",
       "   'ddd2926e': 2,\n",
       "   '59ac940d': 3,\n",
       "   'a6df415d': 4,\n",
       "   '1cf29716': 5,\n",
       "   '884297d2': 6,\n",
       "   'a98e3a73': 7,\n",
       "   'e54c1344': 8,\n",
       "   'c6563308': 9,\n",
       "   '488a9a3e': 10,\n",
       "   '0489ce3f': 11},\n",
       "  12: {'2203a096': 0,\n",
       "   '900981af': 1,\n",
       "   'ecb851b2': 2,\n",
       "   '3e7932d7': 3,\n",
       "   '1aa0e912': 4,\n",
       "   '5096d134': 5,\n",
       "   'cd5b1559': 6,\n",
       "   'd25693ce': 7,\n",
       "   '24f6b932': 8,\n",
       "   '1f0bc64f': 9,\n",
       "   '9b5ce758': 10,\n",
       "   'f07e20f8': 11,\n",
       "   'be6db1d7': 12,\n",
       "   'be87996b': 13,\n",
       "   'c6263d8a': 14,\n",
       "   'a0f5f879': 15,\n",
       "   'be74e6fe': 16,\n",
       "   '8a4875bd': 17,\n",
       "   '1ccc7835': 18,\n",
       "   'a5bce124': 19,\n",
       "   '0eb711ec': 20,\n",
       "   '4ea23a13': 21,\n",
       "   '84ebbcd4': 22,\n",
       "   '7abbbd5c': 23,\n",
       "   '88fe1d5d': 24,\n",
       "   '6332421a': 25,\n",
       "   'cdfde03b': 26,\n",
       "   '2ea4f8ba': 27,\n",
       "   '2cd8ff6d': 28,\n",
       "   'd4897fef': 29,\n",
       "   '36d749e5': 30,\n",
       "   'f4fffcd0': 31,\n",
       "   'cf19f7f7': 32,\n",
       "   '3bd9e8e7': 33,\n",
       "   'd6e0e6ff': 34,\n",
       "   '8b1aa260': 35,\n",
       "   'a1a7a957': 36,\n",
       "   'ef726eae': 37,\n",
       "   '4ceb2e0b': 38,\n",
       "   '711ee120': 39,\n",
       "   '8ce34352': 40,\n",
       "   '7fdd04d2': 41,\n",
       "   'f39b265e': 42,\n",
       "   '49ea3580': 43,\n",
       "   'd787e91b': 44,\n",
       "   '99e427c9': 45,\n",
       "   'e9b8d8d7': 46,\n",
       "   'aaffed8f': 47,\n",
       "   '76dc4769': 48,\n",
       "   'aad45b01': 49,\n",
       "   '04f5b394': 50,\n",
       "   '779d90c2': 51,\n",
       "   'c4cff2ea': 52},\n",
       "  13: {'4': 0, '1': 1, '0': 2},\n",
       "  14: {'0': 0, '2': 1, '3': 2},\n",
       "  15: {'19016': 0,\n",
       "   '15699': 1,\n",
       "   '20346': 2,\n",
       "   '15703': 3,\n",
       "   '21611': 4,\n",
       "   '15704': 5,\n",
       "   '15701': 6,\n",
       "   '20984': 7,\n",
       "   '16208': 8,\n",
       "   '16920': 9,\n",
       "   '17037': 10,\n",
       "   '16615': 11,\n",
       "   '21612': 12,\n",
       "   '20153': 13,\n",
       "   '17163': 14,\n",
       "   '19665': 15,\n",
       "   '17212': 16,\n",
       "   '17654': 17,\n",
       "   '16859': 18,\n",
       "   '15707': 19,\n",
       "   '20634': 20,\n",
       "   '20596': 21,\n",
       "   '20633': 22,\n",
       "   '21665': 23,\n",
       "   '20352': 24,\n",
       "   '17614': 25,\n",
       "   '17914': 26,\n",
       "   '19950': 27,\n",
       "   '17653': 28,\n",
       "   '19743': 29,\n",
       "   '20359': 30,\n",
       "   '15706': 31,\n",
       "   '20508': 32,\n",
       "   '18993': 33,\n",
       "   '15708': 34,\n",
       "   '17753': 35,\n",
       "   '20362': 36,\n",
       "   '19771': 37,\n",
       "   '20632': 38,\n",
       "   '4687': 39,\n",
       "   '19772': 40,\n",
       "   '15702': 41,\n",
       "   '20366': 42,\n",
       "   '15705': 43,\n",
       "   '21660': 44},\n",
       "  16: {'300': 0, '216': 1, '320': 2},\n",
       "  17: {'50': 0, '250': 1, '36': 2},\n",
       "  18: {'2264': 0,\n",
       "   '1887': 1,\n",
       "   '571': 2,\n",
       "   '1926': 3,\n",
       "   '1955': 4,\n",
       "   '2162': 5,\n",
       "   '2333': 6,\n",
       "   '423': 7,\n",
       "   '2480': 8,\n",
       "   '1994': 9,\n",
       "   '2161': 10,\n",
       "   '1993': 11,\n",
       "   '2446': 12,\n",
       "   '2331': 13,\n",
       "   '2043': 14,\n",
       "   '2351': 15,\n",
       "   '2253': 16,\n",
       "   '1934': 17,\n",
       "   '1800': 18,\n",
       "   '1722': 19,\n",
       "   '2371': 20,\n",
       "   '2307': 21,\n",
       "   '2227': 22,\n",
       "   '2481': 23,\n",
       "   '2493': 24,\n",
       "   '1899': 25,\n",
       "   '2496': 26,\n",
       "   '2374': 27,\n",
       "   '1863': 28},\n",
       "  19: {'2': 0, '0': 1, '3': 2},\n",
       "  20: {'687': 0,\n",
       "   '431': 1,\n",
       "   '171': 2,\n",
       "   '47': 3,\n",
       "   '167': 4,\n",
       "   '297': 5,\n",
       "   '1063': 6,\n",
       "   '35': 7,\n",
       "   '551': 8,\n",
       "   '163': 9,\n",
       "   '427': 10,\n",
       "   '303': 11,\n",
       "   '39': 12},\n",
       "  21: {'100081': 0,\n",
       "   '100119': 1,\n",
       "   '100215': 2,\n",
       "   '100020': 3,\n",
       "   '100131': 4,\n",
       "   '100193': 5,\n",
       "   '100228': 6,\n",
       "   '100079': 7,\n",
       "   '100210': 8,\n",
       "   '100084': 9,\n",
       "   '100156': 10,\n",
       "   '100111': 11,\n",
       "   '100077': 12,\n",
       "   '100148': 13,\n",
       "   '100074': 14,\n",
       "   '100000': 15,\n",
       "   '100083': 16,\n",
       "   '-1': 17,\n",
       "   '100034': 18,\n",
       "   '100217': 19,\n",
       "   '100060': 20,\n",
       "   '100075': 21,\n",
       "   '100188': 22},\n",
       "  22: {'71': 0,\n",
       "   '48': 1,\n",
       "   '79': 2,\n",
       "   '117': 3,\n",
       "   '52': 4,\n",
       "   '156': 5,\n",
       "   '33': 6,\n",
       "   '157': 7,\n",
       "   '46': 8,\n",
       "   '13': 9,\n",
       "   '15': 10,\n",
       "   '61': 11,\n",
       "   '91': 12,\n",
       "   '23': 13,\n",
       "   '16': 14,\n",
       "   '32': 15}},\n",
       " {1: 1,\n",
       "  2: 3,\n",
       "  3: 2,\n",
       "  4: 19,\n",
       "  5: 19,\n",
       "  6: 8,\n",
       "  7: 13,\n",
       "  8: 8,\n",
       "  9: 5,\n",
       "  10: 1,\n",
       "  11: 12,\n",
       "  12: 53,\n",
       "  13: 3,\n",
       "  14: 3,\n",
       "  15: 45,\n",
       "  16: 3,\n",
       "  17: 3,\n",
       "  18: 29,\n",
       "  19: 3,\n",
       "  20: 13,\n",
       "  21: 23,\n",
       "  22: 16})"
      ]
     },
     "execution_count": 64,
     "metadata": {},
     "output_type": "execute_result"
    }
   ],
   "source": [
    "feat_mapper = dataset._AvazuDataset__get_feat_mapper(dataset_path)\n",
    "feat_mapper"
   ]
  },
  {
   "cell_type": "code",
   "execution_count": 65,
   "metadata": {},
   "outputs": [
    {
     "data": {
      "text/plain": [
       "array([ 2,  4,  3, 20, 20,  9, 14,  9,  6,  2, 13, 54,  4,  4, 46,  4,  4,\n",
       "       30,  4, 14, 24, 17], dtype=uint32)"
      ]
     },
     "execution_count": 65,
     "metadata": {},
     "output_type": "execute_result"
    }
   ],
   "source": [
    "dataset.field_dims"
   ]
  },
  {
   "cell_type": "code",
   "execution_count": 66,
   "metadata": {},
   "outputs": [
    {
     "data": {
      "text/plain": [
       "array([  2,   6,   9,  29,  49,  58,  72,  81,  87,  89, 102, 156, 160,\n",
       "       164, 210, 214, 218, 248, 252, 266, 290], dtype=uint64)"
      ]
     },
     "execution_count": 66,
     "metadata": {},
     "output_type": "execute_result"
    }
   ],
   "source": [
    "np.cumsum(dataset.field_dims)[:-1]"
   ]
  },
  {
   "cell_type": "code",
   "execution_count": 67,
   "metadata": {},
   "outputs": [
    {
     "data": {
      "text/plain": [
       "array([  0,   2,   6,   9,  29,  49,  58,  72,  81,  87,  89, 102, 156,\n",
       "       160, 164, 210, 214, 218, 248, 252, 266, 290])"
      ]
     },
     "execution_count": 67,
     "metadata": {},
     "output_type": "execute_result"
    }
   ],
   "source": [
    "ffm = FieldAwareFactorizationMachine(dataset.field_dims, 4)\n",
    "ffm.offsets"
   ]
  },
  {
   "cell_type": "code",
   "execution_count": 68,
   "metadata": {},
   "outputs": [
    {
     "data": {
      "text/plain": [
       "ModuleList(\n",
       "  (0): Embedding(307, 4)\n",
       "  (1): Embedding(307, 4)\n",
       "  (2): Embedding(307, 4)\n",
       "  (3): Embedding(307, 4)\n",
       "  (4): Embedding(307, 4)\n",
       "  (5): Embedding(307, 4)\n",
       "  (6): Embedding(307, 4)\n",
       "  (7): Embedding(307, 4)\n",
       "  (8): Embedding(307, 4)\n",
       "  (9): Embedding(307, 4)\n",
       "  (10): Embedding(307, 4)\n",
       "  (11): Embedding(307, 4)\n",
       "  (12): Embedding(307, 4)\n",
       "  (13): Embedding(307, 4)\n",
       "  (14): Embedding(307, 4)\n",
       "  (15): Embedding(307, 4)\n",
       "  (16): Embedding(307, 4)\n",
       "  (17): Embedding(307, 4)\n",
       "  (18): Embedding(307, 4)\n",
       "  (19): Embedding(307, 4)\n",
       "  (20): Embedding(307, 4)\n",
       "  (21): Embedding(307, 4)\n",
       ")"
      ]
     },
     "execution_count": 68,
     "metadata": {},
     "output_type": "execute_result"
    }
   ],
   "source": [
    "ffm.embeddings"
   ]
  },
  {
   "cell_type": "code",
   "execution_count": 69,
   "metadata": {
    "collapsed": true,
    "jupyter": {
     "outputs_hidden": true
    }
   },
   "outputs": [
    {
     "name": "stderr",
     "output_type": "stream",
     "text": [
      "\n",
      "  0%|          | 0/1 [00:00<?, ?it/s]\u001b[A"
     ]
    },
    {
     "name": "stdout",
     "output_type": "stream",
     "text": [
      "torch.Size([799, 231, 4])\n"
     ]
    },
    {
     "name": "stderr",
     "output_type": "stream",
     "text": [
      "\n",
      "100%|██████████| 1/1 [00:01<00:00,  1.41s/it]\u001b[A\n",
      "\n",
      "100%|██████████| 1/1 [00:00<00:00,  4.95it/s]\n",
      "\n",
      "  0%|          | 0/1 [00:00<?, ?it/s]\u001b[A"
     ]
    },
    {
     "name": "stdout",
     "output_type": "stream",
     "text": [
      "torch.Size([99, 231, 4])\n",
      "epoch: 0 validation: auc: 0.44364937388193204\n",
      "torch.Size([799, 231, 4])\n"
     ]
    },
    {
     "name": "stderr",
     "output_type": "stream",
     "text": [
      "\n",
      "100%|██████████| 1/1 [00:01<00:00,  1.35s/it]\u001b[A\n",
      "\n",
      "100%|██████████| 1/1 [00:00<00:00,  4.84it/s]\n",
      "\n",
      "  0%|          | 0/1 [00:00<?, ?it/s]\u001b[A"
     ]
    },
    {
     "name": "stdout",
     "output_type": "stream",
     "text": [
      "torch.Size([99, 231, 4])\n",
      "epoch: 1 validation: auc: 0.445438282647585\n",
      "torch.Size([799, 231, 4])\n"
     ]
    },
    {
     "name": "stderr",
     "output_type": "stream",
     "text": [
      "\n",
      "100%|██████████| 1/1 [00:01<00:00,  1.39s/it]\u001b[A\n",
      "\n",
      "100%|██████████| 1/1 [00:00<00:00,  5.22it/s]\n",
      "\n",
      "  0%|          | 0/1 [00:00<?, ?it/s]\u001b[A"
     ]
    },
    {
     "name": "stdout",
     "output_type": "stream",
     "text": [
      "torch.Size([99, 231, 4])\n",
      "epoch: 2 validation: auc: 0.445438282647585\n",
      "torch.Size([799, 231, 4])\n"
     ]
    },
    {
     "name": "stderr",
     "output_type": "stream",
     "text": [
      "\n",
      "100%|██████████| 1/1 [00:01<00:00,  1.37s/it]\u001b[A\n",
      "\n",
      "100%|██████████| 1/1 [00:00<00:00,  5.36it/s]\n",
      "\n",
      "  0%|          | 0/1 [00:00<?, ?it/s]\u001b[A"
     ]
    },
    {
     "name": "stdout",
     "output_type": "stream",
     "text": [
      "torch.Size([99, 231, 4])\n",
      "epoch: 3 validation: auc: 0.44991055456171736\n",
      "torch.Size([799, 231, 4])\n"
     ]
    },
    {
     "name": "stderr",
     "output_type": "stream",
     "text": [
      "\n",
      "100%|██████████| 1/1 [00:01<00:00,  1.39s/it]\u001b[A\n",
      "\n",
      "100%|██████████| 1/1 [00:00<00:00,  5.46it/s]\n",
      "\n",
      "  0%|          | 0/1 [00:00<?, ?it/s]\u001b[A"
     ]
    },
    {
     "name": "stdout",
     "output_type": "stream",
     "text": [
      "torch.Size([99, 231, 4])\n",
      "epoch: 4 validation: auc: 0.44722719141323797\n",
      "torch.Size([799, 231, 4])\n"
     ]
    },
    {
     "name": "stderr",
     "output_type": "stream",
     "text": [
      "\n",
      "100%|██████████| 1/1 [00:01<00:00,  1.35s/it]\u001b[A\n",
      "\n",
      "100%|██████████| 1/1 [00:00<00:00,  4.57it/s]\n",
      "\n",
      "  0%|          | 0/1 [00:00<?, ?it/s]\u001b[A"
     ]
    },
    {
     "name": "stdout",
     "output_type": "stream",
     "text": [
      "torch.Size([99, 231, 4])\n",
      "epoch: 5 validation: auc: 0.4445438282647585\n",
      "torch.Size([799, 231, 4])\n"
     ]
    },
    {
     "name": "stderr",
     "output_type": "stream",
     "text": [
      "\n",
      "100%|██████████| 1/1 [00:01<00:00,  1.37s/it]\u001b[A\n",
      "\n",
      "100%|██████████| 1/1 [00:00<00:00,  5.38it/s]\n",
      "\n",
      "  0%|          | 0/1 [00:00<?, ?it/s]\u001b[A"
     ]
    },
    {
     "name": "stdout",
     "output_type": "stream",
     "text": [
      "torch.Size([99, 231, 4])\n",
      "epoch: 6 validation: auc: 0.44543828264758495\n",
      "torch.Size([799, 231, 4])\n"
     ]
    },
    {
     "name": "stderr",
     "output_type": "stream",
     "text": [
      "\n",
      "100%|██████████| 1/1 [00:01<00:00,  1.37s/it]\u001b[A\n",
      "\n",
      "100%|██████████| 1/1 [00:00<00:00,  5.18it/s]\n",
      "\n",
      "  0%|          | 0/1 [00:00<?, ?it/s]\u001b[A"
     ]
    },
    {
     "name": "stdout",
     "output_type": "stream",
     "text": [
      "torch.Size([99, 231, 4])\n",
      "epoch: 7 validation: auc: 0.4445438282647585\n",
      "torch.Size([799, 231, 4])\n"
     ]
    },
    {
     "name": "stderr",
     "output_type": "stream",
     "text": [
      "\n",
      "100%|██████████| 1/1 [00:01<00:00,  1.19s/it]\u001b[A\n",
      "\n",
      "100%|██████████| 1/1 [00:00<00:00,  5.23it/s]\n",
      "\n",
      "  0%|          | 0/1 [00:00<?, ?it/s]\u001b[A"
     ]
    },
    {
     "name": "stdout",
     "output_type": "stream",
     "text": [
      "torch.Size([99, 231, 4])\n",
      "epoch: 8 validation: auc: 0.4445438282647585\n",
      "torch.Size([799, 231, 4])\n"
     ]
    },
    {
     "name": "stderr",
     "output_type": "stream",
     "text": [
      "\n",
      "100%|██████████| 1/1 [00:01<00:00,  1.33s/it]\u001b[A\n",
      "\n",
      "100%|██████████| 1/1 [00:00<00:00,  5.24it/s]\n",
      "\n",
      "  0%|          | 0/1 [00:00<?, ?it/s]\u001b[A"
     ]
    },
    {
     "name": "stdout",
     "output_type": "stream",
     "text": [
      "torch.Size([99, 231, 4])\n",
      "epoch: 9 validation: auc: 0.44454382826475847\n",
      "torch.Size([799, 231, 4])\n"
     ]
    },
    {
     "name": "stderr",
     "output_type": "stream",
     "text": [
      "\n",
      "100%|██████████| 1/1 [00:01<00:00,  1.35s/it]\u001b[A\n",
      "\n",
      "100%|██████████| 1/1 [00:00<00:00,  5.15it/s]\n",
      "\n",
      "  0%|          | 0/1 [00:00<?, ?it/s]\u001b[A"
     ]
    },
    {
     "name": "stdout",
     "output_type": "stream",
     "text": [
      "torch.Size([99, 231, 4])\n",
      "epoch: 10 validation: auc: 0.4427549194991056\n",
      "torch.Size([799, 231, 4])\n"
     ]
    },
    {
     "name": "stderr",
     "output_type": "stream",
     "text": [
      "\n",
      "100%|██████████| 1/1 [00:01<00:00,  1.37s/it]\u001b[A\n",
      "\n",
      "100%|██████████| 1/1 [00:00<00:00,  5.24it/s]\n",
      "\n",
      "  0%|          | 0/1 [00:00<?, ?it/s]\u001b[A"
     ]
    },
    {
     "name": "stdout",
     "output_type": "stream",
     "text": [
      "torch.Size([99, 231, 4])\n",
      "epoch: 11 validation: auc: 0.44454382826475847\n",
      "torch.Size([799, 231, 4])\n"
     ]
    },
    {
     "name": "stderr",
     "output_type": "stream",
     "text": [
      "\n",
      "100%|██████████| 1/1 [00:01<00:00,  1.34s/it]\u001b[A\n",
      "\n",
      "100%|██████████| 1/1 [00:00<00:00,  5.11it/s]\n",
      "\n",
      "  0%|          | 0/1 [00:00<?, ?it/s]\u001b[A"
     ]
    },
    {
     "name": "stdout",
     "output_type": "stream",
     "text": [
      "torch.Size([99, 231, 4])\n",
      "epoch: 12 validation: auc: 0.44364937388193204\n",
      "torch.Size([799, 231, 4])\n"
     ]
    },
    {
     "name": "stderr",
     "output_type": "stream",
     "text": [
      "\n",
      "100%|██████████| 1/1 [00:01<00:00,  1.36s/it]\u001b[A\n",
      "\n",
      "100%|██████████| 1/1 [00:00<00:00,  4.99it/s]\n",
      "\n",
      "  0%|          | 0/1 [00:00<?, ?it/s]\u001b[A"
     ]
    },
    {
     "name": "stdout",
     "output_type": "stream",
     "text": [
      "torch.Size([99, 231, 4])\n",
      "epoch: 13 validation: auc: 0.4481216457960644\n",
      "torch.Size([799, 231, 4])\n"
     ]
    },
    {
     "name": "stderr",
     "output_type": "stream",
     "text": [
      "\n",
      "100%|██████████| 1/1 [00:01<00:00,  1.40s/it]\u001b[A\n",
      "\n",
      "100%|██████████| 1/1 [00:00<00:00,  5.01it/s]\n",
      "\n",
      "  0%|          | 0/1 [00:00<?, ?it/s]\u001b[A"
     ]
    },
    {
     "name": "stdout",
     "output_type": "stream",
     "text": [
      "torch.Size([99, 231, 4])\n",
      "epoch: 14 validation: auc: 0.4445438282647585\n",
      "torch.Size([799, 231, 4])\n"
     ]
    },
    {
     "name": "stderr",
     "output_type": "stream",
     "text": [
      "\n",
      "100%|██████████| 1/1 [00:01<00:00,  1.38s/it]\u001b[A\n",
      "\n",
      "100%|██████████| 1/1 [00:00<00:00,  4.67it/s]\n",
      "\n",
      "  0%|          | 0/1 [00:00<?, ?it/s]\u001b[A"
     ]
    },
    {
     "name": "stdout",
     "output_type": "stream",
     "text": [
      "torch.Size([99, 231, 4])\n",
      "epoch: 15 validation: auc: 0.44633273703041143\n",
      "torch.Size([799, 231, 4])\n"
     ]
    },
    {
     "name": "stderr",
     "output_type": "stream",
     "text": [
      "\n",
      "100%|██████████| 1/1 [00:01<00:00,  1.35s/it]\u001b[A\n",
      "\n",
      "100%|██████████| 1/1 [00:00<00:00,  4.82it/s]\n",
      "\n",
      "  0%|          | 0/1 [00:00<?, ?it/s]\u001b[A"
     ]
    },
    {
     "name": "stdout",
     "output_type": "stream",
     "text": [
      "torch.Size([99, 231, 4])\n",
      "epoch: 16 validation: auc: 0.44454382826475847\n",
      "torch.Size([799, 231, 4])\n"
     ]
    },
    {
     "name": "stderr",
     "output_type": "stream",
     "text": [
      "\n",
      "100%|██████████| 1/1 [00:01<00:00,  1.37s/it]\u001b[A\n",
      "\n",
      "100%|██████████| 1/1 [00:00<00:00,  5.43it/s]\n",
      "\n",
      "  0%|          | 0/1 [00:00<?, ?it/s]\u001b[A"
     ]
    },
    {
     "name": "stdout",
     "output_type": "stream",
     "text": [
      "torch.Size([99, 231, 4])\n",
      "epoch: 17 validation: auc: 0.4427549194991055\n",
      "torch.Size([799, 231, 4])\n"
     ]
    },
    {
     "name": "stderr",
     "output_type": "stream",
     "text": [
      "\n",
      "100%|██████████| 1/1 [00:01<00:00,  1.36s/it]\u001b[A\n",
      "\n",
      "100%|██████████| 1/1 [00:00<00:00,  5.44it/s]\n",
      "\n",
      "  0%|          | 0/1 [00:00<?, ?it/s]\u001b[A"
     ]
    },
    {
     "name": "stdout",
     "output_type": "stream",
     "text": [
      "torch.Size([99, 231, 4])\n",
      "epoch: 18 validation: auc: 0.441860465116279\n",
      "torch.Size([799, 231, 4])\n"
     ]
    },
    {
     "name": "stderr",
     "output_type": "stream",
     "text": [
      "\n",
      "100%|██████████| 1/1 [00:01<00:00,  1.34s/it]\u001b[A\n",
      "\n",
      "100%|██████████| 1/1 [00:00<00:00,  4.91it/s]\n",
      "\n",
      "  0%|          | 0/1 [00:00<?, ?it/s]\u001b[A"
     ]
    },
    {
     "name": "stdout",
     "output_type": "stream",
     "text": [
      "torch.Size([99, 231, 4])\n",
      "epoch: 19 validation: auc: 0.4418604651162791\n",
      "torch.Size([799, 231, 4])\n"
     ]
    },
    {
     "name": "stderr",
     "output_type": "stream",
     "text": [
      "\n",
      "100%|██████████| 1/1 [00:01<00:00,  1.42s/it]\u001b[A\n",
      "\n",
      "100%|██████████| 1/1 [00:00<00:00,  5.47it/s]\n",
      "\n",
      "  0%|          | 0/1 [00:00<?, ?it/s]\u001b[A"
     ]
    },
    {
     "name": "stdout",
     "output_type": "stream",
     "text": [
      "torch.Size([99, 231, 4])\n",
      "epoch: 20 validation: auc: 0.44364937388193204\n",
      "torch.Size([799, 231, 4])\n"
     ]
    },
    {
     "name": "stderr",
     "output_type": "stream",
     "text": [
      "\n",
      "100%|██████████| 1/1 [00:01<00:00,  1.41s/it]\u001b[A\n",
      "\n",
      "100%|██████████| 1/1 [00:00<00:00,  4.66it/s]\n",
      "\n",
      "  0%|          | 0/1 [00:00<?, ?it/s]\u001b[A"
     ]
    },
    {
     "name": "stdout",
     "output_type": "stream",
     "text": [
      "torch.Size([99, 231, 4])\n",
      "epoch: 21 validation: auc: 0.4427549194991055\n",
      "torch.Size([799, 231, 4])\n"
     ]
    },
    {
     "name": "stderr",
     "output_type": "stream",
     "text": [
      "\n",
      "100%|██████████| 1/1 [00:01<00:00,  1.41s/it]\u001b[A\n",
      "\n",
      "100%|██████████| 1/1 [00:00<00:00,  4.91it/s]\n",
      "\n",
      "  0%|          | 0/1 [00:00<?, ?it/s]\u001b[A"
     ]
    },
    {
     "name": "stdout",
     "output_type": "stream",
     "text": [
      "torch.Size([99, 231, 4])\n",
      "epoch: 22 validation: auc: 0.4436493738819321\n",
      "torch.Size([799, 231, 4])\n"
     ]
    },
    {
     "name": "stderr",
     "output_type": "stream",
     "text": [
      "\n",
      "100%|██████████| 1/1 [00:01<00:00,  1.40s/it]\u001b[A\n",
      "\n",
      "100%|██████████| 1/1 [00:00<00:00,  4.84it/s]\n",
      "\n",
      "  0%|          | 0/1 [00:00<?, ?it/s]\u001b[A"
     ]
    },
    {
     "name": "stdout",
     "output_type": "stream",
     "text": [
      "torch.Size([99, 231, 4])\n",
      "epoch: 23 validation: auc: 0.445438282647585\n",
      "torch.Size([799, 231, 4])\n"
     ]
    },
    {
     "name": "stderr",
     "output_type": "stream",
     "text": [
      "\n",
      "100%|██████████| 1/1 [00:01<00:00,  1.40s/it]\u001b[A\n",
      "\n",
      "100%|██████████| 1/1 [00:00<00:00,  5.12it/s]\n",
      "\n",
      "  0%|          | 0/1 [00:00<?, ?it/s]\u001b[A"
     ]
    },
    {
     "name": "stdout",
     "output_type": "stream",
     "text": [
      "torch.Size([99, 231, 4])\n",
      "epoch: 24 validation: auc: 0.44722719141323797\n",
      "torch.Size([799, 231, 4])\n"
     ]
    },
    {
     "name": "stderr",
     "output_type": "stream",
     "text": [
      "\n",
      "100%|██████████| 1/1 [00:01<00:00,  1.36s/it]\u001b[A\n",
      "\n",
      "100%|██████████| 1/1 [00:00<00:00,  5.06it/s]\n",
      "\n",
      "  0%|          | 0/1 [00:00<?, ?it/s]\u001b[A"
     ]
    },
    {
     "name": "stdout",
     "output_type": "stream",
     "text": [
      "torch.Size([99, 231, 4])\n",
      "epoch: 25 validation: auc: 0.4445438282647585\n",
      "torch.Size([799, 231, 4])\n"
     ]
    },
    {
     "name": "stderr",
     "output_type": "stream",
     "text": [
      "\n",
      "100%|██████████| 1/1 [00:01<00:00,  1.34s/it]\u001b[A\n",
      "\n",
      "100%|██████████| 1/1 [00:00<00:00,  5.03it/s]\n",
      "\n",
      "  0%|          | 0/1 [00:00<?, ?it/s]\u001b[A"
     ]
    },
    {
     "name": "stdout",
     "output_type": "stream",
     "text": [
      "torch.Size([99, 231, 4])\n",
      "epoch: 26 validation: auc: 0.445438282647585\n",
      "torch.Size([799, 231, 4])\n"
     ]
    },
    {
     "name": "stderr",
     "output_type": "stream",
     "text": [
      "\n",
      "100%|██████████| 1/1 [00:01<00:00,  1.32s/it]\u001b[A\n",
      "\n",
      "100%|██████████| 1/1 [00:00<00:00,  5.28it/s]\n",
      "\n",
      "  0%|          | 0/1 [00:00<?, ?it/s]\u001b[A"
     ]
    },
    {
     "name": "stdout",
     "output_type": "stream",
     "text": [
      "torch.Size([99, 231, 4])\n",
      "epoch: 27 validation: auc: 0.4445438282647585\n",
      "torch.Size([799, 231, 4])\n"
     ]
    },
    {
     "name": "stderr",
     "output_type": "stream",
     "text": [
      "\n",
      "100%|██████████| 1/1 [00:01<00:00,  1.35s/it]\u001b[A\n",
      "\n",
      "100%|██████████| 1/1 [00:00<00:00,  5.08it/s]\n",
      "\n",
      "  0%|          | 0/1 [00:00<?, ?it/s]\u001b[A"
     ]
    },
    {
     "name": "stdout",
     "output_type": "stream",
     "text": [
      "torch.Size([99, 231, 4])\n",
      "epoch: 28 validation: auc: 0.4445438282647585\n",
      "torch.Size([799, 231, 4])\n"
     ]
    },
    {
     "name": "stderr",
     "output_type": "stream",
     "text": [
      "\n",
      "100%|██████████| 1/1 [00:01<00:00,  1.41s/it]\u001b[A\n",
      "\n",
      "100%|██████████| 1/1 [00:00<00:00,  5.41it/s]\n",
      "\n",
      "  0%|          | 0/1 [00:00<?, ?it/s]\u001b[A"
     ]
    },
    {
     "name": "stdout",
     "output_type": "stream",
     "text": [
      "torch.Size([99, 231, 4])\n",
      "epoch: 29 validation: auc: 0.4445438282647585\n",
      "torch.Size([799, 231, 4])\n"
     ]
    },
    {
     "name": "stderr",
     "output_type": "stream",
     "text": [
      "\n",
      "100%|██████████| 1/1 [00:01<00:00,  1.39s/it]\u001b[A\n",
      "\n",
      "100%|██████████| 1/1 [00:00<00:00,  5.64it/s]\n",
      "\n",
      "  0%|          | 0/1 [00:00<?, ?it/s]\u001b[A"
     ]
    },
    {
     "name": "stdout",
     "output_type": "stream",
     "text": [
      "torch.Size([99, 231, 4])\n",
      "epoch: 30 validation: auc: 0.445438282647585\n",
      "torch.Size([799, 231, 4])\n"
     ]
    },
    {
     "name": "stderr",
     "output_type": "stream",
     "text": [
      "\n",
      "100%|██████████| 1/1 [00:01<00:00,  1.42s/it]\u001b[A\n",
      "\n",
      "100%|██████████| 1/1 [00:00<00:00,  5.06it/s]\n",
      "\n",
      "  0%|          | 0/1 [00:00<?, ?it/s]\u001b[A"
     ]
    },
    {
     "name": "stdout",
     "output_type": "stream",
     "text": [
      "torch.Size([99, 231, 4])\n",
      "epoch: 31 validation: auc: 0.4481216457960644\n",
      "torch.Size([799, 231, 4])\n"
     ]
    },
    {
     "name": "stderr",
     "output_type": "stream",
     "text": [
      "\n",
      "100%|██████████| 1/1 [00:01<00:00,  1.33s/it]\u001b[A\n",
      "\n",
      "100%|██████████| 1/1 [00:00<00:00,  5.22it/s]\n",
      "\n",
      "  0%|          | 0/1 [00:00<?, ?it/s]\u001b[A"
     ]
    },
    {
     "name": "stdout",
     "output_type": "stream",
     "text": [
      "torch.Size([99, 231, 4])\n",
      "epoch: 32 validation: auc: 0.4490161001788909\n",
      "torch.Size([799, 231, 4])\n"
     ]
    },
    {
     "name": "stderr",
     "output_type": "stream",
     "text": [
      "\n",
      "100%|██████████| 1/1 [00:01<00:00,  1.37s/it]\u001b[A\n",
      "\n",
      "100%|██████████| 1/1 [00:00<00:00,  5.58it/s]\n",
      "\n",
      "  0%|          | 0/1 [00:00<?, ?it/s]\u001b[A"
     ]
    },
    {
     "name": "stdout",
     "output_type": "stream",
     "text": [
      "torch.Size([99, 231, 4])\n",
      "epoch: 33 validation: auc: 0.4490161001788909\n",
      "torch.Size([799, 231, 4])\n"
     ]
    },
    {
     "name": "stderr",
     "output_type": "stream",
     "text": [
      "\n",
      "100%|██████████| 1/1 [00:01<00:00,  1.32s/it]\u001b[A\n",
      "\n",
      "100%|██████████| 1/1 [00:00<00:00,  5.48it/s]\n",
      "\n",
      "  0%|          | 0/1 [00:00<?, ?it/s]\u001b[A"
     ]
    },
    {
     "name": "stdout",
     "output_type": "stream",
     "text": [
      "torch.Size([99, 231, 4])\n",
      "epoch: 34 validation: auc: 0.4490161001788909\n",
      "torch.Size([799, 231, 4])\n"
     ]
    },
    {
     "name": "stderr",
     "output_type": "stream",
     "text": [
      "\n",
      "100%|██████████| 1/1 [00:01<00:00,  1.31s/it]\u001b[A\n",
      "\n",
      "100%|██████████| 1/1 [00:00<00:00,  4.55it/s]\n",
      "\n",
      "  0%|          | 0/1 [00:00<?, ?it/s]\u001b[A"
     ]
    },
    {
     "name": "stdout",
     "output_type": "stream",
     "text": [
      "torch.Size([99, 231, 4])\n",
      "epoch: 35 validation: auc: 0.4516994633273704\n",
      "torch.Size([799, 231, 4])\n"
     ]
    },
    {
     "name": "stderr",
     "output_type": "stream",
     "text": [
      "\n",
      "100%|██████████| 1/1 [00:01<00:00,  1.36s/it]\u001b[A\n",
      "\n",
      "100%|██████████| 1/1 [00:00<00:00,  5.28it/s]\n",
      "\n",
      "  0%|          | 0/1 [00:00<?, ?it/s]\u001b[A"
     ]
    },
    {
     "name": "stdout",
     "output_type": "stream",
     "text": [
      "torch.Size([99, 231, 4])\n",
      "epoch: 36 validation: auc: 0.4516994633273703\n",
      "torch.Size([799, 231, 4])\n"
     ]
    },
    {
     "name": "stderr",
     "output_type": "stream",
     "text": [
      "\n",
      "100%|██████████| 1/1 [00:01<00:00,  1.36s/it]\u001b[A\n",
      "\n",
      "100%|██████████| 1/1 [00:00<00:00,  4.48it/s]\n",
      "\n",
      "  0%|          | 0/1 [00:00<?, ?it/s]\u001b[A"
     ]
    },
    {
     "name": "stdout",
     "output_type": "stream",
     "text": [
      "torch.Size([99, 231, 4])\n",
      "epoch: 37 validation: auc: 0.45527728085867625\n",
      "torch.Size([799, 231, 4])\n"
     ]
    },
    {
     "name": "stderr",
     "output_type": "stream",
     "text": [
      "\n",
      "100%|██████████| 1/1 [00:01<00:00,  1.36s/it]\u001b[A\n",
      "\n",
      "100%|██████████| 1/1 [00:00<00:00,  5.21it/s]\n",
      "\n",
      "  0%|          | 0/1 [00:00<?, ?it/s]\u001b[A"
     ]
    },
    {
     "name": "stdout",
     "output_type": "stream",
     "text": [
      "torch.Size([99, 231, 4])\n",
      "epoch: 38 validation: auc: 0.45706618962432916\n",
      "torch.Size([799, 231, 4])\n"
     ]
    },
    {
     "name": "stderr",
     "output_type": "stream",
     "text": [
      "\n",
      "100%|██████████| 1/1 [00:01<00:00,  1.32s/it]\u001b[A\n",
      "\n",
      "100%|██████████| 1/1 [00:00<00:00,  5.31it/s]\n",
      "\n",
      "  0%|          | 0/1 [00:00<?, ?it/s]\u001b[A"
     ]
    },
    {
     "name": "stdout",
     "output_type": "stream",
     "text": [
      "torch.Size([99, 231, 4])\n",
      "epoch: 39 validation: auc: 0.4606440071556351\n",
      "torch.Size([799, 231, 4])\n"
     ]
    },
    {
     "name": "stderr",
     "output_type": "stream",
     "text": [
      "\n",
      "100%|██████████| 1/1 [00:01<00:00,  1.26s/it]\u001b[A\n",
      "\n",
      "100%|██████████| 1/1 [00:00<00:00,  5.65it/s]\n",
      "\n",
      "  0%|          | 0/1 [00:00<?, ?it/s]\u001b[A"
     ]
    },
    {
     "name": "stdout",
     "output_type": "stream",
     "text": [
      "torch.Size([99, 231, 4])\n",
      "epoch: 40 validation: auc: 0.466010733452594\n",
      "torch.Size([799, 231, 4])\n"
     ]
    },
    {
     "name": "stderr",
     "output_type": "stream",
     "text": [
      "\n",
      "100%|██████████| 1/1 [00:01<00:00,  1.35s/it]\u001b[A\n",
      "\n",
      "100%|██████████| 1/1 [00:00<00:00,  5.33it/s]\n",
      "\n",
      "  0%|          | 0/1 [00:00<?, ?it/s]\u001b[A"
     ]
    },
    {
     "name": "stdout",
     "output_type": "stream",
     "text": [
      "torch.Size([99, 231, 4])\n",
      "epoch: 41 validation: auc: 0.46779964221824694\n",
      "torch.Size([799, 231, 4])\n"
     ]
    },
    {
     "name": "stderr",
     "output_type": "stream",
     "text": [
      "\n",
      "100%|██████████| 1/1 [00:01<00:00,  1.41s/it]\u001b[A\n",
      "\n",
      "100%|██████████| 1/1 [00:00<00:00,  5.65it/s]\n",
      "\n",
      "  0%|          | 0/1 [00:00<?, ?it/s]\u001b[A"
     ]
    },
    {
     "name": "stdout",
     "output_type": "stream",
     "text": [
      "torch.Size([99, 231, 4])\n",
      "epoch: 42 validation: auc: 0.4758497316636852\n",
      "torch.Size([799, 231, 4])\n"
     ]
    },
    {
     "name": "stderr",
     "output_type": "stream",
     "text": [
      "\n",
      "100%|██████████| 1/1 [00:01<00:00,  1.28s/it]\u001b[A\n",
      "\n",
      "100%|██████████| 1/1 [00:00<00:00,  5.15it/s]\n",
      "\n",
      "  0%|          | 0/1 [00:00<?, ?it/s]\u001b[A"
     ]
    },
    {
     "name": "stdout",
     "output_type": "stream",
     "text": [
      "torch.Size([99, 231, 4])\n",
      "epoch: 43 validation: auc: 0.4785330948121646\n",
      "torch.Size([799, 231, 4])\n"
     ]
    },
    {
     "name": "stderr",
     "output_type": "stream",
     "text": [
      "\n",
      "100%|██████████| 1/1 [00:01<00:00,  1.33s/it]\u001b[A\n",
      "\n",
      "100%|██████████| 1/1 [00:00<00:00,  5.06it/s]\n",
      "\n",
      "  0%|          | 0/1 [00:00<?, ?it/s]\u001b[A"
     ]
    },
    {
     "name": "stdout",
     "output_type": "stream",
     "text": [
      "torch.Size([99, 231, 4])\n",
      "epoch: 44 validation: auc: 0.483005366726297\n",
      "torch.Size([799, 231, 4])\n"
     ]
    },
    {
     "name": "stderr",
     "output_type": "stream",
     "text": [
      "\n",
      "100%|██████████| 1/1 [00:01<00:00,  1.33s/it]\u001b[A\n",
      "\n",
      "100%|██████████| 1/1 [00:00<00:00,  5.08it/s]\n",
      "\n",
      "  0%|          | 0/1 [00:00<?, ?it/s]\u001b[A"
     ]
    },
    {
     "name": "stdout",
     "output_type": "stream",
     "text": [
      "torch.Size([99, 231, 4])\n",
      "epoch: 45 validation: auc: 0.4865831842576029\n",
      "torch.Size([799, 231, 4])\n"
     ]
    },
    {
     "name": "stderr",
     "output_type": "stream",
     "text": [
      "\n",
      "100%|██████████| 1/1 [00:01<00:00,  1.42s/it]\u001b[A\n",
      "\n",
      "100%|██████████| 1/1 [00:00<00:00,  4.94it/s]\n",
      "\n",
      "  0%|          | 0/1 [00:00<?, ?it/s]\u001b[A"
     ]
    },
    {
     "name": "stdout",
     "output_type": "stream",
     "text": [
      "torch.Size([99, 231, 4])\n",
      "epoch: 46 validation: auc: 0.4901610017889088\n",
      "torch.Size([799, 231, 4])\n"
     ]
    },
    {
     "name": "stderr",
     "output_type": "stream",
     "text": [
      "\n",
      "100%|██████████| 1/1 [00:01<00:00,  1.42s/it]\u001b[A\n",
      "\n",
      "100%|██████████| 1/1 [00:00<00:00,  5.08it/s]\n",
      "\n",
      "  0%|          | 0/1 [00:00<?, ?it/s]\u001b[A"
     ]
    },
    {
     "name": "stdout",
     "output_type": "stream",
     "text": [
      "torch.Size([99, 231, 4])\n",
      "epoch: 47 validation: auc: 0.49463327370304117\n",
      "torch.Size([799, 231, 4])\n"
     ]
    },
    {
     "name": "stderr",
     "output_type": "stream",
     "text": [
      "\n",
      "100%|██████████| 1/1 [00:01<00:00,  1.41s/it]\u001b[A\n",
      "\n",
      "100%|██████████| 1/1 [00:00<00:00,  5.11it/s]\n",
      "\n",
      "  0%|          | 0/1 [00:00<?, ?it/s]\u001b[A"
     ]
    },
    {
     "name": "stdout",
     "output_type": "stream",
     "text": [
      "torch.Size([99, 231, 4])\n",
      "epoch: 48 validation: auc: 0.4964221824686941\n",
      "torch.Size([799, 231, 4])\n"
     ]
    },
    {
     "name": "stderr",
     "output_type": "stream",
     "text": [
      "\n",
      "100%|██████████| 1/1 [00:01<00:00,  1.41s/it]\u001b[A\n",
      "\n",
      "100%|██████████| 1/1 [00:00<00:00,  5.29it/s]\n",
      "\n",
      "  0%|          | 0/1 [00:00<?, ?it/s]\u001b[A"
     ]
    },
    {
     "name": "stdout",
     "output_type": "stream",
     "text": [
      "torch.Size([99, 231, 4])\n",
      "epoch: 49 validation: auc: 0.501788908765653\n",
      "torch.Size([101, 231, 4])\n"
     ]
    },
    {
     "name": "stderr",
     "output_type": "stream",
     "text": [
      "100%|██████████| 1/1 [00:00<00:00,  5.16it/s]\n"
     ]
    },
    {
     "name": "stdout",
     "output_type": "stream",
     "text": [
      "test auc: 0.4602272727272727\n"
     ]
    }
   ],
   "source": [
    "optimizer = torch.optim.Adam(params=model.parameters())\n",
    "for epoch_i in range(epoch):\n",
    "    train(model, optimizer, train_data_loader, criterion, device)\n",
    "    auc = test(model, valid_data_loader, device)\n",
    "    print('epoch:', epoch_i, 'validation: auc:', auc)\n",
    "auc = test(model, test_data_loader, device)\n",
    "print('test auc:', auc)"
   ]
  },
  {
   "cell_type": "code",
   "execution_count": 89,
   "metadata": {},
   "outputs": [
    {
     "ename": "NameError",
     "evalue": "name 'field_dims' is not defined",
     "output_type": "error",
     "traceback": [
      "\u001b[0;31m---------------------------------------------------------------------------\u001b[0m",
      "\u001b[0;31mNameError\u001b[0m                                 Traceback (most recent call last)",
      "\u001b[0;32m<ipython-input-89-7cd51adc08a2>\u001b[0m in \u001b[0;36m<module>\u001b[0;34m\u001b[0m\n\u001b[0;32m----> 1\u001b[0;31m \u001b[0mfield_dims\u001b[0m\u001b[0;34m\u001b[0m\u001b[0;34m\u001b[0m\u001b[0m\n\u001b[0m",
      "\u001b[0;31mNameError\u001b[0m: name 'field_dims' is not defined"
     ]
    }
   ],
   "source": [
    "field_dimsfield_dims"
   ]
  },
  {
   "cell_type": "code",
   "execution_count": 97,
   "metadata": {},
   "outputs": [
    {
     "data": {
      "text/plain": [
       "22"
      ]
     },
     "execution_count": 97,
     "metadata": {},
     "output_type": "execute_result"
    }
   ],
   "source": [
    "num_fields = len(dataset.field_dims)\n",
    "num_fields"
   ]
  },
  {
   "cell_type": "code",
   "execution_count": 94,
   "metadata": {},
   "outputs": [],
   "source": [
    "embeddings = torch.nn.ModuleList([\n",
    "    torch.nn.Embedding(sum(dataset.field_dims), 4) for _ in range(num_fields)\n",
    "])"
   ]
  },
  {
   "cell_type": "code",
   "execution_count": 98,
   "metadata": {},
   "outputs": [
    {
     "data": {
      "text/plain": [
       "Embedding(307, 4)"
      ]
     },
     "execution_count": 98,
     "metadata": {},
     "output_type": "execute_result"
    }
   ],
   "source": [
    "embeddings[0]"
   ]
  },
  {
   "cell_type": "code",
   "execution_count": null,
   "metadata": {},
   "outputs": [],
   "source": []
  }
 ],
 "metadata": {
  "kernelspec": {
   "display_name": "Python 3",
   "language": "python",
   "name": "python3"
  },
  "language_info": {
   "codemirror_mode": {
    "name": "ipython",
    "version": 3
   },
   "file_extension": ".py",
   "mimetype": "text/x-python",
   "name": "python",
   "nbconvert_exporter": "python",
   "pygments_lexer": "ipython3",
   "version": "3.6.9"
  }
 },
 "nbformat": 4,
 "nbformat_minor": 4
}
