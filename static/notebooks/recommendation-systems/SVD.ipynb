{
 "cells": [
  {
   "cell_type": "code",
   "execution_count": 148,
   "metadata": {},
   "outputs": [],
   "source": [
    "import pandas as pd\n",
    "import numpy as np\n",
    "from sklearn.datasets import load_digits\n",
    "from matplotlib import pyplot as plt"
   ]
  },
  {
   "cell_type": "code",
   "execution_count": 154,
   "metadata": {},
   "outputs": [],
   "source": [
    "ratings = pd.read_csv(\"data/svd.csv\", header=None)"
   ]
  },
  {
   "cell_type": "code",
   "execution_count": 155,
   "metadata": {},
   "outputs": [],
   "source": [
    "row_index = pd.MultiIndex.from_tuples([\n",
    "    (\"comedy\", 'Dasha'), (\"comedy\", 'Oleg'),\n",
    "    (\"comedy\", 'Alex'), (\"drama\", 'Kate'),\n",
    "    (\"drama\", 'Natasha'), (\"drama\", 'Maria')\n",
    "], names=['favorite genre', 'name'])\n",
    "\n",
    "col_index = pd.MultiIndex.from_tuples([\n",
    "    (\"comedy\", 'film 1'), (\"comedy\", 'film 2'),\n",
    "    (\"drama\", 'film 3'), (\"drama\", 'film 4'),\n",
    "    (\"drama\", 'film 5')\n",
    "], names=['favorite genre', 'name'])"
   ]
  },
  {
   "cell_type": "code",
   "execution_count": 156,
   "metadata": {},
   "outputs": [],
   "source": [
    "ratings.index = row_index\n",
    "ratings.columns = col_index"
   ]
  },
  {
   "cell_type": "code",
   "execution_count": 157,
   "metadata": {},
   "outputs": [],
   "source": [
    "ratings = ratings.drop([(\"drama\", \"Natasha\")]).drop((\"drama\", \"film 3\"), axis=1)"
   ]
  },
  {
   "cell_type": "markdown",
   "metadata": {},
   "source": [
    "Это первая статья из небольшого цикла про рекоммендательные системы. Она будет посвящена сингулярному матричному разложению — чрезвычайно полезному алгоритму, описанному ещё в начале прошлого века, но до сих пор являющемуся основой многих рекоммендательных систем. [Евгений Фролов](https://www.eigentheories.com/), создатель пакета для построения рекоммендательных систем [Polara](https://github.com/Evfro/polara/), считает, что SVD и его модификации до сих пор способны конкурировать с намного более поздними алгоритмами [1](https://www.skoltech.ru/app/data/uploads/2018/09/Frolov_Dissertation_Final1.pdf).\n",
    "\n",
    "Итак, чем же так полезно сингулярное матричное разложение. Как видно из названия, данный алгоритм, как многие другие алгоритмы матричного разложения, раскладывает некоторую матрицу X на произведение нескольких матриц (в данном случае трёх), причем получившиеся матрицы обладают набором интересныхх свойств, самым интересным из которых является способность извлекать из данных скрытые в них факторы, что помогает снизить размерность данных и уменьшить из зашумлённость. К тому же SVD тесно связано с другими техниками, такими как латентно семантический анализ (LSA) (George W Furnas et al. “Information retrieval using a singular value decomposition model of latentsemantic structure”. In: Proc. 11th Annu. Int. ACM SIGIR Conf. Res. Dev. Inf. Retr. ACM. 1988, pp. 465–480.) и анализ главных компонент (PCA) https://arxiv.org/abs/1404.1100.\n",
    "\n",
    "Предположим, у нас есть набор данных, совершенно типичный для многих рекоммендательных систем — матрица пользовательских оценкок, например, фильмов размера $m\\times n$, где $m$ — количество пользователей, а $n$ — количество фильмов. Для простоты предположим, что пользователей всего 5, а фильмов 4. В реальности эта матрица будет, конечно же, намного больше по размеру намного более разреженная, т.е. содержащая большое количество пропущенных значений, ведь средний пользователь смотрит просматривает от силы несколько десятком, максимум сотен из многих тысяч фильмов.\n",
    "\n",
    "Также заметим, что в нашем примере фильмы относятся к одному из двух жанров — комедии или драмме, и пользователи в целом предпочитают один из этих жанров, что выражается в из оценках по десятибалльной шкале. Последнее замечание пока несущественно, но оно сыграет свою роль в будущем."
   ]
  },
  {
   "cell_type": "code",
   "execution_count": 158,
   "metadata": {},
   "outputs": [
    {
     "data": {
      "text/html": [
       "<div>\n",
       "<style scoped>\n",
       "    .dataframe tbody tr th:only-of-type {\n",
       "        vertical-align: middle;\n",
       "    }\n",
       "\n",
       "    .dataframe tbody tr th {\n",
       "        vertical-align: top;\n",
       "    }\n",
       "\n",
       "    .dataframe thead tr th {\n",
       "        text-align: left;\n",
       "    }\n",
       "\n",
       "    .dataframe thead tr:last-of-type th {\n",
       "        text-align: right;\n",
       "    }\n",
       "</style>\n",
       "<table border=\"1\" class=\"dataframe\">\n",
       "  <thead>\n",
       "    <tr>\n",
       "      <th></th>\n",
       "      <th>favorite genre</th>\n",
       "      <th colspan=\"2\" halign=\"left\">comedy</th>\n",
       "      <th colspan=\"2\" halign=\"left\">drama</th>\n",
       "    </tr>\n",
       "    <tr>\n",
       "      <th></th>\n",
       "      <th>name</th>\n",
       "      <th>film 1</th>\n",
       "      <th>film 2</th>\n",
       "      <th>film 4</th>\n",
       "      <th>film 5</th>\n",
       "    </tr>\n",
       "    <tr>\n",
       "      <th>favorite genre</th>\n",
       "      <th>name</th>\n",
       "      <th></th>\n",
       "      <th></th>\n",
       "      <th></th>\n",
       "      <th></th>\n",
       "    </tr>\n",
       "  </thead>\n",
       "  <tbody>\n",
       "    <tr>\n",
       "      <th rowspan=\"3\" valign=\"top\">comedy</th>\n",
       "      <th>Dasha</th>\n",
       "      <td>7</td>\n",
       "      <td>8</td>\n",
       "      <td>1</td>\n",
       "      <td>4</td>\n",
       "    </tr>\n",
       "    <tr>\n",
       "      <th>Oleg</th>\n",
       "      <td>8</td>\n",
       "      <td>10</td>\n",
       "      <td>1</td>\n",
       "      <td>2</td>\n",
       "    </tr>\n",
       "    <tr>\n",
       "      <th>Alex</th>\n",
       "      <td>9</td>\n",
       "      <td>10</td>\n",
       "      <td>0</td>\n",
       "      <td>1</td>\n",
       "    </tr>\n",
       "    <tr>\n",
       "      <th rowspan=\"2\" valign=\"top\">drama</th>\n",
       "      <th>Kate</th>\n",
       "      <td>3</td>\n",
       "      <td>1</td>\n",
       "      <td>10</td>\n",
       "      <td>10</td>\n",
       "    </tr>\n",
       "    <tr>\n",
       "      <th>Maria</th>\n",
       "      <td>2</td>\n",
       "      <td>1</td>\n",
       "      <td>7</td>\n",
       "      <td>10</td>\n",
       "    </tr>\n",
       "  </tbody>\n",
       "</table>\n",
       "</div>"
      ],
      "text/plain": [
       "favorite genre       comedy         drama       \n",
       "name                 film 1 film 2 film 4 film 5\n",
       "favorite genre name                             \n",
       "comedy         Dasha      7      8      1      4\n",
       "               Oleg       8     10      1      2\n",
       "               Alex       9     10      0      1\n",
       "drama          Kate       3      1     10     10\n",
       "               Maria      2      1      7     10"
      ]
     },
     "execution_count": 158,
     "metadata": {},
     "output_type": "execute_result"
    }
   ],
   "source": [
    "ratings"
   ]
  },
  {
   "cell_type": "markdown",
   "metadata": {},
   "source": [
    "Давайте посмотрим, что получится, если разложить эту матрицу. Для этого используем функцию `svd` из пакета numpy:"
   ]
  },
  {
   "cell_type": "code",
   "execution_count": 172,
   "metadata": {},
   "outputs": [],
   "source": [
    "from numpy.linalg import svd\n",
    "\n",
    "U, Σ, V_t = svd(ratings)\n",
    "U, Σ, V_t = U.round(2), Σ.round(2), V_t.round(2)"
   ]
  },
  {
   "cell_type": "code",
   "execution_count": 173,
   "metadata": {},
   "outputs": [
    {
     "data": {
      "text/plain": [
       "array([[ 1.0102e+00, -2.0000e-03,  2.0000e-03,  1.4000e-03,  6.2000e-03],\n",
       "       [-2.0000e-03,  9.9610e-01,  1.0000e-03, -8.5000e-03,  4.5000e-03],\n",
       "       [ 2.0000e-03,  1.0000e-03,  9.9820e-01,  3.6000e-03, -2.0000e-03],\n",
       "       [ 1.4000e-03, -8.5000e-03,  3.6000e-03,  9.9980e-01,  5.1000e-03],\n",
       "       [ 6.2000e-03,  4.5000e-03, -2.0000e-03,  5.1000e-03,  9.9760e-01]])"
      ]
     },
     "execution_count": 173,
     "metadata": {},
     "output_type": "execute_result"
    }
   ],
   "source": [
    "U@U.T"
   ]
  },
  {
   "cell_type": "code",
   "execution_count": 174,
   "metadata": {},
   "outputs": [
    {
     "data": {
      "text/plain": [
       "array([23.87, 16.44,  2.06,  0.66])"
      ]
     },
     "execution_count": 174,
     "metadata": {},
     "output_type": "execute_result"
    }
   ],
   "source": [
    "Σ"
   ]
  },
  {
   "cell_type": "code",
   "execution_count": 175,
   "metadata": {},
   "outputs": [
    {
     "data": {
      "text/plain": [
       "array([[-0.56, -0.59, -0.33, -0.47],\n",
       "       [-0.3 , -0.49,  0.57,  0.59],\n",
       "       [ 0.2 , -0.07,  0.72, -0.66],\n",
       "       [-0.74,  0.63,  0.21, -0.06]])"
      ]
     },
     "execution_count": 175,
     "metadata": {},
     "output_type": "execute_result"
    }
   ],
   "source": [
    "V_t"
   ]
  },
  {
   "cell_type": "markdown",
   "metadata": {},
   "source": [
    "Мы видим три матрицы. Первая матрица $U$ размера $m\\times m$ состоит из левых сингулярных векторов и является *ортогональной*, третья, $V_t$, размером $n\\times n$ тоже *ортогональна* и состоит из правых *сингулярных векторов*, а на средней диагонали средней матрицы $\\Sigma$ лежат *сингулярные числа*, а остальная область заполнена 0, т.е. она единична (numpy по этому поводу сразу возвращает вектор значений, лежащих на главной диагонали, а вообще она размера $m\\times n$).\n",
    "\n",
    "Пора немного углубиться в терминологию. Ортогональность матрицы означает, что при умножении данной матрицы на саму себя транспонированную (перевернутую на правый бок) получится единичная матрица, т.е. матрица элементы главной диагонали которой равны единице. Это несложно проверить:"
   ]
  },
  {
   "cell_type": "code",
   "execution_count": 177,
   "metadata": {},
   "outputs": [
    {
     "data": {
      "text/plain": [
       "array([[ 1., -0.,  0.,  0.,  0.],\n",
       "       [-0.,  1.,  0., -0.,  0.],\n",
       "       [ 0.,  0.,  1.,  0., -0.],\n",
       "       [ 0., -0.,  0.,  1.,  0.],\n",
       "       [ 0.,  0., -0.,  0.,  1.]])"
      ]
     },
     "execution_count": 177,
     "metadata": {},
     "output_type": "execute_result"
    }
   ],
   "source": [
    "(U @ U.T).round()"
   ]
  },
  {
   "cell_type": "code",
   "execution_count": 138,
   "metadata": {},
   "outputs": [
    {
     "data": {
      "text/html": [
       "<div>\n",
       "<style scoped>\n",
       "    .dataframe tbody tr th:only-of-type {\n",
       "        vertical-align: middle;\n",
       "    }\n",
       "\n",
       "    .dataframe tbody tr th {\n",
       "        vertical-align: top;\n",
       "    }\n",
       "\n",
       "    .dataframe thead th {\n",
       "        text-align: right;\n",
       "    }\n",
       "</style>\n",
       "<table border=\"1\" class=\"dataframe\">\n",
       "  <thead>\n",
       "    <tr style=\"text-align: right;\">\n",
       "      <th></th>\n",
       "      <th>0</th>\n",
       "      <th>1</th>\n",
       "      <th>2</th>\n",
       "      <th>3</th>\n",
       "    </tr>\n",
       "  </thead>\n",
       "  <tbody>\n",
       "    <tr>\n",
       "      <th>0</th>\n",
       "      <td>-0.564601</td>\n",
       "      <td>-0.593711</td>\n",
       "      <td>-0.326940</td>\n",
       "      <td>-0.471002</td>\n",
       "    </tr>\n",
       "    <tr>\n",
       "      <th>1</th>\n",
       "      <td>-0.303452</td>\n",
       "      <td>-0.489920</td>\n",
       "      <td>0.570012</td>\n",
       "      <td>0.585646</td>\n",
       "    </tr>\n",
       "    <tr>\n",
       "      <th>2</th>\n",
       "      <td>0.199418</td>\n",
       "      <td>-0.066906</td>\n",
       "      <td>0.723823</td>\n",
       "      <td>-0.657143</td>\n",
       "    </tr>\n",
       "    <tr>\n",
       "      <th>3</th>\n",
       "      <td>-0.741198</td>\n",
       "      <td>0.634830</td>\n",
       "      <td>0.210420</td>\n",
       "      <td>-0.057789</td>\n",
       "    </tr>\n",
       "  </tbody>\n",
       "</table>\n",
       "</div>"
      ],
      "text/plain": [
       "          0         1         2         3\n",
       "0 -0.564601 -0.593711 -0.326940 -0.471002\n",
       "1 -0.303452 -0.489920  0.570012  0.585646\n",
       "2  0.199418 -0.066906  0.723823 -0.657143\n",
       "3 -0.741198  0.634830  0.210420 -0.057789"
      ]
     },
     "execution_count": 138,
     "metadata": {},
     "output_type": "execute_result"
    }
   ],
   "source": [
    "pd.DataFrame(vh)"
   ]
  },
  {
   "cell_type": "code",
   "execution_count": 139,
   "metadata": {},
   "outputs": [],
   "source": [
    "from numpy.linalg import eig"
   ]
  },
  {
   "cell_type": "code",
   "execution_count": 140,
   "metadata": {},
   "outputs": [],
   "source": [
    "eigenvalues, eigenvectors = eig(df.values @ df.values.T)"
   ]
  },
  {
   "cell_type": "code",
   "execution_count": 147,
   "metadata": {},
   "outputs": [
    {
     "data": {
      "text/plain": [
       "array([5.69999629e+02, 2.70335562e+02, 4.23328035e+00, 5.63857000e-16,\n",
       "       4.31528746e-01])"
      ]
     },
     "execution_count": 147,
     "metadata": {},
     "output_type": "execute_result"
    }
   ],
   "source": [
    "eigenvalues"
   ]
  },
  {
   "cell_type": "code",
   "execution_count": 146,
   "metadata": {},
   "outputs": [
    {
     "data": {
      "text/plain": [
       "array([[-0.45708889, -0.19042413,  0.50744576,  0.67664705,  0.19863527],\n",
       "       [-0.49101683, -0.3397126 , -0.16322053, -0.07539243, -0.78177545],\n",
       "       [-0.48124323, -0.4284561 , -0.22773484, -0.44481533,  0.57888383],\n",
       "       [-0.43003485,  0.61770926, -0.58233602,  0.29214566,  0.09508402],\n",
       "       [-0.36530426,  0.53216036,  0.56998198, -0.50324446, -0.0722752 ]])"
      ]
     },
     "execution_count": 146,
     "metadata": {},
     "output_type": "execute_result"
    }
   ],
   "source": [
    "eigenvectors"
   ]
  },
  {
   "cell_type": "code",
   "execution_count": 95,
   "metadata": {},
   "outputs": [
    {
     "data": {
      "text/html": [
       "<div>\n",
       "<style scoped>\n",
       "    .dataframe tbody tr th:only-of-type {\n",
       "        vertical-align: middle;\n",
       "    }\n",
       "\n",
       "    .dataframe tbody tr th {\n",
       "        vertical-align: top;\n",
       "    }\n",
       "\n",
       "    .dataframe thead th {\n",
       "        text-align: right;\n",
       "    }\n",
       "</style>\n",
       "<table border=\"1\" class=\"dataframe\">\n",
       "  <thead>\n",
       "    <tr style=\"text-align: right;\">\n",
       "      <th></th>\n",
       "      <th>0</th>\n",
       "      <th>1</th>\n",
       "      <th>2</th>\n",
       "      <th>3</th>\n",
       "      <th>4</th>\n",
       "    </tr>\n",
       "  </thead>\n",
       "  <tbody>\n",
       "    <tr>\n",
       "      <th>0</th>\n",
       "      <td>-0.338913+0.000000j</td>\n",
       "      <td>-0.168906+0.000000j</td>\n",
       "      <td>-0.223858-0.386775j</td>\n",
       "      <td>-0.223858+0.386775j</td>\n",
       "      <td>-0.160386+0.000000j</td>\n",
       "    </tr>\n",
       "    <tr>\n",
       "      <th>1</th>\n",
       "      <td>-0.308747+0.000000j</td>\n",
       "      <td>-0.213564+0.000000j</td>\n",
       "      <td>0.065031+0.339992j</td>\n",
       "      <td>0.065031-0.339992j</td>\n",
       "      <td>0.023883+0.000000j</td>\n",
       "    </tr>\n",
       "    <tr>\n",
       "      <th>2</th>\n",
       "      <td>-0.313157+0.000000j</td>\n",
       "      <td>-0.528594+0.000000j</td>\n",
       "      <td>0.160486+0.159290j</td>\n",
       "      <td>0.160486-0.159290j</td>\n",
       "      <td>-0.713185+0.000000j</td>\n",
       "    </tr>\n",
       "    <tr>\n",
       "      <th>3</th>\n",
       "      <td>-0.639720+0.000000j</td>\n",
       "      <td>0.677034+0.000000j</td>\n",
       "      <td>-0.573473+0.000000j</td>\n",
       "      <td>-0.573473-0.000000j</td>\n",
       "      <td>0.631193+0.000000j</td>\n",
       "    </tr>\n",
       "    <tr>\n",
       "      <th>4</th>\n",
       "      <td>-0.531512+0.000000j</td>\n",
       "      <td>0.433676+0.000000j</td>\n",
       "      <td>0.526366-0.152996j</td>\n",
       "      <td>0.526366+0.152996j</td>\n",
       "      <td>0.258203+0.000000j</td>\n",
       "    </tr>\n",
       "  </tbody>\n",
       "</table>\n",
       "</div>"
      ],
      "text/plain": [
       "                    0                   1                   2  \\\n",
       "0 -0.338913+0.000000j -0.168906+0.000000j -0.223858-0.386775j   \n",
       "1 -0.308747+0.000000j -0.213564+0.000000j  0.065031+0.339992j   \n",
       "2 -0.313157+0.000000j -0.528594+0.000000j  0.160486+0.159290j   \n",
       "3 -0.639720+0.000000j  0.677034+0.000000j -0.573473+0.000000j   \n",
       "4 -0.531512+0.000000j  0.433676+0.000000j  0.526366-0.152996j   \n",
       "\n",
       "                    3                   4  \n",
       "0 -0.223858+0.386775j -0.160386+0.000000j  \n",
       "1  0.065031-0.339992j  0.023883+0.000000j  \n",
       "2  0.160486-0.159290j -0.713185+0.000000j  \n",
       "3 -0.573473-0.000000j  0.631193+0.000000j  \n",
       "4  0.526366+0.152996j  0.258203+0.000000j  "
      ]
     },
     "execution_count": 95,
     "metadata": {},
     "output_type": "execute_result"
    }
   ],
   "source": [
    "pd.DataFrame(v)"
   ]
  },
  {
   "cell_type": "markdown",
   "metadata": {},
   "source": [
    "Классический пример применения SVD – шумоподавление, например, в изображениях. Рассмотрим (чёрно-белое) изображение как матрицу $X$ размера $N\\times M$, элементы которой – интенсивности каждого пикселя. Теперь попробуем выбрать $f$ столбцов пикселей из изображения, счесть их «репрезентативными» и представить каждый из оставшихся столбцов в виде линейной комбинации этих. В результате, когда вы найдёте оптимальные представления каждого столбца, получится, что вы представили исходную матрицу в виде произведения $X=AY$ матриц размера $N\\times f$ и $f\\times M$, то есть как раз приблизили матрицу $X$ матрицей малого ранга $f$."
   ]
  },
  {
   "cell_type": "markdown",
   "metadata": {},
   "source": [
    "* [Рекомендательные системы: SVD, часть I](https://habr.com/ru/company/surfingbird/blog/139863/)\n",
    "* [Singular Value Decomposition Example In Python](https://towardsdatascience.com/singular-value-decomposition-example-in-python-dab2507d85a0)"
   ]
  },
  {
   "cell_type": "code",
   "execution_count": 73,
   "metadata": {},
   "outputs": [
    {
     "name": "stdout",
     "output_type": "stream",
     "text": [
      "[[ 8.75636863  7.46819162]\n",
      " [ 7.69746219 10.35987123]\n",
      " [ 8.51756731 10.70924868]\n",
      " [15.49979129 -5.50119327]\n",
      " [13.25363904 -5.7064877 ]\n",
      " [14.25339633 -5.29394012]]\n"
     ]
    }
   ],
   "source": [
    "from sklearn.decomposition import TruncatedSVD\n",
    "\n",
    "svd = TruncatedSVD(n_components=2)\n",
    "result = svd.fit_transform(df)\n",
    "print(result)"
   ]
  },
  {
   "cell_type": "code",
   "execution_count": 78,
   "metadata": {},
   "outputs": [
    {
     "data": {
      "text/plain": [
       "<matplotlib.image.AxesImage at 0x7f2f8690a860>"
      ]
     },
     "execution_count": 78,
     "metadata": {},
     "output_type": "execute_result"
    },
    {
     "data": {
      "image/png": "[encoded data removed]",
      "text/plain": [
       "<Figure size 288x288 with 1 Axes>"
      ]
     },
     "metadata": {
      "needs_background": "light"
     },
     "output_type": "display_data"
    }
   ],
   "source": [
    "X, y = load_digits(return_X_y=True)\n",
    "image = X[0]\n",
    "image = image.reshape((8, 8))\n",
    "plt.matshow(image, cmap = 'gray')"
   ]
  },
  {
   "cell_type": "code",
   "execution_count": 83,
   "metadata": {},
   "outputs": [
    {
     "data": {
      "text/plain": [
       "<matplotlib.image.AxesImage at 0x7f2f868d6860>"
      ]
     },
     "execution_count": 83,
     "metadata": {},
     "output_type": "execute_result"
    },
    {
     "data": {
      "image/png": "[encoded data removed]",
      "text/plain": [
       "<Figure size 288x288 with 1 Axes>"
      ]
     },
     "metadata": {
      "needs_background": "light"
     },
     "output_type": "display_data"
    }
   ],
   "source": [
    "U, s, V = np.linalg.svd(image)\n",
    "S = np.zeros((image.shape[0], image.shape[1]))\n",
    "S[:image.shape[0], :image.shape[0]] = np.diag(s)\n",
    "n_component = 2\n",
    "S = S[:, :n_component]\n",
    "V = V[:n_component, :]\n",
    "A = U.dot(S.dot(V))\n",
    "plt.matshow(A, cmap = 'gray')"
   ]
  },
  {
   "cell_type": "code",
   "execution_count": null,
   "metadata": {},
   "outputs": [],
   "source": []
  }
 ],
 "metadata": {
  "kernelspec": {
   "display_name": "Python 3",
   "language": "python",
   "name": "python3"
  },
  "language_info": {
   "codemirror_mode": {
    "name": "ipython",
    "version": 3
   },
   "file_extension": ".py",
   "mimetype": "text/x-python",
   "name": "python",
   "nbconvert_exporter": "python",
   "pygments_lexer": "ipython3",
   "version": "3.6.9"
  }
 },
 "nbformat": 4,
 "nbformat_minor": 4
}
