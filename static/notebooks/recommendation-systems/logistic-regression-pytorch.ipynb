{
 "cells": [
  {
   "cell_type": "markdown",
   "metadata": {},
   "source": [
    "Давайте теперь немного усложним пример и построим бинарный классификатор, определяющий верятность некого события на основе многих факторов. Базовой моделью для этого классификатора станет всё та же линейная регрессия из [предыдущего поста](/courses/recommendation-systems/linear-regression-pytorch/), в неё будут внесены всего лишь два небольших изменения, которые превратят линейную регрессию в логистическую. В качестве источника данных будет использовано соревнование [Telco Customer Churn](https://www.kaggle.com/blastchar/telco-customer-churn), в рамках которого нужно было предсказать вероятность оттока пользователей некого сервиса или, иными словами, вероятность несовершения пользователями неких действий за определённое время, свидетельствующих о том, что они всё ещё пользуются этим сервисом. Похожую задачу я решал в Qiwi, когда предсказывал вероятность совершения покупки пользователями карты Совесть в течении 30 дней от некоторой даты. Эту модель вполне можно рассматривать как систему, рекоммендующую применить меры по удержанию пользователей.\n",
    "\n",
    "Итак, импортируем необходимы библиотеки и загрузим данные. "
   ]
  },
  {
   "cell_type": "code",
   "execution_count": null,
   "metadata": {},
   "outputs": [],
   "source": [
    "import pandas as pd\n",
    "\n",
    "import torch\n",
    "from torch import nn, optim\n",
    "from torch.functional import F\n",
    "\n",
    "import math\n",
    "import numpy as np\n",
    "import math\n",
    "import statsmodels.api as sm\n",
    "import matplotlib.pyplot as plt\n",
    "import seaborn as sns\n",
    "from sklearn.metrics import roc_auc_score\n",
    "from sklearn.linear_model import LogisticRegression\n",
    "\n",
    "df_churn = pd.read_csv(\"http://nagornyy.me/datasets/telco-customer-churn.zip\")\n",
    "df_churn.shape"
   ]
  },
  {
   "cell_type": "code",
   "execution_count": 197,
   "metadata": {},
   "outputs": [
    {
     "data": {
      "text/html": [
       "<div>\n",
       "<style scoped>\n",
       "    .dataframe tbody tr th:only-of-type {\n",
       "        vertical-align: middle;\n",
       "    }\n",
       "\n",
       "    .dataframe tbody tr th {\n",
       "        vertical-align: top;\n",
       "    }\n",
       "\n",
       "    .dataframe thead th {\n",
       "        text-align: right;\n",
       "    }\n",
       "</style>\n",
       "<table border=\"1\" class=\"dataframe\">\n",
       "  <thead>\n",
       "    <tr style=\"text-align: right;\">\n",
       "      <th></th>\n",
       "      <th>customerID</th>\n",
       "      <th>gender</th>\n",
       "      <th>SeniorCitizen</th>\n",
       "      <th>Partner</th>\n",
       "      <th>Dependents</th>\n",
       "      <th>tenure</th>\n",
       "      <th>PhoneService</th>\n",
       "      <th>MultipleLines</th>\n",
       "      <th>InternetService</th>\n",
       "      <th>OnlineSecurity</th>\n",
       "      <th>...</th>\n",
       "      <th>DeviceProtection</th>\n",
       "      <th>TechSupport</th>\n",
       "      <th>StreamingTV</th>\n",
       "      <th>StreamingMovies</th>\n",
       "      <th>Contract</th>\n",
       "      <th>PaperlessBilling</th>\n",
       "      <th>PaymentMethod</th>\n",
       "      <th>MonthlyCharges</th>\n",
       "      <th>TotalCharges</th>\n",
       "      <th>Churn</th>\n",
       "    </tr>\n",
       "  </thead>\n",
       "  <tbody>\n",
       "    <tr>\n",
       "      <th>0</th>\n",
       "      <td>7590-VHVEG</td>\n",
       "      <td>Female</td>\n",
       "      <td>0</td>\n",
       "      <td>Yes</td>\n",
       "      <td>No</td>\n",
       "      <td>1</td>\n",
       "      <td>No</td>\n",
       "      <td>No phone service</td>\n",
       "      <td>DSL</td>\n",
       "      <td>No</td>\n",
       "      <td>...</td>\n",
       "      <td>No</td>\n",
       "      <td>No</td>\n",
       "      <td>No</td>\n",
       "      <td>No</td>\n",
       "      <td>Month-to-month</td>\n",
       "      <td>Yes</td>\n",
       "      <td>Electronic check</td>\n",
       "      <td>29.85</td>\n",
       "      <td>29.85</td>\n",
       "      <td>No</td>\n",
       "    </tr>\n",
       "    <tr>\n",
       "      <th>1</th>\n",
       "      <td>5575-GNVDE</td>\n",
       "      <td>Male</td>\n",
       "      <td>0</td>\n",
       "      <td>No</td>\n",
       "      <td>No</td>\n",
       "      <td>34</td>\n",
       "      <td>Yes</td>\n",
       "      <td>No</td>\n",
       "      <td>DSL</td>\n",
       "      <td>Yes</td>\n",
       "      <td>...</td>\n",
       "      <td>Yes</td>\n",
       "      <td>No</td>\n",
       "      <td>No</td>\n",
       "      <td>No</td>\n",
       "      <td>One year</td>\n",
       "      <td>No</td>\n",
       "      <td>Mailed check</td>\n",
       "      <td>56.95</td>\n",
       "      <td>1889.5</td>\n",
       "      <td>No</td>\n",
       "    </tr>\n",
       "  </tbody>\n",
       "</table>\n",
       "<p>2 rows × 21 columns</p>\n",
       "</div>"
      ],
      "text/plain": [
       "   customerID  gender  SeniorCitizen Partner Dependents  tenure PhoneService  \\\n",
       "0  7590-VHVEG  Female              0     Yes         No       1           No   \n",
       "1  5575-GNVDE    Male              0      No         No      34          Yes   \n",
       "\n",
       "      MultipleLines InternetService OnlineSecurity  ... DeviceProtection  \\\n",
       "0  No phone service             DSL             No  ...               No   \n",
       "1                No             DSL            Yes  ...              Yes   \n",
       "\n",
       "  TechSupport StreamingTV StreamingMovies        Contract PaperlessBilling  \\\n",
       "0          No          No              No  Month-to-month              Yes   \n",
       "1          No          No              No        One year               No   \n",
       "\n",
       "      PaymentMethod MonthlyCharges  TotalCharges Churn  \n",
       "0  Electronic check          29.85         29.85    No  \n",
       "1      Mailed check          56.95        1889.5    No  \n",
       "\n",
       "[2 rows x 21 columns]"
      ]
     },
     "execution_count": 197,
     "metadata": {},
     "output_type": "execute_result"
    }
   ],
   "source": [
    "df_churn.head(2)"
   ]
  },
  {
   "cell_type": "markdown",
   "metadata": {},
   "source": [
    "Как мы видим, данные содержат 21 переменную, одну из которых, под названием **Churn**, нам нужно предсказать. Большинство переменных категориальные, однако некоторые метрические ( \"tenure\" и \"MonthlyCharges\") — давайте этими двумя пока и ограничимся. Сконвертируем их в тензоры..."
   ]
  },
  {
   "cell_type": "code",
   "execution_count": 198,
   "metadata": {},
   "outputs": [],
   "source": [
    "y = df_churn.Churn.replace({\"Yes\": 1., \"No\": 0.}).values\n",
    "X = df_churn[[\"tenure\", \"MonthlyCharges\"]].values\n",
    "\n",
    "y_tensor = torch.from_numpy(y.reshape(-1, 1)).float()\n",
    "X_tensor = torch.from_numpy(X).float()"
   ]
  },
  {
   "cell_type": "markdown",
   "metadata": {},
   "source": [
    "В качестве базовой модели используем логистическую регрессию из пакета scikit-learn. Построим простую модель и посчитаем AUC ROC (https://www.zotero.org/ihun/items/itemKey/A6PLH38U)."
   ]
  },
  {
   "cell_type": "code",
   "execution_count": 199,
   "metadata": {},
   "outputs": [
    {
     "data": {
      "text/plain": [
       "0.675583850023464"
      ]
     },
     "execution_count": 199,
     "metadata": {},
     "output_type": "execute_result"
    }
   ],
   "source": [
    "log_reg_sklearn = LogisticRegression(solver=\"liblinear\")\n",
    "log_reg_sklearn.fit(X, y);\n",
    "predicted = log_reg_sklearn.predict(X)\n",
    "roc_auc_score(y, predicted)"
   ]
  },
  {
   "cell_type": "markdown",
   "metadata": {},
   "source": [
    "Не так уже плохо для таких ограниченных данных. Теперь реализуем модели логистической регрессии в PyTorch и сравним результаты.\n",
    "\n",
    "Для этого нужно вспмнить механизм работы логистической регрессии. Она относится к классу обобщённых линейных моделей, которые в основе своей представляют из себя обычную линейную модель, выход которой передаётся в связывающую функцию (link function), преобразующую этот выход в нужный формат — в данном случае в вероятность. В логистической регресии для этого служит, незапно, логистическая фукнция, относящаяся к классу сигмоидальных функций.\n",
    "\n",
    "Таким образом, всё что нужно для преобразования линейной регресии в логистическую — это применить к её выходу логистическую функцию, а также использовать функцию потерь, которая больше подходит к задаче классификации. Обычно для этого используют функцию бинарной кросс-энтропии (https://www.zotero.org/ihun/items/itemKey/MX348T78)."
   ]
  },
  {
   "cell_type": "code",
   "execution_count": 201,
   "metadata": {},
   "outputs": [],
   "source": [
    "def logistic(z):\n",
    "    return 1 / (1 + torch.exp(-z))\n",
    "\n",
    "def logistic_reg_model(X, w, b):\n",
    "    return logistic(X @ w.t() + b)\n",
    "\n",
    "def binary_cross_entropy(predicted, true):\n",
    "    return -(true * predicted.log() + (1 - true) * (1 - predicted).log()).mean()"
   ]
  },
  {
   "cell_type": "markdown",
   "metadata": {},
   "source": [
    "Кстати, небольшой лайфхак. Нейронные сети крайне чуствительны к шкалам, по которой измеренны данные. Очень желательно, чтобы основные параметры переменных, такие как среднее и страндартное отклонение, не сильно отличались между собой. В противном случае, метод градиентного спуска не сработает, особенно такой тупой, как у нас реализован сейчас, т.к. он попадёт в \"овраг\", образованный \"большими\" шкалам.\n",
    "\n",
    "Самый простой способ нормировать и шкалировать данные — это вычесть среднее и нормировать на стандартное отклонение."
   ]
  },
  {
   "cell_type": "code",
   "execution_count": 202,
   "metadata": {},
   "outputs": [],
   "source": [
    "X_tensor = (X_tensor - X_tensor.mean(axis=0)) / X_tensor.std(axis=0)"
   ]
  },
  {
   "cell_type": "markdown",
   "metadata": {},
   "source": [
    "Можем приступать к обучению."
   ]
  },
  {
   "cell_type": "code",
   "execution_count": 203,
   "metadata": {},
   "outputs": [
    {
     "name": "stdout",
     "output_type": "stream",
     "text": [
      "0.8043093911339634\n"
     ]
    }
   ],
   "source": [
    "epochs = 1000\n",
    "learning_rate = 0.001\n",
    "\n",
    "# инициализируем параметры нулями\n",
    "# и начинаем записывать историю вычислений\n",
    "weight = torch.zeros(y_tensor.shape[1], X_tensor.shape[1], requires_grad=True)\n",
    "bias = torch.zeros(y_tensor.shape[1], requires_grad=True)\n",
    "\n",
    "for epoch in range(epochs):\n",
    "    # forward pass — вычисляем функцию потерь\n",
    "    predictions = logistic_reg_model(X_tensor, weight, bias)\n",
    "    loss = binary_cross_entropy(predictions, y_tensor)\n",
    "    # backward paass — вычисляем градиент\n",
    "    loss.backward()\n",
    "    # вычитаем производные из параметров\n",
    "    # записывать историю вычислений уже не нужно (no_grad)\n",
    "    with torch.no_grad():\n",
    "        weight -= weight.grad * learning_rate\n",
    "        bias -= bias.grad * learning_rate\n",
    "        # обнуляем производные\n",
    "        weight.grad.zero_()\n",
    "        bias.grad.zero_()\n",
    "\n",
    "predictions = logistic_reg_model(X_tensor, weight, bias)\n",
    "print(roc_auc_score(y, predictions.detach().numpy()))"
   ]
  },
  {
   "cell_type": "markdown",
   "metadata": {},
   "source": [
    "Модель успешно обучилась (а, возможно, и переобучилась) и её AUC превысил таковой у нашей базовой модели.\n",
    "\n",
    "Здесь, однако, нужно сделать важную ремарку. Я заполнил начальные значения параметров нулями, поскольку из-за логистической функции при случайной инициализации наш примитивный градиентный спуск не мог сойтись и предсказания модели сваливалась NaN'ы. Инициализация параметров — вообще на удивление важная и тонкая вещь, к которой нужно относится с огромным вниманием. В данном случае эту проблему удалось легко решить, однако в будущем количество таких нюансов будет расти.\n",
    "\n",
    "Для того, чтобы меньше задумывать множестве деталей, таких как инициализация, адаптивных подбор весов, переиспользуемость моделей с этого момента мы начнём пользоваться модулями PyTorch, в которых уже реализованы многие функции, классы и целые модели и предусмотрены многие нюансы. Вы всегда можете посмотреть, как работает та или иная фукнция, вызвав встроенную документацию.\n",
    "\n",
    "Например, в PyTorch имеется модуль, реализующий линейную модель. Взгляните на его [код](https://github.com/pytorch/pytorch/blob/master/torch/nn/modules/linear.py#L33), он довольно прост. Модуль берёт на себя заботу об инициализации параметров и вызывает функцию [F.linear](https://github.com/pytorch/pytorch/blob/master/torch/nn/functional.py#L1572) для вычисления функции в методе `forward`. Можно убедиться, что формула, для расчёта линейной модели ничем не отличается от той, что использовали мы.\n",
    "\n",
    "<div class=\"note\">Чтобы посмотреть код эти функций в jupyter, можно выполнить <code>torch.nn.Linear??</code> и <code>torch.functional.F.linear??</code></div>\n",
    "\n",
    "Итак, перепишим нашу модель более конвенциональным способом, используя встроенные в PyTorch инструменты."
   ]
  },
  {
   "cell_type": "code",
   "execution_count": 206,
   "metadata": {},
   "outputs": [
    {
     "name": "stdout",
     "output_type": "stream",
     "text": [
      "0.7998762901224649\n"
     ]
    }
   ],
   "source": [
    "class LogisticRegressionTorch(nn.Module):\n",
    "    def __init__(self, input_size, output_size):\n",
    "        super(LogisticRegressionTorch, self).__init__()\n",
    "        self.linear = nn.Linear(input_size, output_size)\n",
    "\n",
    "    def forward(self, X):\n",
    "        predictions = self.linear(X)\n",
    "        return torch.sigmoid(predictions)\n",
    "\n",
    "model = LogisticRegressionTorch(X_tensor.shape[1], y_tensor.shape[1])\n",
    "# определяем функцию потерь — бинарную кросс-энтропию\n",
    "criterion = nn.BCELoss()\n",
    "# определяем алгоритм оптимизации Adam\n",
    "optimizer = optim.Adam(model.parameters(), lr=learning_rate)\n",
    "for epoch in range(epochs):\n",
    "    optimizer.zero_grad()\n",
    "    predictions = model(X_tensor)\n",
    "    loss = criterion(predictions, y_tensor)\n",
    "    # вычисляем градиенты\n",
    "    loss.backward()\n",
    "    # обновляем параметры\n",
    "    optimizer.step()\n",
    "\n",
    "predictions = model(X_tensor)\n",
    "print(roc_auc_score(y, predictions.detach().numpy()))"
   ]
  },
  {
   "cell_type": "markdown",
   "metadata": {},
   "source": [
    "Модель оттока готова. На самом деле нет. В реальном мире мало просто обучить модель, важно её не переобучить, к чему нейронные сети довольно склонны. Однако, это совсем другая тема.\n",
    "\n",
    "В следующий раз мы продолжим развивать тему линейных моделей, научив их по-максимуму использовать категориальные переменные и взаимодействия между ними при помощи алгоритма под названием факторизационные машины (https://www.zotero.org/ihun/items/itemKey/HID8DGWV)."
   ]
  }
 ],
 "metadata": {
  "kernelspec": {
   "display_name": "Python 3",
   "language": "python",
   "name": "python3"
  },
  "language_info": {
   "codemirror_mode": {
    "name": "ipython",
    "version": 3
   },
   "file_extension": ".py",
   "mimetype": "text/x-python",
   "name": "python",
   "nbconvert_exporter": "python",
   "pygments_lexer": "ipython3",
   "version": "3.7.4"
  }
 },
 "nbformat": 4,
 "nbformat_minor": 4
}
