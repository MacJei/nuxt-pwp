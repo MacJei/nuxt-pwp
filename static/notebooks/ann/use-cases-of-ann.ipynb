{
 "cells": [
  {
   "cell_type": "markdown",
   "metadata": {},
   "source": [
    "Today we are starting to study neural networks. This is the most discussed technology of the last six years, and, admittedly, this hype around them rose for a reason. Neural networks really allow you to do absolutely crazy things, which even fiction writers of the past did not think much about. Did you heard about DanceNet (https://www.zotero.org/ihun/items/itemKey/VGRGEELV), which creates dances which had not existed before?\n",
    "<div class=\"note\"><img src=\"img/dance-net.gif\"></div>\n",
    "\n",
    "The next video is my favorite one. Authors of the paper Everybody Dance Now (https://www.zotero.org/ihun/items/itemKey/QAA8EUND) make people dancing transfering the motions from professional dancers to the target video with wiggling people. I’ve been carrying idea to apply this framework on the video with my supervisor but I never have time for that prank.\n",
    "\n",
    "<div class=\"embed-responsive embed-responsive-21by9\">\n",
    "  <iframe class=\"embed-responsive-item\" height=\"auto\" src=\"https://www.youtube.com/embed/PCBTZh41Ris\" allow=\"accelerometer; autoplay; encrypted-media; gyroscope; picture-in-picture\" allowfullscreen=\"\"></iframe>\n",
    "</div>\n",
    "\n",
    "And it is not even necessary to be a scientist to use the power of neural networks. Here (https://www.zotero.org/ihun/items/itemKey/8NGCSTBG) a programmer created LSTM-network which created rap lyrics a la [Oxxxymiron](https://en.wikipedia.org/wiki/Oxxxymiron) from any other corpus of texts. In my opinion, it turned out pretty well (only in Russian, unfortunately):\n",
    "\n",
    "```\n",
    "процессуальным устоем\n",
    "за всё это высшее движимый дом\n",
    "тем временем роскошь едва создающих и этим\n",
    "минуя преступника миссия в том\n",
    "на каждого в нём\n",
    "\n",
    "дача продажи в процессе\n",
    "но я на главой и ниже\n",
    "ладони и буквы в запасе\n",
    "города в производственной базе\n",
    "\n",
    "где вахтой коптящих дорогу из государственного в невозможности\n",
    "будто жаль не до старости\n",
    "высших сил справедливости\n",
    "мне ход тусклой законности\n",
    "чем от нефти стабильности\n",
    "\n",
    "и не ебу я как за кадром по закону как\n",
    "но моё время брак\n",
    "высшее лишь текст ебу мой срам документальный враг\n",
    "ё\n",
    "```\n",
    "Yo, bro.\n",
    "\n",
    "There are a lot of very fun application of ANN. You can use it to improve the textures of video-games (https://www.zotero.org/ihun/items/itemKey/9I5VTG5N), generate faces of people who never lived (https://arxiv.org/abs/1812.04948), transform video into a comics (https://www.zotero.org/ihun/items/itemKey/GRUBUUL5), add object [to images](http://gandissect.res.ibm.com/ganpaint.html) (https://www.zotero.org/ihun/items/itemKey/H4GA63G8) or even videos on the fly, reconstruct 3D objects from 2.5D images (https://www.zotero.org/ihun/items/itemKey/SQXJE9NF/), generate iPhone memoji from photos (https://www.zotero.org/ihun/items/itemKey/ZLVNKAMJ), 3D avatars from a single image (https://www.zotero.org/ihun/items/itemKey/MWMNEBRP) and many more."
   ]
  }
 ],
 "metadata": {
  "kernelspec": {
   "display_name": "Python 3",
   "language": "python",
   "name": "python3"
  },
  "language_info": {
   "codemirror_mode": {
    "name": "ipython",
    "version": 3
   },
   "file_extension": ".py",
   "mimetype": "text/x-python",
   "name": "python",
   "nbconvert_exporter": "python",
   "pygments_lexer": "ipython3",
   "version": "3.7.1"
  }
 },
 "nbformat": 4,
 "nbformat_minor": 2
}
