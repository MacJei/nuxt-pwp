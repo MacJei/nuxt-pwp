{
 "cells": [
  {
   "cell_type": "markdown",
   "metadata": {},
   "source": [
    "* [Что такое свёрточная нейронная сеть](https://habr.com/ru/post/309508/)\n",
    "* [Туториал по PyTorch: от установки до готовой нейронной сети](https://neurohive.io/ru/tutorial/glubokoe-obuchenie-s-pytorch/)\n",
    "* [Сверточная нейронная сеть на PyTorch: пошаговое руководство](https://neurohive.io/ru/tutorial/cnn-na-pytorch/)\n",
    "* [An Intuitive Explanation of Convolutional Neural Networks](https://ujjwalkarn.me/2016/08/11/intuitive-explanation-convnets/)\n",
    "* [Convolutional Neural Networks (CNNs / ConvNets)](http://cs231n.github.io/convolutional-networks/)\n",
    "* [An Interactive Node-Link Visualization of Convolutional Neural Networks](http://scs.ryerson.ca/~aharley/vis/conv/)\n",
    "* [Искусственная нейронная сеть с нуля на Python c библиотекой NumPy](https://neurohive.io/ru/tutorial/nejronnaja-set-na-numpy/)\n",
    "* [Image-to-Image Demo](https://affinelayer.com/pixsrv/)\n",
    "* [Туториал: создание простой GAN на Python с библиотекой Keras](https://neurohive.io/ru/tutorial/simple-gan-python-keras/)"
   ]
  },
  {
   "cell_type": "code",
   "execution_count": null,
   "metadata": {},
   "outputs": [],
   "source": []
  }
 ],
 "metadata": {
  "kernelspec": {
   "display_name": "Python 3",
   "language": "python",
   "name": "python3"
  },
  "language_info": {
   "codemirror_mode": {
    "name": "ipython",
    "version": 3
   },
   "file_extension": ".py",
   "mimetype": "text/x-python",
   "name": "python",
   "nbconvert_exporter": "python",
   "pygments_lexer": "ipython3",
   "version": "3.7.1"
  }
 },
 "nbformat": 4,
 "nbformat_minor": 2
}
